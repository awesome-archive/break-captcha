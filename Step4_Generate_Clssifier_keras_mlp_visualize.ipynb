{
 "cells": [
  {
   "cell_type": "code",
   "execution_count": 65,
   "metadata": {
    "collapsed": true
   },
   "outputs": [],
   "source": [
    "%matplotlib inline\n",
    "from matplotlib import pyplot as plt\n",
    "from keras.models import Sequential\n",
    "from keras.layers.core import Dense, Activation\n",
    "from keras.optimizers import SGD\n",
    "from keras.utils import np_utils\n",
    "from sklearn.cross_validation import train_test_split\n",
    "from sklearn.metrics import classification_report\n",
    "from sklearn.externals import joblib\n",
    "from sklearn.metrics import accuracy_score\n",
    "from sklearn.metrics import confusion_matrix\n",
    "import numpy as np\n",
    "import pandas as pd\n",
    "from time import time"
   ]
  },
  {
   "cell_type": "code",
   "execution_count": 66,
   "metadata": {
    "collapsed": true
   },
   "outputs": [],
   "source": [
    "np.set_printoptions(precision=4)\n",
    "np.set_printoptions(suppress=True)\n",
    "plt.rcParams['image.interpolation'] = 'none'"
   ]
  },
  {
   "cell_type": "code",
   "execution_count": 67,
   "metadata": {
    "collapsed": true
   },
   "outputs": [],
   "source": [
    "nb_classes = 9\n",
    "batch_size = 64\n",
    "nb_epoch = 10\n",
    "np.random.seed(1337) # for reproducibility"
   ]
  },
  {
   "cell_type": "code",
   "execution_count": 68,
   "metadata": {
    "collapsed": false
   },
   "outputs": [],
   "source": [
    "features = joblib.load(\"./mldata/features_1200.mat\")\n",
    "labels = joblib.load(\"./mldata/lables_1200.mat\")\n",
    "\n",
    "features = np.array(features, 'int16')\n",
    "labels = np.array(labels, 'int')\n",
    "\n",
    "def scale(X, eps = 0.001):\n",
    "    # scale the data points s.t the columns of the feature space\n",
    "    # (i.e the predictors) are within the range [0, 1]\n",
    "    return (X - np.min(X, axis = 0)) / (np.max(X, axis = 0) + eps)\n",
    "\n",
    "features = features.astype(\"float32\")\n",
    "features = scale(features)\n",
    "\n",
    "# scale the data to the range [0, 1] and then construct the training\n",
    "# and testing splits\n",
    "(trainX, testX, trainY, testY) = train_test_split(features, labels, test_size = 0.1)\n",
    "(valX, testX, valY, testY) = train_test_split(testX, testY, test_size = 0.5)\n",
    "\n",
    "# convert class vectors to binary class matrices\n",
    "trainY = np_utils.to_categorical(trainY, nb_classes)\n",
    "testY = np_utils.to_categorical(testY, nb_classes)\n",
    "valY = np_utils.to_categorical(valY, nb_classes)"
   ]
  },
  {
   "cell_type": "code",
   "execution_count": 69,
   "metadata": {
    "collapsed": false,
    "scrolled": true
   },
   "outputs": [
    {
     "data": {
      "text/plain": [
       "{'acc': [0.29092592592592592,\n",
       "  0.39481481481481484,\n",
       "  0.45555555555555555,\n",
       "  0.71166666666666667,\n",
       "  0.85648148148148151,\n",
       "  0.89296296296296296,\n",
       "  0.90537037037037038,\n",
       "  0.9094444444444445,\n",
       "  0.91074074074074074,\n",
       "  0.91259259259259262],\n",
       " 'epoch': [0, 1, 2, 3, 4, 5, 6, 7, 8, 9],\n",
       " 'loss': [2.1643061398337666,\n",
       "  2.0698182916394638,\n",
       "  1.8276264518466661,\n",
       "  1.340994842839327,\n",
       "  0.89967364979516151,\n",
       "  0.64994454380597799,\n",
       "  0.52833388661897829,\n",
       "  0.46900542652993621,\n",
       "  0.4346363471885758,\n",
       "  0.41289908407941472],\n",
       " 'val_acc': [0.2625,\n",
       "  0.47073863636363633,\n",
       "  0.51875,\n",
       "  0.8605113636363637,\n",
       "  0.859090909090909,\n",
       "  0.9011363636363636,\n",
       "  0.9133522727272727,\n",
       "  0.9164772727272726,\n",
       "  0.9119318181818181,\n",
       "  0.9164772727272726],\n",
       " 'val_loss': [2.126835175237152,\n",
       "  1.98254575845174,\n",
       "  1.5904237626925695,\n",
       "  1.0769084770761232,\n",
       "  0.7697297947142743,\n",
       "  0.6117752771991137,\n",
       "  0.5483211055457734,\n",
       "  0.5200626924185944,\n",
       "  0.49512226687768324,\n",
       "  0.47677282680911126]}"
      ]
     },
     "execution_count": 69,
     "metadata": {},
     "output_type": "execute_result"
    }
   ],
   "source": [
    "model = Sequential()\n",
    "model.add(Dense(input_dim=784, output_dim=256, init=\"uniform\"))\n",
    "model.add(Activation(\"relu\"))\n",
    "model.add(Dense(input_dim=256, output_dim=64, init=\"uniform\"))\n",
    "model.add(Activation(\"relu\"))\n",
    "model.add(Dense(input_dim=64, output_dim=9, init=\"uniform\"))\n",
    "model.add(Activation(\"softmax\"))\n",
    "\n",
    "model.compile(loss='categorical_crossentropy', optimizer='sgd')\n",
    "model.fit(trainX, trainY, \n",
    "          batch_size=batch_size, \n",
    "          nb_epoch=nb_epoch, \n",
    "          show_accuracy=True, \n",
    "          verbose=0,\n",
    "          validation_data=(testX, testY))"
   ]
  },
  {
   "cell_type": "code",
   "execution_count": 70,
   "metadata": {
    "collapsed": false
   },
   "outputs": [
    {
     "data": {
      "text/plain": [
       "[<keras.layers.core.Dense at 0x1141e6950>,\n",
       " <keras.layers.core.Activation at 0x1141e6750>,\n",
       " <keras.layers.core.Dense at 0x119b33d10>,\n",
       " <keras.layers.core.Activation at 0x119b33e10>,\n",
       " <keras.layers.core.Dense at 0x119b33450>,\n",
       " <keras.layers.core.Activation at 0x118d9ee50>]"
      ]
     },
     "execution_count": 70,
     "metadata": {},
     "output_type": "execute_result"
    }
   ],
   "source": [
    "model.layers"
   ]
  },
  {
   "cell_type": "code",
   "execution_count": 71,
   "metadata": {
    "collapsed": false
   },
   "outputs": [],
   "source": [
    "model1 = Sequential()\n",
    "model1.add(Dense(input_dim=784, output_dim=256, init=\"uniform\", weights=model.layers[0].get_weights()))\n",
    "model1.add(Activation('relu'))\n",
    "model1.compile(loss='categorical_crossentropy', optimizer='sgd')"
   ]
  },
  {
   "cell_type": "code",
   "execution_count": 72,
   "metadata": {
    "collapsed": false
   },
   "outputs": [
    {
     "name": "stdout",
     "output_type": "stream",
     "text": [
      "(784,)\n",
      "[ 0.  0.  0.  1.  0.  0.  0.  0.  0.]\n"
     ]
    }
   ],
   "source": [
    "print valX[0].shape\n",
    "print valY[0]"
   ]
  },
  {
   "cell_type": "code",
   "execution_count": 73,
   "metadata": {
    "collapsed": false
   },
   "outputs": [
    {
     "name": "stdout",
     "output_type": "stream",
     "text": [
      "300/300 [==============================] - 0s     \n"
     ]
    }
   ],
   "source": [
    "valX_h_1 = model1.predict(valX)"
   ]
  },
  {
   "cell_type": "code",
   "execution_count": 74,
   "metadata": {
    "collapsed": false
   },
   "outputs": [
    {
     "name": "stdout",
     "output_type": "stream",
     "text": [
      "[[ 0.  0.  0.  1.  0.  0.  0.  0.  0.]\n",
      " [ 1.  0.  0.  0.  0.  0.  0.  0.  0.]\n",
      " [ 0.  0.  0.  0.  0.  0.  0.  1.  0.]\n",
      " [ 0.  0.  1.  0.  0.  0.  0.  0.  0.]\n",
      " [ 0.  0.  0.  0.  0.  1.  0.  0.  0.]]\n"
     ]
    },
    {
     "data": {
      "image/png": "[encoded data removed]",
      "text/plain": [
       "<matplotlib.figure.Figure at 0x1183c2850>"
      ]
     },
     "metadata": {},
     "output_type": "display_data"
    }
   ],
   "source": [
    "sample_0 = valX_h_1[0].reshape((16, 16))\n",
    "sample_1 = valX_h_1[1].reshape((16, 16))\n",
    "sample_2 = valX_h_1[2].reshape((16, 16))\n",
    "sample_3 = valX_h_1[3].reshape((16, 16))\n",
    "sample_4 = valX_h_1[4].reshape((16, 16))\n",
    "\n",
    "fig, (ax0, ax1, ax2, ax3, ax4) = plt.subplots(1, 5)\n",
    "ax0.imshow(sample_0, cmap='gray')\n",
    "ax1.imshow(sample_1, cmap='gray')\n",
    "ax2.imshow(sample_2, cmap='gray')\n",
    "ax3.imshow(sample_3, cmap='gray')\n",
    "ax4.imshow(sample_4, cmap='gray')\n",
    "print valY[:5]"
   ]
  },
  {
   "cell_type": "code",
   "execution_count": 75,
   "metadata": {
    "collapsed": false
   },
   "outputs": [
    {
     "name": "stdout",
     "output_type": "stream",
     "text": [
      "300/300 [==============================] - 0s     \n"
     ]
    }
   ],
   "source": [
    "model2 = Sequential()\n",
    "model2.add(Dense(input_dim=256, output_dim=64, init=\"uniform\", weights=model.layers[2].get_weights()))\n",
    "model2.add(Activation('relu'))\n",
    "model2.compile(loss='categorical_crossentropy', optimizer='sgd')\n",
    "valX_h_2 = model2.predict(valX_h_1)"
   ]
  },
  {
   "cell_type": "code",
   "execution_count": 76,
   "metadata": {
    "collapsed": false
   },
   "outputs": [
    {
     "name": "stdout",
     "output_type": "stream",
     "text": [
      "[[ 0.  0.  0.  1.  0.  0.  0.  0.  0.]\n",
      " [ 1.  0.  0.  0.  0.  0.  0.  0.  0.]\n",
      " [ 0.  0.  0.  0.  0.  0.  0.  1.  0.]\n",
      " [ 0.  0.  1.  0.  0.  0.  0.  0.  0.]\n",
      " [ 0.  0.  0.  0.  0.  1.  0.  0.  0.]]\n"
     ]
    },
    {
     "data": {
      "image/png": "[encoded data removed]",
      "text/plain": [
       "<matplotlib.figure.Figure at 0x10abdfbd0>"
      ]
     },
     "metadata": {},
     "output_type": "display_data"
    }
   ],
   "source": [
    "sample_0 = valX_h_2[0].reshape((8, 8))\n",
    "sample_1 = valX_h_2[1].reshape((8, 8))\n",
    "sample_2 = valX_h_2[2].reshape((8, 8))\n",
    "sample_3 = valX_h_2[3].reshape((8, 8))\n",
    "sample_4 = valX_h_2[4].reshape((8, 8))\n",
    "\n",
    "fig, (ax0, ax1, ax2, ax3, ax4) = plt.subplots(1, 5)\n",
    "ax0.imshow(sample_0, cmap='gray')\n",
    "ax1.imshow(sample_1, cmap='gray')\n",
    "ax2.imshow(sample_2, cmap='gray')\n",
    "ax3.imshow(sample_3, cmap='gray')\n",
    "ax4.imshow(sample_4, cmap='gray')\n",
    "print valY[:5]"
   ]
  },
  {
   "cell_type": "code",
   "execution_count": 77,
   "metadata": {
    "collapsed": false
   },
   "outputs": [
    {
     "name": "stdout",
     "output_type": "stream",
     "text": [
      "300/300 [==============================] - 0s     \n"
     ]
    }
   ],
   "source": [
    "model3 = Sequential()\n",
    "model3.add(Dense(input_dim=64, output_dim=9, init=\"uniform\", weights=model.layers[4].get_weights()))\n",
    "model3.add(Activation('relu'))\n",
    "model3.compile(loss='categorical_crossentropy', optimizer='sgd')\n",
    "valX_h_3 = model3.predict(valX_h_2)"
   ]
  },
  {
   "cell_type": "code",
   "execution_count": 78,
   "metadata": {
    "collapsed": false
   },
   "outputs": [
    {
     "name": "stdout",
     "output_type": "stream",
     "text": [
      "[[ 0.  0.  0.  1.  0.  0.  0.  0.  0.]\n",
      " [ 1.  0.  0.  0.  0.  0.  0.  0.  0.]\n",
      " [ 0.  0.  0.  0.  0.  0.  0.  1.  0.]\n",
      " [ 0.  0.  1.  0.  0.  0.  0.  0.  0.]\n",
      " [ 0.  0.  0.  0.  0.  1.  0.  0.  0.]]\n"
     ]
    },
    {
     "data": {
      "image/png": "[encoded data removed]",
      "text/plain": [
       "<matplotlib.figure.Figure at 0x11866af90>"
      ]
     },
     "metadata": {},
     "output_type": "display_data"
    }
   ],
   "source": [
    "sample_0 = valX_h_3[0].reshape((3, 3))\n",
    "sample_1 = valX_h_3[1].reshape((3, 3))\n",
    "sample_2 = valX_h_3[2].reshape((3, 3))\n",
    "sample_3 = valX_h_3[3].reshape((3, 3))\n",
    "sample_4 = valX_h_3[4].reshape((3, 3))\n",
    "\n",
    "fig, (ax0, ax1, ax2, ax3, ax4) = plt.subplots(1, 5)\n",
    "ax0.imshow(sample_0, cmap='gray')\n",
    "ax1.imshow(sample_1, cmap='gray')\n",
    "ax2.imshow(sample_2, cmap='gray')\n",
    "ax3.imshow(sample_3, cmap='gray')\n",
    "ax4.imshow(sample_4, cmap='gray')\n",
    "print valY[:5]"
   ]
  }
 ],
 "metadata": {
  "kernelspec": {
   "display_name": "Python 2",
   "language": "python",
   "name": "python2"
  },
  "language_info": {
   "codemirror_mode": {
    "name": "ipython",
    "version": 2
   },
   "file_extension": ".py",
   "mimetype": "text/x-python",
   "name": "python",
   "nbconvert_exporter": "python",
   "pygments_lexer": "ipython2",
   "version": "2.7.9"
  }
 },
 "nbformat": 4,
 "nbformat_minor": 0
}
