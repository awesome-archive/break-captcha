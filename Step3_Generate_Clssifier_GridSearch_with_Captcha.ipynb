{
 "cells": [
  {
   "cell_type": "code",
   "execution_count": 1,
   "metadata": {
    "collapsed": true
   },
   "outputs": [],
   "source": [
    "import numpy as np\n",
    "from sklearn import grid_search\n",
    "from sklearn.grid_search import GridSearchCV\n",
    "from sklearn.pipeline import Pipeline\n",
    "from sklearn.linear_model import LogisticRegression\n",
    "from sklearn.neural_network import BernoulliRBM\n",
    "from sklearn.svm import SVC\n",
    "from sklearn.naive_bayes import BernoulliNB\n",
    "from sklearn.ensemble import RandomForestClassifier\n",
    "from sklearn.neighbors import KNeighborsClassifier\n",
    "from sklearn.tree import DecisionTreeClassifier\n",
    "from sklearn.svm import LinearSVC\n",
    "from sklearn.externals import joblib\n",
    "from sklearn.cross_validation import train_test_split\n",
    "from time import time"
   ]
  },
  {
   "cell_type": "code",
   "execution_count": 8,
   "metadata": {
    "collapsed": true
   },
   "outputs": [],
   "source": [
    "features = joblib.load(\"./mldata/features_1000.mat\")\n",
    "labels = joblib.load(\"./mldata/lables_1000.mat\")"
   ]
  },
  {
   "cell_type": "code",
   "execution_count": 13,
   "metadata": {
    "collapsed": false
   },
   "outputs": [],
   "source": [
    "features = np.array(features, 'int16')\n",
    "labels = np.array(labels, 'int')"
   ]
  },
  {
   "cell_type": "code",
   "execution_count": 10,
   "metadata": {
    "collapsed": false
   },
   "outputs": [
    {
     "name": "stdout",
     "output_type": "stream",
     "text": [
      "escape time :  0.048 s\n"
     ]
    }
   ],
   "source": [
    "t0 = time()\n",
    "def scale(X, eps = 0.001):\n",
    "    # scale the data points s.t the columns of the feature space\n",
    "    # (i.e the predictors) are within the range [0, 1]\n",
    "    return (X - np.min(X, axis = 0)) / (np.max(X, axis = 0) + eps)\n",
    "\n",
    "features = features.astype(\"float32\")\n",
    "features = scale(features)\n",
    "\n",
    "print \"escape time : \", round(time()-t0, 3), \"s\""
   ]
  },
  {
   "cell_type": "code",
   "execution_count": 11,
   "metadata": {
    "collapsed": true
   },
   "outputs": [],
   "source": [
    "parameters = {'alpha' : [1, 10, 100, 1000]}\n",
    "clf = grid_search.GridSearchCV(BernoulliNB(), parameters, n_jobs=-1, verbose=1)"
   ]
  },
  {
   "cell_type": "code",
   "execution_count": 12,
   "metadata": {
    "collapsed": false
   },
   "outputs": [
    {
     "name": "stdout",
     "output_type": "stream",
     "text": [
      "Fitting 3 folds for each of 4 candidates, totalling 12 fits\n"
     ]
    },
    {
     "name": "stderr",
     "output_type": "stream",
     "text": [
      "[Parallel(n_jobs=-1)]: Done   1 jobs       | elapsed:    0.5s\n",
      "[Parallel(n_jobs=-1)]: Done   6 out of  12 | elapsed:    1.1s remaining:    1.1s\n",
      "[Parallel(n_jobs=-1)]: Done  12 out of  12 | elapsed:    1.6s finished\n"
     ]
    },
    {
     "name": "stdout",
     "output_type": "stream",
     "text": [
      "escape time :  1.89 s\n",
      "best score is 0.9064\n",
      "best parameter is {'alpha': 1}\n"
     ]
    }
   ],
   "source": [
    "t0 = time()\n",
    "clf.fit(features, labels)\n",
    "print \"escape time : \", round(time()-t0, 3), \"s\"\n",
    "print \"best score is %s\" % clf.best_score_\n",
    "print \"best parameter is %s\" % clf.best_params_"
   ]
  },
  {
   "cell_type": "code",
   "execution_count": 8,
   "metadata": {
    "collapsed": false
   },
   "outputs": [
    {
     "data": {
      "text/plain": [
       "['./pkl/scale/skt/digits_BernoulliNB.pkl']"
      ]
     },
     "execution_count": 8,
     "metadata": {},
     "output_type": "execute_result"
    }
   ],
   "source": [
    "joblib.dump(clf.best_estimator_, \"./pkl/scale/skt/digits_BernoulliNB.pkl\", compress=3)"
   ]
  },
  {
   "cell_type": "code",
   "execution_count": 9,
   "metadata": {
    "collapsed": true
   },
   "outputs": [],
   "source": [
    "parameters = {'min_samples_split' : [2, 10, 15, 20], 'n_estimators' : [10, 20, 30, 40, 50, 60, 70, 80, 90, 100]}\n",
    "clf = grid_search.GridSearchCV(RandomForestClassifier(), parameters, n_jobs=-1, verbose=1)"
   ]
  },
  {
   "cell_type": "code",
   "execution_count": 10,
   "metadata": {
    "collapsed": false
   },
   "outputs": [
    {
     "name": "stdout",
     "output_type": "stream",
     "text": [
      "Fitting 3 folds for each of 40 candidates, totalling 120 fits\n"
     ]
    },
    {
     "name": "stderr",
     "output_type": "stream",
     "text": [
      "[Parallel(n_jobs=-1)]: Done   1 jobs       | elapsed:    0.3s\n",
      "[Parallel(n_jobs=-1)]: Done  50 jobs       | elapsed:    8.2s\n",
      "[Parallel(n_jobs=-1)]: Done 114 out of 120 | elapsed:   19.1s remaining:    1.0s\n",
      "[Parallel(n_jobs=-1)]: Done 120 out of 120 | elapsed:   20.6s finished\n"
     ]
    },
    {
     "name": "stdout",
     "output_type": "stream",
     "text": [
      "escape time :  21.818 s\n",
      "best score is 0.936\n",
      "best parameter is {'min_samples_split': 20, 'n_estimators': 80}\n"
     ]
    }
   ],
   "source": [
    "t0 = time()\n",
    "clf.fit(features, labels)\n",
    "print \"escape time : \", round(time()-t0, 3), \"s\"\n",
    "print \"best score is %s\" % clf.best_score_\n",
    "print \"best parameter is %s\" % clf.best_params_"
   ]
  },
  {
   "cell_type": "code",
   "execution_count": 11,
   "metadata": {
    "collapsed": false
   },
   "outputs": [
    {
     "data": {
      "text/plain": [
       "['./pkl/scale/skt/digits_RandomForestClassifier.pkl']"
      ]
     },
     "execution_count": 11,
     "metadata": {},
     "output_type": "execute_result"
    }
   ],
   "source": [
    "joblib.dump(clf.best_estimator_, \"./pkl/scale/skt/digits_RandomForestClassifier.pkl\", compress=3)"
   ]
  },
  {
   "cell_type": "code",
   "execution_count": 12,
   "metadata": {
    "collapsed": true
   },
   "outputs": [],
   "source": [
    "parameters = {'n_neighbors' : [5, 10, 15, 20]}\n",
    "clf = grid_search.GridSearchCV(KNeighborsClassifier(), parameters, n_jobs=-1, verbose=1)"
   ]
  },
  {
   "cell_type": "code",
   "execution_count": 13,
   "metadata": {
    "collapsed": false
   },
   "outputs": [
    {
     "name": "stdout",
     "output_type": "stream",
     "text": [
      "Fitting 3 folds for each of 4 candidates, totalling 12 fits\n"
     ]
    },
    {
     "name": "stderr",
     "output_type": "stream",
     "text": [
      "[Parallel(n_jobs=-1)]: Done   1 jobs       | elapsed:    5.2s\n",
      "[Parallel(n_jobs=-1)]: Done  12 out of  12 | elapsed:   17.0s finished\n"
     ]
    },
    {
     "name": "stdout",
     "output_type": "stream",
     "text": [
      "escape time :  17.32 s\n",
      "best score is 0.9322\n",
      "best parameter is {'n_neighbors': 5}\n"
     ]
    }
   ],
   "source": [
    "t0 = time()\n",
    "clf.fit(features, labels)\n",
    "print \"escape time : \", round(time()-t0, 3), \"s\"\n",
    "print \"best score is %s\" % clf.best_score_\n",
    "print \"best parameter is %s\" % clf.best_params_"
   ]
  },
  {
   "cell_type": "code",
   "execution_count": 14,
   "metadata": {
    "collapsed": false
   },
   "outputs": [
    {
     "data": {
      "text/plain": [
       "['./pkl/scale/skt/digits_KNeighborsClassifier.pkl']"
      ]
     },
     "execution_count": 14,
     "metadata": {},
     "output_type": "execute_result"
    }
   ],
   "source": [
    "joblib.dump(clf.best_estimator_, \"./pkl/scale/skt/digits_KNeighborsClassifier.pkl\", compress=3)"
   ]
  },
  {
   "cell_type": "code",
   "execution_count": 15,
   "metadata": {
    "collapsed": true
   },
   "outputs": [],
   "source": [
    "parameters = {'min_samples_split' : [5, 10, 15, 20, 25, 30, 35, 40, 45, 50]}\n",
    "clf = grid_search.GridSearchCV(DecisionTreeClassifier(), parameters, n_jobs=-1, verbose=1)"
   ]
  },
  {
   "cell_type": "code",
   "execution_count": 16,
   "metadata": {
    "collapsed": false
   },
   "outputs": [
    {
     "name": "stdout",
     "output_type": "stream",
     "text": [
      "Fitting 3 folds for each of 10 candidates, totalling 30 fits\n"
     ]
    },
    {
     "name": "stderr",
     "output_type": "stream",
     "text": [
      "[Parallel(n_jobs=-1)]: Done   1 jobs       | elapsed:    0.6s\n",
      "[Parallel(n_jobs=-1)]: Done  24 out of  30 | elapsed:    3.2s remaining:    0.8s\n",
      "[Parallel(n_jobs=-1)]: Done  30 out of  30 | elapsed:    3.9s finished\n"
     ]
    },
    {
     "name": "stdout",
     "output_type": "stream",
     "text": [
      "escape time :  4.575 s\n",
      "best score is 0.9156\n",
      "best parameter is {'min_samples_split': 50}\n"
     ]
    }
   ],
   "source": [
    "t0 = time()\n",
    "clf.fit(features, labels)\n",
    "print \"escape time : \", round(time()-t0, 3), \"s\"\n",
    "print \"best score is %s\" % clf.best_score_\n",
    "print \"best parameter is %s\" % clf.best_params_"
   ]
  },
  {
   "cell_type": "code",
   "execution_count": 17,
   "metadata": {
    "collapsed": false
   },
   "outputs": [
    {
     "data": {
      "text/plain": [
       "['./pkl/scale/skt/digits_DecisionTreeClassifier.pkl']"
      ]
     },
     "execution_count": 17,
     "metadata": {},
     "output_type": "execute_result"
    }
   ],
   "source": [
    "joblib.dump(clf.best_estimator_, \"./pkl/scale/skt/digits_DecisionTreeClassifier.pkl\", compress=3)"
   ]
  },
  {
   "cell_type": "code",
   "execution_count": 22,
   "metadata": {
    "collapsed": true
   },
   "outputs": [],
   "source": [
    "parameters = {'C':10. ** np.arange(1,5), 'gamma':2. ** np.arange(-5,-1)}\n",
    "clf = grid_search.GridSearchCV(SVC(cache_size=1000, kernel=\"rbf\"), parameters, n_jobs=-1, verbose=1)"
   ]
  },
  {
   "cell_type": "code",
   "execution_count": 23,
   "metadata": {
    "collapsed": false
   },
   "outputs": [
    {
     "name": "stdout",
     "output_type": "stream",
     "text": [
      "Fitting 3 folds for each of 16 candidates, totalling 48 fits\n"
     ]
    },
    {
     "name": "stderr",
     "output_type": "stream",
     "text": [
      "[Parallel(n_jobs=-1)]: Done   1 jobs       | elapsed:    8.2s\n",
      "[Parallel(n_jobs=-1)]: Done  42 out of  48 | elapsed:  2.5min remaining:   21.4s\n",
      "[Parallel(n_jobs=-1)]: Done  48 out of  48 | elapsed:  3.0min finished\n"
     ]
    },
    {
     "name": "stdout",
     "output_type": "stream",
     "text": [
      "escape time :  184.668 s\n",
      "best score is 0.9294\n",
      "best parameter is {'C': 10.0, 'gamma': 0.03125}\n"
     ]
    }
   ],
   "source": [
    "t0 = time()\n",
    "clf.fit(features, labels)\n",
    "print \"escape time : \", round(time()-t0, 3), \"s\"\n",
    "print \"best score is %s\" % clf.best_score_\n",
    "print \"best parameter is %s\" % clf.best_params_"
   ]
  },
  {
   "cell_type": "code",
   "execution_count": 24,
   "metadata": {
    "collapsed": false
   },
   "outputs": [
    {
     "data": {
      "text/plain": [
       "['./pkl/scale/skt/digits_SVC.pkl']"
      ]
     },
     "execution_count": 24,
     "metadata": {},
     "output_type": "execute_result"
    }
   ],
   "source": [
    "joblib.dump(clf.best_estimator_, \"./pkl/scale/skt/digits_SVC.pkl\", compress=3)"
   ]
  },
  {
   "cell_type": "code",
   "execution_count": 5,
   "metadata": {
    "collapsed": false
   },
   "outputs": [],
   "source": [
    "parameters = {'C':10. ** np.arange(1,5)}\n",
    "clf = grid_search.GridSearchCV(LinearSVC(), parameters, n_jobs=-1, verbose=1)"
   ]
  },
  {
   "cell_type": "code",
   "execution_count": 6,
   "metadata": {
    "collapsed": false
   },
   "outputs": [
    {
     "name": "stdout",
     "output_type": "stream",
     "text": [
      "Fitting 3 folds for each of 4 candidates, totalling 12 fits\n"
     ]
    },
    {
     "name": "stderr",
     "output_type": "stream",
     "text": [
      "[Parallel(n_jobs=-1)]: Done   1 jobs       | elapsed:    7.9s\n",
      "[Parallel(n_jobs=-1)]: Done   6 out of  12 | elapsed:   16.7s remaining:   16.7s\n",
      "[Parallel(n_jobs=-1)]: Done  12 out of  12 | elapsed:   28.2s finished\n"
     ]
    },
    {
     "name": "stdout",
     "output_type": "stream",
     "text": [
      "escape time :  36.171 s\n",
      "best score is 0.9286\n",
      "best parameter is {'C': 10.0}\n"
     ]
    }
   ],
   "source": [
    "t0 = time()\n",
    "clf.fit(features, labels)\n",
    "print \"escape time : \", round(time()-t0, 3), \"s\"\n",
    "print \"best score is %s\" % clf.best_score_\n",
    "print \"best parameter is %s\" % clf.best_params_"
   ]
  },
  {
   "cell_type": "code",
   "execution_count": 7,
   "metadata": {
    "collapsed": false
   },
   "outputs": [
    {
     "data": {
      "text/plain": [
       "['./pkl/scale/skt/digits_LinearSVC.pkl']"
      ]
     },
     "execution_count": 7,
     "metadata": {},
     "output_type": "execute_result"
    }
   ],
   "source": [
    "joblib.dump(clf.best_estimator_, \"./pkl/scale/skt/digits_LinearSVC.pkl\", compress=3)"
   ]
  },
  {
   "cell_type": "code",
   "execution_count": 8,
   "metadata": {
    "collapsed": false
   },
   "outputs": [
    {
     "name": "stdout",
     "output_type": "stream",
     "text": [
      "SEARCHING LOGISTIC REGRESSION\n",
      "Fitting 3 folds for each of 3 candidates, totalling 9 fits\n"
     ]
    },
    {
     "name": "stderr",
     "output_type": "stream",
     "text": [
      "[Parallel(n_jobs=-1)]: Done   1 out of   9 | elapsed:   11.3s remaining:  1.5min\n",
      "[Parallel(n_jobs=-1)]: Done   9 out of   9 | elapsed:   38.1s finished\n"
     ]
    },
    {
     "name": "stdout",
     "output_type": "stream",
     "text": [
      "done in 45.699s\n",
      "best score: 0.934\n",
      "LOGISTIC REGRESSION PARAMETERS\n",
      "\t C: 1.000000\n"
     ]
    }
   ],
   "source": [
    "print \"SEARCHING LOGISTIC REGRESSION\"\n",
    "params = {\"C\": [1.0, 10.0, 100.0]}\n",
    "start = time()\n",
    "gs = GridSearchCV(LogisticRegression(), params, n_jobs =-1, verbose =1)\n",
    "gs.fit(features, labels)\n",
    "\n",
    "# print diagnostic information to the user and grab the best model\n",
    "print \"done in %0.3fs\" % (time() - start)\n",
    "print \"best score: %0.3f\" % (gs.best_score_)\n",
    "print \"LOGISTIC REGRESSION PARAMETERS\"\n",
    "bestParams = gs.best_estimator_.get_params()\n",
    "\n",
    "# loop over the parameters and print each of them out so they can be manually set\n",
    "for p in sorted(params.keys()):\n",
    "    print \"\\t %s: %f\" % (p, bestParams[p])"
   ]
  },
  {
   "cell_type": "code",
   "execution_count": 9,
   "metadata": {
    "collapsed": false
   },
   "outputs": [
    {
     "data": {
      "text/plain": [
       "['./pkl/scale/skt/digits_LogisticRegression.pkl']"
      ]
     },
     "execution_count": 9,
     "metadata": {},
     "output_type": "execute_result"
    }
   ],
   "source": [
    "clf = LogisticRegression(C = 1.0)\n",
    "clf.fit(features, labels)\n",
    "joblib.dump(clf, \"./pkl/scale/skt/digits_LogisticRegression.pkl\", compress=3)"
   ]
  },
  {
   "cell_type": "code",
   "execution_count": 10,
   "metadata": {
    "collapsed": false
   },
   "outputs": [
    {
     "name": "stdout",
     "output_type": "stream",
     "text": [
      "SEARCHING RBM + LOGISTIC REGRESSION\n",
      "Fitting 3 folds for each of 81 candidates, totalling 243 fits\n"
     ]
    },
    {
     "name": "stderr",
     "output_type": "stream",
     "text": [
      "[Parallel(n_jobs=-1)]: Done   1 jobs       | elapsed:    8.0s\n",
      "[Parallel(n_jobs=-1)]: Done  50 jobs       | elapsed:  8.8min\n",
      "[Parallel(n_jobs=-1)]: Done 200 jobs       | elapsed: 37.5min\n",
      "[Parallel(n_jobs=-1)]: Done 237 out of 243 | elapsed: 45.4min remaining:  1.1min\n",
      "[Parallel(n_jobs=-1)]: Done 243 out of 243 | elapsed: 48.1min finished\n"
     ]
    },
    {
     "name": "stdout",
     "output_type": "stream",
     "text": [
      "\n",
      "done in 2972.549s\n",
      "best score: 0.931\n",
      "RBM + LOGISTIC REGRESSION PARAMETERS\n",
      "\t logistic__C: 10.000000\n",
      "\t rbm__learning_rate: 0.001000\n",
      "\t rbm__n_components: 200.000000\n",
      "\t rbm__n_iter: 80.000000\n"
     ]
    }
   ],
   "source": [
    "# initialize the RBM + Logistic Regression pipeline\n",
    "rbm = BernoulliRBM()\n",
    "logistic = LogisticRegression()\n",
    "classifier = Pipeline([(\"rbm\", rbm), (\"logistic\", logistic)])\n",
    "\n",
    "# perform a grid search on the learning rate, number of iterations, and number of components on the RBM and\n",
    "# C for Logistic Regression\n",
    "print \"SEARCHING RBM + LOGISTIC REGRESSION\"\n",
    "params = {\n",
    "    \"rbm__learning_rate\": [0.1, 0.01, 0.001],\n",
    "    \"rbm__n_iter\": [20, 40, 80],\n",
    "    \"rbm__n_components\": [50, 100, 200],\n",
    "    \"logistic__C\": [1.0, 10.0, 100.0]}\n",
    "\n",
    "# perform a grid search over the parameter\n",
    "start = time()\n",
    "gs = GridSearchCV(classifier, params, n_jobs =-1, verbose =1)\n",
    "gs.fit(features, labels)\n",
    "\n",
    "# print diagnostic information to the user and grab the best model\n",
    "print \"\\ndone in %0.3fs\" % (time() - start)\n",
    "print \"best score: %0.3f\" % (gs.best_score_)\n",
    "print \"RBM + LOGISTIC REGRESSION PARAMETERS\"\n",
    "bestParams = gs.best_estimator_.get_params()\n",
    "\n",
    "# loop over the parameters and print each of them out so they can be manually set\n",
    "for p in sorted(params.keys()):\n",
    "    print \"\\t %s: %f\" % (p, bestParams[p])"
   ]
  },
  {
   "cell_type": "code",
   "execution_count": 11,
   "metadata": {
    "collapsed": false
   },
   "outputs": [
    {
     "name": "stdout",
     "output_type": "stream",
     "text": [
      "[BernoulliRBM] Iteration 1, pseudo-likelihood = -417.94, time = 1.05s\n",
      "[BernoulliRBM] Iteration 2, pseudo-likelihood = -377.82, time = 1.36s\n",
      "[BernoulliRBM] Iteration 3, pseudo-likelihood = -338.93, time = 1.37s\n",
      "[BernoulliRBM] Iteration 4, pseudo-likelihood = -310.25, time = 1.38s\n",
      "[BernoulliRBM] Iteration 5, pseudo-likelihood = -276.89, time = 1.35s\n",
      "[BernoulliRBM] Iteration 6, pseudo-likelihood = -264.55, time = 1.41s\n",
      "[BernoulliRBM] Iteration 7, pseudo-likelihood = -247.88, time = 1.38s\n",
      "[BernoulliRBM] Iteration 8, pseudo-likelihood = -228.54, time = 1.43s\n",
      "[BernoulliRBM] Iteration 9, pseudo-likelihood = -227.45, time = 1.39s\n",
      "[BernoulliRBM] Iteration 10, pseudo-likelihood = -218.69, time = 1.43s\n",
      "[BernoulliRBM] Iteration 11, pseudo-likelihood = -211.19, time = 1.46s\n",
      "[BernoulliRBM] Iteration 12, pseudo-likelihood = -200.61, time = 1.46s\n",
      "[BernoulliRBM] Iteration 13, pseudo-likelihood = -200.05, time = 1.38s\n",
      "[BernoulliRBM] Iteration 14, pseudo-likelihood = -193.19, time = 1.38s\n",
      "[BernoulliRBM] Iteration 15, pseudo-likelihood = -190.02, time = 1.37s\n",
      "[BernoulliRBM] Iteration 16, pseudo-likelihood = -193.10, time = 1.44s\n",
      "[BernoulliRBM] Iteration 17, pseudo-likelihood = -186.28, time = 1.37s\n",
      "[BernoulliRBM] Iteration 18, pseudo-likelihood = -184.43, time = 1.37s\n",
      "[BernoulliRBM] Iteration 19, pseudo-likelihood = -183.86, time = 1.37s\n",
      "[BernoulliRBM] Iteration 20, pseudo-likelihood = -188.20, time = 1.44s\n",
      "[BernoulliRBM] Iteration 21, pseudo-likelihood = -182.01, time = 1.43s\n",
      "[BernoulliRBM] Iteration 22, pseudo-likelihood = -177.20, time = 1.44s\n",
      "[BernoulliRBM] Iteration 23, pseudo-likelihood = -176.59, time = 1.44s\n",
      "[BernoulliRBM] Iteration 24, pseudo-likelihood = -166.86, time = 1.43s\n",
      "[BernoulliRBM] Iteration 25, pseudo-likelihood = -174.05, time = 1.44s\n",
      "[BernoulliRBM] Iteration 26, pseudo-likelihood = -171.33, time = 1.37s\n",
      "[BernoulliRBM] Iteration 27, pseudo-likelihood = -173.45, time = 1.37s\n",
      "[BernoulliRBM] Iteration 28, pseudo-likelihood = -168.41, time = 1.44s\n",
      "[BernoulliRBM] Iteration 29, pseudo-likelihood = -174.86, time = 1.37s\n",
      "[BernoulliRBM] Iteration 30, pseudo-likelihood = -167.01, time = 1.37s\n",
      "[BernoulliRBM] Iteration 31, pseudo-likelihood = -159.57, time = 1.44s\n",
      "[BernoulliRBM] Iteration 32, pseudo-likelihood = -165.59, time = 1.43s\n",
      "[BernoulliRBM] Iteration 33, pseudo-likelihood = -162.88, time = 1.42s\n",
      "[BernoulliRBM] Iteration 34, pseudo-likelihood = -158.61, time = 1.37s\n",
      "[BernoulliRBM] Iteration 35, pseudo-likelihood = -158.25, time = 1.42s\n",
      "[BernoulliRBM] Iteration 36, pseudo-likelihood = -162.04, time = 1.37s\n",
      "[BernoulliRBM] Iteration 37, pseudo-likelihood = -159.94, time = 1.37s\n",
      "[BernoulliRBM] Iteration 38, pseudo-likelihood = -159.02, time = 1.37s\n",
      "[BernoulliRBM] Iteration 39, pseudo-likelihood = -162.79, time = 1.37s\n",
      "[BernoulliRBM] Iteration 40, pseudo-likelihood = -150.59, time = 1.41s\n",
      "[BernoulliRBM] Iteration 41, pseudo-likelihood = -150.58, time = 1.38s\n",
      "[BernoulliRBM] Iteration 42, pseudo-likelihood = -156.68, time = 1.36s\n",
      "[BernoulliRBM] Iteration 43, pseudo-likelihood = -156.14, time = 1.42s\n",
      "[BernoulliRBM] Iteration 44, pseudo-likelihood = -152.29, time = 1.37s\n",
      "[BernoulliRBM] Iteration 45, pseudo-likelihood = -153.23, time = 1.37s\n",
      "[BernoulliRBM] Iteration 46, pseudo-likelihood = -146.05, time = 1.43s\n",
      "[BernoulliRBM] Iteration 47, pseudo-likelihood = -151.96, time = 1.42s\n",
      "[BernoulliRBM] Iteration 48, pseudo-likelihood = -147.78, time = 1.38s\n",
      "[BernoulliRBM] Iteration 49, pseudo-likelihood = -155.29, time = 1.36s\n",
      "[BernoulliRBM] Iteration 50, pseudo-likelihood = -151.02, time = 1.37s\n",
      "[BernoulliRBM] Iteration 51, pseudo-likelihood = -151.62, time = 1.41s\n",
      "[BernoulliRBM] Iteration 52, pseudo-likelihood = -152.07, time = 1.38s\n",
      "[BernoulliRBM] Iteration 53, pseudo-likelihood = -144.10, time = 1.43s\n",
      "[BernoulliRBM] Iteration 54, pseudo-likelihood = -150.93, time = 1.38s\n",
      "[BernoulliRBM] Iteration 55, pseudo-likelihood = -151.12, time = 1.43s\n",
      "[BernoulliRBM] Iteration 56, pseudo-likelihood = -145.38, time = 1.38s\n",
      "[BernoulliRBM] Iteration 57, pseudo-likelihood = -143.98, time = 1.38s\n",
      "[BernoulliRBM] Iteration 58, pseudo-likelihood = -146.27, time = 1.36s\n",
      "[BernoulliRBM] Iteration 59, pseudo-likelihood = -140.59, time = 1.41s\n",
      "[BernoulliRBM] Iteration 60, pseudo-likelihood = -146.46, time = 1.37s\n",
      "[BernoulliRBM] Iteration 61, pseudo-likelihood = -143.89, time = 1.37s\n",
      "[BernoulliRBM] Iteration 62, pseudo-likelihood = -139.94, time = 1.36s\n",
      "[BernoulliRBM] Iteration 63, pseudo-likelihood = -143.03, time = 1.37s\n",
      "[BernoulliRBM] Iteration 64, pseudo-likelihood = -146.00, time = 1.36s\n",
      "[BernoulliRBM] Iteration 65, pseudo-likelihood = -147.95, time = 1.37s\n",
      "[BernoulliRBM] Iteration 66, pseudo-likelihood = -141.58, time = 1.36s\n",
      "[BernoulliRBM] Iteration 67, pseudo-likelihood = -146.40, time = 1.36s\n",
      "[BernoulliRBM] Iteration 68, pseudo-likelihood = -137.26, time = 1.37s\n",
      "[BernoulliRBM] Iteration 69, pseudo-likelihood = -136.86, time = 1.36s\n",
      "[BernoulliRBM] Iteration 70, pseudo-likelihood = -138.60, time = 1.37s\n",
      "[BernoulliRBM] Iteration 71, pseudo-likelihood = -133.55, time = 1.37s\n",
      "[BernoulliRBM] Iteration 72, pseudo-likelihood = -136.69, time = 1.38s\n",
      "[BernoulliRBM] Iteration 73, pseudo-likelihood = -139.28, time = 1.37s\n",
      "[BernoulliRBM] Iteration 74, pseudo-likelihood = -140.79, time = 1.38s\n",
      "[BernoulliRBM] Iteration 75, pseudo-likelihood = -139.05, time = 1.37s\n",
      "[BernoulliRBM] Iteration 76, pseudo-likelihood = -140.91, time = 1.36s\n",
      "[BernoulliRBM] Iteration 77, pseudo-likelihood = -136.29, time = 1.37s\n",
      "[BernoulliRBM] Iteration 78, pseudo-likelihood = -135.48, time = 1.36s\n",
      "[BernoulliRBM] Iteration 79, pseudo-likelihood = -139.56, time = 1.37s\n",
      "[BernoulliRBM] Iteration 80, pseudo-likelihood = -128.30, time = 1.36s\n"
     ]
    },
    {
     "data": {
      "text/plain": [
       "['./pkl/scale/skt/digits_LogisticRegression_BernoulliRBM.pkl']"
      ]
     },
     "execution_count": 11,
     "metadata": {},
     "output_type": "execute_result"
    }
   ],
   "source": [
    "rbm = BernoulliRBM(n_components = 200, n_iter = 80, learning_rate = 0.001,  verbose = True)\n",
    "logistic = LogisticRegression(C = 10.0)\n",
    "classifier = Pipeline([(\"rbm\", rbm), (\"logistic\", logistic)])\n",
    "classifier.fit(features, labels)\n",
    "joblib.dump(classifier, \"./pkl/scale/skt/digits_LogisticRegression_BernoulliRBM.pkl\", compress=3)"
   ]
  }
 ],
 "metadata": {
  "kernelspec": {
   "display_name": "Python 2",
   "language": "python",
   "name": "python2"
  },
  "language_info": {
   "codemirror_mode": {
    "name": "ipython",
    "version": 2
   },
   "file_extension": ".py",
   "mimetype": "text/x-python",
   "name": "python",
   "nbconvert_exporter": "python",
   "pygments_lexer": "ipython2",
   "version": "2.7.9"
  }
 },
 "nbformat": 4,
 "nbformat_minor": 0
}
