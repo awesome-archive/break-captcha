{
 "cells": [
  {
   "cell_type": "code",
   "execution_count": 1,
   "metadata": {
    "collapsed": false
   },
   "outputs": [],
   "source": [
    "%matplotlib inline\n",
    "from matplotlib import pyplot as plt, cm\n",
    "import requests\n",
    "from hashlib import md5\n",
    "import os\n",
    "from glob import glob\n",
    "from skimage import io\n",
    "from skimage import novice\n",
    "from skimage import io\n",
    "from skimage import data, segmentation, filters, color, img_as_float, img_as_ubyte, exposure, feature, measure, morphology\n",
    "from skimage.color import rgb2gray\n",
    "from skimage.morphology import square\n",
    "from sklearn.externals import joblib\n",
    "import cv2\n",
    "import numpy as np\n",
    "from time import time\n",
    "import random"
   ]
  },
  {
   "cell_type": "code",
   "execution_count": 2,
   "metadata": {
    "collapsed": false
   },
   "outputs": [],
   "source": [
    "# 데이터가 저장될 기본 경로를 지정\n",
    "p = \"./data_unlabel/\""
   ]
  },
  {
   "cell_type": "code",
   "execution_count": 6,
   "metadata": {
    "collapsed": false
   },
   "outputs": [
    {
     "name": "stdout",
     "output_type": "stream",
     "text": [
      "the number of files is 14\n"
     ]
    }
   ],
   "source": [
    "# 이미지 이름을(MD5) 불러와서 웹에서 신규 이미지를 저장 시 중복된 이미지가 저장되는 것을 방지\n",
    "md5list = glob(os.path.join(p + \"*.png\"))\n",
    "md5list = [os.path.split(fname)[1] for fname in md5list]\n",
    "print \"the number of files is %s\" %len(md5list)"
   ]
  },
  {
   "cell_type": "code",
   "execution_count": 7,
   "metadata": {
    "collapsed": true
   },
   "outputs": [],
   "source": [
    "# 동일 user agent로 요청 시 서버 탐지를 피하기 위해 user agent를 랜덤하게 전송\n",
    "agent_list = [\"Mozilla/5.0 (Windows NT 6.1) AppleWebKit/537.36 (KHTML, like Gecko) Chrome/41.0.2228.0 Safari/537.36\",\n",
    "                  \"Mozilla/5.0 (Macintosh; Intel Mac OS X 10_10_1) AppleWebKit/537.36 (KHTML, like Gecko) Chrome/41.0.2227.1 Safari/537.36\",\n",
    "                  \"Mozilla/5.0 (X11; Linux x86_64) AppleWebKit/537.36 (KHTML, like Gecko) Chrome/41.0.2227.0 Safari/537.36\",\n",
    "                  \"Mozilla/5.0 (Windows NT 6.1; WOW64) AppleWebKit/537.36 (KHTML, like Gecko) Chrome/41.0.2227.0 Safari/537.36\",\n",
    "                  \"Mozilla/5.0 (Windows NT 6.4; WOW64) AppleWebKit/537.36 (KHTML, like Gecko) Chrome/41.0.2225.0 Safari/537.36\",\n",
    "                  \"Mozilla/5.0 (Windows NT 6.3; WOW64) AppleWebKit/537.36 (KHTML, like Gecko) Chrome/41.0.2225.0 Safari/537.36\",\n",
    "                  \"Mozilla/5.0 (Macintosh; Intel Mac OS X 10_10_1) AppleWebKit/537.36 (KHTML, like Gecko) Chrome/37.0.2062.124 Safari/537.36\",\n",
    "                  \"Mozilla/5.0 (Windows NT 6.3; Win64; x64) AppleWebKit/537.36 (KHTML, like Gecko) Chrome/37.0.2049.0 Safari/537.36\",\n",
    "                  \"Mozilla/5.0 (Windows NT 5.1) AppleWebKit/537.36 (KHTML, like Gecko) Chrome/36.0.1985.67 Safari/537.36\",\n",
    "                  \"Mozilla/5.0 (X11; OpenBSD i386) AppleWebKit/537.36 (KHTML, like Gecko) Chrome/36.0.1985.125 Safari/537.36\",\n",
    "                  \"Mozilla/5.0 (Macintosh; Intel Mac OS X 10_9_3) AppleWebKit/537.36 (KHTML, like Gecko) Chrome/35.0.1916.47 Safari/537.36\",\n",
    "                  \"Mozilla/5.0 (Windows NT 6.3; rv:36.0) Gecko/20100101 Firefox/36.0\",\n",
    "                  \"Mozilla/5.0 (Macintosh; Intel Mac OS X 10_10; rv:33.0) Gecko/20100101 Firefox/33.0\",\n",
    "                  \"Mozilla/5.0 (X11; Linux i586; rv:31.0) Gecko/20100101 Firefox/31.0\",\n",
    "                  \"Mozilla/5.0 (Windows NT 6.1; WOW64; rv:29.0) Gecko/20120101 Firefox/29.0\",\n",
    "                  \"Mozilla/5.0 (X11; OpenBSD amd64; rv:28.0) Gecko/20100101 Firefox/28.0\",\n",
    "                  \"Mozilla/5.0 (Windows NT 6.1; rv:27.3) Gecko/20130101 Firefox/27.3\"]"
   ]
  },
  {
   "cell_type": "code",
   "execution_count": 8,
   "metadata": {
    "collapsed": false
   },
   "outputs": [],
   "source": [
    "def get_captcha_img():\n",
    "    User_Agent = random.choice(agent_list)\n",
    "    headers = {\"User-Agent\" : User_Agent}\n",
    "    img = requests.get(\"http://www.sktmembership.co.kr/simpleCaptcha.do\", headers=headers)\n",
    "\n",
    "    if img.status_code == 200:\n",
    "        if md5(img.content).hexdigest() not in md5list:\n",
    "            fname = os.path.join(p, md5(img.content).hexdigest() + \".png\")\n",
    "\n",
    "            with open(fname, 'wb') as f:\n",
    "                f.write(img.content)\n",
    "\n",
    "            md5list.append(fname)\n",
    "\n",
    "        else:\n",
    "            print \"same file detected!!\""
   ]
  },
  {
   "cell_type": "code",
   "execution_count": 9,
   "metadata": {
    "collapsed": false,
    "scrolled": true
   },
   "outputs": [
    {
     "name": "stdout",
     "output_type": "stream",
     "text": [
      "2 requests\n",
      "3 requests\n",
      "4 requests\n",
      "5 requests\n",
      "6 requests\n",
      "7 requests\n",
      "8 requests\n",
      "9 requests\n",
      "10 requests\n",
      "11 requests\n",
      "12 requests\n",
      "13 requests\n",
      "14 requests\n",
      "15 requests\n",
      "16 requests\n",
      "17 requests\n",
      "18 requests\n",
      "19 requests\n",
      "20 requests\n",
      "21 requests\n",
      "22 requests\n",
      "23 requests\n",
      "24 requests\n",
      "25 requests\n",
      "26 requests\n",
      "27 requests\n",
      "28 requests\n",
      "29 requests\n",
      "30 requests\n",
      "31 requests\n",
      "32 requests\n",
      "33 requests\n",
      "34 requests\n",
      "35 requests\n",
      "36 requests\n",
      "37 requests\n",
      "38 requests\n",
      "39 requests\n",
      "40 requests\n",
      "41 requests\n",
      "42 requests\n",
      "43 requests\n",
      "44 requests\n",
      "45 requests\n",
      "46 requests\n",
      "47 requests\n",
      "48 requests\n",
      "49 requests\n",
      "50 requests\n",
      "51 requests\n",
      "52 requests\n",
      "53 requests\n",
      "54 requests\n",
      "55 requests\n",
      "56 requests\n",
      "57 requests\n",
      "58 requests\n",
      "59 requests\n",
      "60 requests\n",
      "61 requests\n",
      "62 requests\n",
      "63 requests\n",
      "64 requests\n",
      "65 requests\n",
      "66 requests\n",
      "67 requests\n",
      "68 requests\n",
      "69 requests\n",
      "70 requests\n",
      "71 requests\n",
      "72 requests\n",
      "73 requests\n",
      "74 requests\n",
      "75 requests\n",
      "76 requests\n",
      "77 requests\n",
      "78 requests\n",
      "79 requests\n",
      "80 requests\n",
      "81 requests\n",
      "82 requests\n",
      "83 requests\n",
      "84 requests\n",
      "85 requests\n",
      "86 requests\n",
      "87 requests\n",
      "88 requests\n",
      "89 requests\n",
      "90 requests\n",
      "91 requests\n",
      "92 requests\n",
      "93 requests\n",
      "94 requests\n",
      "95 requests\n",
      "96 requests\n",
      "97 requests\n",
      "98 requests\n",
      "99 requests\n",
      "100 requests\n"
     ]
    }
   ],
   "source": [
    "# req에 원하는 요청의 갯수 입력\n",
    "cnt = 1\n",
    "req = 100\n",
    "while(cnt < req):\n",
    "    get_captcha_img()\n",
    "    cnt += 1\n",
    "    print \"%s requests\" %cnt"
   ]
  },
  {
   "cell_type": "code",
   "execution_count": 10,
   "metadata": {
    "collapsed": true
   },
   "outputs": [],
   "source": [
    "# gray형태의 이미지를 체크 후 삭제\n",
    "def check_grayfile(fname):\n",
    "    picture = novice.open(fname)\n",
    "    cnt = 0\n",
    "    for pixel in picture:\n",
    "        if (pixel.red == pixel.green == pixel.blue) == True:\n",
    "            cnt += 1\n",
    "    area = picture.width * picture.height\n",
    "            \n",
    "    return area, cnt"
   ]
  },
  {
   "cell_type": "code",
   "execution_count": 11,
   "metadata": {
    "collapsed": false
   },
   "outputs": [
    {
     "name": "stdout",
     "output_type": "stream",
     "text": [
      "the number of files was 113\n",
      "the number of files is 66\n"
     ]
    }
   ],
   "source": [
    "md5list = glob(os.path.join(p + \"*.png\"))\n",
    "print \"the number of files was %s\" %len(md5list)\n",
    "\n",
    "for fname in md5list:\n",
    "    area, cnt = check_grayfile(fname)\n",
    "    if area == cnt:\n",
    "        os.remove(fname)\n",
    "        \n",
    "md5list = glob(os.path.join(p + \"*.png\"))\n",
    "print \"the number of files is %s\" %len(md5list)"
   ]
  },
  {
   "cell_type": "code",
   "execution_count": 14,
   "metadata": {
    "collapsed": true
   },
   "outputs": [],
   "source": [
    "# 이미지에서 5개로 숫자가 분리되지 않는 경우 삭제\n",
    "def check_5_rectangle(fname):\n",
    "    \n",
    "    im = io.imread(fname)\n",
    "    w, h, _ = im.shape\n",
    "\n",
    "    for x in range(w):\n",
    "        for j in range(h):\n",
    "\n",
    "            if im[x][j][0] == im[x][j][1] and im[x][j][1] == im[x][j][2] and im[x][j][2] == im[x][j][0]:\n",
    "                im[x][j][0] = 255\n",
    "                im[x][j][1] = 255\n",
    "                im[x][j][2] = 255\n",
    "\n",
    "    im_gray = rgb2gray(im)\n",
    "    im_gray = img_as_ubyte(im_gray)\n",
    "    im_gray = morphology.opening(im_gray, square(2))\n",
    "    im_gray_equalize = exposure.equalize_hist(im_gray)\n",
    "\n",
    "    threshold = filters.threshold_otsu(im_gray_equalize).copy()\n",
    "    threshold = im_gray_equalize < threshold\n",
    "    threshold = img_as_ubyte(threshold)\n",
    "\n",
    "    bw = morphology.closing(im_gray_equalize < threshold, square(3))\n",
    "    cleared = bw.copy()\n",
    "\n",
    "    im_th = cleared\n",
    "    ctrs, hier = cv2.findContours(img_as_ubyte(im_th.copy()), cv2.RETR_EXTERNAL, cv2.CHAIN_APPROX_SIMPLE)\n",
    "    rects = [cv2.boundingRect(ctr) for ctr in ctrs]\n",
    "    rects = sorted(rects, key=lambda tup: tup[0])\n",
    "\n",
    "    if len(rects) == 5:\n",
    "        return True\n",
    "    else:\n",
    "        return False"
   ]
  },
  {
   "cell_type": "code",
   "execution_count": 15,
   "metadata": {
    "collapsed": false
   },
   "outputs": [
    {
     "name": "stdout",
     "output_type": "stream",
     "text": [
      "the number of files was 66\n",
      "escape time :  3.116 s\n",
      "the number of files is 25\n"
     ]
    },
    {
     "name": "stderr",
     "output_type": "stream",
     "text": [
      "/Users/dikien/anaconda/lib/python2.7/site-packages/skimage/util/dtype.py:107: UserWarning: Possible precision loss when converting from float64 to uint8\n",
      "  \"%s to %s\" % (dtypeobj_in, dtypeobj))\n"
     ]
    }
   ],
   "source": [
    "t0 = time()\n",
    "md5list = glob(os.path.join(p + \"*.png\"))\n",
    "print \"the number of files was %s\" %len(md5list)\n",
    "\n",
    "for fname in md5list:\n",
    "    r = check_5_rectangle(fname)\n",
    "    if r == False:\n",
    "        os.remove(fname)\n",
    "        \n",
    "print \"escape time : \", round(time()-t0, 3), \"s\"\n",
    "md5list = glob(os.path.join(p + \"*.png\"))\n",
    "print \"the number of files is %s\" %len(md5list)"
   ]
  },
  {
   "cell_type": "code",
   "execution_count": 18,
   "metadata": {
    "collapsed": false
   },
   "outputs": [
    {
     "name": "stdout",
     "output_type": "stream",
     "text": [
      "0 have 537, 9 percent\n",
      "1 have 791, 6 percent\n",
      "2 have 484, 10 percent\n",
      "3 have 499, 10 percent\n",
      "4 have 605, 8 percent\n",
      "5 have 510, 9 percent\n",
      "6 have 313, 15 percent\n",
      "7 have 692, 7 percent\n",
      "8 have 569, 8 percent\n"
     ]
    }
   ],
   "source": [
    "# 각각의 숫자가 얼만큼의 빈도수로 출현하는지 표현\n",
    "# data_label : 원본 데이터에 filename_{lable}.png형태로 lable을 붙여줌\n",
    "# data_unlabel : 원본 데이터\n",
    "md5list = glob(os.path.join(\"./data_label/\" + \"*.png\"))\n",
    "md5list_len = len(md5list)\n",
    "\n",
    "all_digits = \"\"\n",
    "for fname in md5list:\n",
    "    lable = os.path.split(fname)[1].split(\"_\")[1][:5]\n",
    "    \n",
    "    if len(lable) == 5:\n",
    "        all_digits += lable\n",
    "    else:\n",
    "        print \"%s file isn't 5 digits\" %fname\n",
    "\n",
    "for i in range(9):\n",
    "    print \"%s have %s, %s percent\" %(i, all_digits.count(str(i)), str(md5list_len*5/all_digits.count(str(i))))\n"
   ]
  },
  {
   "cell_type": "code",
   "execution_count": 2,
   "metadata": {
    "collapsed": false
   },
   "outputs": [
    {
     "name": "stdout",
     "output_type": "stream",
     "text": [
      "the number of files was 1000\n",
      "the number of files is 1000\n",
      "escape time :  59.442 s\n"
     ]
    },
    {
     "name": "stderr",
     "output_type": "stream",
     "text": [
      "/Users/dikien/anaconda/lib/python2.7/site-packages/skimage/util/dtype.py:107: UserWarning: Possible precision loss when converting from float64 to uint8\n",
      "  \"%s to %s\" % (dtypeobj_in, dtypeobj))\n"
     ]
    }
   ],
   "source": [
    "t0 = time()\n",
    "features = []\n",
    "lables = []\n",
    "\n",
    "md5list = glob(os.path.join(\"./data_label/\" + \"*.png\"))\n",
    "print \"the number of files was %s\" %len(md5list)\n",
    "\n",
    "# captcha를 preprossing후 mnist처럼 numpy array로 만들자\n",
    "for fname in md5list:\n",
    "    lable = os.path.split(fname)[1].split(\"_\")[1][:5]\n",
    "    im = io.imread(fname)\n",
    "    w, h, _ = im.shape\n",
    "\n",
    "    for x in range(w):\n",
    "        for j in range(h):\n",
    "\n",
    "            if im[x][j][0] == im[x][j][1] and im[x][j][1] == im[x][j][2] and im[x][j][2] == im[x][j][0]:\n",
    "                im[x][j][0] = 255\n",
    "                im[x][j][1] = 255\n",
    "                im[x][j][2] = 255\n",
    "\n",
    "    im_gray = rgb2gray(im)\n",
    "    im_gray = img_as_ubyte(im_gray)\n",
    "    im_gray = morphology.opening(im_gray, square(2))\n",
    "    im_gray_equalize = exposure.equalize_hist(im_gray)\n",
    "\n",
    "    threshold = filters.threshold_otsu(im_gray_equalize).copy()\n",
    "    threshold = im_gray_equalize < threshold\n",
    "    threshold = img_as_ubyte(threshold)\n",
    "\n",
    "    bw = morphology.closing(im_gray_equalize < threshold, square(3))\n",
    "    cleared = bw.copy()\n",
    "\n",
    "    im_th = cleared\n",
    "    ctrs, hier = cv2.findContours(img_as_ubyte(im_th.copy()), cv2.RETR_EXTERNAL, cv2.CHAIN_APPROX_SIMPLE)\n",
    "    rects = [cv2.boundingRect(ctr) for ctr in ctrs]\n",
    "    rects = sorted(rects, key=lambda tup: tup[0])\n",
    "\n",
    "    if len(rects) != 5:\n",
    "        continue\n",
    "\n",
    "\n",
    "    for rect, l in zip(rects, lable):\n",
    "        # Draw the rectangles\n",
    "        cv2.rectangle(threshold, (rect[0], rect[1]), (rect[0] + rect[2], rect[1] + rect[3]), (0, 255, 0), 1) \n",
    "\n",
    "        # Make the rectangular region around the digit\n",
    "        roi = threshold[rect[1]:rect[1]+rect[3], rect[0]:rect[0]+rect[2]]\n",
    "        roi = cv2.resize(roi, (28, 28), interpolation=cv2.INTER_AREA)\n",
    "        roi = morphology.closing(roi, square(4))\n",
    "        \n",
    "        features.append(roi.ravel())\n",
    "        lables.append([l])\n",
    "\n",
    "features = np.array(features, 'int16')\n",
    "labels = np.array(lables, 'int').ravel()\n",
    "md5list = glob(os.path.join(\"./data_label/\" + \"*.png\"))\n",
    "print \"the number of files is %s\" %len(md5list)\n",
    "print \"escape time : \", round(time()-t0, 3), \"s\""
   ]
  },
  {
   "cell_type": "code",
   "execution_count": 23,
   "metadata": {
    "collapsed": false
   },
   "outputs": [
    {
     "name": "stdout",
     "output_type": "stream",
     "text": [
      "(5000, 784)\n",
      "(5000,)\n"
     ]
    }
   ],
   "source": [
    "# features, lables의 차원을 출력\n",
    "print features.shape\n",
    "print labels.shape"
   ]
  },
  {
   "cell_type": "code",
   "execution_count": 3,
   "metadata": {
    "collapsed": false
   },
   "outputs": [
    {
     "data": {
      "text/plain": [
       "['./mldata/lables_1000.mat']"
      ]
     },
     "execution_count": 3,
     "metadata": {},
     "output_type": "execute_result"
    }
   ],
   "source": [
    "# features, lables을 각각 저장\n",
    "joblib.dump(features, \"./mldata/features_1000.mat\", compress=3)\n",
    "joblib.dump(labels, \"./mldata/lables_1000.mat\", compress=3)"
   ]
  },
  {
   "cell_type": "code",
   "execution_count": 77,
   "metadata": {
    "collapsed": true
   },
   "outputs": [],
   "source": [
    "# 샘플이미지를 두 개에 대해 28*28형태로 변환\n",
    "sample_0 = features[2].reshape((28, 28))\n",
    "sample_1 = features[3].reshape((28, 28))"
   ]
  },
  {
   "cell_type": "code",
   "execution_count": 78,
   "metadata": {
    "collapsed": false
   },
   "outputs": [
    {
     "data": {
      "text/plain": [
       "<matplotlib.image.AxesImage at 0x108aeced0>"
      ]
     },
     "execution_count": 78,
     "metadata": {},
     "output_type": "execute_result"
    },
    {
     "data": {
      "image/png": "[encoded data removed]",
      "text/plain": [
       "<matplotlib.figure.Figure at 0x10895b910>"
      ]
     },
     "metadata": {},
     "output_type": "display_data"
    }
   ],
   "source": [
    "# 샘플이미지가 정상적으로 출력됨을 확인\n",
    "fig, (ax0, ax1) = plt.subplots(1, 2)\n",
    "ax0.imshow(sample_0, cmap='gray')\n",
    "ax1.imshow(sample_1, cmap='gray')\n",
    "\n",
    "print \"First image is %s \" %labels[2]\n",
    "print \"Second image is %s\" %labels[3]"
   ]
  }
 ],
 "metadata": {
  "kernelspec": {
   "display_name": "Python 2",
   "language": "python",
   "name": "python2"
  },
  "language_info": {
   "codemirror_mode": {
    "name": "ipython",
    "version": 2
   },
   "file_extension": ".py",
   "mimetype": "text/x-python",
   "name": "python",
   "nbconvert_exporter": "python",
   "pygments_lexer": "ipython2",
   "version": "2.7.9"
  }
 },
 "nbformat": 4,
 "nbformat_minor": 0
}
