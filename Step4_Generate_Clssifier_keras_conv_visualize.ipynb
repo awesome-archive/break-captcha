{
 "cells": [
  {
   "cell_type": "code",
   "execution_count": 12,
   "metadata": {
    "collapsed": true
   },
   "outputs": [],
   "source": [
    "%matplotlib inline\n",
    "from matplotlib import pyplot as plt\n",
    "from keras.models import Sequential\n",
    "from keras.layers.convolutional import Convolution2D, MaxPooling2D\n",
    "from keras.layers.core import Dense, Dropout, Activation, Flatten\n",
    "from keras.optimizers import SGD\n",
    "from keras.utils import np_utils\n",
    "from sklearn.cross_validation import train_test_split\n",
    "from sklearn.metrics import classification_report\n",
    "from sklearn.externals import joblib\n",
    "from sklearn.metrics import accuracy_score\n",
    "from sklearn.metrics import confusion_matrix\n",
    "import numpy as np\n",
    "import pandas as pd\n",
    "from time import time"
   ]
  },
  {
   "cell_type": "code",
   "execution_count": 2,
   "metadata": {
    "collapsed": true
   },
   "outputs": [],
   "source": [
    "np.set_printoptions(precision=4)\n",
    "np.set_printoptions(suppress=True)"
   ]
  },
  {
   "cell_type": "code",
   "execution_count": 7,
   "metadata": {
    "collapsed": true
   },
   "outputs": [],
   "source": [
    "nb_classes = 9\n",
    "batch_size = 64\n",
    "nb_epoch = 1\n",
    "np.random.seed(1337) # for reproducibility"
   ]
  },
  {
   "cell_type": "code",
   "execution_count": 4,
   "metadata": {
    "collapsed": false
   },
   "outputs": [],
   "source": [
    "features = joblib.load(\"./mldata/features_1200.mat\")\n",
    "labels = joblib.load(\"./mldata/lables_1200.mat\")\n",
    "\n",
    "features = np.array(features, 'int16')\n",
    "labels = np.array(labels, 'int')\n",
    "\n",
    "def scale(X, eps = 0.001):\n",
    "    # scale the data points s.t the columns of the feature space\n",
    "    # (i.e the predictors) are within the range [0, 1]\n",
    "    return (X - np.min(X, axis = 0)) / (np.max(X, axis = 0) + eps)\n",
    "\n",
    "features = features.astype(\"float32\")\n",
    "features = scale(features)\n",
    "\n",
    "# scale the data to the range [0, 1] and then construct the training\n",
    "# and testing splits\n",
    "(trainX, testX, trainY, testY) = train_test_split(features, labels, test_size = 0.1)\n",
    "(valX, testX, valY, testY) = train_test_split(testX, testY, test_size = 0.5)\n",
    "\n",
    "# reshape for convolutions\n",
    "trainX = trainX.reshape((trainX.shape[0], 1, 28, 28))\n",
    "testX = testX.reshape((testX.shape[0], 1, 28, 28))\n",
    "valX = valX.reshape((valX.shape[0], 1, 28, 28))\n",
    "\n",
    "# convert class vectors to binary class matrices\n",
    "trainY = np_utils.to_categorical(trainY, nb_classes)\n",
    "testY = np_utils.to_categorical(testY, nb_classes)\n",
    "valY = np_utils.to_categorical(valY, nb_classes)"
   ]
  },
  {
   "cell_type": "code",
   "execution_count": 13,
   "metadata": {
    "collapsed": false
   },
   "outputs": [
    {
     "name": "stdout",
     "output_type": "stream",
     "text": [
      "Train on 5400 samples, validate on 300 samples\n",
      "Epoch 0\n",
      "5400/5400 [==============================] - 217s - loss: 2.1737 - acc.: 0.1806 - val. loss: 2.0746 - val. acc.: 0.3401\n"
     ]
    },
    {
     "data": {
      "text/plain": [
       "{'acc': [0.18055555555555555],\n",
       " 'epoch': [0],\n",
       " 'loss': [2.173748743480314],\n",
       " 'val_acc': [0.34005681818181815],\n",
       " 'val_loss': [2.074591208852861]}"
      ]
     },
     "execution_count": 13,
     "metadata": {},
     "output_type": "execute_result"
    }
   ],
   "source": [
    "# Creating the model which consists of 3 conv layers followed by\n",
    "# 2 fully conntected layers\n",
    "\n",
    "# Sequential wrapper model\n",
    "model = Sequential()\n",
    "\n",
    "# first convolutional layer\n",
    "model.add(Convolution2D(32, 1, 2, 2))\n",
    "model.add(Activation('relu'))\n",
    "\n",
    "# second convolutional layer\n",
    "model.add(Convolution2D(48, 32, 2, 2))\n",
    "model.add(Activation('relu')) \n",
    "model.add(MaxPooling2D(poolsize=(2,2)))\n",
    "\n",
    "# third convolutional layer\n",
    "model.add(Convolution2D(32, 48, 2, 2))\n",
    "model.add(Activation('relu'))\n",
    "model.add(MaxPooling2D(poolsize=(2,2)))\n",
    "\n",
    "# convert convolutional filters to flatt so they can be feed to \n",
    "# fully connected layers\n",
    "model.add(Flatten())\n",
    "\n",
    "# first fully connected layer\n",
    "model.add(Dense(32*6*6, 144, init='lecun_uniform'))\n",
    "model.add(Activation('relu'))\n",
    "model.add(Dropout(0.5))\n",
    "\n",
    "# second fully connected layer\n",
    "model.add(Dense(144, 144, init='lecun_uniform'))\n",
    "model.add(Activation('relu'))\n",
    "model.add(Dropout(0.5))\n",
    "\n",
    "# last fully connected layer which output classes\n",
    "model.add(Dense(144, 9, init='lecun_uniform'))\n",
    "model.add(Activation('softmax'))\n",
    "\n",
    "# setting sgd optimizer parameters\n",
    "sgd = SGD(lr=0.05, decay=1e-6, momentum=0.9, nesterov=True)\n",
    "model.compile(loss='categorical_crossentropy', optimizer=sgd)\n",
    "\n",
    "model.fit(trainX, trainY,\n",
    "          batch_size=batch_size,\n",
    "          nb_epoch=nb_epoch,\n",
    "          show_accuracy=True,\n",
    "          verbose=1,\n",
    "          validation_data=(testX, testY))"
   ]
  },
  {
   "cell_type": "code",
   "execution_count": 14,
   "metadata": {
    "collapsed": false
   },
   "outputs": [
    {
     "data": {
      "text/plain": [
       "[<keras.layers.convolutional.Convolution2D at 0x10f058cd0>,\n",
       " <keras.layers.core.Activation at 0x10efaa350>,\n",
       " <keras.layers.convolutional.Convolution2D at 0x10f085a10>,\n",
       " <keras.layers.core.Activation at 0x10f093110>,\n",
       " <keras.layers.convolutional.MaxPooling2D at 0x10f0932d0>,\n",
       " <keras.layers.convolutional.Convolution2D at 0x10f093190>,\n",
       " <keras.layers.core.Activation at 0x10f093050>,\n",
       " <keras.layers.convolutional.MaxPooling2D at 0x10a46a890>,\n",
       " <keras.layers.core.Flatten at 0x1042d0090>,\n",
       " <keras.layers.core.Dense at 0x10efc1490>,\n",
       " <keras.layers.core.Activation at 0x10a46a050>,\n",
       " <keras.layers.core.Dropout at 0x104309390>,\n",
       " <keras.layers.core.Dense at 0x10efc1750>,\n",
       " <keras.layers.core.Activation at 0x10efc16d0>,\n",
       " <keras.layers.core.Dropout at 0x10efc19d0>,\n",
       " <keras.layers.core.Dense at 0x10efc1a50>,\n",
       " <keras.layers.core.Activation at 0x10efc17d0>]"
      ]
     },
     "execution_count": 14,
     "metadata": {},
     "output_type": "execute_result"
    }
   ],
   "source": [
    "model.layers"
   ]
  },
  {
   "cell_type": "code",
   "execution_count": 33,
   "metadata": {
    "collapsed": false
   },
   "outputs": [
    {
     "name": "stdout",
     "output_type": "stream",
     "text": [
      "0\n",
      "<keras.layers.convolutional.Convolution2D object at 0x10f058cd0>\n",
      "2\n",
      "<keras.layers.convolutional.Convolution2D object at 0x10f085a10>\n",
      "5\n",
      "<keras.layers.convolutional.Convolution2D object at 0x10f093190>\n",
      "9\n",
      "<keras.layers.core.Dense object at 0x10efc1490>\n",
      "12\n",
      "<keras.layers.core.Dense object at 0x10efc1750>\n",
      "15\n",
      "<keras.layers.core.Dense object at 0x10efc1a50>\n"
     ]
    }
   ],
   "source": [
    "for l in range(len(model.layers)):\n",
    "    \n",
    "    if model.layers[l].get_weights() != []:\n",
    "        print l\n",
    "        print model.layers[l]\n",
    "#         print model.layers[l].get_weights()"
   ]
  },
  {
   "cell_type": "code",
   "execution_count": 47,
   "metadata": {
    "collapsed": false
   },
   "outputs": [
    {
     "data": {
      "text/plain": [
       "(32, 1, 2, 2)"
      ]
     },
     "execution_count": 47,
     "metadata": {},
     "output_type": "execute_result"
    }
   ],
   "source": [
    "model.layers[0].get_weights()[0].shape"
   ]
  },
  {
   "cell_type": "code",
   "execution_count": 48,
   "metadata": {
    "collapsed": false
   },
   "outputs": [
    {
     "data": {
      "text/plain": [
       "(300, 1, 28, 28)"
      ]
     },
     "execution_count": 48,
     "metadata": {},
     "output_type": "execute_result"
    }
   ],
   "source": [
    "valX.shape"
   ]
  },
  {
   "cell_type": "code",
   "execution_count": 60,
   "metadata": {
    "collapsed": false
   },
   "outputs": [
    {
     "data": {
      "text/plain": [
       "(28, 28)"
      ]
     },
     "execution_count": 60,
     "metadata": {},
     "output_type": "execute_result"
    }
   ],
   "source": [
    "valX[0].ravel().reshape(28,28)"
   ]
  },
  {
   "cell_type": "code",
   "execution_count": 61,
   "metadata": {
    "collapsed": false
   },
   "outputs": [
    {
     "data": {
      "text/plain": [
       "<matplotlib.image.AxesImage at 0x117c994d0>"
      ]
     },
     "execution_count": 61,
     "metadata": {},
     "output_type": "execute_result"
    },
    {
     "data": {
      "image/png": "[encoded data removed]",
      "text/plain": [
       "<matplotlib.figure.Figure at 0x10db19910>"
      ]
     },
     "metadata": {},
     "output_type": "display_data"
    }
   ],
   "source": [
    "sample_0 = valX[0].ravel().reshape(28,28)\n",
    "sample_1 = valX[1].ravel().reshape(28,28)\n",
    "sample_2 = valX[2].ravel().reshape(28,28)\n",
    "sample_3 = valX[3].ravel().reshape(28,28)\n",
    "sample_4 = valX[4].ravel().reshape(28,28)\n",
    "\n",
    "fig, (ax0, ax1, ax2, ax3, ax4) = plt.subplots(1, 5)\n",
    "ax0.imshow(sample_0, cmap='gray', interpolation='nearest')\n",
    "ax1.imshow(sample_1, cmap='gray')\n",
    "ax2.imshow(sample_2, cmap='gray')\n",
    "ax3.imshow(sample_3, cmap='gray')\n",
    "ax4.imshow(sample_4, cmap='gray')"
   ]
  },
  {
   "cell_type": "code",
   "execution_count": 49,
   "metadata": {
    "collapsed": false,
    "scrolled": true
   },
   "outputs": [],
   "source": [
    "model1 = Sequential()\n",
    "model1.add(Convolution2D(32, 1, 2, 2, weights=model.layers[0].get_weights()))\n",
    "model1.add(Activation('relu'))\n",
    "model1.compile(loss='categorical_crossentropy', optimizer=sgd)"
   ]
  },
  {
   "cell_type": "code",
   "execution_count": 62,
   "metadata": {
    "collapsed": false
   },
   "outputs": [
    {
     "name": "stdout",
     "output_type": "stream",
     "text": [
      "300/300 [==============================] - 0s     \n"
     ]
    }
   ],
   "source": [
    "valX_h_1 = model1.predict(valX)"
   ]
  },
  {
   "cell_type": "code",
   "execution_count": 65,
   "metadata": {
    "collapsed": false
   },
   "outputs": [
    {
     "data": {
      "text/plain": [
       "(300, 32, 27, 27)"
      ]
     },
     "execution_count": 65,
     "metadata": {},
     "output_type": "execute_result"
    }
   ],
   "source": [
    "valX_h_1.shape"
   ]
  },
  {
   "cell_type": "code",
   "execution_count": 67,
   "metadata": {
    "collapsed": false
   },
   "outputs": [
    {
     "data": {
      "text/plain": [
       "(27, 27)"
      ]
     },
     "execution_count": 67,
     "metadata": {},
     "output_type": "execute_result"
    }
   ],
   "source": [
    "valX_h_1[0][0].shape"
   ]
  },
  {
   "cell_type": "code",
   "execution_count": 68,
   "metadata": {
    "collapsed": false
   },
   "outputs": [
    {
     "data": {
      "text/plain": [
       "<matplotlib.image.AxesImage at 0x118961b50>"
      ]
     },
     "execution_count": 68,
     "metadata": {},
     "output_type": "execute_result"
    },
    {
     "data": {
      "image/png": "[encoded data removed]",
      "text/plain": [
       "<matplotlib.figure.Figure at 0x10ede2bd0>"
      ]
     },
     "metadata": {},
     "output_type": "display_data"
    }
   ],
   "source": [
    "sample_0 = valX_h_1[0][0]\n",
    "sample_1 = valX_h_1[0][1]\n",
    "sample_2 = valX_h_1[0][2]\n",
    "sample_3 = valX_h_1[0][3]\n",
    "sample_4 = valX_h_1[0][4]\n",
    "\n",
    "fig, (ax0, ax1, ax2, ax3, ax4) = plt.subplots(1, 5)\n",
    "ax0.imshow(sample_0, cmap='gray', interpolation='nearest')\n",
    "ax1.imshow(sample_1, cmap='gray')\n",
    "ax2.imshow(sample_2, cmap='gray')\n",
    "ax3.imshow(sample_3, cmap='gray')\n",
    "ax4.imshow(sample_4, cmap='gray')"
   ]
  },
  {
   "cell_type": "code",
   "execution_count": 69,
   "metadata": {
    "collapsed": false
   },
   "outputs": [],
   "source": [
    "model2 = Sequential()\n",
    "model2.add(Convolution2D(48, 32, 2, 2, weights=model.layers[2].get_weights()))\n",
    "model2.add(Activation('relu'))\n",
    "model2.compile(loss='categorical_crossentropy', optimizer=sgd)"
   ]
  },
  {
   "cell_type": "code",
   "execution_count": 78,
   "metadata": {
    "collapsed": false
   },
   "outputs": [
    {
     "name": "stdout",
     "output_type": "stream",
     "text": [
      "300/300 [==============================] - 2s     \n"
     ]
    }
   ],
   "source": [
    "valX_h_2 = model2.predict(valX_h_1)"
   ]
  },
  {
   "cell_type": "code",
   "execution_count": 79,
   "metadata": {
    "collapsed": false
   },
   "outputs": [
    {
     "data": {
      "text/plain": [
       "(300, 48, 26, 26)"
      ]
     },
     "execution_count": 79,
     "metadata": {},
     "output_type": "execute_result"
    }
   ],
   "source": [
    "valX_h_2.shape"
   ]
  },
  {
   "cell_type": "code",
   "execution_count": 80,
   "metadata": {
    "collapsed": false
   },
   "outputs": [
    {
     "data": {
      "text/plain": [
       "(26, 26)"
      ]
     },
     "execution_count": 80,
     "metadata": {},
     "output_type": "execute_result"
    }
   ],
   "source": [
    "valX_h_2[0][0].shape"
   ]
  },
  {
   "cell_type": "code",
   "execution_count": 81,
   "metadata": {
    "collapsed": false
   },
   "outputs": [
    {
     "data": {
      "text/plain": [
       "<matplotlib.image.AxesImage at 0x137cecdd0>"
      ]
     },
     "execution_count": 81,
     "metadata": {},
     "output_type": "execute_result"
    },
    {
     "data": {
      "image/png": "[encoded data removed]",
      "text/plain": [
       "<matplotlib.figure.Figure at 0x130f06110>"
      ]
     },
     "metadata": {},
     "output_type": "display_data"
    }
   ],
   "source": [
    "sample_0 = valX_h_2[0][0]\n",
    "sample_1 = valX_h_2[0][1]\n",
    "sample_2 = valX_h_2[0][2]\n",
    "sample_3 = valX_h_2[0][3]\n",
    "sample_4 = valX_h_2[0][4]\n",
    "\n",
    "fig, (ax0, ax1, ax2, ax3, ax4) = plt.subplots(1, 5)\n",
    "ax0.imshow(sample_0, cmap='gray', interpolation='nearest')\n",
    "ax1.imshow(sample_1, cmap='gray')\n",
    "ax2.imshow(sample_2, cmap='gray')\n",
    "ax3.imshow(sample_3, cmap='gray')\n",
    "ax4.imshow(sample_4, cmap='gray')"
   ]
  },
  {
   "cell_type": "code",
   "execution_count": 76,
   "metadata": {
    "collapsed": false
   },
   "outputs": [],
   "source": [
    "model3 = Sequential()\n",
    "model3.add(Convolution2D(32, 48, 2, 2, weights=model.layers[5].get_weights()))\n",
    "model3.add(Activation('relu'))\n",
    "model3.compile(loss='categorical_crossentropy', optimizer=sgd)"
   ]
  },
  {
   "cell_type": "code",
   "execution_count": 82,
   "metadata": {
    "collapsed": false
   },
   "outputs": [
    {
     "name": "stdout",
     "output_type": "stream",
     "text": [
      "300/300 [==============================] - 2s     \n"
     ]
    }
   ],
   "source": [
    "valX_h_3 = model3.predict(valX_h_2)"
   ]
  },
  {
   "cell_type": "code",
   "execution_count": 83,
   "metadata": {
    "collapsed": false
   },
   "outputs": [
    {
     "data": {
      "text/plain": [
       "(300, 32, 25, 25)"
      ]
     },
     "execution_count": 83,
     "metadata": {},
     "output_type": "execute_result"
    }
   ],
   "source": [
    "valX_h_3.shape"
   ]
  },
  {
   "cell_type": "code",
   "execution_count": 84,
   "metadata": {
    "collapsed": false
   },
   "outputs": [
    {
     "data": {
      "text/plain": [
       "(25, 25)"
      ]
     },
     "execution_count": 84,
     "metadata": {},
     "output_type": "execute_result"
    }
   ],
   "source": [
    "valX_h_3[0][0].shape"
   ]
  },
  {
   "cell_type": "code",
   "execution_count": 85,
   "metadata": {
    "collapsed": false
   },
   "outputs": [
    {
     "data": {
      "text/plain": [
       "<matplotlib.image.AxesImage at 0x1381a2750>"
      ]
     },
     "execution_count": 85,
     "metadata": {},
     "output_type": "execute_result"
    },
    {
     "data": {
      "image/png": "[encoded data removed]",
      "text/plain": [
       "<matplotlib.figure.Figure at 0x137e337d0>"
      ]
     },
     "metadata": {},
     "output_type": "display_data"
    }
   ],
   "source": [
    "sample_0 = valX_h_3[0][0]\n",
    "sample_1 = valX_h_3[0][1]\n",
    "sample_2 = valX_h_3[0][2]\n",
    "sample_3 = valX_h_3[0][3]\n",
    "sample_4 = valX_h_2[0][4]\n",
    "\n",
    "fig, (ax0, ax1, ax2, ax3, ax4) = plt.subplots(1, 5)\n",
    "ax0.imshow(sample_0, cmap='gray', interpolation='nearest')\n",
    "ax1.imshow(sample_1, cmap='gray')\n",
    "ax2.imshow(sample_2, cmap='gray')\n",
    "ax3.imshow(sample_3, cmap='gray')\n",
    "ax4.imshow(sample_4, cmap='gray')"
   ]
  }
 ],
 "metadata": {
  "kernelspec": {
   "display_name": "Python 2",
   "language": "python",
   "name": "python2"
  },
  "language_info": {
   "codemirror_mode": {
    "name": "ipython",
    "version": 2
   },
   "file_extension": ".py",
   "mimetype": "text/x-python",
   "name": "python",
   "nbconvert_exporter": "python",
   "pygments_lexer": "ipython2",
   "version": "2.7.9"
  }
 },
 "nbformat": 4,
 "nbformat_minor": 0
}
