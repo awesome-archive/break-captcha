{
 "cells": [
  {
   "cell_type": "code",
   "execution_count": 10,
   "metadata": {
    "collapsed": true
   },
   "outputs": [],
   "source": [
    "import numpy as np\n",
    "from skimage.feature import hog\n",
    "from sklearn import grid_search\n",
    "from sklearn.grid_search import GridSearchCV\n",
    "from sklearn.pipeline import Pipeline\n",
    "from sklearn.linear_model import LogisticRegression\n",
    "from sklearn.neural_network import BernoulliRBM\n",
    "from sklearn.svm import SVC\n",
    "from sklearn.naive_bayes import BernoulliNB\n",
    "from sklearn.ensemble import RandomForestClassifier\n",
    "from sklearn.neighbors import KNeighborsClassifier\n",
    "from sklearn.tree import DecisionTreeClassifier\n",
    "from sklearn.svm import LinearSVC\n",
    "from sklearn.externals import joblib\n",
    "from sklearn import datasets\n",
    "from time import time"
   ]
  },
  {
   "cell_type": "code",
   "execution_count": 11,
   "metadata": {
    "collapsed": true
   },
   "outputs": [],
   "source": [
    "dataset = datasets.fetch_mldata(\"MNIST Original\", data_home=\".\")"
   ]
  },
  {
   "cell_type": "code",
   "execution_count": 12,
   "metadata": {
    "collapsed": false
   },
   "outputs": [],
   "source": [
    "features = np.array(dataset.data, 'int16')\n",
    "labels = np.array(dataset.target, 'int')"
   ]
  },
  {
   "cell_type": "code",
   "execution_count": 13,
   "metadata": {
    "collapsed": false
   },
   "outputs": [],
   "source": [
    "# 9 label이 붙은 index찾아서 지우기\n",
    "f = []\n",
    "l = []\n",
    "\n",
    "for label, i in zip(labels, range(labels.shape[0])):\n",
    "    if label != 9:\n",
    "        f.append(features[i])\n",
    "        l.append(labels[i])\n",
    "        \n",
    "features = np.array(f, 'int16')\n",
    "labels = np.array(l, 'int') "
   ]
  },
  {
   "cell_type": "code",
   "execution_count": 14,
   "metadata": {
    "collapsed": false
   },
   "outputs": [
    {
     "name": "stdout",
     "output_type": "stream",
     "text": [
      "escape time :  0.442 s\n"
     ]
    }
   ],
   "source": [
    "t0 = time()\n",
    "def scale(X, eps = 0.001):\n",
    "    # scale the data points s.t the columns of the feature space\n",
    "    # (i.e the predictors) are within the range [0, 1]\n",
    "    return (X - np.min(X, axis = 0)) / (np.max(X, axis = 0) + eps)\n",
    "\n",
    "features = features.astype(\"float32\")\n",
    "features = scale(features)\n",
    "\n",
    "print \"escape time : \", round(time()-t0, 3), \"s\""
   ]
  },
  {
   "cell_type": "code",
   "execution_count": 15,
   "metadata": {
    "collapsed": true
   },
   "outputs": [],
   "source": [
    "parameters = {'alpha' : [1, 10, 100, 1000]}\n",
    "clf = grid_search.GridSearchCV(BernoulliNB(), parameters, n_jobs=-1, verbose=1)"
   ]
  },
  {
   "cell_type": "code",
   "execution_count": 16,
   "metadata": {
    "collapsed": false
   },
   "outputs": [
    {
     "name": "stdout",
     "output_type": "stream",
     "text": [
      "Fitting 3 folds for each of 4 candidates, totalling 12 fits\n"
     ]
    },
    {
     "name": "stderr",
     "output_type": "stream",
     "text": [
      "[Parallel(n_jobs=-1)]: Done   1 jobs       | elapsed:    2.6s\n",
      "[Parallel(n_jobs=-1)]: Done   6 out of  12 | elapsed:    3.7s remaining:    3.7s\n",
      "[Parallel(n_jobs=-1)]: Done  12 out of  12 | elapsed:    4.9s finished\n"
     ]
    },
    {
     "name": "stdout",
     "output_type": "stream",
     "text": [
      "escape time :  5.734 s\n",
      "best score is 0.857111132261\n",
      "best parameter is {'alpha': 1}\n"
     ]
    }
   ],
   "source": [
    "t0 = time()\n",
    "clf.fit(features, labels)\n",
    "print \"escape time : \", round(time()-t0, 3), \"s\"\n",
    "print \"best score is %s\" % clf.best_score_\n",
    "print \"best parameter is %s\" % clf.best_params_"
   ]
  },
  {
   "cell_type": "code",
   "execution_count": 17,
   "metadata": {
    "collapsed": false
   },
   "outputs": [
    {
     "data": {
      "text/plain": [
       "['./pkl/scale/mnist/digits_BernoulliNB.pkl']"
      ]
     },
     "execution_count": 17,
     "metadata": {},
     "output_type": "execute_result"
    }
   ],
   "source": [
    "joblib.dump(clf.best_estimator_, \"./pkl/scale/mnist/digits_BernoulliNB.pkl\", compress=3)"
   ]
  },
  {
   "cell_type": "code",
   "execution_count": 18,
   "metadata": {
    "collapsed": true
   },
   "outputs": [],
   "source": [
    "parameters = {'min_samples_split' : [2, 10, 15, 20], 'n_estimators' : [10, 20, 30, 40, 50, 60, 70, 80, 90, 100]}\n",
    "clf = grid_search.GridSearchCV(RandomForestClassifier(), parameters, n_jobs=-1, verbose=1)"
   ]
  },
  {
   "cell_type": "code",
   "execution_count": 19,
   "metadata": {
    "collapsed": false
   },
   "outputs": [
    {
     "name": "stdout",
     "output_type": "stream",
     "text": [
      "Fitting 3 folds for each of 40 candidates, totalling 120 fits\n"
     ]
    },
    {
     "name": "stderr",
     "output_type": "stream",
     "text": [
      "[Parallel(n_jobs=-1)]: Done   1 jobs       | elapsed:    5.0s\n",
      "[Parallel(n_jobs=-1)]: Done  50 jobs       | elapsed:  3.5min\n",
      "[Parallel(n_jobs=-1)]: Done 114 out of 120 | elapsed:  8.4min remaining:   26.6s\n",
      "[Parallel(n_jobs=-1)]: Done 120 out of 120 | elapsed:  9.2min finished\n"
     ]
    },
    {
     "name": "stdout",
     "output_type": "stream",
     "text": [
      "escape time :  587.678 s\n",
      "best score is 0.972589702103\n",
      "best parameter is {'min_samples_split': 2, 'n_estimators': 80}\n"
     ]
    }
   ],
   "source": [
    "t0 = time()\n",
    "clf.fit(features, labels)\n",
    "print \"escape time : \", round(time()-t0, 3), \"s\"\n",
    "print \"best score is %s\" % clf.best_score_\n",
    "print \"best parameter is %s\" % clf.best_params_"
   ]
  },
  {
   "cell_type": "code",
   "execution_count": 20,
   "metadata": {
    "collapsed": false
   },
   "outputs": [
    {
     "data": {
      "text/plain": [
       "['./pkl/scale/mnist/digits_RandomForestClassifier.pkl']"
      ]
     },
     "execution_count": 20,
     "metadata": {},
     "output_type": "execute_result"
    }
   ],
   "source": [
    "joblib.dump(clf.best_estimator_, \"./pkl/scale/mnist/digits_RandomForestClassifier.pkl\", compress=3)"
   ]
  },
  {
   "cell_type": "code",
   "execution_count": 21,
   "metadata": {
    "collapsed": true
   },
   "outputs": [],
   "source": [
    "parameters = {'n_neighbors' : [5, 10, 15, 20]}\n",
    "clf = grid_search.GridSearchCV(KNeighborsClassifier(), parameters, n_jobs=-1, verbose=1)"
   ]
  },
  {
   "cell_type": "code",
   "execution_count": 22,
   "metadata": {
    "collapsed": false
   },
   "outputs": [
    {
     "name": "stdout",
     "output_type": "stream",
     "text": [
      "Fitting 3 folds for each of 4 candidates, totalling 12 fits\n"
     ]
    },
    {
     "name": "stderr",
     "output_type": "stream",
     "text": [
      "[Parallel(n_jobs=-1)]: Done   1 jobs       | elapsed: 20.3min\n",
      "[Parallel(n_jobs=-1)]: Done   6 out of  12 | elapsed: 40.6min remaining: 40.6min\n",
      "[Parallel(n_jobs=-1)]: Done  12 out of  12 | elapsed: 61.0min finished\n"
     ]
    },
    {
     "name": "stdout",
     "output_type": "stream",
     "text": [
      "escape time :  3691.731 s\n",
      "best score is 0.973002125567\n",
      "best parameter is {'n_neighbors': 5}\n"
     ]
    }
   ],
   "source": [
    "t0 = time()\n",
    "clf.fit(features, labels)\n",
    "print \"escape time : \", round(time()-t0, 3), \"s\"\n",
    "print \"best score is %s\" % clf.best_score_\n",
    "print \"best parameter is %s\" % clf.best_params_"
   ]
  },
  {
   "cell_type": "code",
   "execution_count": 23,
   "metadata": {
    "collapsed": false
   },
   "outputs": [
    {
     "data": {
      "text/plain": [
       "['./pkl/scale/mnist/digits_KNeighborsClassifier.pkl',\n",
       " './pkl/scale/mnist/digits_KNeighborsClassifier.pkl_01.npy.z',\n",
       " './pkl/scale/mnist/digits_KNeighborsClassifier.pkl_02.npy.z']"
      ]
     },
     "execution_count": 23,
     "metadata": {},
     "output_type": "execute_result"
    }
   ],
   "source": [
    "joblib.dump(clf.best_estimator_, \"./pkl/scale/mnist/digits_KNeighborsClassifier.pkl\", compress=3)"
   ]
  },
  {
   "cell_type": "code",
   "execution_count": 24,
   "metadata": {
    "collapsed": true
   },
   "outputs": [],
   "source": [
    "parameters = {'min_samples_split' : [5, 10, 15, 20, 25, 30, 35, 40, 45, 50]}\n",
    "clf = grid_search.GridSearchCV(DecisionTreeClassifier(), parameters, n_jobs=-1, verbose=1)"
   ]
  },
  {
   "cell_type": "code",
   "execution_count": 25,
   "metadata": {
    "collapsed": false
   },
   "outputs": [
    {
     "name": "stdout",
     "output_type": "stream",
     "text": [
      "Fitting 3 folds for each of 10 candidates, totalling 30 fits\n"
     ]
    },
    {
     "name": "stderr",
     "output_type": "stream",
     "text": [
      "[Parallel(n_jobs=-1)]: Done   1 jobs       | elapsed:   15.3s\n",
      "[Parallel(n_jobs=-1)]: Done  24 out of  30 | elapsed:  1.5min remaining:   21.8s\n",
      "[Parallel(n_jobs=-1)]: Done  30 out of  30 | elapsed:  1.9min finished\n"
     ]
    },
    {
     "name": "stdout",
     "output_type": "stream",
     "text": [
      "escape time :  134.192 s\n",
      "best score is 0.88022270867\n",
      "best parameter is {'min_samples_split': 5}\n"
     ]
    }
   ],
   "source": [
    "t0 = time()\n",
    "clf.fit(features, labels)\n",
    "print \"escape time : \", round(time()-t0, 3), \"s\"\n",
    "print \"best score is %s\" % clf.best_score_\n",
    "print \"best parameter is %s\" % clf.best_params_"
   ]
  },
  {
   "cell_type": "code",
   "execution_count": 26,
   "metadata": {
    "collapsed": false
   },
   "outputs": [
    {
     "data": {
      "text/plain": [
       "['./pkl/scale/mnist/digits_DecisionTreeClassifier.pkl']"
      ]
     },
     "execution_count": 26,
     "metadata": {},
     "output_type": "execute_result"
    }
   ],
   "source": [
    "joblib.dump(clf.best_estimator_, \"./pkl/scale/mnist/digits_DecisionTreeClassifier.pkl\", compress=3)"
   ]
  },
  {
   "cell_type": "code",
   "execution_count": 27,
   "metadata": {
    "collapsed": true
   },
   "outputs": [],
   "source": [
    "parameters = {'C':10. ** np.arange(1,5), 'gamma':2. ** np.arange(-5,-1)}\n",
    "clf = grid_search.GridSearchCV(SVC(cache_size=1000, kernel=\"rbf\"), parameters, n_jobs=-1, verbose=1)"
   ]
  },
  {
   "cell_type": "code",
   "execution_count": null,
   "metadata": {
    "collapsed": false
   },
   "outputs": [
    {
     "name": "stdout",
     "output_type": "stream",
     "text": [
      "Fitting 3 folds for each of 16 candidates, totalling 48 fits\n"
     ]
    }
   ],
   "source": [
    "t0 = time()\n",
    "clf.fit(features, labels)\n",
    "print \"escape time : \", round(time()-t0, 3), \"s\"\n",
    "print \"best score is %s\" % clf.best_score_\n",
    "print \"best parameter is %s\" % clf.best_params_"
   ]
  },
  {
   "cell_type": "code",
   "execution_count": 19,
   "metadata": {
    "collapsed": false
   },
   "outputs": [
    {
     "data": {
      "text/plain": [
       "['./pkl/hog/skt/digits_SVC.pkl']"
      ]
     },
     "execution_count": 19,
     "metadata": {},
     "output_type": "execute_result"
    }
   ],
   "source": [
    "joblib.dump(clf.best_estimator_, \"./pkl/scale/mnist/digits_SVC.pkl\", compress=3)"
   ]
  },
  {
   "cell_type": "code",
   "execution_count": 26,
   "metadata": {
    "collapsed": false
   },
   "outputs": [],
   "source": [
    "parameters = {'C':10. ** np.arange(1,5)}\n",
    "clf = grid_search.GridSearchCV(LinearSVC(), parameters, n_jobs=-1, verbose=1)"
   ]
  },
  {
   "cell_type": "code",
   "execution_count": 27,
   "metadata": {
    "collapsed": false
   },
   "outputs": [
    {
     "name": "stdout",
     "output_type": "stream",
     "text": [
      "Fitting 3 folds for each of 4 candidates, totalling 12 fits\n"
     ]
    },
    {
     "name": "stderr",
     "output_type": "stream",
     "text": [
      "[Parallel(n_jobs=-1)]: Done   1 jobs       | elapsed:    1.7s\n",
      "[Parallel(n_jobs=-1)]: Done   6 out of  12 | elapsed:    4.5s remaining:    4.5s\n",
      "[Parallel(n_jobs=-1)]: Done  12 out of  12 | elapsed:    9.1s finished\n"
     ]
    },
    {
     "name": "stdout",
     "output_type": "stream",
     "text": [
      "escape time :  11.406 s\n",
      "best score is 0.9174\n",
      "best parameter is {'C': 100.0}\n"
     ]
    }
   ],
   "source": [
    "t0 = time()\n",
    "clf.fit(features, labels)\n",
    "print \"escape time : \", round(time()-t0, 3), \"s\"\n",
    "print \"best score is %s\" % clf.best_score_\n",
    "print \"best parameter is %s\" % clf.best_params_"
   ]
  },
  {
   "cell_type": "code",
   "execution_count": 28,
   "metadata": {
    "collapsed": false
   },
   "outputs": [
    {
     "data": {
      "text/plain": [
       "['./pkl/hog/skt/digits_LinearSVC.pkl']"
      ]
     },
     "execution_count": 28,
     "metadata": {},
     "output_type": "execute_result"
    }
   ],
   "source": [
    "joblib.dump(clf.best_estimator_, \"./pkl/scale/mnist/digits_LinearSVC.pkl\", compress=3)"
   ]
  },
  {
   "cell_type": "code",
   "execution_count": 20,
   "metadata": {
    "collapsed": false
   },
   "outputs": [
    {
     "name": "stdout",
     "output_type": "stream",
     "text": [
      "SEARCHING LOGISTIC REGRESSION\n",
      "Fitting 3 folds for each of 3 candidates, totalling 9 fits\n"
     ]
    },
    {
     "name": "stderr",
     "output_type": "stream",
     "text": [
      "[Parallel(n_jobs=-1)]: Done   1 jobs       | elapsed:    0.5s\n",
      "[Parallel(n_jobs=-1)]: Done   3 out of   9 | elapsed:    0.5s remaining:    0.9s\n",
      "[Parallel(n_jobs=-1)]: Done   9 out of   9 | elapsed:    1.5s finished\n"
     ]
    },
    {
     "name": "stdout",
     "output_type": "stream",
     "text": [
      "done in 2.104s\n",
      "best score: 0.920\n",
      "LOGISTIC REGRESSION PARAMETERS\n",
      "\t C: 100.000000\n"
     ]
    }
   ],
   "source": [
    "print \"SEARCHING LOGISTIC REGRESSION\"\n",
    "params = {\"C\": [1.0, 10.0, 100.0]}\n",
    "start = time()\n",
    "gs = GridSearchCV(LogisticRegression(), params, n_jobs =-1, verbose =1)\n",
    "gs.fit(features, labels)\n",
    "\n",
    "# print diagnostic information to the user and grab the best model\n",
    "print \"done in %0.3fs\" % (time() - start)\n",
    "print \"best score: %0.3f\" % (gs.best_score_)\n",
    "print \"LOGISTIC REGRESSION PARAMETERS\"\n",
    "bestParams = gs.best_estimator_.get_params()\n",
    "\n",
    "# loop over the parameters and print each of them out so they can be manually set\n",
    "for p in sorted(params.keys()):\n",
    "    print \"\\t %s: %f\" % (p, bestParams[p])"
   ]
  },
  {
   "cell_type": "code",
   "execution_count": 29,
   "metadata": {
    "collapsed": false
   },
   "outputs": [
    {
     "data": {
      "text/plain": [
       "['./pkl/hog/skt/digits_LogisticRegression.pkl']"
      ]
     },
     "execution_count": 29,
     "metadata": {},
     "output_type": "execute_result"
    }
   ],
   "source": [
    "# clf = LogisticRegression(C = 100.0)\n",
    "# clf.fit(hog_features, labels)\n",
    "# joblib.dump(clf, \"./pkl/scale/mnist/digits_LogisticRegression.pkl\", compress=3)"
   ]
  },
  {
   "cell_type": "code",
   "execution_count": 21,
   "metadata": {
    "collapsed": false
   },
   "outputs": [
    {
     "name": "stdout",
     "output_type": "stream",
     "text": [
      "SEARCHING RBM + LOGISTIC REGRESSION\n",
      "Fitting 3 folds for each of 81 candidates, totalling 243 fits\n"
     ]
    },
    {
     "name": "stderr",
     "output_type": "stream",
     "text": [
      "[Parallel(n_jobs=-1)]: Done   1 jobs       | elapsed:    2.8s\n",
      "[Parallel(n_jobs=-1)]: Done  50 jobs       | elapsed:  2.1min\n",
      "[Parallel(n_jobs=-1)]: Done 200 jobs       | elapsed:  9.5min\n",
      "[Parallel(n_jobs=-1)]: Done 237 out of 243 | elapsed: 11.6min remaining:   17.6s\n",
      "[Parallel(n_jobs=-1)]: Done 243 out of 243 | elapsed: 12.4min finished\n"
     ]
    },
    {
     "name": "stdout",
     "output_type": "stream",
     "text": [
      "\n",
      "done in 749.621s\n",
      "best score: 0.840\n",
      "RBM + LOGISTIC REGRESSION PARAMETERS\n",
      "\t logistic__C: 100.000000\n",
      "\t rbm__learning_rate: 0.001000\n",
      "\t rbm__n_components: 200.000000\n",
      "\t rbm__n_iter: 20.000000\n"
     ]
    }
   ],
   "source": [
    "# initialize the RBM + Logistic Regression pipeline\n",
    "rbm = BernoulliRBM()\n",
    "logistic = LogisticRegression()\n",
    "classifier = Pipeline([(\"rbm\", rbm), (\"logistic\", logistic)])\n",
    "\n",
    "# perform a grid search on the learning rate, number of iterations, and number of components on the RBM and\n",
    "# C for Logistic Regression\n",
    "print \"SEARCHING RBM + LOGISTIC REGRESSION\"\n",
    "params = {\n",
    "    \"rbm__learning_rate\": [0.1, 0.01, 0.001],\n",
    "    \"rbm__n_iter\": [20, 40, 80],\n",
    "    \"rbm__n_components\": [50, 100, 200],\n",
    "    \"logistic__C\": [1.0, 10.0, 100.0]}\n",
    "\n",
    "# perform a grid search over the parameter\n",
    "start = time()\n",
    "gs = GridSearchCV(classifier, params, n_jobs =-1, verbose =1)\n",
    "gs.fit(features, labels)\n",
    "\n",
    "# print diagnostic information to the user and grab the best model\n",
    "print \"\\ndone in %0.3fs\" % (time() - start)\n",
    "print \"best score: %0.3f\" % (gs.best_score_)\n",
    "print \"RBM + LOGISTIC REGRESSION PARAMETERS\"\n",
    "bestParams = gs.best_estimator_.get_params()\n",
    "\n",
    "# loop over the parameters and print each of them out so they can be manually set\n",
    "for p in sorted(params.keys()):\n",
    "    print \"\\t %s: %f\" % (p, bestParams[p])"
   ]
  },
  {
   "cell_type": "code",
   "execution_count": 30,
   "metadata": {
    "collapsed": false
   },
   "outputs": [
    {
     "name": "stdout",
     "output_type": "stream",
     "text": [
      "[BernoulliRBM] Iteration 1, pseudo-likelihood = -7.81, time = 0.32s\n",
      "[BernoulliRBM] Iteration 2, pseudo-likelihood = -7.36, time = 0.34s\n",
      "[BernoulliRBM] Iteration 3, pseudo-likelihood = -6.94, time = 0.34s\n",
      "[BernoulliRBM] Iteration 4, pseudo-likelihood = -7.01, time = 0.34s\n",
      "[BernoulliRBM] Iteration 5, pseudo-likelihood = -6.89, time = 0.34s\n",
      "[BernoulliRBM] Iteration 6, pseudo-likelihood = -6.86, time = 0.34s\n",
      "[BernoulliRBM] Iteration 7, pseudo-likelihood = -6.95, time = 0.35s\n",
      "[BernoulliRBM] Iteration 8, pseudo-likelihood = -6.64, time = 0.35s\n",
      "[BernoulliRBM] Iteration 9, pseudo-likelihood = -6.96, time = 0.34s\n",
      "[BernoulliRBM] Iteration 10, pseudo-likelihood = -6.94, time = 0.35s\n",
      "[BernoulliRBM] Iteration 11, pseudo-likelihood = -6.85, time = 0.34s\n",
      "[BernoulliRBM] Iteration 12, pseudo-likelihood = -6.62, time = 0.34s\n",
      "[BernoulliRBM] Iteration 13, pseudo-likelihood = -6.83, time = 0.34s\n",
      "[BernoulliRBM] Iteration 14, pseudo-likelihood = -6.97, time = 0.34s\n",
      "[BernoulliRBM] Iteration 15, pseudo-likelihood = -6.95, time = 0.34s\n",
      "[BernoulliRBM] Iteration 16, pseudo-likelihood = -6.87, time = 0.34s\n",
      "[BernoulliRBM] Iteration 17, pseudo-likelihood = -6.83, time = 0.34s\n",
      "[BernoulliRBM] Iteration 18, pseudo-likelihood = -6.95, time = 0.34s\n",
      "[BernoulliRBM] Iteration 19, pseudo-likelihood = -6.96, time = 0.35s\n",
      "[BernoulliRBM] Iteration 20, pseudo-likelihood = -6.86, time = 0.34s\n"
     ]
    },
    {
     "data": {
      "text/plain": [
       "['./pkl/hog/skt/digits_LogisticRegression_BernoulliRBM.pkl']"
      ]
     },
     "execution_count": 30,
     "metadata": {},
     "output_type": "execute_result"
    }
   ],
   "source": [
    "# rbm = BernoulliRBM(n_components = 200, n_iter = 20, learning_rate = 0.001,  verbose = True)\n",
    "# logistic = LogisticRegression(C = 100.0)\n",
    "# classifier = Pipeline([(\"rbm\", rbm), (\"logistic\", logistic)])\n",
    "# classifier.fit(hog_features, labels)\n",
    "# joblib.dump(classifier, \"./pkl/scale/mnist/digits_LogisticRegression_BernoulliRBM.pkl\", compress=3)"
   ]
  }
 ],
 "metadata": {
  "kernelspec": {
   "display_name": "Python 2",
   "language": "python",
   "name": "python2"
  },
  "language_info": {
   "codemirror_mode": {
    "name": "ipython",
    "version": 2
   },
   "file_extension": ".py",
   "mimetype": "text/x-python",
   "name": "python",
   "nbconvert_exporter": "python",
   "pygments_lexer": "ipython2",
   "version": "2.7.9"
  }
 },
 "nbformat": 4,
 "nbformat_minor": 0
}
