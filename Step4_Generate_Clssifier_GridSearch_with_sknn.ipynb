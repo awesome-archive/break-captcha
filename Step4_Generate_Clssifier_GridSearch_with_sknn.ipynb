{
 "cells": [
  {
   "cell_type": "code",
   "execution_count": 1,
   "metadata": {
    "collapsed": true
   },
   "outputs": [],
   "source": [
    "from sklearn.cross_validation import train_test_split\n",
    "from sklearn.metrics import classification_report\n",
    "from sklearn.externals import joblib\n",
    "from sklearn.metrics import accuracy_score\n",
    "from sklearn.metrics import confusion_matrix\n",
    "from sklearn import datasets\n",
    "from sknn.mlp import Classifier, Layer\n",
    "from skimage import io\n",
    "from skimage import data, segmentation, filters, color, img_as_float, img_as_ubyte, exposure, feature, measure, morphology\n",
    "from skimage.color import rgb2gray\n",
    "from skimage.morphology import square\n",
    "from skimage.feature import hog\n",
    "import cv2\n",
    "import numpy as np\n",
    "from time import time\n",
    "from glob import glob\n",
    "import os"
   ]
  },
  {
   "cell_type": "code",
   "execution_count": 2,
   "metadata": {
    "collapsed": true
   },
   "outputs": [],
   "source": [
    "np.set_printoptions(precision=4)\n",
    "np.set_printoptions(suppress=True)"
   ]
  },
  {
   "cell_type": "code",
   "execution_count": 3,
   "metadata": {
    "collapsed": true
   },
   "outputs": [],
   "source": [
    "### Plan2 ###"
   ]
  },
  {
   "cell_type": "code",
   "execution_count": 4,
   "metadata": {
    "collapsed": false
   },
   "outputs": [
    {
     "name": "stdout",
     "output_type": "stream",
     "text": [
      "escape time :  0.076 s\n",
      "the shape of training set 5400 rows, 784 columns\n",
      "the shape of test set 600 rows, 784 columns\n",
      "the range of training set : 0.0 ~ 0.999996\n",
      "the range of test set : 0.0 ~ 0.999996\n"
     ]
    }
   ],
   "source": [
    "features = joblib.load(\"./mldata/features_1200.mat\")\n",
    "labels = joblib.load(\"./mldata/lables_1200.mat\")\n",
    "\n",
    "features = np.array(features, 'int16')\n",
    "labels = np.array(labels, 'int')\n",
    "\n",
    "t0 = time()\n",
    "def scale(X, eps = 0.001):\n",
    "    # scale the data points s.t the columns of the feature space\n",
    "    # (i.e the predictors) are within the range [0, 1]\n",
    "    return (X - np.min(X, axis = 0)) / (np.max(X, axis = 0) + eps)\n",
    "\n",
    "features = features.astype(\"float32\")\n",
    "features = scale(features)\n",
    "\n",
    "print \"escape time : \", round(time()-t0, 3), \"s\"\n",
    "\n",
    "# scale the data to the range [0, 1] and then construct the training\n",
    "# and testing splits\n",
    "(trainX, testX, trainY, testY) = train_test_split(features, labels, test_size = 0.1)\n",
    "print \"the shape of training set %s rows, %s columns\" %(trainX.shape[0], trainX.shape[1])\n",
    "print \"the shape of test set %s rows, %s columns\" %(testX.shape[0], testX.shape[1])\n",
    "print \"the range of training set : %s ~ %s\" %(trainX.min(),trainX.max())\n",
    "print \"the range of test set : %s ~ %s\" %(testX.min(),testX.max())"
   ]
  },
  {
   "cell_type": "code",
   "execution_count": 5,
   "metadata": {
    "collapsed": true
   },
   "outputs": [],
   "source": [
    "clf = Classifier(\n",
    "        layers=[Layer(\"Rectifier\", units=300), Layer(\"Softmax\")],\n",
    "        learning_rate=0.02,\n",
    "        learning_rule='momentum',\n",
    "        learning_momentum=0.9,\n",
    "        batch_size=25,\n",
    "        valid_size=0.0,\n",
    "        n_stable=10,\n",
    "        n_iter=10,\n",
    "        verbose=1,\n",
    ")"
   ]
  },
  {
   "cell_type": "code",
   "execution_count": 6,
   "metadata": {
    "collapsed": false
   },
   "outputs": [
    {
     "name": "stdout",
     "output_type": "stream",
     "text": [
      "escape time :  7.501 s\n",
      "accuracy score : 0.94\n",
      "classification report : \n",
      "             precision    recall  f1-score   support\n",
      "\n",
      "          0       0.98      0.95      0.96        58\n",
      "          1       0.95      0.97      0.96        93\n",
      "          2       0.94      0.92      0.93        53\n",
      "          3       0.97      0.91      0.94        67\n",
      "          4       0.96      0.94      0.95        81\n",
      "          5       0.91      0.92      0.91        64\n",
      "          6       0.70      0.88      0.78        34\n",
      "          7       0.99      0.95      0.97        84\n",
      "          8       0.97      0.97      0.97        66\n",
      "\n",
      "avg / total       0.94      0.94      0.94       600\n",
      "\n",
      "confusion matrix : \n",
      "[[55  0  0  0  0  1  2  0  0]\n",
      " [ 0 90  0  0  1  1  0  0  1]\n",
      " [ 0  0 49  1  0  0  3  0  0]\n",
      " [ 0  1  1 61  0  3  0  0  1]\n",
      " [ 0  2  0  0 76  0  3  0  0]\n",
      " [ 1  0  0  1  1 59  1  1  0]\n",
      " [ 0  2  2  0  0  0 30  0  0]\n",
      " [ 0  0  0  0  1  1  2 80  0]\n",
      " [ 0  0  0  0  0  0  2  0 64]]\n"
     ]
    }
   ],
   "source": [
    "t0 = time()\n",
    "\n",
    "clf.fit(trainX, trainY)\n",
    "print \"escape time : \", round(time()-t0, 3), \"s\"\n",
    "\n",
    "y_pred = clf.predict(testX)\n",
    "\n",
    "print \"accuracy score : %s\" %(accuracy_score(testY, y_pred))\n",
    "print \"classification report : \"\n",
    "print classification_report(testY, y_pred)\n",
    "print \"confusion matrix : \"\n",
    "print confusion_matrix(testY, y_pred)"
   ]
  }
 ],
 "metadata": {
  "kernelspec": {
   "display_name": "Python 2",
   "language": "python",
   "name": "python2"
  },
  "language_info": {
   "codemirror_mode": {
    "name": "ipython",
    "version": 2
   },
   "file_extension": ".py",
   "mimetype": "text/x-python",
   "name": "python",
   "nbconvert_exporter": "python",
   "pygments_lexer": "ipython2",
   "version": "2.7.9"
  }
 },
 "nbformat": 4,
 "nbformat_minor": 0
}
