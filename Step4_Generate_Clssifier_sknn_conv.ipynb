{
 "cells": [
  {
   "cell_type": "code",
   "execution_count": 7,
   "metadata": {
    "collapsed": true
   },
   "outputs": [],
   "source": [
    "from sklearn.cross_validation import train_test_split\n",
    "from sklearn.metrics import classification_report\n",
    "from sklearn.externals import joblib\n",
    "from sklearn.metrics import accuracy_score\n",
    "from sklearn.metrics import confusion_matrix\n",
    "from sknn.mlp import Classifier, Layer\n",
    "from sknn.mlp import Classifier, Convolution, FastVectorSpace, Layer, MultiLayerPerceptron\n",
    "import numpy as np\n",
    "from time import time\n",
    "from glob import glob\n",
    "import os"
   ]
  },
  {
   "cell_type": "code",
   "execution_count": 3,
   "metadata": {
    "collapsed": true
   },
   "outputs": [],
   "source": [
    "np.set_printoptions(precision=4)\n",
    "np.set_printoptions(suppress=True)"
   ]
  },
  {
   "cell_type": "code",
   "execution_count": 4,
   "metadata": {
    "collapsed": true
   },
   "outputs": [],
   "source": [
    "### Plan2 ###"
   ]
  },
  {
   "cell_type": "code",
   "execution_count": 17,
   "metadata": {
    "collapsed": false
   },
   "outputs": [
    {
     "name": "stdout",
     "output_type": "stream",
     "text": [
      "escape time :  0.053 s\n",
      "the shape of training set 5400 rows, 784 columns\n",
      "the shape of test set 600 rows, 784 columns\n",
      "the range of training set : 0.0 ~ 0.999996\n",
      "the range of test set : 0.0 ~ 0.999996\n"
     ]
    }
   ],
   "source": [
    "features = joblib.load(\"./mldata/features_1200.mat\")\n",
    "labels = joblib.load(\"./mldata/lables_1200.mat\")\n",
    "\n",
    "features = np.array(features, 'int16')\n",
    "labels = np.array(labels, 'int')\n",
    "\n",
    "t0 = time()\n",
    "def scale(X, eps = 0.001):\n",
    "    # scale the data points s.t the columns of the feature space\n",
    "    # (i.e the predictors) are within the range [0, 1]\n",
    "    return (X - np.min(X, axis = 0)) / (np.max(X, axis = 0) + eps)\n",
    "\n",
    "features = features.astype(\"float32\")\n",
    "features = scale(features)\n",
    "\n",
    "print \"escape time : \", round(time()-t0, 3), \"s\"\n",
    "\n",
    "# scale the data to the range [0, 1] and then construct the training\n",
    "# and testing splits\n",
    "(trainX, testX, trainY, testY) = train_test_split(features, labels, test_size = 0.1)\n",
    "print \"the shape of training set %s rows, %s columns\" %(trainX.shape[0], trainX.shape[1])\n",
    "print \"the shape of test set %s rows, %s columns\" %(testX.shape[0], testX.shape[1])\n",
    "print \"the range of training set : %s ~ %s\" %(trainX.min(),trainX.max())\n",
    "print \"the range of test set : %s ~ %s\" %(testX.min(),testX.max())\n",
    "\n",
    "# reshape for convolutions\n",
    "trainX = trainX.reshape((trainX.shape[0], 1, 28, 28))\n",
    "testX = testX.reshape((testX.shape[0], 1, 28, 28))"
   ]
  },
  {
   "cell_type": "code",
   "execution_count": 37,
   "metadata": {
    "collapsed": false
   },
   "outputs": [
    {
     "name": "stdout",
     "output_type": "stream",
     "text": [
      "accuracy score : 0.151666666667\n",
      "classification report : \n",
      "             precision    recall  f1-score   support\n",
      "\n",
      "          0       0.00      0.00      0.00        73\n",
      "          1       0.15      1.00      0.26        91\n",
      "          2       0.00      0.00      0.00        71\n",
      "          3       0.00      0.00      0.00        64\n",
      "          4       0.00      0.00      0.00        81\n",
      "          5       0.00      0.00      0.00        56\n",
      "          6       0.00      0.00      0.00        27\n",
      "          7       0.00      0.00      0.00        77\n",
      "          8       0.00      0.00      0.00        60\n",
      "\n",
      "avg / total       0.02      0.15      0.04       600\n",
      "\n"
     ]
    }
   ],
   "source": [
    "# Convolution \n",
    "nn = Classifier(\n",
    "    layers=[\n",
    "        Convolution(\"Rectifier\", channels=9, kernel_shape=(3,3), border_mode='full'),\n",
    "        Convolution(\"Rectifier\", channels=9, kernel_shape=(3,3), border_mode='full'),\n",
    "        Convolution(\"Rectifier\", channels=9, kernel_shape=(3,3), border_mode='full'),\n",
    "        Convolution(\"Rectifier\", channels=9, kernel_shape=(3,3), border_mode='full'),\n",
    "        Convolution(\"Rectifier\", channels=9, kernel_shape=(3,3), border_mode='full'),\n",
    "        Convolution(\"Rectifier\", channels=9, kernel_shape=(3,3), border_mode='full'),\n",
    "        Convolution(\"Rectifier\", channels=9, kernel_shape=(3,3), border_mode='full'),\n",
    "        Convolution(\"Rectifier\", channels=9, kernel_shape=(3,3), border_mode='full'),\n",
    "        Convolution(\"Rectifier\", channels=9, kernel_shape=(3,3), border_mode='full'),\n",
    "        Layer(\"Softmax\")],\n",
    "    learning_rate=0.01,\n",
    "    n_iter=10,\n",
    "    verbose=True)\n",
    "nn.fit(trainX, trainY)\n",
    "\n",
    "# compute the predictions for the test data and show a classification report\n",
    "preds = nn.predict(testX)\n",
    "\n",
    "print \"accuracy score : %s\" %(accuracy_score(testY, preds))\n",
    "print \"classification report : \"\n",
    "print classification_report(testY, preds)"
   ]
  }
 ],
 "metadata": {
  "kernelspec": {
   "display_name": "Python 2",
   "language": "python",
   "name": "python2"
  },
  "language_info": {
   "codemirror_mode": {
    "name": "ipython",
    "version": 2
   },
   "file_extension": ".py",
   "mimetype": "text/x-python",
   "name": "python",
   "nbconvert_exporter": "python",
   "pygments_lexer": "ipython2",
   "version": "2.7.9"
  }
 },
 "nbformat": 4,
 "nbformat_minor": 0
}
