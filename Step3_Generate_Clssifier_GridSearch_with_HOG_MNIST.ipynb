{
 "cells": [
  {
   "cell_type": "code",
   "execution_count": 1,
   "metadata": {
    "collapsed": true
   },
   "outputs": [],
   "source": [
    "import numpy as np\n",
    "from skimage.feature import hog\n",
    "from sklearn import grid_search\n",
    "from sklearn.grid_search import GridSearchCV\n",
    "from sklearn.pipeline import Pipeline\n",
    "from sklearn.linear_model import LogisticRegression\n",
    "from sklearn.neural_network import BernoulliRBM\n",
    "from sklearn.svm import SVC\n",
    "from sklearn.naive_bayes import BernoulliNB\n",
    "from sklearn.ensemble import RandomForestClassifier\n",
    "from sklearn.neighbors import KNeighborsClassifier\n",
    "from sklearn.tree import DecisionTreeClassifier\n",
    "from sklearn.svm import LinearSVC\n",
    "from sklearn.externals import joblib\n",
    "from sklearn import datasets\n",
    "from time import time"
   ]
  },
  {
   "cell_type": "code",
   "execution_count": 2,
   "metadata": {
    "collapsed": true
   },
   "outputs": [],
   "source": [
    "dataset = datasets.fetch_mldata(\"MNIST Original\", data_home=\".\")"
   ]
  },
  {
   "cell_type": "code",
   "execution_count": 3,
   "metadata": {
    "collapsed": false
   },
   "outputs": [],
   "source": [
    "features = np.array(dataset.data, 'int16')\n",
    "labels = np.array(dataset.target, 'int')"
   ]
  },
  {
   "cell_type": "code",
   "execution_count": 4,
   "metadata": {
    "collapsed": false,
    "scrolled": false
   },
   "outputs": [],
   "source": [
    "# 9 label이 붙은 index찾아서 지우기\n",
    "f = []\n",
    "l = []\n",
    "\n",
    "for label, i in zip(labels, range(labels.shape[0])):\n",
    "    if label != 9:\n",
    "        f.append(features[i])\n",
    "        l.append(labels[i])\n",
    "        \n",
    "features = np.array(f, 'int16')\n",
    "labels = np.array(l, 'int')    "
   ]
  },
  {
   "cell_type": "code",
   "execution_count": 5,
   "metadata": {
    "collapsed": false
   },
   "outputs": [
    {
     "name": "stdout",
     "output_type": "stream",
     "text": [
      "escape time :  35.056 s\n"
     ]
    }
   ],
   "source": [
    "t0 = time()\n",
    "list_hog_fd = []\n",
    "for feature in features:\n",
    "    fd = hog(feature.reshape((28, 28)), orientations=9, pixels_per_cell=(14, 14), cells_per_block=(1, 1), visualise=False)\n",
    "    list_hog_fd.append(fd)\n",
    "hog_features = np.array(list_hog_fd, 'float64')\n",
    "print \"escape time : \", round(time()-t0, 3), \"s\""
   ]
  },
  {
   "cell_type": "code",
   "execution_count": 10,
   "metadata": {
    "collapsed": true
   },
   "outputs": [],
   "source": [
    "parameters = {'alpha' : [1, 10, 100, 1000]}\n",
    "clf = grid_search.GridSearchCV(BernoulliNB(), parameters, n_jobs=-1, verbose=1)"
   ]
  },
  {
   "cell_type": "code",
   "execution_count": 11,
   "metadata": {
    "collapsed": false
   },
   "outputs": [
    {
     "name": "stdout",
     "output_type": "stream",
     "text": [
      "Fitting 3 folds for each of 4 candidates, totalling 12 fits\n"
     ]
    },
    {
     "name": "stderr",
     "output_type": "stream",
     "text": [
      "[Parallel(n_jobs=-1)]: Done   1 jobs       | elapsed:    0.2s\n",
      "[Parallel(n_jobs=-1)]: Done   6 out of  12 | elapsed:    0.5s remaining:    0.5s\n",
      "[Parallel(n_jobs=-1)]: Done  12 out of  12 | elapsed:    0.8s finished\n"
     ]
    },
    {
     "name": "stdout",
     "output_type": "stream",
     "text": [
      "escape time :  0.947 s\n",
      "best score is 0.631626534691\n",
      "best parameter is {'alpha': 1}\n"
     ]
    }
   ],
   "source": [
    "t0 = time()\n",
    "clf.fit(hog_features, labels)\n",
    "print \"escape time : \", round(time()-t0, 3), \"s\"\n",
    "print \"best score is %s\" % clf.best_score_\n",
    "print \"best parameter is %s\" % clf.best_params_"
   ]
  },
  {
   "cell_type": "code",
   "execution_count": 12,
   "metadata": {
    "collapsed": false
   },
   "outputs": [
    {
     "data": {
      "text/plain": [
       "['./pkl/hog/mnist/digits_BernoulliNB.pkl']"
      ]
     },
     "execution_count": 12,
     "metadata": {},
     "output_type": "execute_result"
    }
   ],
   "source": [
    "joblib.dump(clf.best_estimator_, \"./pkl/hog/mnist/digits_BernoulliNB.pkl\", compress=3)"
   ]
  },
  {
   "cell_type": "code",
   "execution_count": 13,
   "metadata": {
    "collapsed": true
   },
   "outputs": [],
   "source": [
    "parameters = {'min_samples_split' : [2, 10, 15, 20], 'n_estimators' : [10, 20, 30, 40, 50, 60, 70, 80, 90, 100]}\n",
    "clf = grid_search.GridSearchCV(RandomForestClassifier(), parameters, n_jobs=-1, verbose=1)"
   ]
  },
  {
   "cell_type": "code",
   "execution_count": 14,
   "metadata": {
    "collapsed": false
   },
   "outputs": [
    {
     "name": "stdout",
     "output_type": "stream",
     "text": [
      "Fitting 3 folds for each of 40 candidates, totalling 120 fits\n"
     ]
    },
    {
     "name": "stderr",
     "output_type": "stream",
     "text": [
      "[Parallel(n_jobs=-1)]: Done   1 jobs       | elapsed:    2.8s\n",
      "[Parallel(n_jobs=-1)]: Done  50 jobs       | elapsed:  2.7min\n",
      "[Parallel(n_jobs=-1)]: Done 114 out of 120 | elapsed:  6.6min remaining:   20.8s\n",
      "[Parallel(n_jobs=-1)]: Done 120 out of 120 | elapsed:  7.3min finished\n"
     ]
    },
    {
     "name": "stdout",
     "output_type": "stream",
     "text": [
      "escape time :  477.129 s\n",
      "best score is 0.935630214777\n",
      "best parameter is {'min_samples_split': 2, 'n_estimators': 100}\n"
     ]
    }
   ],
   "source": [
    "t0 = time()\n",
    "clf.fit(hog_features, labels)\n",
    "print \"escape time : \", round(time()-t0, 3), \"s\"\n",
    "print \"best score is %s\" % clf.best_score_\n",
    "print \"best parameter is %s\" % clf.best_params_"
   ]
  },
  {
   "cell_type": "code",
   "execution_count": 15,
   "metadata": {
    "collapsed": false
   },
   "outputs": [
    {
     "data": {
      "text/plain": [
       "['./pkl/hog/mnist/digits_RandomForestClassifier.pkl']"
      ]
     },
     "execution_count": 15,
     "metadata": {},
     "output_type": "execute_result"
    }
   ],
   "source": [
    "joblib.dump(clf.best_estimator_, \"./pkl/hog/mnist/digits_RandomForestClassifier.pkl\", compress=3)"
   ]
  },
  {
   "cell_type": "code",
   "execution_count": 16,
   "metadata": {
    "collapsed": true
   },
   "outputs": [],
   "source": [
    "parameters = {'n_neighbors' : [5, 10, 15, 20]}\n",
    "clf = grid_search.GridSearchCV(KNeighborsClassifier(), parameters, n_jobs=-1, verbose=1)"
   ]
  },
  {
   "cell_type": "code",
   "execution_count": 17,
   "metadata": {
    "collapsed": false
   },
   "outputs": [
    {
     "name": "stdout",
     "output_type": "stream",
     "text": [
      "Fitting 3 folds for each of 4 candidates, totalling 12 fits\n"
     ]
    },
    {
     "name": "stderr",
     "output_type": "stream",
     "text": [
      "[Parallel(n_jobs=-1)]: Done   1 jobs       | elapsed:   52.7s\n",
      "[Parallel(n_jobs=-1)]: Done   6 out of  12 | elapsed:  1.8min remaining:  1.8min\n",
      "[Parallel(n_jobs=-1)]: Done  12 out of  12 | elapsed:  3.0min finished\n"
     ]
    },
    {
     "name": "stdout",
     "output_type": "stream",
     "text": [
      "escape time :  179.296 s\n",
      "best score is 0.931617017227\n",
      "best parameter is {'n_neighbors': 10}\n"
     ]
    }
   ],
   "source": [
    "t0 = time()\n",
    "clf.fit(hog_features, labels)\n",
    "print \"escape time : \", round(time()-t0, 3), \"s\"\n",
    "print \"best score is %s\" % clf.best_score_\n",
    "print \"best parameter is %s\" % clf.best_params_"
   ]
  },
  {
   "cell_type": "code",
   "execution_count": 18,
   "metadata": {
    "collapsed": false
   },
   "outputs": [
    {
     "data": {
      "text/plain": [
       "['./pkl/hog/mnist/digits_KNeighborsClassifier.pkl']"
      ]
     },
     "execution_count": 18,
     "metadata": {},
     "output_type": "execute_result"
    }
   ],
   "source": [
    "joblib.dump(clf.best_estimator_, \"./pkl/hog/mnist/digits_KNeighborsClassifier.pkl\", compress=3)"
   ]
  },
  {
   "cell_type": "code",
   "execution_count": 19,
   "metadata": {
    "collapsed": true
   },
   "outputs": [],
   "source": [
    "parameters = {'min_samples_split' : [5, 10, 15, 20, 25, 30, 35, 40, 45, 50]}\n",
    "clf = grid_search.GridSearchCV(DecisionTreeClassifier(), parameters, n_jobs=-1, verbose=1)"
   ]
  },
  {
   "cell_type": "code",
   "execution_count": 20,
   "metadata": {
    "collapsed": false
   },
   "outputs": [
    {
     "name": "stdout",
     "output_type": "stream",
     "text": [
      "Fitting 3 folds for each of 10 candidates, totalling 30 fits\n"
     ]
    },
    {
     "name": "stderr",
     "output_type": "stream",
     "text": [
      "[Parallel(n_jobs=-1)]: Done   1 jobs       | elapsed:    3.1s\n",
      "[Parallel(n_jobs=-1)]: Done  24 out of  30 | elapsed:   18.6s remaining:    4.6s\n",
      "[Parallel(n_jobs=-1)]: Done  30 out of  30 | elapsed:   24.3s finished\n"
     ]
    },
    {
     "name": "stdout",
     "output_type": "stream",
     "text": [
      "escape time :  29.05 s\n",
      "best score is 0.820088195171\n",
      "best parameter is {'min_samples_split': 10}\n"
     ]
    }
   ],
   "source": [
    "t0 = time()\n",
    "clf.fit(hog_features, labels)\n",
    "print \"escape time : \", round(time()-t0, 3), \"s\"\n",
    "print \"best score is %s\" % clf.best_score_\n",
    "print \"best parameter is %s\" % clf.best_params_"
   ]
  },
  {
   "cell_type": "code",
   "execution_count": 21,
   "metadata": {
    "collapsed": false
   },
   "outputs": [
    {
     "data": {
      "text/plain": [
       "['./pkl/hog/mnist/digits_DecisionTreeClassifier.pkl']"
      ]
     },
     "execution_count": 21,
     "metadata": {},
     "output_type": "execute_result"
    }
   ],
   "source": [
    "joblib.dump(clf.best_estimator_, \"./pkl/hog/mnist/digits_DecisionTreeClassifier.pkl\", compress=3)"
   ]
  },
  {
   "cell_type": "code",
   "execution_count": 22,
   "metadata": {
    "collapsed": true
   },
   "outputs": [],
   "source": [
    "parameters = {'C':10. ** np.arange(1,5), 'gamma':2. ** np.arange(-5,-1)}\n",
    "clf = grid_search.GridSearchCV(SVC(cache_size=1000, kernel=\"rbf\"), parameters, n_jobs=-1, verbose=1)"
   ]
  },
  {
   "cell_type": "code",
   "execution_count": 23,
   "metadata": {
    "collapsed": false
   },
   "outputs": [
    {
     "name": "stdout",
     "output_type": "stream",
     "text": [
      "Fitting 3 folds for each of 16 candidates, totalling 48 fits\n"
     ]
    },
    {
     "name": "stderr",
     "output_type": "stream",
     "text": [
      "[Parallel(n_jobs=-1)]: Done   1 jobs       | elapsed:   35.3s\n",
      "[Parallel(n_jobs=-1)]: Done  42 out of  48 | elapsed:  5.1min remaining:   43.5s\n",
      "[Parallel(n_jobs=-1)]: Done  48 out of  48 | elapsed:  5.8min finished\n"
     ]
    },
    {
     "name": "stdout",
     "output_type": "stream",
     "text": [
      "escape time :  368.873 s\n",
      "best score is 0.952571301672\n",
      "best parameter is {'C': 100.0, 'gamma': 0.25}\n"
     ]
    }
   ],
   "source": [
    "t0 = time()\n",
    "clf.fit(hog_features, labels)\n",
    "print \"escape time : \", round(time()-t0, 3), \"s\"\n",
    "print \"best score is %s\" % clf.best_score_\n",
    "print \"best parameter is %s\" % clf.best_params_"
   ]
  },
  {
   "cell_type": "code",
   "execution_count": 24,
   "metadata": {
    "collapsed": false
   },
   "outputs": [
    {
     "data": {
      "text/plain": [
       "['./pkl/hog/mnist/digits_SVC.pkl']"
      ]
     },
     "execution_count": 24,
     "metadata": {},
     "output_type": "execute_result"
    }
   ],
   "source": [
    "joblib.dump(clf.best_estimator_, \"./pkl/hog/mnist/digits_SVC.pkl\", compress=3)"
   ]
  },
  {
   "cell_type": "code",
   "execution_count": 6,
   "metadata": {
    "collapsed": true
   },
   "outputs": [],
   "source": [
    "parameters = {'C':10. ** np.arange(1,5)}\n",
    "clf = grid_search.GridSearchCV(LinearSVC(), parameters, n_jobs=-1, verbose=1)"
   ]
  },
  {
   "cell_type": "code",
   "execution_count": 7,
   "metadata": {
    "collapsed": false
   },
   "outputs": [
    {
     "name": "stdout",
     "output_type": "stream",
     "text": [
      "Fitting 3 folds for each of 4 candidates, totalling 12 fits\n"
     ]
    },
    {
     "name": "stderr",
     "output_type": "stream",
     "text": [
      "[Parallel(n_jobs=-1)]: Done   1 jobs       | elapsed:   23.2s\n",
      "[Parallel(n_jobs=-1)]: Done   6 out of  12 | elapsed:  1.4min remaining:  1.4min\n",
      "[Parallel(n_jobs=-1)]: Done  12 out of  12 | elapsed:  3.2min finished\n"
     ]
    },
    {
     "name": "stdout",
     "output_type": "stream",
     "text": [
      "escape time :  218.246 s\n",
      "best score is 0.891675391009\n",
      "best parameter is {'C': 10.0}\n"
     ]
    }
   ],
   "source": [
    "t0 = time()\n",
    "clf.fit(hog_features, labels)\n",
    "print \"escape time : \", round(time()-t0, 3), \"s\"\n",
    "print \"best score is %s\" % clf.best_score_\n",
    "print \"best parameter is %s\" % clf.best_params_"
   ]
  },
  {
   "cell_type": "code",
   "execution_count": 8,
   "metadata": {
    "collapsed": false
   },
   "outputs": [
    {
     "data": {
      "text/plain": [
       "['./pkl/hog/mnist/digits_LinearSVC.pkl']"
      ]
     },
     "execution_count": 8,
     "metadata": {},
     "output_type": "execute_result"
    }
   ],
   "source": [
    "joblib.dump(clf.best_estimator_, \"./pkl/hog/mnist/digits_LinearSVC.pkl\", compress=3)"
   ]
  },
  {
   "cell_type": "code",
   "execution_count": 9,
   "metadata": {
    "collapsed": false
   },
   "outputs": [
    {
     "name": "stdout",
     "output_type": "stream",
     "text": [
      "SEARCHING LOGISTIC REGRESSION\n",
      "Fitting 3 folds for each of 3 candidates, totalling 9 fits\n"
     ]
    },
    {
     "name": "stderr",
     "output_type": "stream",
     "text": [
      "[Parallel(n_jobs=-1)]: Done   1 jobs       | elapsed:    4.2s\n",
      "[Parallel(n_jobs=-1)]: Done   3 out of   9 | elapsed:    4.6s remaining:    9.1s\n",
      "[Parallel(n_jobs=-1)]: Done   9 out of   9 | elapsed:   14.5s finished\n"
     ]
    },
    {
     "name": "stdout",
     "output_type": "stream",
     "text": [
      "done in 19.910s\n",
      "best score: 0.893\n",
      "LOGISTIC REGRESSION PARAMETERS\n",
      "\t C: 100.000000\n"
     ]
    }
   ],
   "source": [
    "print \"SEARCHING LOGISTIC REGRESSION\"\n",
    "params = {\"C\": [1.0, 10.0, 100.0]}\n",
    "start = time()\n",
    "gs = GridSearchCV(LogisticRegression(), params, n_jobs =-1, verbose =1)\n",
    "gs.fit(hog_features, labels)\n",
    "\n",
    "# print diagnostic information to the user and grab the best model\n",
    "print \"done in %0.3fs\" % (time() - start)\n",
    "print \"best score: %0.3f\" % (gs.best_score_)\n",
    "print \"LOGISTIC REGRESSION PARAMETERS\"\n",
    "bestParams = gs.best_estimator_.get_params()\n",
    "\n",
    "# loop over the parameters and print each of them out so they can be manually set\n",
    "for p in sorted(params.keys()):\n",
    "    print \"\\t %s: %f\" % (p, bestParams[p])"
   ]
  },
  {
   "cell_type": "code",
   "execution_count": 11,
   "metadata": {
    "collapsed": false
   },
   "outputs": [
    {
     "data": {
      "text/plain": [
       "['./pkl/hog/mnist/digits_LogisticRegression.pkl']"
      ]
     },
     "execution_count": 11,
     "metadata": {},
     "output_type": "execute_result"
    }
   ],
   "source": [
    "clf = LogisticRegression(C = 100.0)\n",
    "clf.fit(hog_features, labels)\n",
    "joblib.dump(clf, \"./pkl/hog/mnist/digits_LogisticRegression.pkl\", compress=3)"
   ]
  },
  {
   "cell_type": "code",
   "execution_count": 12,
   "metadata": {
    "collapsed": false
   },
   "outputs": [
    {
     "name": "stdout",
     "output_type": "stream",
     "text": [
      "SEARCHING RBM + LOGISTIC REGRESSION\n",
      "Fitting 3 folds for each of 81 candidates, totalling 243 fits\n"
     ]
    },
    {
     "name": "stderr",
     "output_type": "stream",
     "text": [
      "[Parallel(n_jobs=-1)]: Done   1 jobs       | elapsed:   11.5s\n",
      "[Parallel(n_jobs=-1)]: Done  50 jobs       | elapsed:  8.5min\n",
      "[Parallel(n_jobs=-1)]: Done 200 jobs       | elapsed: 35.5min\n",
      "[Parallel(n_jobs=-1)]: Done 237 out of 243 | elapsed: 42.8min remaining:  1.1min\n",
      "[Parallel(n_jobs=-1)]: Done 243 out of 243 | elapsed: 45.7min finished\n"
     ]
    },
    {
     "name": "stdout",
     "output_type": "stream",
     "text": [
      "\n",
      "done in 2796.275s\n",
      "best score: 0.793\n",
      "RBM + LOGISTIC REGRESSION PARAMETERS\n",
      "\t logistic__C: 100.000000\n",
      "\t rbm__learning_rate: 0.001000\n",
      "\t rbm__n_components: 200.000000\n",
      "\t rbm__n_iter: 20.000000\n"
     ]
    }
   ],
   "source": [
    "# initialize the RBM + Logistic Regression pipeline\n",
    "rbm = BernoulliRBM()\n",
    "logistic = LogisticRegression()\n",
    "classifier = Pipeline([(\"rbm\", rbm), (\"logistic\", logistic)])\n",
    "\n",
    "# perform a grid search on the learning rate, number of iterations, and number of components on the RBM and\n",
    "# C for Logistic Regression\n",
    "print \"SEARCHING RBM + LOGISTIC REGRESSION\"\n",
    "params = {\n",
    "    \"rbm__learning_rate\": [0.1, 0.01, 0.001],\n",
    "    \"rbm__n_iter\": [20, 40, 80],\n",
    "    \"rbm__n_components\": [50, 100, 200],\n",
    "    \"logistic__C\": [1.0, 10.0, 100.0]}\n",
    "\n",
    "# perform a grid search over the parameter\n",
    "start = time()\n",
    "gs = GridSearchCV(classifier, params, n_jobs =-1, verbose =1)\n",
    "gs.fit(hog_features, labels)\n",
    "\n",
    "# print diagnostic information to the user and grab the best model\n",
    "print \"\\ndone in %0.3fs\" % (time() - start)\n",
    "print \"best score: %0.3f\" % (gs.best_score_)\n",
    "print \"RBM + LOGISTIC REGRESSION PARAMETERS\"\n",
    "bestParams = gs.best_estimator_.get_params()\n",
    "\n",
    "# loop over the parameters and print each of them out so they can be manually set\n",
    "for p in sorted(params.keys()):\n",
    "    print \"\\t %s: %f\" % (p, bestParams[p])"
   ]
  },
  {
   "cell_type": "code",
   "execution_count": null,
   "metadata": {
    "collapsed": false
   },
   "outputs": [
    {
     "name": "stdout",
     "output_type": "stream",
     "text": [
      "[BernoulliRBM] Iteration 1, pseudo-likelihood = -7.17, time = 1.87s\n",
      "[BernoulliRBM] Iteration 2, pseudo-likelihood = -7.11, time = 2.93s\n",
      "[BernoulliRBM] Iteration 3, pseudo-likelihood = -7.13, time = 2.93s\n",
      "[BernoulliRBM] Iteration 4, pseudo-likelihood = -7.15, time = 2.92s\n",
      "[BernoulliRBM] Iteration 5, pseudo-likelihood = -7.08, time = 2.92s\n",
      "[BernoulliRBM] Iteration 6, pseudo-likelihood = -7.06, time = 2.91s\n",
      "[BernoulliRBM] Iteration 7, pseudo-likelihood = -7.07, time = 2.92s\n",
      "[BernoulliRBM] Iteration 8, pseudo-likelihood = -7.14, time = 2.92s\n",
      "[BernoulliRBM] Iteration 9, pseudo-likelihood = -7.12, time = 2.91s\n",
      "[BernoulliRBM] Iteration 10, pseudo-likelihood = -7.12, time = 2.91s\n",
      "[BernoulliRBM] Iteration 11, pseudo-likelihood = -7.14, time = 2.91s\n",
      "[BernoulliRBM] Iteration 12, pseudo-likelihood = -7.12, time = 2.91s\n",
      "[BernoulliRBM] Iteration 13, pseudo-likelihood = -7.08, time = 2.91s\n",
      "[BernoulliRBM] Iteration 14, pseudo-likelihood = -7.18, time = 2.90s\n",
      "[BernoulliRBM] Iteration 15, pseudo-likelihood = -7.13, time = 2.91s"
     ]
    }
   ],
   "source": [
    "rbm = BernoulliRBM(n_components = 200, n_iter = 20, learning_rate = 0.001,  verbose = True)\n",
    "logistic = LogisticRegression(C = 100.0)\n",
    "classifier = Pipeline([(\"rbm\", rbm), (\"logistic\", logistic)])\n",
    "classifier.fit(hog_features, labels)\n",
    "joblib.dump(classifier, \"./pkl/hog/mnist/digits_LogisticRegression_BernoulliRBM.pkl\", compress=3)"
   ]
  }
 ],
 "metadata": {
  "kernelspec": {
   "display_name": "Python 2",
   "language": "python",
   "name": "python2"
  },
  "language_info": {
   "codemirror_mode": {
    "name": "ipython",
    "version": 2
   },
   "file_extension": ".py",
   "mimetype": "text/x-python",
   "name": "python",
   "nbconvert_exporter": "python",
   "pygments_lexer": "ipython2",
   "version": "2.7.9"
  }
 },
 "nbformat": 4,
 "nbformat_minor": 0
}
