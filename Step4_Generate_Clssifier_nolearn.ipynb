{
 "cells": [
  {
   "cell_type": "code",
   "execution_count": 3,
   "metadata": {
    "collapsed": false
   },
   "outputs": [
    {
     "name": "stdout",
     "output_type": "stream",
     "text": [
      "gnumpy: failed to import cudamat. Using npmat instead. No GPU will be used.\n"
     ]
    }
   ],
   "source": [
    "from sklearn.cross_validation import train_test_split\n",
    "from sklearn.metrics import classification_report\n",
    "from sklearn.externals import joblib\n",
    "from sklearn.metrics import accuracy_score\n",
    "from sklearn.metrics import confusion_matrix\n",
    "from sklearn import datasets\n",
    "from nolearn.dbn import DBN\n",
    "from skimage import io\n",
    "from skimage import data, segmentation, filters, color, img_as_float, img_as_ubyte, exposure, feature, measure, morphology\n",
    "from skimage.color import rgb2gray\n",
    "from skimage.morphology import square\n",
    "from skimage.feature import hog\n",
    "import cv2\n",
    "import numpy as np\n",
    "import cv2\n",
    "from time import time\n",
    "from glob import glob\n",
    "import os"
   ]
  },
  {
   "cell_type": "code",
   "execution_count": null,
   "metadata": {
    "collapsed": true
   },
   "outputs": [],
   "source": [
    "### Plan2 ###"
   ]
  },
  {
   "cell_type": "code",
   "execution_count": 217,
   "metadata": {
    "collapsed": false
   },
   "outputs": [],
   "source": [
    "features = joblib.load(\"./mldata/features_1200.mat\")\n",
    "labels = joblib.load(\"./mldata/lables_1200.mat\")\n",
    "\n",
    "features = np.array(features, 'int16')\n",
    "labels = np.array(labels, 'int')"
   ]
  },
  {
   "cell_type": "code",
   "execution_count": 218,
   "metadata": {
    "collapsed": false
   },
   "outputs": [
    {
     "name": "stdout",
     "output_type": "stream",
     "text": [
      "escape time :  0.091 s\n"
     ]
    }
   ],
   "source": [
    "t0 = time()\n",
    "def scale(X, eps = 0.001):\n",
    "    # scale the data points s.t the columns of the feature space\n",
    "    # (i.e the predictors) are within the range [0, 1]\n",
    "    return (X - np.min(X, axis = 0)) / (np.max(X, axis = 0) + eps)\n",
    "\n",
    "features = features.astype(\"float32\")\n",
    "features = scale(features)\n",
    "\n",
    "print \"escape time : \", round(time()-t0, 3), \"s\""
   ]
  },
  {
   "cell_type": "code",
   "execution_count": 219,
   "metadata": {
    "collapsed": false
   },
   "outputs": [
    {
     "name": "stdout",
     "output_type": "stream",
     "text": [
      "the shape of training set 5400 rows, 784 columns\n",
      "the shape of test set 600 rows, 784 columns\n",
      "the range of training set : 0.0 ~ 0.999996\n",
      "the range of test set : 0.0 ~ 0.999996\n"
     ]
    }
   ],
   "source": [
    "# scale the data to the range [0, 1] and then construct the training\n",
    "# and testing splits\n",
    "(trainX, testX, trainY, testY) = train_test_split(features, labels, test_size = 0.1)\n",
    "print \"the shape of training set %s rows, %s columns\" %(trainX.shape[0], trainX.shape[1])\n",
    "print \"the shape of test set %s rows, %s columns\" %(testX.shape[0], testX.shape[1])\n",
    "print \"the range of training set : %s ~ %s\" %(trainX.min(),trainX.max())\n",
    "print \"the range of test set : %s ~ %s\" %(testX.min(),testX.max())"
   ]
  },
  {
   "cell_type": "code",
   "execution_count": 220,
   "metadata": {
    "collapsed": false,
    "scrolled": true
   },
   "outputs": [
    {
     "name": "stdout",
     "output_type": "stream",
     "text": [
      "[DBN] fitting X.shape=(5400, 784)\n",
      "[DBN] layers [784, 500, 9]\n",
      "[DBN] Fine-tune..."
     ]
    },
    {
     "name": "stderr",
     "output_type": "stream",
     "text": [
      "100%\n"
     ]
    },
    {
     "name": "stdout",
     "output_type": "stream",
     "text": [
      "\n",
      "Epoch 1:"
     ]
    },
    {
     "name": "stderr",
     "output_type": "stream",
     "text": [
      "100%\n"
     ]
    },
    {
     "name": "stdout",
     "output_type": "stream",
     "text": [
      "\n",
      "  loss 0.463643961276\n",
      "  err  0.115513392857\n",
      "  (0:00:01)\n",
      "Epoch 2:"
     ]
    },
    {
     "name": "stderr",
     "output_type": "stream",
     "text": [
      "100%\n"
     ]
    },
    {
     "name": "stdout",
     "output_type": "stream",
     "text": [
      "\n",
      "  loss 0.29921507587\n",
      "  err  0.073474702381\n",
      "  (0:00:01)\n",
      "Epoch 3:"
     ]
    },
    {
     "name": "stderr",
     "output_type": "stream",
     "text": [
      "100%\n"
     ]
    },
    {
     "name": "stdout",
     "output_type": "stream",
     "text": [
      "\n",
      "  loss 0.277418208442\n",
      "  err  0.0719866071429\n",
      "  (0:00:01)\n",
      "Epoch 4:"
     ]
    },
    {
     "name": "stderr",
     "output_type": "stream",
     "text": [
      "100%\n"
     ]
    },
    {
     "name": "stdout",
     "output_type": "stream",
     "text": [
      "\n",
      "  loss 0.251923746917\n",
      "  err  0.0641741071429\n",
      "  (0:00:01)\n",
      "Epoch 5:"
     ]
    },
    {
     "name": "stderr",
     "output_type": "stream",
     "text": [
      "100%\n"
     ]
    },
    {
     "name": "stdout",
     "output_type": "stream",
     "text": [
      "\n",
      "  loss 0.24042045875\n",
      "  err  0.0651041666667\n",
      "  (0:00:01)\n",
      "Epoch 6:"
     ]
    },
    {
     "name": "stderr",
     "output_type": "stream",
     "text": [
      "100%\n"
     ]
    },
    {
     "name": "stdout",
     "output_type": "stream",
     "text": [
      "\n",
      "  loss 0.240729313699\n",
      "  err  0.0652901785714\n",
      "  (0:00:01)\n",
      "Epoch 7:"
     ]
    },
    {
     "name": "stderr",
     "output_type": "stream",
     "text": [
      "100%\n"
     ]
    },
    {
     "name": "stdout",
     "output_type": "stream",
     "text": [
      "\n",
      "  loss 0.214639534109\n",
      "  err  0.0574776785714\n",
      "  (0:00:01)\n",
      "Epoch 8:"
     ]
    },
    {
     "name": "stderr",
     "output_type": "stream",
     "text": [
      "100%\n"
     ]
    },
    {
     "name": "stdout",
     "output_type": "stream",
     "text": [
      "\n",
      "  loss 0.235282459518\n",
      "  err  0.0638020833333\n",
      "  (0:00:01)\n",
      "Epoch 9:"
     ]
    },
    {
     "name": "stderr",
     "output_type": "stream",
     "text": [
      "100%\n"
     ]
    },
    {
     "name": "stdout",
     "output_type": "stream",
     "text": [
      "\n",
      "  loss 0.20613166548\n",
      "  err  0.0580357142857\n",
      "  (0:00:01)\n",
      "Epoch 10:\n",
      "  loss 0.208449641597\n",
      "  err  0.0556175595238\n",
      "  (0:00:01)\n",
      "escape time :  12.585 s\n"
     ]
    }
   ],
   "source": [
    "# train the Deep Belief Network with 784 input units (the flattened,\n",
    "# 28x28 grayscale image), 500 hidden units, 9 output units (one for\n",
    "# each possible output classification, which are the digits 0-8)\n",
    "t0 = time()\n",
    "dbn = DBN(\n",
    "    [trainX.shape[1], 500, 9],\n",
    "    learn_rates = 0.009,\n",
    "    learn_rate_decays = 0.9,\n",
    "    epochs = 10,\n",
    "    verbose = 1)\n",
    "dbn.fit(trainX, trainY)\n",
    "print \"escape time : \", round(time()-t0, 3), \"s\""
   ]
  },
  {
   "cell_type": "code",
   "execution_count": 221,
   "metadata": {
    "collapsed": false
   },
   "outputs": [
    {
     "name": "stdout",
     "output_type": "stream",
     "text": [
      "accuracy score : 0.95\n",
      "classification report : \n",
      "             precision    recall  f1-score   support\n",
      "\n",
      "          0       0.96      0.93      0.94        70\n",
      "          1       0.93      0.96      0.94        93\n",
      "          2       0.86      0.93      0.89        55\n",
      "          3       0.98      0.95      0.96        58\n",
      "          4       0.98      0.98      0.98        64\n",
      "          5       0.98      0.94      0.96        62\n",
      "          6       0.90      0.84      0.87        45\n",
      "          7       1.00      0.99      0.99       100\n",
      "          8       0.91      0.98      0.95        53\n",
      "\n",
      "avg / total       0.95      0.95      0.95       600\n",
      "\n",
      "confusion matrix : \n",
      "[[65  0  3  0  0  0  1  0  1]\n",
      " [ 2 89  1  0  0  0  0  0  1]\n",
      " [ 0  1 51  1  0  0  1  0  1]\n",
      " [ 0  1  2 55  0  0  0  0  0]\n",
      " [ 0  0  0  0 63  0  0  0  1]\n",
      " [ 0  2  1  0  0 58  1  0  0]\n",
      " [ 1  3  1  0  0  1 38  0  1]\n",
      " [ 0  0  0  0  0  0  1 99  0]\n",
      " [ 0  0  0  0  1  0  0  0 52]]\n"
     ]
    }
   ],
   "source": [
    "# compute the predictions for the test data and show a classification report\n",
    "preds = dbn.predict(testX)\n",
    "print \"accuracy score : %s\" %(accuracy_score(testY, preds))\n",
    "print \"classification report : \"\n",
    "print classification_report(testY, preds)\n",
    "print \"confusion matrix : \"\n",
    "print confusion_matrix(testY, preds)"
   ]
  },
  {
   "cell_type": "code",
   "execution_count": 1,
   "metadata": {
    "collapsed": true
   },
   "outputs": [],
   "source": [
    "# MNIST TEST"
   ]
  },
  {
   "cell_type": "code",
   "execution_count": 4,
   "metadata": {
    "collapsed": false
   },
   "outputs": [],
   "source": [
    "dataset = datasets.fetch_mldata(\"MNIST Original\")\n",
    "\n",
    "# scale the data to the range [0, 1] and then construct the training\n",
    "# and testing splits\n",
    "(trainX, testX, trainY, testY) = train_test_split(dataset.data / 255.0, dataset.target.astype(\"int0\"), test_size = 0.33)"
   ]
  },
  {
   "cell_type": "code",
   "execution_count": 16,
   "metadata": {
    "collapsed": false
   },
   "outputs": [
    {
     "name": "stdout",
     "output_type": "stream",
     "text": [
      "[DBN] fitting X.shape=(46900, 784)\n",
      "[DBN] layers [784, 300, 10]\n",
      "[DBN] Fine-tune..."
     ]
    },
    {
     "name": "stderr",
     "output_type": "stream",
     "text": [
      "100%\n"
     ]
    },
    {
     "name": "stdout",
     "output_type": "stream",
     "text": [
      "\n",
      "Epoch 1:"
     ]
    },
    {
     "name": "stderr",
     "output_type": "stream",
     "text": [
      "100%\n"
     ]
    },
    {
     "name": "stdout",
     "output_type": "stream",
     "text": [
      "\n",
      "  loss 0.435460707254\n",
      "  err  0.121285860656\n",
      "  (0:00:07)\n",
      "Epoch 2:"
     ]
    },
    {
     "name": "stderr",
     "output_type": "stream",
     "text": [
      "100%\n"
     ]
    },
    {
     "name": "stdout",
     "output_type": "stream",
     "text": [
      "\n",
      "  loss 0.222520561655\n",
      "  err  0.0626494193989\n",
      "  (0:00:06)\n",
      "Epoch 3:"
     ]
    },
    {
     "name": "stderr",
     "output_type": "stream",
     "text": [
      "100%\n"
     ]
    },
    {
     "name": "stdout",
     "output_type": "stream",
     "text": [
      "\n",
      "  loss 0.172146648504\n",
      "  err  0.0493510928962\n",
      "  (0:00:06)\n",
      "Epoch 4:"
     ]
    },
    {
     "name": "stderr",
     "output_type": "stream",
     "text": [
      "100%\n"
     ]
    },
    {
     "name": "stdout",
     "output_type": "stream",
     "text": [
      "\n",
      "  loss 0.141563853361\n",
      "  err  0.0399163251366\n",
      "  (0:00:06)\n",
      "Epoch 5:"
     ]
    },
    {
     "name": "stderr",
     "output_type": "stream",
     "text": [
      "100%\n"
     ]
    },
    {
     "name": "stdout",
     "output_type": "stream",
     "text": [
      "\n",
      "  loss 0.122119528071\n",
      "  err  0.0332137978142\n",
      "  (0:00:06)\n",
      "Epoch 6:"
     ]
    },
    {
     "name": "stderr",
     "output_type": "stream",
     "text": [
      "100%\n"
     ]
    },
    {
     "name": "stdout",
     "output_type": "stream",
     "text": [
      "\n",
      "  loss 0.107311866964\n",
      "  err  0.0295210040984\n",
      "  (0:00:06)\n",
      "Epoch 7:"
     ]
    },
    {
     "name": "stderr",
     "output_type": "stream",
     "text": [
      "100%\n"
     ]
    },
    {
     "name": "stdout",
     "output_type": "stream",
     "text": [
      "\n",
      "  loss 0.103555048722\n",
      "  err  0.028112192623\n",
      "  (0:00:06)\n",
      "Epoch 8:"
     ]
    },
    {
     "name": "stderr",
     "output_type": "stream",
     "text": [
      "100%\n"
     ]
    },
    {
     "name": "stdout",
     "output_type": "stream",
     "text": [
      "\n",
      "  loss 0.0913765825397\n",
      "  err  0.0241632513661\n",
      "  (0:00:06)\n",
      "Epoch 9:"
     ]
    },
    {
     "name": "stderr",
     "output_type": "stream",
     "text": [
      "100%\n"
     ]
    },
    {
     "name": "stdout",
     "output_type": "stream",
     "text": [
      "\n",
      "  loss 0.0862452716508\n",
      "  err  0.0232453893443\n",
      "  (0:00:07)\n",
      "Epoch 10:"
     ]
    },
    {
     "name": "stderr",
     "output_type": "stream",
     "text": [
      "100%\n"
     ]
    },
    {
     "name": "stdout",
     "output_type": "stream",
     "text": [
      "\n",
      "  loss 0.0784475447819\n",
      "  err  0.0198941256831\n",
      "  (0:00:06)\n",
      "Epoch 11:"
     ]
    },
    {
     "name": "stderr",
     "output_type": "stream",
     "text": [
      "100%\n"
     ]
    },
    {
     "name": "stdout",
     "output_type": "stream",
     "text": [
      "\n",
      "  loss 0.0759711375631\n",
      "  err  0.0191256830601\n",
      "  (0:00:06)\n",
      "Epoch 12:"
     ]
    },
    {
     "name": "stderr",
     "output_type": "stream",
     "text": [
      "100%\n"
     ]
    },
    {
     "name": "stdout",
     "output_type": "stream",
     "text": [
      "\n",
      "  loss 0.0740048806705\n",
      "  err  0.0200008538251\n",
      "  (0:00:07)\n",
      "Epoch 13:"
     ]
    },
    {
     "name": "stderr",
     "output_type": "stream",
     "text": [
      "100%\n"
     ]
    },
    {
     "name": "stdout",
     "output_type": "stream",
     "text": [
      "\n",
      "  loss 0.0682661257814\n",
      "  err  0.0176741803279\n",
      "  (0:00:06)\n",
      "Epoch 14:"
     ]
    },
    {
     "name": "stderr",
     "output_type": "stream",
     "text": [
      "100%\n"
     ]
    },
    {
     "name": "stdout",
     "output_type": "stream",
     "text": [
      "\n",
      "  loss 0.0682453495747\n",
      "  err  0.0175461065574\n",
      "  (0:00:07)\n",
      "Epoch 15:"
     ]
    },
    {
     "name": "stderr",
     "output_type": "stream",
     "text": [
      "100%\n"
     ]
    },
    {
     "name": "stdout",
     "output_type": "stream",
     "text": [
      "\n",
      "  loss 0.0668429842885\n",
      "  err  0.0175887978142\n",
      "  (0:00:06)\n",
      "Epoch 16:"
     ]
    },
    {
     "name": "stderr",
     "output_type": "stream",
     "text": [
      "100%\n"
     ]
    },
    {
     "name": "stdout",
     "output_type": "stream",
     "text": [
      "\n",
      "  loss 0.0621177279034\n",
      "  err  0.0152194330601\n",
      "  (0:00:07)\n",
      "Epoch 17:"
     ]
    },
    {
     "name": "stderr",
     "output_type": "stream",
     "text": [
      "100%\n"
     ]
    },
    {
     "name": "stdout",
     "output_type": "stream",
     "text": [
      "\n",
      "  loss 0.0612762555432\n",
      "  err  0.015881147541\n",
      "  (0:00:07)\n",
      "Epoch 18:"
     ]
    },
    {
     "name": "stderr",
     "output_type": "stream",
     "text": [
      "100%\n"
     ]
    },
    {
     "name": "stdout",
     "output_type": "stream",
     "text": [
      "\n",
      "  loss 0.062244954762\n",
      "  err  0.0155823087432\n",
      "  (0:00:06)\n",
      "Epoch 19:"
     ]
    },
    {
     "name": "stderr",
     "output_type": "stream",
     "text": [
      "100%\n"
     ]
    },
    {
     "name": "stdout",
     "output_type": "stream",
     "text": [
      "\n",
      "  loss 0.0591402238711\n",
      "  err  0.0145150273224\n",
      "  (0:00:06)\n",
      "Epoch 20:"
     ]
    },
    {
     "name": "stderr",
     "output_type": "stream",
     "text": [
      "100%\n"
     ]
    },
    {
     "name": "stdout",
     "output_type": "stream",
     "text": [
      "\n",
      "  loss 0.0599976112765\n",
      "  err  0.0147284836066\n",
      "  (0:00:06)\n",
      "Epoch 21:"
     ]
    },
    {
     "name": "stderr",
     "output_type": "stream",
     "text": [
      "100%\n"
     ]
    },
    {
     "name": "stdout",
     "output_type": "stream",
     "text": [
      "\n",
      "  loss 0.0565000520752\n",
      "  err  0.0140454234973\n",
      "  (0:00:06)\n",
      "Epoch 22:"
     ]
    },
    {
     "name": "stderr",
     "output_type": "stream",
     "text": [
      "100%\n"
     ]
    },
    {
     "name": "stdout",
     "output_type": "stream",
     "text": [
      "\n",
      "  loss 0.0570156935048\n",
      "  err  0.0134904371585\n",
      "  (0:00:06)\n",
      "Epoch 23:"
     ]
    },
    {
     "name": "stderr",
     "output_type": "stream",
     "text": [
      "100%\n"
     ]
    },
    {
     "name": "stdout",
     "output_type": "stream",
     "text": [
      "\n",
      "  loss 0.0558370767464\n",
      "  err  0.0137038934426\n",
      "  (0:00:06)\n",
      "Epoch 24:"
     ]
    },
    {
     "name": "stderr",
     "output_type": "stream",
     "text": [
      "100%\n"
     ]
    },
    {
     "name": "stdout",
     "output_type": "stream",
     "text": [
      "\n",
      "  loss 0.0547825844292\n",
      "  err  0.0133837090164\n",
      "  (0:00:06)\n",
      "Epoch 25:"
     ]
    },
    {
     "name": "stderr",
     "output_type": "stream",
     "text": [
      "100%\n"
     ]
    },
    {
     "name": "stdout",
     "output_type": "stream",
     "text": [
      "\n",
      "  loss 0.0577150893212\n",
      "  err  0.0141521516393\n",
      "  (0:00:06)\n",
      "Epoch 26:"
     ]
    },
    {
     "name": "stderr",
     "output_type": "stream",
     "text": [
      "100%\n"
     ]
    },
    {
     "name": "stdout",
     "output_type": "stream",
     "text": [
      "\n",
      "  loss 0.0532263154317\n",
      "  err  0.0122950819672\n",
      "  (0:00:06)\n",
      "Epoch 27:"
     ]
    },
    {
     "name": "stderr",
     "output_type": "stream",
     "text": [
      "100%\n"
     ]
    },
    {
     "name": "stdout",
     "output_type": "stream",
     "text": [
      "\n",
      "  loss 0.0534376011477\n",
      "  err  0.0124018101093\n",
      "  (0:00:06)\n",
      "Epoch 28:"
     ]
    },
    {
     "name": "stderr",
     "output_type": "stream",
     "text": [
      "100%\n"
     ]
    },
    {
     "name": "stdout",
     "output_type": "stream",
     "text": [
      "\n",
      "  loss 0.0553420051943\n",
      "  err  0.0135971653005\n",
      "  (0:00:06)\n",
      "Epoch 29:"
     ]
    },
    {
     "name": "stderr",
     "output_type": "stream",
     "text": [
      "100%\n"
     ]
    },
    {
     "name": "stdout",
     "output_type": "stream",
     "text": [
      "\n",
      "  loss 0.050837528402\n",
      "  err  0.0119535519126\n",
      "  (0:00:06)\n",
      "Epoch 30:"
     ]
    },
    {
     "name": "stderr",
     "output_type": "stream",
     "text": [
      "100%\n"
     ]
    },
    {
     "name": "stdout",
     "output_type": "stream",
     "text": [
      "\n",
      "  loss 0.0526713378628\n",
      "  err  0.011974897541\n",
      "  (0:00:06)\n",
      "Epoch 31:"
     ]
    },
    {
     "name": "stderr",
     "output_type": "stream",
     "text": [
      "100%\n"
     ]
    },
    {
     "name": "stdout",
     "output_type": "stream",
     "text": [
      "\n",
      "  loss 0.0529029441506\n",
      "  err  0.0124658469945\n",
      "  (0:00:06)\n",
      "Epoch 32:"
     ]
    },
    {
     "name": "stderr",
     "output_type": "stream",
     "text": [
      "100%\n"
     ]
    },
    {
     "name": "stdout",
     "output_type": "stream",
     "text": [
      "\n",
      "  loss 0.0531268519091\n",
      "  err  0.0129781420765\n",
      "  (0:00:06)\n",
      "Epoch 33:"
     ]
    },
    {
     "name": "stderr",
     "output_type": "stream",
     "text": [
      "100%\n"
     ]
    },
    {
     "name": "stdout",
     "output_type": "stream",
     "text": [
      "\n",
      "  loss 0.0507176623131\n",
      "  err  0.0119535519126\n",
      "  (0:00:06)\n",
      "Epoch 34:"
     ]
    },
    {
     "name": "stderr",
     "output_type": "stream",
     "text": [
      "100%\n"
     ]
    },
    {
     "name": "stdout",
     "output_type": "stream",
     "text": [
      "\n",
      "  loss 0.0499105089722\n",
      "  err  0.0120175887978\n",
      "  (0:00:06)\n",
      "Epoch 35:"
     ]
    },
    {
     "name": "stderr",
     "output_type": "stream",
     "text": [
      "100%\n"
     ]
    },
    {
     "name": "stdout",
     "output_type": "stream",
     "text": [
      "\n",
      "  loss 0.0524979259837\n",
      "  err  0.012593920765\n",
      "  (0:00:06)\n",
      "Epoch 36:"
     ]
    },
    {
     "name": "stderr",
     "output_type": "stream",
     "text": [
      "100%\n"
     ]
    },
    {
     "name": "stdout",
     "output_type": "stream",
     "text": [
      "\n",
      "  loss 0.0536942167298\n",
      "  err  0.0126793032787\n",
      "  (0:00:06)\n",
      "Epoch 37:"
     ]
    },
    {
     "name": "stderr",
     "output_type": "stream",
     "text": [
      "100%\n"
     ]
    },
    {
     "name": "stdout",
     "output_type": "stream",
     "text": [
      "\n",
      "  loss 0.0529735623693\n",
      "  err  0.0135117827869\n",
      "  (0:00:07)\n",
      "Epoch 38:"
     ]
    },
    {
     "name": "stderr",
     "output_type": "stream",
     "text": [
      "100%\n"
     ]
    },
    {
     "name": "stdout",
     "output_type": "stream",
     "text": [
      "\n",
      "  loss 0.0515139730306\n",
      "  err  0.0122737363388\n",
      "  (0:00:06)\n",
      "Epoch 39:"
     ]
    },
    {
     "name": "stderr",
     "output_type": "stream",
     "text": [
      "100%\n"
     ]
    },
    {
     "name": "stdout",
     "output_type": "stream",
     "text": [
      "\n",
      "  loss 0.0508582337557\n",
      "  err  0.0113558743169\n",
      "  (0:00:06)\n",
      "Epoch 40:"
     ]
    },
    {
     "name": "stderr",
     "output_type": "stream",
     "text": [
      "100%\n"
     ]
    },
    {
     "name": "stdout",
     "output_type": "stream",
     "text": [
      "\n",
      "  loss 0.0512382912035\n",
      "  err  0.011974897541\n",
      "  (0:00:07)\n",
      "Epoch 41:"
     ]
    },
    {
     "name": "stderr",
     "output_type": "stream",
     "text": [
      "100%\n"
     ]
    },
    {
     "name": "stdout",
     "output_type": "stream",
     "text": [
      "\n",
      "  loss 0.0522620541901\n",
      "  err  0.0132556352459\n",
      "  (0:00:07)\n",
      "Epoch 42:"
     ]
    },
    {
     "name": "stderr",
     "output_type": "stream",
     "text": [
      "100%\n"
     ]
    },
    {
     "name": "stdout",
     "output_type": "stream",
     "text": [
      "\n",
      "  loss 0.049911510191\n",
      "  err  0.0116974043716\n",
      "  (0:00:07)\n",
      "Epoch 43:"
     ]
    },
    {
     "name": "stderr",
     "output_type": "stream",
     "text": [
      "100%\n"
     ]
    },
    {
     "name": "stdout",
     "output_type": "stream",
     "text": [
      "\n",
      "  loss 0.0515477209444\n",
      "  err  0.0122096994536\n",
      "  (0:00:06)\n",
      "Epoch 44:"
     ]
    },
    {
     "name": "stderr",
     "output_type": "stream",
     "text": [
      "100%\n"
     ]
    },
    {
     "name": "stdout",
     "output_type": "stream",
     "text": [
      "\n",
      "  loss 0.0508786643413\n",
      "  err  0.0120602800546\n",
      "  (0:00:06)\n",
      "Epoch 45:"
     ]
    },
    {
     "name": "stderr",
     "output_type": "stream",
     "text": [
      "100%\n"
     ]
    },
    {
     "name": "stdout",
     "output_type": "stream",
     "text": [
      "\n",
      "  loss 0.0511269245622\n",
      "  err  0.0120389344262\n",
      "  (0:00:07)\n",
      "Epoch 46:"
     ]
    },
    {
     "name": "stderr",
     "output_type": "stream",
     "text": [
      "100%\n"
     ]
    },
    {
     "name": "stdout",
     "output_type": "stream",
     "text": [
      "\n",
      "  loss 0.0491818494629\n",
      "  err  0.0118041325137\n",
      "  (0:00:07)\n",
      "Epoch 47:"
     ]
    },
    {
     "name": "stderr",
     "output_type": "stream",
     "text": [
      "100%\n"
     ]
    },
    {
     "name": "stdout",
     "output_type": "stream",
     "text": [
      "\n",
      "  loss 0.0503594469218\n",
      "  err  0.0116333674863\n",
      "  (0:00:07)\n",
      "Epoch 48:"
     ]
    },
    {
     "name": "stderr",
     "output_type": "stream",
     "text": [
      "100%\n"
     ]
    },
    {
     "name": "stdout",
     "output_type": "stream",
     "text": [
      "\n",
      "  loss 0.0516768718607\n",
      "  err  0.0121243169399\n",
      "  (0:00:07)\n",
      "Epoch 49:"
     ]
    },
    {
     "name": "stderr",
     "output_type": "stream",
     "text": [
      "100%\n"
     ]
    },
    {
     "name": "stdout",
     "output_type": "stream",
     "text": [
      "\n",
      "  loss 0.0495825724809\n",
      "  err  0.0114839480874\n",
      "  (0:00:07)\n",
      "Epoch 50:"
     ]
    },
    {
     "name": "stderr",
     "output_type": "stream",
     "text": [
      "100%\n"
     ]
    },
    {
     "name": "stdout",
     "output_type": "stream",
     "text": [
      "\n",
      "  loss 0.0489350383868\n",
      "  err  0.0111210724044\n",
      "  (0:00:07)\n",
      "Epoch 51:"
     ]
    },
    {
     "name": "stderr",
     "output_type": "stream",
     "text": [
      "100%\n"
     ]
    },
    {
     "name": "stdout",
     "output_type": "stream",
     "text": [
      "\n",
      "  loss 0.0515095751174\n",
      "  err  0.0122737363388\n",
      "  (0:00:06)\n",
      "Epoch 52:"
     ]
    },
    {
     "name": "stderr",
     "output_type": "stream",
     "text": [
      "100%\n"
     ]
    },
    {
     "name": "stdout",
     "output_type": "stream",
     "text": [
      "\n",
      "  loss 0.0523622185742\n",
      "  err  0.012850068306\n",
      "  (0:00:06)\n",
      "Epoch 53:"
     ]
    },
    {
     "name": "stderr",
     "output_type": "stream",
     "text": [
      "100%\n"
     ]
    },
    {
     "name": "stdout",
     "output_type": "stream",
     "text": [
      "\n",
      "  loss 0.051790614211\n",
      "  err  0.0125512295082\n",
      "  (0:00:06)\n",
      "Epoch 54:"
     ]
    },
    {
     "name": "stderr",
     "output_type": "stream",
     "text": [
      "100%\n"
     ]
    },
    {
     "name": "stdout",
     "output_type": "stream",
     "text": [
      "\n",
      "  loss 0.0487533225379\n",
      "  err  0.0107795423497\n",
      "  (0:00:07)\n",
      "Epoch 55:"
     ]
    },
    {
     "name": "stderr",
     "output_type": "stream",
     "text": [
      "100%\n"
     ]
    },
    {
     "name": "stdout",
     "output_type": "stream",
     "text": [
      "\n",
      "  loss 0.0507027208411\n",
      "  err  0.0118254781421\n",
      "  (0:00:06)\n",
      "Epoch 56:"
     ]
    },
    {
     "name": "stderr",
     "output_type": "stream",
     "text": [
      "100%\n"
     ]
    },
    {
     "name": "stdout",
     "output_type": "stream",
     "text": [
      "\n",
      "  loss 0.0500482111492\n",
      "  err  0.0118681693989\n",
      "  (0:00:06)\n",
      "Epoch 57:"
     ]
    },
    {
     "name": "stderr",
     "output_type": "stream",
     "text": [
      "100%\n"
     ]
    },
    {
     "name": "stdout",
     "output_type": "stream",
     "text": [
      "\n",
      "  loss 0.0507887408393\n",
      "  err  0.0121883538251\n",
      "  (0:00:06)\n",
      "Epoch 58:"
     ]
    },
    {
     "name": "stderr",
     "output_type": "stream",
     "text": [
      "100%\n"
     ]
    },
    {
     "name": "stdout",
     "output_type": "stream",
     "text": [
      "\n",
      "  loss 0.0515041196378\n",
      "  err  0.0116760587432\n",
      "  (0:00:06)\n",
      "Epoch 59:"
     ]
    },
    {
     "name": "stderr",
     "output_type": "stream",
     "text": [
      "100%\n"
     ]
    },
    {
     "name": "stdout",
     "output_type": "stream",
     "text": [
      "\n",
      "  loss 0.0527089130925\n",
      "  err  0.0126579576503\n",
      "  (0:00:06)\n",
      "Epoch 60:"
     ]
    },
    {
     "name": "stderr",
     "output_type": "stream",
     "text": [
      "100%\n"
     ]
    },
    {
     "name": "stdout",
     "output_type": "stream",
     "text": [
      "\n",
      "  loss 0.0494819635963\n",
      "  err  0.011462602459\n",
      "  (0:00:06)\n",
      "Epoch 61:"
     ]
    },
    {
     "name": "stderr",
     "output_type": "stream",
     "text": [
      "100%\n"
     ]
    },
    {
     "name": "stdout",
     "output_type": "stream",
     "text": [
      "\n",
      "  loss 0.0505767093419\n",
      "  err  0.0116974043716\n",
      "  (0:00:06)\n",
      "Epoch 62:"
     ]
    },
    {
     "name": "stderr",
     "output_type": "stream",
     "text": [
      "100%\n"
     ]
    },
    {
     "name": "stdout",
     "output_type": "stream",
     "text": [
      "\n",
      "  loss 0.0528903364247\n",
      "  err  0.0125512295082\n",
      "  (0:00:06)\n",
      "Epoch 63:"
     ]
    },
    {
     "name": "stderr",
     "output_type": "stream",
     "text": [
      "100%\n"
     ]
    },
    {
     "name": "stdout",
     "output_type": "stream",
     "text": [
      "\n",
      "  loss 0.050791340048\n",
      "  err  0.0119535519126\n",
      "  (0:00:06)\n",
      "Epoch 64:"
     ]
    },
    {
     "name": "stderr",
     "output_type": "stream",
     "text": [
      "100%\n"
     ]
    },
    {
     "name": "stdout",
     "output_type": "stream",
     "text": [
      "\n",
      "  loss 0.0513245650145\n",
      "  err  0.011974897541\n",
      "  (0:00:07)\n",
      "Epoch 65:"
     ]
    },
    {
     "name": "stderr",
     "output_type": "stream",
     "text": [
      "100%\n"
     ]
    },
    {
     "name": "stdout",
     "output_type": "stream",
     "text": [
      "\n",
      "  loss 0.0519084002335\n",
      "  err  0.012593920765\n",
      "  (0:00:07)\n",
      "Epoch 66:"
     ]
    },
    {
     "name": "stderr",
     "output_type": "stream",
     "text": [
      "100%\n"
     ]
    },
    {
     "name": "stdout",
     "output_type": "stream",
     "text": [
      "\n",
      "  loss 0.0525383493059\n",
      "  err  0.0122950819672\n",
      "  (0:00:07)\n",
      "Epoch 67:"
     ]
    },
    {
     "name": "stderr",
     "output_type": "stream",
     "text": [
      "100%\n"
     ]
    },
    {
     "name": "stdout",
     "output_type": "stream",
     "text": [
      "\n",
      "  loss 0.0488930429864\n",
      "  err  0.0115479849727\n",
      "  (0:00:07)\n",
      "Epoch 68:"
     ]
    },
    {
     "name": "stderr",
     "output_type": "stream",
     "text": [
      "100%\n"
     ]
    },
    {
     "name": "stdout",
     "output_type": "stream",
     "text": [
      "\n",
      "  loss 0.0481096729649\n",
      "  err  0.0107795423497\n",
      "  (0:00:06)\n",
      "Epoch 69:"
     ]
    },
    {
     "name": "stderr",
     "output_type": "stream",
     "text": [
      "100%\n"
     ]
    },
    {
     "name": "stdout",
     "output_type": "stream",
     "text": [
      "\n",
      "  loss 0.04927954286\n",
      "  err  0.0118681693989\n",
      "  (0:00:06)\n",
      "Epoch 70:"
     ]
    },
    {
     "name": "stderr",
     "output_type": "stream",
     "text": [
      "100%\n"
     ]
    },
    {
     "name": "stdout",
     "output_type": "stream",
     "text": [
      "\n",
      "  loss 0.0493161196138\n",
      "  err  0.01171875\n",
      "  (0:00:06)\n",
      "Epoch 71:"
     ]
    },
    {
     "name": "stderr",
     "output_type": "stream",
     "text": [
      "100%\n"
     ]
    },
    {
     "name": "stdout",
     "output_type": "stream",
     "text": [
      "\n",
      "  loss 0.051179053669\n",
      "  err  0.0124231557377\n",
      "  (0:00:06)\n",
      "Epoch 72:"
     ]
    },
    {
     "name": "stderr",
     "output_type": "stream",
     "text": [
      "100%\n"
     ]
    },
    {
     "name": "stdout",
     "output_type": "stream",
     "text": [
      "\n",
      "  loss 0.0502255971988\n",
      "  err  0.0115693306011\n",
      "  (0:00:06)\n",
      "Epoch 73:"
     ]
    },
    {
     "name": "stderr",
     "output_type": "stream",
     "text": [
      "100%\n"
     ]
    },
    {
     "name": "stdout",
     "output_type": "stream",
     "text": [
      "\n",
      "  loss 0.0488801487795\n",
      "  err  0.0113131830601\n",
      "  (0:00:06)\n",
      "Epoch 74:"
     ]
    },
    {
     "name": "stderr",
     "output_type": "stream",
     "text": [
      "100%\n"
     ]
    },
    {
     "name": "stdout",
     "output_type": "stream",
     "text": [
      "\n",
      "  loss 0.0507979828093\n",
      "  err  0.0123804644809\n",
      "  (0:00:06)\n",
      "Epoch 75:"
     ]
    },
    {
     "name": "stderr",
     "output_type": "stream",
     "text": [
      "100%\n"
     ]
    },
    {
     "name": "stdout",
     "output_type": "stream",
     "text": [
      "\n",
      "  loss 0.0517147362781\n",
      "  err  0.0124658469945\n",
      "  (0:00:06)\n",
      "Epoch 76:"
     ]
    },
    {
     "name": "stderr",
     "output_type": "stream",
     "text": [
      "100%\n"
     ]
    },
    {
     "name": "stdout",
     "output_type": "stream",
     "text": [
      "\n",
      "  loss 0.0492344016535\n",
      "  err  0.0116120218579\n",
      "  (0:00:06)\n",
      "Epoch 77:"
     ]
    },
    {
     "name": "stderr",
     "output_type": "stream",
     "text": [
      "100%\n"
     ]
    },
    {
     "name": "stdout",
     "output_type": "stream",
     "text": [
      "\n",
      "  loss 0.0485727893554\n",
      "  err  0.0117614412568\n",
      "  (0:00:06)\n",
      "Epoch 78:"
     ]
    },
    {
     "name": "stderr",
     "output_type": "stream",
     "text": [
      "100%\n"
     ]
    },
    {
     "name": "stdout",
     "output_type": "stream",
     "text": [
      "\n",
      "  loss 0.0502685980936\n",
      "  err  0.0120602800546\n",
      "  (0:00:06)\n",
      "Epoch 79:"
     ]
    },
    {
     "name": "stderr",
     "output_type": "stream",
     "text": [
      "100%\n"
     ]
    },
    {
     "name": "stdout",
     "output_type": "stream",
     "text": [
      "\n",
      "  loss 0.051556781552\n",
      "  err  0.0126366120219\n",
      "  (0:00:06)\n",
      "Epoch 80:"
     ]
    },
    {
     "name": "stderr",
     "output_type": "stream",
     "text": [
      "100%\n"
     ]
    },
    {
     "name": "stdout",
     "output_type": "stream",
     "text": [
      "\n",
      "  loss 0.0492101134185\n",
      "  err  0.0110356898907\n",
      "  (0:00:07)\n",
      "Epoch 81:"
     ]
    },
    {
     "name": "stderr",
     "output_type": "stream",
     "text": [
      "100%\n"
     ]
    },
    {
     "name": "stdout",
     "output_type": "stream",
     "text": [
      "\n",
      "  loss 0.0488571881436\n",
      "  err  0.0114199112022\n",
      "  (0:00:06)\n",
      "Epoch 82:"
     ]
    },
    {
     "name": "stderr",
     "output_type": "stream",
     "text": [
      "100%\n"
     ]
    },
    {
     "name": "stdout",
     "output_type": "stream",
     "text": [
      "\n",
      "  loss 0.0504408535723\n",
      "  err  0.0119108606557\n",
      "  (0:00:07)\n",
      "Epoch 83:"
     ]
    },
    {
     "name": "stderr",
     "output_type": "stream",
     "text": [
      "100%\n"
     ]
    },
    {
     "name": "stdout",
     "output_type": "stream",
     "text": [
      "\n",
      "  loss 0.0480929198446\n",
      "  err  0.0112918374317\n",
      "  (0:00:07)\n",
      "Epoch 84:"
     ]
    },
    {
     "name": "stderr",
     "output_type": "stream",
     "text": [
      "100%\n"
     ]
    },
    {
     "name": "stdout",
     "output_type": "stream",
     "text": [
      "\n",
      "  loss 0.0486106668056\n",
      "  err  0.0111637636612\n",
      "  (0:00:07)\n",
      "Epoch 85:"
     ]
    },
    {
     "name": "stderr",
     "output_type": "stream",
     "text": [
      "100%\n"
     ]
    },
    {
     "name": "stdout",
     "output_type": "stream",
     "text": [
      "\n",
      "  loss 0.0504939691768\n",
      "  err  0.0123591188525\n",
      "  (0:00:07)\n",
      "Epoch 86:"
     ]
    },
    {
     "name": "stderr",
     "output_type": "stream",
     "text": [
      "100%\n"
     ]
    },
    {
     "name": "stdout",
     "output_type": "stream",
     "text": [
      "\n",
      "  loss 0.0505683805852\n",
      "  err  0.0116333674863\n",
      "  (0:00:07)\n",
      "Epoch 87:"
     ]
    },
    {
     "name": "stderr",
     "output_type": "stream",
     "text": [
      "100%\n"
     ]
    },
    {
     "name": "stdout",
     "output_type": "stream",
     "text": [
      "\n",
      "  loss 0.0495635733833\n",
      "  err  0.0122523907104\n",
      "  (0:00:07)\n",
      "Epoch 88:"
     ]
    },
    {
     "name": "stderr",
     "output_type": "stream",
     "text": [
      "100%\n"
     ]
    },
    {
     "name": "stdout",
     "output_type": "stream",
     "text": [
      "\n",
      "  loss 0.0484810289437\n",
      "  err  0.0112704918033\n",
      "  (0:00:07)\n",
      "Epoch 89:"
     ]
    },
    {
     "name": "stderr",
     "output_type": "stream",
     "text": [
      "100%\n"
     ]
    },
    {
     "name": "stdout",
     "output_type": "stream",
     "text": [
      "\n",
      "  loss 0.0527064129488\n",
      "  err  0.0125725751366\n",
      "  (0:00:06)\n",
      "Epoch 90:"
     ]
    },
    {
     "name": "stderr",
     "output_type": "stream",
     "text": [
      "100%\n"
     ]
    },
    {
     "name": "stdout",
     "output_type": "stream",
     "text": [
      "\n",
      "  loss 0.0482768714994\n",
      "  err  0.0111424180328\n",
      "  (0:00:07)\n",
      "Epoch 91:"
     ]
    },
    {
     "name": "stderr",
     "output_type": "stream",
     "text": [
      "100%\n"
     ]
    },
    {
     "name": "stdout",
     "output_type": "stream",
     "text": [
      "\n",
      "  loss 0.0501981932216\n",
      "  err  0.0116974043716\n",
      "  (0:00:06)\n",
      "Epoch 92:"
     ]
    },
    {
     "name": "stderr",
     "output_type": "stream",
     "text": [
      "100%\n"
     ]
    },
    {
     "name": "stdout",
     "output_type": "stream",
     "text": [
      "\n",
      "  loss 0.0503788712686\n",
      "  err  0.0119108606557\n",
      "  (0:00:07)\n",
      "Epoch 93:"
     ]
    },
    {
     "name": "stderr",
     "output_type": "stream",
     "text": [
      "100%\n"
     ]
    },
    {
     "name": "stdout",
     "output_type": "stream",
     "text": [
      "\n",
      "  loss 0.0508723249449\n",
      "  err  0.0124231557377\n",
      "  (0:00:07)\n",
      "Epoch 94:"
     ]
    },
    {
     "name": "stderr",
     "output_type": "stream",
     "text": [
      "100%\n"
     ]
    },
    {
     "name": "stdout",
     "output_type": "stream",
     "text": [
      "\n",
      "  loss 0.0498046751612\n",
      "  err  0.0115906762295\n",
      "  (0:00:07)\n",
      "Epoch 95:"
     ]
    },
    {
     "name": "stderr",
     "output_type": "stream",
     "text": [
      "100%\n"
     ]
    },
    {
     "name": "stdout",
     "output_type": "stream",
     "text": [
      "\n",
      "  loss 0.0498483787365\n",
      "  err  0.0118468237705\n",
      "  (0:00:07)\n",
      "Epoch 96:"
     ]
    },
    {
     "name": "stderr",
     "output_type": "stream",
     "text": [
      "100%\n"
     ]
    },
    {
     "name": "stdout",
     "output_type": "stream",
     "text": [
      "\n",
      "  loss 0.050015798324\n",
      "  err  0.0119535519126\n",
      "  (0:00:07)\n",
      "Epoch 97:"
     ]
    },
    {
     "name": "stderr",
     "output_type": "stream",
     "text": [
      "100%\n"
     ]
    },
    {
     "name": "stdout",
     "output_type": "stream",
     "text": [
      "\n",
      "  loss 0.0497866803729\n",
      "  err  0.0109929986339\n",
      "  (0:00:08)\n",
      "Epoch 98:"
     ]
    },
    {
     "name": "stderr",
     "output_type": "stream",
     "text": [
      "100%\n"
     ]
    },
    {
     "name": "stdout",
     "output_type": "stream",
     "text": [
      "\n",
      "  loss 0.0514068255504\n",
      "  err  0.0122096994536\n",
      "  (0:00:07)\n",
      "Epoch 99:"
     ]
    },
    {
     "name": "stderr",
     "output_type": "stream",
     "text": [
      "100%\n"
     ]
    },
    {
     "name": "stdout",
     "output_type": "stream",
     "text": [
      "\n",
      "  loss 0.0499495779122\n",
      "  err  0.0113345286885\n",
      "  (0:00:07)\n",
      "Epoch 100:"
     ]
    },
    {
     "name": "stderr",
     "output_type": "stream",
     "text": [
      "100%\n"
     ]
    },
    {
     "name": "stdout",
     "output_type": "stream",
     "text": [
      "\n",
      "  loss 0.049502778937\n",
      "  err  0.0119962431694\n",
      "  (0:00:07)\n",
      "Epoch 101:"
     ]
    },
    {
     "name": "stderr",
     "output_type": "stream",
     "text": [
      "100%\n"
     ]
    },
    {
     "name": "stdout",
     "output_type": "stream",
     "text": [
      "\n",
      "  loss 0.0499846006418\n",
      "  err  0.0114839480874\n",
      "  (0:00:07)\n",
      "Epoch 102:"
     ]
    },
    {
     "name": "stderr",
     "output_type": "stream",
     "text": [
      "100%\n"
     ]
    },
    {
     "name": "stdout",
     "output_type": "stream",
     "text": [
      "\n",
      "  loss 0.0499399278715\n",
      "  err  0.0118041325137\n",
      "  (0:00:07)\n",
      "Epoch 103:"
     ]
    },
    {
     "name": "stderr",
     "output_type": "stream",
     "text": [
      "100%\n"
     ]
    },
    {
     "name": "stdout",
     "output_type": "stream",
     "text": [
      "\n",
      "  loss 0.0511863092597\n",
      "  err  0.0118895150273\n",
      "  (0:00:07)\n",
      "Epoch 104:"
     ]
    },
    {
     "name": "stderr",
     "output_type": "stream",
     "text": [
      "100%\n"
     ]
    },
    {
     "name": "stdout",
     "output_type": "stream",
     "text": [
      "\n",
      "  loss 0.0504025924229\n",
      "  err  0.0119108606557\n",
      "  (0:00:07)\n",
      "Epoch 105:"
     ]
    },
    {
     "name": "stderr",
     "output_type": "stream",
     "text": [
      "100%\n"
     ]
    },
    {
     "name": "stdout",
     "output_type": "stream",
     "text": [
      "\n",
      "  loss 0.0502416169388\n",
      "  err  0.0114839480874\n",
      "  (0:00:07)\n",
      "Epoch 106:"
     ]
    },
    {
     "name": "stderr",
     "output_type": "stream",
     "text": [
      "100%\n"
     ]
    },
    {
     "name": "stdout",
     "output_type": "stream",
     "text": [
      "\n",
      "  loss 0.0491164478148\n",
      "  err  0.0113772199454\n",
      "  (0:00:07)\n",
      "Epoch 107:"
     ]
    },
    {
     "name": "stderr",
     "output_type": "stream",
     "text": [
      "100%\n"
     ]
    },
    {
     "name": "stdout",
     "output_type": "stream",
     "text": [
      "\n",
      "  loss 0.0501602214196\n",
      "  err  0.0113131830601\n",
      "  (0:00:07)\n",
      "Epoch 108:"
     ]
    },
    {
     "name": "stderr",
     "output_type": "stream",
     "text": [
      "100%\n"
     ]
    },
    {
     "name": "stdout",
     "output_type": "stream",
     "text": [
      "\n",
      "  loss 0.0487159733365\n",
      "  err  0.010950307377\n",
      "  (0:00:07)\n",
      "Epoch 109:"
     ]
    },
    {
     "name": "stderr",
     "output_type": "stream",
     "text": [
      "100%\n"
     ]
    },
    {
     "name": "stdout",
     "output_type": "stream",
     "text": [
      "\n",
      "  loss 0.0509663925161\n",
      "  err  0.0118468237705\n",
      "  (0:00:06)\n",
      "Epoch 110:"
     ]
    },
    {
     "name": "stderr",
     "output_type": "stream",
     "text": [
      "100%\n"
     ]
    },
    {
     "name": "stdout",
     "output_type": "stream",
     "text": [
      "\n",
      "  loss 0.0483703659567\n",
      "  err  0.0110570355191\n",
      "  (0:00:06)\n",
      "Epoch 111:"
     ]
    },
    {
     "name": "stderr",
     "output_type": "stream",
     "text": [
      "100%\n"
     ]
    },
    {
     "name": "stdout",
     "output_type": "stream",
     "text": [
      "\n",
      "  loss 0.0526046921115\n",
      "  err  0.0118041325137\n",
      "  (0:00:06)\n",
      "Epoch 112:"
     ]
    },
    {
     "name": "stderr",
     "output_type": "stream",
     "text": [
      "100%\n"
     ]
    },
    {
     "name": "stdout",
     "output_type": "stream",
     "text": [
      "\n",
      "  loss 0.0509754922572\n",
      "  err  0.0123591188525\n",
      "  (0:00:07)\n",
      "Epoch 113:"
     ]
    },
    {
     "name": "stderr",
     "output_type": "stream",
     "text": [
      "100%\n"
     ]
    },
    {
     "name": "stdout",
     "output_type": "stream",
     "text": [
      "\n",
      "  loss 0.0491409050555\n",
      "  err  0.0109289617486\n",
      "  (0:00:07)\n",
      "Epoch 114:"
     ]
    },
    {
     "name": "stderr",
     "output_type": "stream",
     "text": [
      "100%\n"
     ]
    },
    {
     "name": "stdout",
     "output_type": "stream",
     "text": [
      "\n",
      "  loss 0.0499582823043\n",
      "  err  0.0113985655738\n",
      "  (0:00:06)\n",
      "Epoch 115:"
     ]
    },
    {
     "name": "stderr",
     "output_type": "stream",
     "text": [
      "100%\n"
     ]
    },
    {
     "name": "stdout",
     "output_type": "stream",
     "text": [
      "\n",
      "  loss 0.0492061110814\n",
      "  err  0.0115479849727\n",
      "  (0:00:07)\n",
      "Epoch 116:"
     ]
    },
    {
     "name": "stderr",
     "output_type": "stream",
     "text": [
      "100%\n"
     ]
    },
    {
     "name": "stdout",
     "output_type": "stream",
     "text": [
      "\n",
      "  loss 0.0508090062576\n",
      "  err  0.0123591188525\n",
      "  (0:00:07)\n",
      "Epoch 117:"
     ]
    },
    {
     "name": "stderr",
     "output_type": "stream",
     "text": [
      "100%\n"
     ]
    },
    {
     "name": "stdout",
     "output_type": "stream",
     "text": [
      "\n",
      "  loss 0.0502316899575\n",
      "  err  0.0115693306011\n",
      "  (0:00:07)\n",
      "Epoch 118:"
     ]
    },
    {
     "name": "stderr",
     "output_type": "stream",
     "text": [
      "100%\n"
     ]
    },
    {
     "name": "stdout",
     "output_type": "stream",
     "text": [
      "\n",
      "  loss 0.0491954980131\n",
      "  err  0.011206454918\n",
      "  (0:00:07)\n",
      "Epoch 119:"
     ]
    },
    {
     "name": "stderr",
     "output_type": "stream",
     "text": [
      "100%\n"
     ]
    },
    {
     "name": "stdout",
     "output_type": "stream",
     "text": [
      "\n",
      "  loss 0.0472271021422\n",
      "  err  0.010843579235\n",
      "  (0:00:07)\n",
      "Epoch 120:"
     ]
    },
    {
     "name": "stderr",
     "output_type": "stream",
     "text": [
      "100%\n"
     ]
    },
    {
     "name": "stdout",
     "output_type": "stream",
     "text": [
      "\n",
      "  loss 0.0505263135601\n",
      "  err  0.0118254781421\n",
      "  (0:00:07)\n",
      "Epoch 121:"
     ]
    },
    {
     "name": "stderr",
     "output_type": "stream",
     "text": [
      "100%\n"
     ]
    },
    {
     "name": "stdout",
     "output_type": "stream",
     "text": [
      "\n",
      "  loss 0.051360843469\n",
      "  err  0.0115906762295\n",
      "  (0:00:07)\n",
      "Epoch 122:"
     ]
    },
    {
     "name": "stderr",
     "output_type": "stream",
     "text": [
      "100%\n"
     ]
    },
    {
     "name": "stdout",
     "output_type": "stream",
     "text": [
      "\n",
      "  loss 0.0487443197027\n",
      "  err  0.0115052937158\n",
      "  (0:00:07)\n",
      "Epoch 123:"
     ]
    },
    {
     "name": "stderr",
     "output_type": "stream",
     "text": [
      "100%\n"
     ]
    },
    {
     "name": "stdout",
     "output_type": "stream",
     "text": [
      "\n",
      "  loss 0.0504776877402\n",
      "  err  0.0113131830601\n",
      "  (0:00:06)\n",
      "Epoch 124:"
     ]
    },
    {
     "name": "stderr",
     "output_type": "stream",
     "text": [
      "100%\n"
     ]
    },
    {
     "name": "stdout",
     "output_type": "stream",
     "text": [
      "\n",
      "  loss 0.0494188256778\n",
      "  err  0.011206454918\n",
      "  (0:00:07)\n",
      "Epoch 125:"
     ]
    },
    {
     "name": "stderr",
     "output_type": "stream",
     "text": [
      "100%\n"
     ]
    },
    {
     "name": "stdout",
     "output_type": "stream",
     "text": [
      "\n",
      "  loss 0.0509756106573\n",
      "  err  0.0118468237705\n",
      "  (0:00:07)\n",
      "Epoch 126:"
     ]
    },
    {
     "name": "stderr",
     "output_type": "stream",
     "text": [
      "100%\n"
     ]
    },
    {
     "name": "stdout",
     "output_type": "stream",
     "text": [
      "\n",
      "  loss 0.0504256732243\n",
      "  err  0.0115693306011\n",
      "  (0:00:07)\n",
      "Epoch 127:"
     ]
    },
    {
     "name": "stderr",
     "output_type": "stream",
     "text": [
      "100%\n"
     ]
    },
    {
     "name": "stdout",
     "output_type": "stream",
     "text": [
      "\n",
      "  loss 0.0509951044958\n",
      "  err  0.0118254781421\n",
      "  (0:00:07)\n",
      "Epoch 128:"
     ]
    },
    {
     "name": "stderr",
     "output_type": "stream",
     "text": [
      "100%\n"
     ]
    },
    {
     "name": "stdout",
     "output_type": "stream",
     "text": [
      "\n",
      "  loss 0.0496411328605\n",
      "  err  0.011974897541\n",
      "  (0:00:06)\n",
      "Epoch 129:"
     ]
    },
    {
     "name": "stderr",
     "output_type": "stream",
     "text": [
      "100%\n"
     ]
    },
    {
     "name": "stdout",
     "output_type": "stream",
     "text": [
      "\n",
      "  loss 0.0501996274348\n",
      "  err  0.0115906762295\n",
      "  (0:00:07)\n",
      "Epoch 130:"
     ]
    },
    {
     "name": "stderr",
     "output_type": "stream",
     "text": [
      "100%\n"
     ]
    },
    {
     "name": "stdout",
     "output_type": "stream",
     "text": [
      "\n",
      "  loss 0.0507578475298\n",
      "  err  0.0116547131148\n",
      "  (0:00:06)\n",
      "Epoch 131:"
     ]
    },
    {
     "name": "stderr",
     "output_type": "stream",
     "text": [
      "100%\n"
     ]
    },
    {
     "name": "stdout",
     "output_type": "stream",
     "text": [
      "\n",
      "  loss 0.0493191975198\n",
      "  err  0.0116974043716\n",
      "  (0:00:06)\n",
      "Epoch 132:"
     ]
    },
    {
     "name": "stderr",
     "output_type": "stream",
     "text": [
      "100%\n"
     ]
    },
    {
     "name": "stdout",
     "output_type": "stream",
     "text": [
      "\n",
      "  loss 0.0493468159945\n",
      "  err  0.0111210724044\n",
      "  (0:00:07)\n",
      "Epoch 133:"
     ]
    },
    {
     "name": "stderr",
     "output_type": "stream",
     "text": [
      "100%\n"
     ]
    },
    {
     "name": "stdout",
     "output_type": "stream",
     "text": [
      "\n",
      "  loss 0.0528174305819\n",
      "  err  0.0127219945355\n",
      "  (0:00:08)\n",
      "Epoch 134:"
     ]
    },
    {
     "name": "stderr",
     "output_type": "stream",
     "text": [
      "100%\n"
     ]
    },
    {
     "name": "stdout",
     "output_type": "stream",
     "text": [
      "\n",
      "  loss 0.0499359456748\n",
      "  err  0.0116120218579\n",
      "  (0:00:09)\n",
      "Epoch 135:"
     ]
    },
    {
     "name": "stderr",
     "output_type": "stream",
     "text": [
      "100%\n"
     ]
    },
    {
     "name": "stdout",
     "output_type": "stream",
     "text": [
      "\n",
      "  loss 0.0502331449238\n",
      "  err  0.0115693306011\n",
      "  (0:00:07)\n",
      "Epoch 136:"
     ]
    },
    {
     "name": "stderr",
     "output_type": "stream",
     "text": [
      "100%\n"
     ]
    },
    {
     "name": "stdout",
     "output_type": "stream",
     "text": [
      "\n",
      "  loss 0.0497161746916\n",
      "  err  0.0115266393443\n",
      "  (0:00:07)\n",
      "Epoch 137:"
     ]
    },
    {
     "name": "stderr",
     "output_type": "stream",
     "text": [
      "100%\n"
     ]
    },
    {
     "name": "stdout",
     "output_type": "stream",
     "text": [
      "\n",
      "  loss 0.0507891478432\n",
      "  err  0.0119322062842\n",
      "  (0:00:07)\n",
      "Epoch 138:"
     ]
    },
    {
     "name": "stderr",
     "output_type": "stream",
     "text": [
      "100%\n"
     ]
    },
    {
     "name": "stdout",
     "output_type": "stream",
     "text": [
      "\n",
      "  loss 0.0524549048446\n",
      "  err  0.0121243169399\n",
      "  (0:00:07)\n",
      "Epoch 139:"
     ]
    },
    {
     "name": "stderr",
     "output_type": "stream",
     "text": [
      "100%\n"
     ]
    },
    {
     "name": "stdout",
     "output_type": "stream",
     "text": [
      "\n",
      "  loss 0.050556717646\n",
      "  err  0.0119535519126\n",
      "  (0:00:07)\n",
      "Epoch 140:"
     ]
    },
    {
     "name": "stderr",
     "output_type": "stream",
     "text": [
      "100%\n"
     ]
    },
    {
     "name": "stdout",
     "output_type": "stream",
     "text": [
      "\n",
      "  loss 0.0501314070218\n",
      "  err  0.0117614412568\n",
      "  (0:00:07)\n",
      "Epoch 141:"
     ]
    },
    {
     "name": "stderr",
     "output_type": "stream",
     "text": [
      "100%\n"
     ]
    },
    {
     "name": "stdout",
     "output_type": "stream",
     "text": [
      "\n",
      "  loss 0.0499729871822\n",
      "  err  0.0118895150273\n",
      "  (0:00:07)\n",
      "Epoch 142:"
     ]
    },
    {
     "name": "stderr",
     "output_type": "stream",
     "text": [
      "100%\n"
     ]
    },
    {
     "name": "stdout",
     "output_type": "stream",
     "text": [
      "\n",
      "  loss 0.0524305838817\n",
      "  err  0.012487192623\n",
      "  (0:00:07)\n",
      "Epoch 143:"
     ]
    },
    {
     "name": "stderr",
     "output_type": "stream",
     "text": [
      "100%\n"
     ]
    },
    {
     "name": "stdout",
     "output_type": "stream",
     "text": [
      "\n",
      "  loss 0.0508016371085\n",
      "  err  0.0122096994536\n",
      "  (0:00:07)\n",
      "Epoch 144:"
     ]
    },
    {
     "name": "stderr",
     "output_type": "stream",
     "text": [
      "100%\n"
     ]
    },
    {
     "name": "stdout",
     "output_type": "stream",
     "text": [
      "\n",
      "  loss 0.0487736085604\n",
      "  err  0.0114839480874\n",
      "  (0:00:07)\n",
      "Epoch 145:"
     ]
    },
    {
     "name": "stderr",
     "output_type": "stream",
     "text": [
      "100%\n"
     ]
    },
    {
     "name": "stdout",
     "output_type": "stream",
     "text": [
      "\n",
      "  loss 0.0492291094842\n",
      "  err  0.0112278005464\n",
      "  (0:00:06)\n",
      "Epoch 146:"
     ]
    },
    {
     "name": "stderr",
     "output_type": "stream",
     "text": [
      "100%\n"
     ]
    },
    {
     "name": "stdout",
     "output_type": "stream",
     "text": [
      "\n",
      "  loss 0.0510549071471\n",
      "  err  0.0120816256831\n",
      "  (0:00:07)\n",
      "Epoch 147:"
     ]
    },
    {
     "name": "stderr",
     "output_type": "stream",
     "text": [
      "100%\n"
     ]
    },
    {
     "name": "stdout",
     "output_type": "stream",
     "text": [
      "\n",
      "  loss 0.0494225744446\n",
      "  err  0.0114412568306\n",
      "  (0:00:07)\n",
      "Epoch 148:"
     ]
    },
    {
     "name": "stderr",
     "output_type": "stream",
     "text": [
      "100%\n"
     ]
    },
    {
     "name": "stdout",
     "output_type": "stream",
     "text": [
      "\n",
      "  loss 0.0481642678557\n",
      "  err  0.0109716530055\n",
      "  (0:00:07)\n",
      "Epoch 149:"
     ]
    },
    {
     "name": "stderr",
     "output_type": "stream",
     "text": [
      "100%\n"
     ]
    },
    {
     "name": "stdout",
     "output_type": "stream",
     "text": [
      "\n",
      "  loss 0.0510784297548\n",
      "  err  0.0122950819672\n",
      "  (0:00:07)\n",
      "Epoch 150:"
     ]
    },
    {
     "name": "stderr",
     "output_type": "stream",
     "text": [
      "100%\n"
     ]
    },
    {
     "name": "stdout",
     "output_type": "stream",
     "text": [
      "\n",
      "  loss 0.0509285974886\n",
      "  err  0.0122096994536\n",
      "  (0:00:07)\n",
      "Epoch 151:"
     ]
    },
    {
     "name": "stderr",
     "output_type": "stream",
     "text": [
      "100%\n"
     ]
    },
    {
     "name": "stdout",
     "output_type": "stream",
     "text": [
      "\n",
      "  loss 0.049324102986\n",
      "  err  0.01171875\n",
      "  (0:00:06)\n",
      "Epoch 152:"
     ]
    },
    {
     "name": "stderr",
     "output_type": "stream",
     "text": [
      "100%\n"
     ]
    },
    {
     "name": "stdout",
     "output_type": "stream",
     "text": [
      "\n",
      "  loss 0.0490994424256\n",
      "  err  0.0114412568306\n",
      "  (0:00:07)\n",
      "Epoch 153:"
     ]
    },
    {
     "name": "stderr",
     "output_type": "stream",
     "text": [
      "100%\n"
     ]
    },
    {
     "name": "stdout",
     "output_type": "stream",
     "text": [
      "\n",
      "  loss 0.0480386513639\n",
      "  err  0.0109929986339\n",
      "  (0:00:07)\n",
      "Epoch 154:"
     ]
    },
    {
     "name": "stderr",
     "output_type": "stream",
     "text": [
      "100%\n"
     ]
    },
    {
     "name": "stdout",
     "output_type": "stream",
     "text": [
      "\n",
      "  loss 0.0508999413533\n",
      "  err  0.0120175887978\n",
      "  (0:00:07)\n",
      "Epoch 155:"
     ]
    },
    {
     "name": "stderr",
     "output_type": "stream",
     "text": [
      "100%\n"
     ]
    },
    {
     "name": "stdout",
     "output_type": "stream",
     "text": [
      "\n",
      "  loss 0.0503037777364\n",
      "  err  0.0114412568306\n",
      "  (0:00:07)\n",
      "Epoch 156:"
     ]
    },
    {
     "name": "stderr",
     "output_type": "stream",
     "text": [
      "100%\n"
     ]
    },
    {
     "name": "stdout",
     "output_type": "stream",
     "text": [
      "\n",
      "  loss 0.0506360212041\n",
      "  err  0.0113772199454\n",
      "  (0:00:07)\n",
      "Epoch 157:"
     ]
    },
    {
     "name": "stderr",
     "output_type": "stream",
     "text": [
      "100%\n"
     ]
    },
    {
     "name": "stdout",
     "output_type": "stream",
     "text": [
      "\n",
      "  loss 0.0513531301626\n",
      "  err  0.0120602800546\n",
      "  (0:00:07)\n",
      "Epoch 158:"
     ]
    },
    {
     "name": "stderr",
     "output_type": "stream",
     "text": [
      "100%\n"
     ]
    },
    {
     "name": "stdout",
     "output_type": "stream",
     "text": [
      "\n",
      "  loss 0.049666257126\n",
      "  err  0.0113558743169\n",
      "  (0:00:07)\n",
      "Epoch 159:"
     ]
    },
    {
     "name": "stderr",
     "output_type": "stream",
     "text": [
      "100%\n"
     ]
    },
    {
     "name": "stdout",
     "output_type": "stream",
     "text": [
      "\n",
      "  loss 0.051919741014\n",
      "  err  0.0122950819672\n",
      "  (0:00:07)\n",
      "Epoch 160:"
     ]
    },
    {
     "name": "stderr",
     "output_type": "stream",
     "text": [
      "100%\n"
     ]
    },
    {
     "name": "stdout",
     "output_type": "stream",
     "text": [
      "\n",
      "  loss 0.0506863117694\n",
      "  err  0.0117400956284\n",
      "  (0:00:07)\n",
      "Epoch 161:"
     ]
    },
    {
     "name": "stderr",
     "output_type": "stream",
     "text": [
      "100%\n"
     ]
    },
    {
     "name": "stdout",
     "output_type": "stream",
     "text": [
      "\n",
      "  loss 0.0510567859575\n",
      "  err  0.0115052937158\n",
      "  (0:00:07)\n",
      "Epoch 162:"
     ]
    },
    {
     "name": "stderr",
     "output_type": "stream",
     "text": [
      "100%\n"
     ]
    },
    {
     "name": "stdout",
     "output_type": "stream",
     "text": [
      "\n",
      "  loss 0.0501529934989\n",
      "  err  0.0118041325137\n",
      "  (0:00:07)\n",
      "Epoch 163:"
     ]
    },
    {
     "name": "stderr",
     "output_type": "stream",
     "text": [
      "100%\n"
     ]
    },
    {
     "name": "stdout",
     "output_type": "stream",
     "text": [
      "\n",
      "  loss 0.0495464904806\n",
      "  err  0.0116120218579\n",
      "  (0:00:07)\n",
      "Epoch 164:"
     ]
    },
    {
     "name": "stderr",
     "output_type": "stream",
     "text": [
      "100%\n"
     ]
    },
    {
     "name": "stdout",
     "output_type": "stream",
     "text": [
      "\n",
      "  loss 0.0506851262034\n",
      "  err  0.0118041325137\n",
      "  (0:00:07)\n",
      "Epoch 165:"
     ]
    },
    {
     "name": "stderr",
     "output_type": "stream",
     "text": [
      "100%\n"
     ]
    },
    {
     "name": "stdout",
     "output_type": "stream",
     "text": [
      "\n",
      "  loss 0.0497131138713\n",
      "  err  0.0115693306011\n",
      "  (0:00:07)\n",
      "Epoch 166:"
     ]
    },
    {
     "name": "stderr",
     "output_type": "stream",
     "text": [
      "100%\n"
     ]
    },
    {
     "name": "stdout",
     "output_type": "stream",
     "text": [
      "\n",
      "  loss 0.0508165735728\n",
      "  err  0.0122737363388\n",
      "  (0:00:07)\n",
      "Epoch 167:"
     ]
    },
    {
     "name": "stderr",
     "output_type": "stream",
     "text": [
      "100%\n"
     ]
    },
    {
     "name": "stdout",
     "output_type": "stream",
     "text": [
      "\n",
      "  loss 0.0504663349657\n",
      "  err  0.0121029713115\n",
      "  (0:00:07)\n",
      "Epoch 168:"
     ]
    },
    {
     "name": "stderr",
     "output_type": "stream",
     "text": [
      "100%\n"
     ]
    },
    {
     "name": "stdout",
     "output_type": "stream",
     "text": [
      "\n",
      "  loss 0.0496776331524\n",
      "  err  0.0109076161202\n",
      "  (0:00:07)\n",
      "Epoch 169:"
     ]
    },
    {
     "name": "stderr",
     "output_type": "stream",
     "text": [
      "100%\n"
     ]
    },
    {
     "name": "stdout",
     "output_type": "stream",
     "text": [
      "\n",
      "  loss 0.0502333519923\n",
      "  err  0.0117400956284\n",
      "  (0:00:07)\n",
      "Epoch 170:"
     ]
    },
    {
     "name": "stderr",
     "output_type": "stream",
     "text": [
      "100%\n"
     ]
    },
    {
     "name": "stdout",
     "output_type": "stream",
     "text": [
      "\n",
      "  loss 0.0501132326314\n",
      "  err  0.0121456625683\n",
      "  (0:00:07)\n",
      "Epoch 171:"
     ]
    },
    {
     "name": "stderr",
     "output_type": "stream",
     "text": [
      "100%\n"
     ]
    },
    {
     "name": "stdout",
     "output_type": "stream",
     "text": [
      "\n",
      "  loss 0.0484849282679\n",
      "  err  0.0108862704918\n",
      "  (0:00:07)\n",
      "Epoch 172:"
     ]
    },
    {
     "name": "stderr",
     "output_type": "stream",
     "text": [
      "100%\n"
     ]
    },
    {
     "name": "stdout",
     "output_type": "stream",
     "text": [
      "\n",
      "  loss 0.0498018857054\n",
      "  err  0.0113345286885\n",
      "  (0:00:07)\n",
      "Epoch 173:"
     ]
    },
    {
     "name": "stderr",
     "output_type": "stream",
     "text": [
      "100%\n"
     ]
    },
    {
     "name": "stdout",
     "output_type": "stream",
     "text": [
      "\n",
      "  loss 0.0505341369445\n",
      "  err  0.0118895150273\n",
      "  (0:00:07)\n",
      "Epoch 174:"
     ]
    },
    {
     "name": "stderr",
     "output_type": "stream",
     "text": [
      "100%\n"
     ]
    },
    {
     "name": "stdout",
     "output_type": "stream",
     "text": [
      "\n",
      "  loss 0.0495719978016\n",
      "  err  0.0115906762295\n",
      "  (0:00:07)\n",
      "Epoch 175:"
     ]
    },
    {
     "name": "stderr",
     "output_type": "stream",
     "text": [
      "100%\n"
     ]
    },
    {
     "name": "stdout",
     "output_type": "stream",
     "text": [
      "\n",
      "  loss 0.0514150606036\n",
      "  err  0.01171875\n",
      "  (0:00:07)\n",
      "Epoch 176:"
     ]
    },
    {
     "name": "stderr",
     "output_type": "stream",
     "text": [
      "100%\n"
     ]
    },
    {
     "name": "stdout",
     "output_type": "stream",
     "text": [
      "\n",
      "  loss 0.0498682223648\n",
      "  err  0.0117400956284\n",
      "  (0:00:07)\n",
      "Epoch 177:"
     ]
    },
    {
     "name": "stderr",
     "output_type": "stream",
     "text": [
      "100%\n"
     ]
    },
    {
     "name": "stdout",
     "output_type": "stream",
     "text": [
      "\n",
      "  loss 0.0514163339645\n",
      "  err  0.0118895150273\n",
      "  (0:00:07)\n",
      "Epoch 178:"
     ]
    },
    {
     "name": "stderr",
     "output_type": "stream",
     "text": [
      "100%\n"
     ]
    },
    {
     "name": "stdout",
     "output_type": "stream",
     "text": [
      "\n",
      "  loss 0.0512010044255\n",
      "  err  0.0124445013661\n",
      "  (0:00:07)\n",
      "Epoch 179:"
     ]
    },
    {
     "name": "stderr",
     "output_type": "stream",
     "text": [
      "100%\n"
     ]
    },
    {
     "name": "stdout",
     "output_type": "stream",
     "text": [
      "\n",
      "  loss 0.0486098712748\n",
      "  err  0.0111210724044\n",
      "  (0:00:07)\n",
      "Epoch 180:"
     ]
    },
    {
     "name": "stderr",
     "output_type": "stream",
     "text": [
      "100%\n"
     ]
    },
    {
     "name": "stdout",
     "output_type": "stream",
     "text": [
      "\n",
      "  loss 0.0496798690601\n",
      "  err  0.0113131830601\n",
      "  (0:00:07)\n",
      "Epoch 181:"
     ]
    },
    {
     "name": "stderr",
     "output_type": "stream",
     "text": [
      "100%\n"
     ]
    },
    {
     "name": "stdout",
     "output_type": "stream",
     "text": [
      "\n",
      "  loss 0.0503540183316\n",
      "  err  0.0115266393443\n",
      "  (0:00:07)\n",
      "Epoch 182:"
     ]
    },
    {
     "name": "stderr",
     "output_type": "stream",
     "text": [
      "100%\n"
     ]
    },
    {
     "name": "stdout",
     "output_type": "stream",
     "text": [
      "\n",
      "  loss 0.0524816799252\n",
      "  err  0.012487192623\n",
      "  (0:00:08)\n",
      "Epoch 183:"
     ]
    },
    {
     "name": "stderr",
     "output_type": "stream",
     "text": [
      "100%\n"
     ]
    },
    {
     "name": "stdout",
     "output_type": "stream",
     "text": [
      "\n",
      "  loss 0.051560939282\n",
      "  err  0.0120602800546\n",
      "  (0:00:07)\n",
      "Epoch 184:"
     ]
    },
    {
     "name": "stderr",
     "output_type": "stream",
     "text": [
      "100%\n"
     ]
    },
    {
     "name": "stdout",
     "output_type": "stream",
     "text": [
      "\n",
      "  loss 0.0500074561019\n",
      "  err  0.0122737363388\n",
      "  (0:00:08)\n",
      "Epoch 185:"
     ]
    },
    {
     "name": "stderr",
     "output_type": "stream",
     "text": [
      "100%\n"
     ]
    },
    {
     "name": "stdout",
     "output_type": "stream",
     "text": [
      "\n",
      "  loss 0.0498597675443\n",
      "  err  0.0118254781421\n",
      "  (0:00:09)\n",
      "Epoch 186:"
     ]
    },
    {
     "name": "stderr",
     "output_type": "stream",
     "text": [
      "100%\n"
     ]
    },
    {
     "name": "stdout",
     "output_type": "stream",
     "text": [
      "\n",
      "  loss 0.0489506664008\n",
      "  err  0.0118041325137\n",
      "  (0:00:14)\n",
      "Epoch 187:"
     ]
    },
    {
     "name": "stderr",
     "output_type": "stream",
     "text": [
      "100%\n"
     ]
    },
    {
     "name": "stdout",
     "output_type": "stream",
     "text": [
      "\n",
      "  loss 0.0499758651827\n",
      "  err  0.0114839480874\n",
      "  (0:00:08)\n",
      "Epoch 188:"
     ]
    },
    {
     "name": "stderr",
     "output_type": "stream",
     "text": [
      "100%\n"
     ]
    },
    {
     "name": "stdout",
     "output_type": "stream",
     "text": [
      "\n",
      "  loss 0.0484744500352\n",
      "  err  0.0117400956284\n",
      "  (0:00:08)\n",
      "Epoch 189:"
     ]
    },
    {
     "name": "stderr",
     "output_type": "stream",
     "text": [
      "100%\n"
     ]
    },
    {
     "name": "stdout",
     "output_type": "stream",
     "text": [
      "\n",
      "  loss 0.050884062563\n",
      "  err  0.01171875\n",
      "  (0:00:08)\n",
      "Epoch 190:"
     ]
    },
    {
     "name": "stderr",
     "output_type": "stream",
     "text": [
      "100%\n"
     ]
    },
    {
     "name": "stdout",
     "output_type": "stream",
     "text": [
      "\n",
      "  loss 0.0500720708861\n",
      "  err  0.0116120218579\n",
      "  (0:00:07)\n",
      "Epoch 191:"
     ]
    },
    {
     "name": "stderr",
     "output_type": "stream",
     "text": [
      "100%\n"
     ]
    },
    {
     "name": "stdout",
     "output_type": "stream",
     "text": [
      "\n",
      "  loss 0.0484472245908\n",
      "  err  0.0110143442623\n",
      "  (0:00:07)\n",
      "Epoch 192:"
     ]
    },
    {
     "name": "stderr",
     "output_type": "stream",
     "text": [
      "100%\n"
     ]
    },
    {
     "name": "stdout",
     "output_type": "stream",
     "text": [
      "\n",
      "  loss 0.050796996949\n",
      "  err  0.0123804644809\n",
      "  (0:00:07)\n",
      "Epoch 193:"
     ]
    },
    {
     "name": "stderr",
     "output_type": "stream",
     "text": [
      "100%\n"
     ]
    },
    {
     "name": "stdout",
     "output_type": "stream",
     "text": [
      "\n",
      "  loss 0.0490771630153\n",
      "  err  0.0121456625683\n",
      "  (0:00:07)\n",
      "Epoch 194:"
     ]
    },
    {
     "name": "stderr",
     "output_type": "stream",
     "text": [
      "100%\n"
     ]
    },
    {
     "name": "stdout",
     "output_type": "stream",
     "text": [
      "\n",
      "  loss 0.0495293110169\n",
      "  err  0.0113772199454\n",
      "  (0:00:08)\n",
      "Epoch 195:"
     ]
    },
    {
     "name": "stderr",
     "output_type": "stream",
     "text": [
      "100%\n"
     ]
    },
    {
     "name": "stdout",
     "output_type": "stream",
     "text": [
      "\n",
      "  loss 0.0487713256649\n",
      "  err  0.0116974043716\n",
      "  (0:00:07)\n",
      "Epoch 196:"
     ]
    },
    {
     "name": "stderr",
     "output_type": "stream",
     "text": [
      "100%\n"
     ]
    },
    {
     "name": "stdout",
     "output_type": "stream",
     "text": [
      "\n",
      "  loss 0.050258159243\n",
      "  err  0.0122950819672\n",
      "  (0:00:07)\n",
      "Epoch 197:"
     ]
    },
    {
     "name": "stderr",
     "output_type": "stream",
     "text": [
      "100%\n"
     ]
    },
    {
     "name": "stdout",
     "output_type": "stream",
     "text": [
      "\n",
      "  loss 0.0520754620965\n",
      "  err  0.0121883538251\n",
      "  (0:00:08)\n",
      "Epoch 198:"
     ]
    },
    {
     "name": "stderr",
     "output_type": "stream",
     "text": [
      "100%\n"
     ]
    },
    {
     "name": "stdout",
     "output_type": "stream",
     "text": [
      "\n",
      "  loss 0.0507686280116\n",
      "  err  0.0122737363388\n",
      "  (0:00:08)\n",
      "Epoch 199:"
     ]
    },
    {
     "name": "stderr",
     "output_type": "stream",
     "text": [
      "100%\n"
     ]
    },
    {
     "name": "stdout",
     "output_type": "stream",
     "text": [
      "\n",
      "  loss 0.0497930503611\n",
      "  err  0.0118041325137\n",
      "  (0:00:11)\n",
      "Epoch 200:"
     ]
    },
    {
     "name": "stderr",
     "output_type": "stream",
     "text": [
      "100%\n"
     ]
    },
    {
     "name": "stdout",
     "output_type": "stream",
     "text": [
      "\n",
      "  loss 0.0498966457757\n",
      "  err  0.0116547131148\n",
      "  (0:00:08)\n",
      "Epoch 201:"
     ]
    },
    {
     "name": "stderr",
     "output_type": "stream",
     "text": [
      "100%\n"
     ]
    },
    {
     "name": "stdout",
     "output_type": "stream",
     "text": [
      "\n",
      "  loss 0.051889432112\n",
      "  err  0.0123804644809\n",
      "  (0:00:07)\n",
      "Epoch 202:"
     ]
    },
    {
     "name": "stderr",
     "output_type": "stream",
     "text": [
      "100%\n"
     ]
    },
    {
     "name": "stdout",
     "output_type": "stream",
     "text": [
      "\n",
      "  loss 0.0496989346906\n",
      "  err  0.0118681693989\n",
      "  (0:00:07)\n",
      "Epoch 203:"
     ]
    },
    {
     "name": "stderr",
     "output_type": "stream",
     "text": [
      "100%\n"
     ]
    },
    {
     "name": "stdout",
     "output_type": "stream",
     "text": [
      "\n",
      "  loss 0.0506168593795\n",
      "  err  0.01171875\n",
      "  (0:00:07)\n",
      "Epoch 204:"
     ]
    },
    {
     "name": "stderr",
     "output_type": "stream",
     "text": [
      "100%\n"
     ]
    },
    {
     "name": "stdout",
     "output_type": "stream",
     "text": [
      "\n",
      "  loss 0.0493622778564\n",
      "  err  0.0111851092896\n",
      "  (0:00:07)\n",
      "Epoch 205:"
     ]
    },
    {
     "name": "stderr",
     "output_type": "stream",
     "text": [
      "100%\n"
     ]
    },
    {
     "name": "stdout",
     "output_type": "stream",
     "text": [
      "\n",
      "  loss 0.0499382914608\n",
      "  err  0.0120175887978\n",
      "  (0:00:07)\n",
      "Epoch 206:"
     ]
    },
    {
     "name": "stderr",
     "output_type": "stream",
     "text": [
      "100%\n"
     ]
    },
    {
     "name": "stdout",
     "output_type": "stream",
     "text": [
      "\n",
      "  loss 0.0487163555408\n",
      "  err  0.0107368510929\n",
      "  (0:00:07)\n",
      "Epoch 207:"
     ]
    },
    {
     "name": "stderr",
     "output_type": "stream",
     "text": [
      "100%\n"
     ]
    },
    {
     "name": "stdout",
     "output_type": "stream",
     "text": [
      "\n",
      "  loss 0.0490731110636\n",
      "  err  0.011462602459\n",
      "  (0:00:07)\n",
      "Epoch 208:"
     ]
    },
    {
     "name": "stderr",
     "output_type": "stream",
     "text": [
      "100%\n"
     ]
    },
    {
     "name": "stdout",
     "output_type": "stream",
     "text": [
      "\n",
      "  loss 0.0495111989392\n",
      "  err  0.0121456625683\n",
      "  (0:00:07)\n",
      "Epoch 209:"
     ]
    },
    {
     "name": "stderr",
     "output_type": "stream",
     "text": [
      "100%\n"
     ]
    },
    {
     "name": "stdout",
     "output_type": "stream",
     "text": [
      "\n",
      "  loss 0.0501960698207\n",
      "  err  0.0120816256831\n",
      "  (0:00:07)\n",
      "Epoch 210:"
     ]
    },
    {
     "name": "stderr",
     "output_type": "stream",
     "text": [
      "100%\n"
     ]
    },
    {
     "name": "stdout",
     "output_type": "stream",
     "text": [
      "\n",
      "  loss 0.0510030075465\n",
      "  err  0.012231045082\n",
      "  (0:00:07)\n",
      "Epoch 211:"
     ]
    },
    {
     "name": "stderr",
     "output_type": "stream",
     "text": [
      "100%\n"
     ]
    },
    {
     "name": "stdout",
     "output_type": "stream",
     "text": [
      "\n",
      "  loss 0.0502827696584\n",
      "  err  0.0113131830601\n",
      "  (0:00:08)\n",
      "Epoch 212:"
     ]
    },
    {
     "name": "stderr",
     "output_type": "stream",
     "text": [
      "100%\n"
     ]
    },
    {
     "name": "stdout",
     "output_type": "stream",
     "text": [
      "\n",
      "  loss 0.0485733880908\n",
      "  err  0.0110356898907\n",
      "  (0:00:08)\n",
      "Epoch 213:"
     ]
    },
    {
     "name": "stderr",
     "output_type": "stream",
     "text": [
      "100%\n"
     ]
    },
    {
     "name": "stdout",
     "output_type": "stream",
     "text": [
      "\n",
      "  loss 0.0490130639299\n",
      "  err  0.0116333674863\n",
      "  (0:00:07)\n",
      "Epoch 214:"
     ]
    },
    {
     "name": "stderr",
     "output_type": "stream",
     "text": [
      "100%\n"
     ]
    },
    {
     "name": "stdout",
     "output_type": "stream",
     "text": [
      "\n",
      "  loss 0.0523703994816\n",
      "  err  0.012593920765\n",
      "  (0:00:08)\n",
      "Epoch 215:"
     ]
    },
    {
     "name": "stderr",
     "output_type": "stream",
     "text": [
      "100%\n"
     ]
    },
    {
     "name": "stdout",
     "output_type": "stream",
     "text": [
      "\n",
      "  loss 0.0514407985299\n",
      "  err  0.0123804644809\n",
      "  (0:00:08)\n",
      "Epoch 216:"
     ]
    },
    {
     "name": "stderr",
     "output_type": "stream",
     "text": [
      "100%\n"
     ]
    },
    {
     "name": "stdout",
     "output_type": "stream",
     "text": [
      "\n",
      "  loss 0.0486407127445\n",
      "  err  0.0116547131148\n",
      "  (0:00:07)\n",
      "Epoch 217:"
     ]
    },
    {
     "name": "stderr",
     "output_type": "stream",
     "text": [
      "100%\n"
     ]
    },
    {
     "name": "stdout",
     "output_type": "stream",
     "text": [
      "\n",
      "  loss 0.0517211883873\n",
      "  err  0.012231045082\n",
      "  (0:00:08)\n",
      "Epoch 218:"
     ]
    },
    {
     "name": "stderr",
     "output_type": "stream",
     "text": [
      "100%\n"
     ]
    },
    {
     "name": "stdout",
     "output_type": "stream",
     "text": [
      "\n",
      "  loss 0.0479020851071\n",
      "  err  0.0112278005464\n",
      "  (0:00:07)\n",
      "Epoch 219:"
     ]
    },
    {
     "name": "stderr",
     "output_type": "stream",
     "text": [
      "100%\n"
     ]
    },
    {
     "name": "stdout",
     "output_type": "stream",
     "text": [
      "\n",
      "  loss 0.0503818490339\n",
      "  err  0.0118254781421\n",
      "  (0:00:07)\n",
      "Epoch 220:"
     ]
    },
    {
     "name": "stderr",
     "output_type": "stream",
     "text": [
      "100%\n"
     ]
    },
    {
     "name": "stdout",
     "output_type": "stream",
     "text": [
      "\n",
      "  loss 0.0508013630465\n",
      "  err  0.0119962431694\n",
      "  (0:00:07)\n",
      "Epoch 221:"
     ]
    },
    {
     "name": "stderr",
     "output_type": "stream",
     "text": [
      "100%\n"
     ]
    },
    {
     "name": "stdout",
     "output_type": "stream",
     "text": [
      "\n",
      "  loss 0.0494071773484\n",
      "  err  0.0109289617486\n",
      "  (0:00:07)\n",
      "Epoch 222:"
     ]
    },
    {
     "name": "stderr",
     "output_type": "stream",
     "text": [
      "100%\n"
     ]
    },
    {
     "name": "stdout",
     "output_type": "stream",
     "text": [
      "\n",
      "  loss 0.0524357710647\n",
      "  err  0.0123164275956\n",
      "  (0:00:07)\n",
      "Epoch 223:"
     ]
    },
    {
     "name": "stderr",
     "output_type": "stream",
     "text": [
      "100%\n"
     ]
    },
    {
     "name": "stdout",
     "output_type": "stream",
     "text": [
      "\n",
      "  loss 0.0492023112611\n",
      "  err  0.0114412568306\n",
      "  (0:00:07)\n",
      "Epoch 224:"
     ]
    },
    {
     "name": "stderr",
     "output_type": "stream",
     "text": [
      "100%\n"
     ]
    },
    {
     "name": "stdout",
     "output_type": "stream",
     "text": [
      "\n",
      "  loss 0.0500198362581\n",
      "  err  0.0116120218579\n",
      "  (0:00:07)\n",
      "Epoch 225:"
     ]
    },
    {
     "name": "stderr",
     "output_type": "stream",
     "text": [
      "100%\n"
     ]
    },
    {
     "name": "stdout",
     "output_type": "stream",
     "text": [
      "\n",
      "  loss 0.0499526950699\n",
      "  err  0.0115906762295\n",
      "  (0:00:07)\n",
      "Epoch 226:"
     ]
    },
    {
     "name": "stderr",
     "output_type": "stream",
     "text": [
      "100%\n"
     ]
    },
    {
     "name": "stdout",
     "output_type": "stream",
     "text": [
      "\n",
      "  loss 0.0485320723555\n",
      "  err  0.0110783811475\n",
      "  (0:00:07)\n",
      "Epoch 227:"
     ]
    },
    {
     "name": "stderr",
     "output_type": "stream",
     "text": [
      "100%\n"
     ]
    },
    {
     "name": "stdout",
     "output_type": "stream",
     "text": [
      "\n",
      "  loss 0.0494490827439\n",
      "  err  0.0110143442623\n",
      "  (0:00:07)\n",
      "Epoch 228:"
     ]
    },
    {
     "name": "stderr",
     "output_type": "stream",
     "text": [
      "100%\n"
     ]
    },
    {
     "name": "stdout",
     "output_type": "stream",
     "text": [
      "\n",
      "  loss 0.0483264338099\n",
      "  err  0.0115906762295\n",
      "  (0:00:08)\n",
      "Epoch 229:"
     ]
    },
    {
     "name": "stderr",
     "output_type": "stream",
     "text": [
      "100%\n"
     ]
    },
    {
     "name": "stdout",
     "output_type": "stream",
     "text": [
      "\n",
      "  loss 0.0515148152529\n",
      "  err  0.0121456625683\n",
      "  (0:00:08)\n",
      "Epoch 230:"
     ]
    },
    {
     "name": "stderr",
     "output_type": "stream",
     "text": [
      "100%\n"
     ]
    },
    {
     "name": "stdout",
     "output_type": "stream",
     "text": [
      "\n",
      "  loss 0.0512057956145\n",
      "  err  0.0120816256831\n",
      "  (0:00:07)\n",
      "Epoch 231:"
     ]
    },
    {
     "name": "stderr",
     "output_type": "stream",
     "text": [
      "100%\n"
     ]
    },
    {
     "name": "stdout",
     "output_type": "stream",
     "text": [
      "\n",
      "  loss 0.0499141030001\n",
      "  err  0.0115693306011\n",
      "  (0:00:07)\n",
      "Epoch 232:"
     ]
    },
    {
     "name": "stderr",
     "output_type": "stream",
     "text": [
      "100%\n"
     ]
    },
    {
     "name": "stdout",
     "output_type": "stream",
     "text": [
      "\n",
      "  loss 0.0506959506998\n",
      "  err  0.0116760587432\n",
      "  (0:00:08)\n",
      "Epoch 233:"
     ]
    },
    {
     "name": "stderr",
     "output_type": "stream",
     "text": [
      "100%\n"
     ]
    },
    {
     "name": "stdout",
     "output_type": "stream",
     "text": [
      "\n",
      "  loss 0.0509134919498\n",
      "  err  0.0119535519126\n",
      "  (0:00:07)\n",
      "Epoch 234:"
     ]
    },
    {
     "name": "stderr",
     "output_type": "stream",
     "text": [
      "100%\n"
     ]
    },
    {
     "name": "stdout",
     "output_type": "stream",
     "text": [
      "\n",
      "  loss 0.048832004248\n",
      "  err  0.0114412568306\n",
      "  (0:00:08)\n",
      "Epoch 235:"
     ]
    },
    {
     "name": "stderr",
     "output_type": "stream",
     "text": [
      "100%\n"
     ]
    },
    {
     "name": "stdout",
     "output_type": "stream",
     "text": [
      "\n",
      "  loss 0.0492413842101\n",
      "  err  0.0112704918033\n",
      "  (0:00:07)\n",
      "Epoch 236:"
     ]
    },
    {
     "name": "stderr",
     "output_type": "stream",
     "text": [
      "100%\n"
     ]
    },
    {
     "name": "stdout",
     "output_type": "stream",
     "text": [
      "\n",
      "  loss 0.0505375803793\n",
      "  err  0.011462602459\n",
      "  (0:00:07)\n",
      "Epoch 237:"
     ]
    },
    {
     "name": "stderr",
     "output_type": "stream",
     "text": [
      "100%\n"
     ]
    },
    {
     "name": "stdout",
     "output_type": "stream",
     "text": [
      "\n",
      "  loss 0.0532725324614\n",
      "  err  0.0127219945355\n",
      "  (0:00:09)\n",
      "Epoch 238:"
     ]
    },
    {
     "name": "stderr",
     "output_type": "stream",
     "text": [
      "100%\n"
     ]
    },
    {
     "name": "stdout",
     "output_type": "stream",
     "text": [
      "\n",
      "  loss 0.04857445045\n",
      "  err  0.0110570355191\n",
      "  (0:00:08)\n",
      "Epoch 239:"
     ]
    },
    {
     "name": "stderr",
     "output_type": "stream",
     "text": [
      "100%\n"
     ]
    },
    {
     "name": "stdout",
     "output_type": "stream",
     "text": [
      "\n",
      "  loss 0.047955694574\n",
      "  err  0.0106514685792\n",
      "  (0:00:08)\n",
      "Epoch 240:"
     ]
    },
    {
     "name": "stderr",
     "output_type": "stream",
     "text": [
      "100%\n"
     ]
    },
    {
     "name": "stdout",
     "output_type": "stream",
     "text": [
      "\n",
      "  loss 0.0497003979447\n",
      "  err  0.0116333674863\n",
      "  (0:00:08)\n",
      "Epoch 241:"
     ]
    },
    {
     "name": "stderr",
     "output_type": "stream",
     "text": [
      "100%\n"
     ]
    },
    {
     "name": "stdout",
     "output_type": "stream",
     "text": [
      "\n",
      "  loss 0.0492743251895\n",
      "  err  0.0112704918033\n",
      "  (0:00:07)\n",
      "Epoch 242:"
     ]
    },
    {
     "name": "stderr",
     "output_type": "stream",
     "text": [
      "100%\n"
     ]
    },
    {
     "name": "stdout",
     "output_type": "stream",
     "text": [
      "\n",
      "  loss 0.0503058047104\n",
      "  err  0.0116974043716\n",
      "  (0:00:07)\n",
      "Epoch 243:"
     ]
    },
    {
     "name": "stderr",
     "output_type": "stream",
     "text": [
      "100%\n"
     ]
    },
    {
     "name": "stdout",
     "output_type": "stream",
     "text": [
      "\n",
      "  loss 0.0501639536885\n",
      "  err  0.0120602800546\n",
      "  (0:00:07)\n",
      "Epoch 244:"
     ]
    },
    {
     "name": "stderr",
     "output_type": "stream",
     "text": [
      "100%\n"
     ]
    },
    {
     "name": "stdout",
     "output_type": "stream",
     "text": [
      "\n",
      "  loss 0.0506415219546\n",
      "  err  0.011462602459\n",
      "  (0:00:07)\n",
      "Epoch 245:"
     ]
    },
    {
     "name": "stderr",
     "output_type": "stream",
     "text": [
      "100%\n"
     ]
    },
    {
     "name": "stdout",
     "output_type": "stream",
     "text": [
      "\n",
      "  loss 0.049750947036\n",
      "  err  0.0113772199454\n",
      "  (0:00:07)\n",
      "Epoch 246:"
     ]
    },
    {
     "name": "stderr",
     "output_type": "stream",
     "text": [
      "100%\n"
     ]
    },
    {
     "name": "stdout",
     "output_type": "stream",
     "text": [
      "\n",
      "  loss 0.049398807095\n",
      "  err  0.0115266393443\n",
      "  (0:00:07)\n",
      "Epoch 247:"
     ]
    },
    {
     "name": "stderr",
     "output_type": "stream",
     "text": [
      "100%\n"
     ]
    },
    {
     "name": "stdout",
     "output_type": "stream",
     "text": [
      "\n",
      "  loss 0.0504627513783\n",
      "  err  0.01171875\n",
      "  (0:00:08)\n",
      "Epoch 248:"
     ]
    },
    {
     "name": "stderr",
     "output_type": "stream",
     "text": [
      "100%\n"
     ]
    },
    {
     "name": "stdout",
     "output_type": "stream",
     "text": [
      "\n",
      "  loss 0.0480672939988\n",
      "  err  0.0109716530055\n",
      "  (0:00:07)\n",
      "Epoch 249:"
     ]
    },
    {
     "name": "stderr",
     "output_type": "stream",
     "text": [
      "100%\n"
     ]
    },
    {
     "name": "stdout",
     "output_type": "stream",
     "text": [
      "\n",
      "  loss 0.0491115114158\n",
      "  err  0.0123591188525\n",
      "  (0:00:07)\n",
      "Epoch 250:"
     ]
    },
    {
     "name": "stderr",
     "output_type": "stream",
     "text": [
      "100%\n"
     ]
    },
    {
     "name": "stdout",
     "output_type": "stream",
     "text": [
      "\n",
      "  loss 0.0519947745949\n",
      "  err  0.0125298838798\n",
      "  (0:00:07)\n",
      "Epoch 251:"
     ]
    },
    {
     "name": "stderr",
     "output_type": "stream",
     "text": [
      "100%\n"
     ]
    },
    {
     "name": "stdout",
     "output_type": "stream",
     "text": [
      "\n",
      "  loss 0.0489623007795\n",
      "  err  0.0115693306011\n",
      "  (0:00:07)\n",
      "Epoch 252:"
     ]
    },
    {
     "name": "stderr",
     "output_type": "stream",
     "text": [
      "100%\n"
     ]
    },
    {
     "name": "stdout",
     "output_type": "stream",
     "text": [
      "\n",
      "  loss 0.0506753178162\n",
      "  err  0.0125298838798\n",
      "  (0:00:07)\n",
      "Epoch 253:"
     ]
    },
    {
     "name": "stderr",
     "output_type": "stream",
     "text": [
      "100%\n"
     ]
    },
    {
     "name": "stdout",
     "output_type": "stream",
     "text": [
      "\n",
      "  loss 0.0477509974391\n",
      "  err  0.0103526297814\n",
      "  (0:00:07)\n",
      "Epoch 254:"
     ]
    },
    {
     "name": "stderr",
     "output_type": "stream",
     "text": [
      "100%\n"
     ]
    },
    {
     "name": "stdout",
     "output_type": "stream",
     "text": [
      "\n",
      "  loss 0.0499923775364\n",
      "  err  0.01171875\n",
      "  (0:00:07)\n",
      "Epoch 255:"
     ]
    },
    {
     "name": "stderr",
     "output_type": "stream",
     "text": [
      "100%\n"
     ]
    },
    {
     "name": "stdout",
     "output_type": "stream",
     "text": [
      "\n",
      "  loss 0.0494499562354\n",
      "  err  0.0116760587432\n",
      "  (0:00:07)\n",
      "Epoch 256:"
     ]
    },
    {
     "name": "stderr",
     "output_type": "stream",
     "text": [
      "100%\n"
     ]
    },
    {
     "name": "stdout",
     "output_type": "stream",
     "text": [
      "\n",
      "  loss 0.0498253315893\n",
      "  err  0.0112704918033\n",
      "  (0:00:07)\n",
      "Epoch 257:"
     ]
    },
    {
     "name": "stderr",
     "output_type": "stream",
     "text": [
      "100%\n"
     ]
    },
    {
     "name": "stdout",
     "output_type": "stream",
     "text": [
      "\n",
      "  loss 0.0486054222381\n",
      "  err  0.0115479849727\n",
      "  (0:00:07)\n",
      "Epoch 258:"
     ]
    },
    {
     "name": "stderr",
     "output_type": "stream",
     "text": [
      "100%\n"
     ]
    },
    {
     "name": "stdout",
     "output_type": "stream",
     "text": [
      "\n",
      "  loss 0.0511502098557\n",
      "  err  0.0121456625683\n",
      "  (0:00:07)\n",
      "Epoch 259:"
     ]
    },
    {
     "name": "stderr",
     "output_type": "stream",
     "text": [
      "100%\n"
     ]
    },
    {
     "name": "stdout",
     "output_type": "stream",
     "text": [
      "\n",
      "  loss 0.0496056739691\n",
      "  err  0.0114412568306\n",
      "  (0:00:07)\n",
      "Epoch 260:"
     ]
    },
    {
     "name": "stderr",
     "output_type": "stream",
     "text": [
      "100%\n"
     ]
    },
    {
     "name": "stdout",
     "output_type": "stream",
     "text": [
      "\n",
      "  loss 0.051989971487\n",
      "  err  0.0121456625683\n",
      "  (0:00:07)\n",
      "Epoch 261:"
     ]
    },
    {
     "name": "stderr",
     "output_type": "stream",
     "text": [
      "100%\n"
     ]
    },
    {
     "name": "stdout",
     "output_type": "stream",
     "text": [
      "\n",
      "  loss 0.0499113416115\n",
      "  err  0.0116547131148\n",
      "  (0:00:07)\n",
      "Epoch 262:"
     ]
    },
    {
     "name": "stderr",
     "output_type": "stream",
     "text": [
      "100%\n"
     ]
    },
    {
     "name": "stdout",
     "output_type": "stream",
     "text": [
      "\n",
      "  loss 0.0484211128625\n",
      "  err  0.0115052937158\n",
      "  (0:00:07)\n",
      "Epoch 263:"
     ]
    },
    {
     "name": "stderr",
     "output_type": "stream",
     "text": [
      "100%\n"
     ]
    },
    {
     "name": "stdout",
     "output_type": "stream",
     "text": [
      "\n",
      "  loss 0.0506016829266\n",
      "  err  0.0116333674863\n",
      "  (0:00:07)\n",
      "Epoch 264:"
     ]
    },
    {
     "name": "stderr",
     "output_type": "stream",
     "text": [
      "100%\n"
     ]
    },
    {
     "name": "stdout",
     "output_type": "stream",
     "text": [
      "\n",
      "  loss 0.0518718434859\n",
      "  err  0.0120816256831\n",
      "  (0:00:07)\n",
      "Epoch 265:"
     ]
    },
    {
     "name": "stderr",
     "output_type": "stream",
     "text": [
      "100%\n"
     ]
    },
    {
     "name": "stdout",
     "output_type": "stream",
     "text": [
      "\n",
      "  loss 0.0525601512054\n",
      "  err  0.0126793032787\n",
      "  (0:00:07)\n",
      "Epoch 266:"
     ]
    },
    {
     "name": "stderr",
     "output_type": "stream",
     "text": [
      "100%\n"
     ]
    },
    {
     "name": "stdout",
     "output_type": "stream",
     "text": [
      "\n",
      "  loss 0.0502177527788\n",
      "  err  0.0119322062842\n",
      "  (0:00:07)\n",
      "Epoch 267:"
     ]
    },
    {
     "name": "stderr",
     "output_type": "stream",
     "text": [
      "100%\n"
     ]
    },
    {
     "name": "stdout",
     "output_type": "stream",
     "text": [
      "\n",
      "  loss 0.0507463470122\n",
      "  err  0.0119108606557\n",
      "  (0:00:07)\n",
      "Epoch 268:"
     ]
    },
    {
     "name": "stderr",
     "output_type": "stream",
     "text": [
      "100%\n"
     ]
    },
    {
     "name": "stdout",
     "output_type": "stream",
     "text": [
      "\n",
      "  loss 0.0511011415335\n",
      "  err  0.0124018101093\n",
      "  (0:00:07)\n",
      "Epoch 269:"
     ]
    },
    {
     "name": "stderr",
     "output_type": "stream",
     "text": [
      "100%\n"
     ]
    },
    {
     "name": "stdout",
     "output_type": "stream",
     "text": [
      "\n",
      "  loss 0.051296441847\n",
      "  err  0.0117827868852\n",
      "  (0:00:07)\n",
      "Epoch 270:"
     ]
    },
    {
     "name": "stderr",
     "output_type": "stream",
     "text": [
      "100%\n"
     ]
    },
    {
     "name": "stdout",
     "output_type": "stream",
     "text": [
      "\n",
      "  loss 0.0490788285808\n",
      "  err  0.0115479849727\n",
      "  (0:00:07)\n",
      "Epoch 271:"
     ]
    },
    {
     "name": "stderr",
     "output_type": "stream",
     "text": [
      "100%\n"
     ]
    },
    {
     "name": "stdout",
     "output_type": "stream",
     "text": [
      "\n",
      "  loss 0.051129538064\n",
      "  err  0.0125085382514\n",
      "  (0:00:07)\n",
      "Epoch 272:"
     ]
    },
    {
     "name": "stderr",
     "output_type": "stream",
     "text": [
      "100%\n"
     ]
    },
    {
     "name": "stdout",
     "output_type": "stream",
     "text": [
      "\n",
      "  loss 0.0526003805651\n",
      "  err  0.012593920765\n",
      "  (0:00:07)\n",
      "Epoch 273:"
     ]
    },
    {
     "name": "stderr",
     "output_type": "stream",
     "text": [
      "100%\n"
     ]
    },
    {
     "name": "stdout",
     "output_type": "stream",
     "text": [
      "\n",
      "  loss 0.0494846508201\n",
      "  err  0.0114412568306\n",
      "  (0:00:07)\n",
      "Epoch 274:"
     ]
    },
    {
     "name": "stderr",
     "output_type": "stream",
     "text": [
      "100%\n"
     ]
    },
    {
     "name": "stdout",
     "output_type": "stream",
     "text": [
      "\n",
      "  loss 0.052696984837\n",
      "  err  0.012231045082\n",
      "  (0:00:07)\n",
      "Epoch 275:"
     ]
    },
    {
     "name": "stderr",
     "output_type": "stream",
     "text": [
      "100%\n"
     ]
    },
    {
     "name": "stdout",
     "output_type": "stream",
     "text": [
      "\n",
      "  loss 0.0507760130268\n",
      "  err  0.01171875\n",
      "  (0:00:07)\n",
      "Epoch 276:"
     ]
    },
    {
     "name": "stderr",
     "output_type": "stream",
     "text": [
      "100%\n"
     ]
    },
    {
     "name": "stdout",
     "output_type": "stream",
     "text": [
      "\n",
      "  loss 0.0536903757882\n",
      "  err  0.0124231557377\n",
      "  (0:00:07)\n",
      "Epoch 277:"
     ]
    },
    {
     "name": "stderr",
     "output_type": "stream",
     "text": [
      "100%\n"
     ]
    },
    {
     "name": "stdout",
     "output_type": "stream",
     "text": [
      "\n",
      "  loss 0.0492575245406\n",
      "  err  0.0114412568306\n",
      "  (0:00:07)\n",
      "Epoch 278:"
     ]
    },
    {
     "name": "stderr",
     "output_type": "stream",
     "text": [
      "100%\n"
     ]
    },
    {
     "name": "stdout",
     "output_type": "stream",
     "text": [
      "\n",
      "  loss 0.0521351535209\n",
      "  err  0.0124018101093\n",
      "  (0:00:07)\n",
      "Epoch 279:"
     ]
    },
    {
     "name": "stderr",
     "output_type": "stream",
     "text": [
      "100%\n"
     ]
    },
    {
     "name": "stdout",
     "output_type": "stream",
     "text": [
      "\n",
      "  loss 0.0502439170333\n",
      "  err  0.0121243169399\n",
      "  (0:00:07)\n",
      "Epoch 280:"
     ]
    },
    {
     "name": "stderr",
     "output_type": "stream",
     "text": [
      "100%\n"
     ]
    },
    {
     "name": "stdout",
     "output_type": "stream",
     "text": [
      "\n",
      "  loss 0.0494535245406\n",
      "  err  0.01171875\n",
      "  (0:00:07)\n",
      "Epoch 281:"
     ]
    },
    {
     "name": "stderr",
     "output_type": "stream",
     "text": [
      "100%\n"
     ]
    },
    {
     "name": "stdout",
     "output_type": "stream",
     "text": [
      "\n",
      "  loss 0.0489470155113\n",
      "  err  0.0116333674863\n",
      "  (0:00:07)\n",
      "Epoch 282:"
     ]
    },
    {
     "name": "stderr",
     "output_type": "stream",
     "text": [
      "100%\n"
     ]
    },
    {
     "name": "stdout",
     "output_type": "stream",
     "text": [
      "\n",
      "  loss 0.0501531602311\n",
      "  err  0.0115693306011\n",
      "  (0:00:07)\n",
      "Epoch 283:"
     ]
    },
    {
     "name": "stderr",
     "output_type": "stream",
     "text": [
      "100%\n"
     ]
    },
    {
     "name": "stdout",
     "output_type": "stream",
     "text": [
      "\n",
      "  loss 0.0516170872009\n",
      "  err  0.0121243169399\n",
      "  (0:00:07)\n",
      "Epoch 284:"
     ]
    },
    {
     "name": "stderr",
     "output_type": "stream",
     "text": [
      "100%\n"
     ]
    },
    {
     "name": "stdout",
     "output_type": "stream",
     "text": [
      "\n",
      "  loss 0.049269743585\n",
      "  err  0.011462602459\n",
      "  (0:00:07)\n",
      "Epoch 285:"
     ]
    },
    {
     "name": "stderr",
     "output_type": "stream",
     "text": [
      "100%\n"
     ]
    },
    {
     "name": "stdout",
     "output_type": "stream",
     "text": [
      "\n",
      "  loss 0.0508077093317\n",
      "  err  0.011974897541\n",
      "  (0:00:07)\n",
      "Epoch 286:"
     ]
    },
    {
     "name": "stderr",
     "output_type": "stream",
     "text": [
      "100%\n"
     ]
    },
    {
     "name": "stdout",
     "output_type": "stream",
     "text": [
      "\n",
      "  loss 0.0484791982911\n",
      "  err  0.0120175887978\n",
      "  (0:00:07)\n",
      "Epoch 287:"
     ]
    },
    {
     "name": "stderr",
     "output_type": "stream",
     "text": [
      "100%\n"
     ]
    },
    {
     "name": "stdout",
     "output_type": "stream",
     "text": [
      "\n",
      "  loss 0.0498456783272\n",
      "  err  0.0114199112022\n",
      "  (0:00:07)\n",
      "Epoch 288:"
     ]
    },
    {
     "name": "stderr",
     "output_type": "stream",
     "text": [
      "100%\n"
     ]
    },
    {
     "name": "stdout",
     "output_type": "stream",
     "text": [
      "\n",
      "  loss 0.051546293919\n",
      "  err  0.012337773224\n",
      "  (0:00:07)\n",
      "Epoch 289:"
     ]
    },
    {
     "name": "stderr",
     "output_type": "stream",
     "text": [
      "100%\n"
     ]
    },
    {
     "name": "stdout",
     "output_type": "stream",
     "text": [
      "\n",
      "  loss 0.0503900251587\n",
      "  err  0.0122737363388\n",
      "  (0:00:07)\n",
      "Epoch 290:"
     ]
    },
    {
     "name": "stderr",
     "output_type": "stream",
     "text": [
      "100%\n"
     ]
    },
    {
     "name": "stdout",
     "output_type": "stream",
     "text": [
      "\n",
      "  loss 0.0486616417982\n",
      "  err  0.0116760587432\n",
      "  (0:00:07)\n",
      "Epoch 291:"
     ]
    },
    {
     "name": "stderr",
     "output_type": "stream",
     "text": [
      "100%\n"
     ]
    },
    {
     "name": "stdout",
     "output_type": "stream",
     "text": [
      "\n",
      "  loss 0.0485365100204\n",
      "  err  0.0107368510929\n",
      "  (0:00:07)\n",
      "Epoch 292:"
     ]
    },
    {
     "name": "stderr",
     "output_type": "stream",
     "text": [
      "100%\n"
     ]
    },
    {
     "name": "stdout",
     "output_type": "stream",
     "text": [
      "\n",
      "  loss 0.0508744430377\n",
      "  err  0.0118254781421\n",
      "  (0:00:07)\n",
      "Epoch 293:"
     ]
    },
    {
     "name": "stderr",
     "output_type": "stream",
     "text": [
      "100%\n"
     ]
    },
    {
     "name": "stdout",
     "output_type": "stream",
     "text": [
      "\n",
      "  loss 0.0504705181232\n",
      "  err  0.0117400956284\n",
      "  (0:00:07)\n",
      "Epoch 294:"
     ]
    },
    {
     "name": "stderr",
     "output_type": "stream",
     "text": [
      "100%\n"
     ]
    },
    {
     "name": "stdout",
     "output_type": "stream",
     "text": [
      "\n",
      "  loss 0.0507223845607\n",
      "  err  0.0119962431694\n",
      "  (0:00:07)\n",
      "Epoch 295:"
     ]
    },
    {
     "name": "stderr",
     "output_type": "stream",
     "text": [
      "100%\n"
     ]
    },
    {
     "name": "stdout",
     "output_type": "stream",
     "text": [
      "\n",
      "  loss 0.0497395926857\n",
      "  err  0.0118254781421\n",
      "  (0:00:07)\n",
      "Epoch 296:"
     ]
    },
    {
     "name": "stderr",
     "output_type": "stream",
     "text": [
      "100%\n"
     ]
    },
    {
     "name": "stdout",
     "output_type": "stream",
     "text": [
      "\n",
      "  loss 0.0489204141224\n",
      "  err  0.0109716530055\n",
      "  (0:00:07)\n",
      "Epoch 297:"
     ]
    },
    {
     "name": "stderr",
     "output_type": "stream",
     "text": [
      "100%\n"
     ]
    },
    {
     "name": "stdout",
     "output_type": "stream",
     "text": [
      "\n",
      "  loss 0.0496737950499\n",
      "  err  0.011462602459\n",
      "  (0:00:07)\n",
      "Epoch 298:"
     ]
    },
    {
     "name": "stderr",
     "output_type": "stream",
     "text": [
      "100%\n"
     ]
    },
    {
     "name": "stdout",
     "output_type": "stream",
     "text": [
      "\n",
      "  loss 0.0507451051609\n",
      "  err  0.01171875\n",
      "  (0:00:07)\n",
      "Epoch 299:"
     ]
    },
    {
     "name": "stderr",
     "output_type": "stream",
     "text": [
      "100%\n"
     ]
    },
    {
     "name": "stdout",
     "output_type": "stream",
     "text": [
      "\n",
      "  loss 0.0516190065219\n",
      "  err  0.012593920765\n",
      "  (0:00:07)\n",
      "Epoch 300:"
     ]
    },
    {
     "name": "stderr",
     "output_type": "stream",
     "text": [
      "100%\n"
     ]
    },
    {
     "name": "stdout",
     "output_type": "stream",
     "text": [
      "\n",
      "  loss 0.0505587286882\n",
      "  err  0.0116547131148\n",
      "  (0:00:07)\n",
      "Epoch 301:"
     ]
    },
    {
     "name": "stderr",
     "output_type": "stream",
     "text": [
      "100%\n"
     ]
    },
    {
     "name": "stdout",
     "output_type": "stream",
     "text": [
      "\n",
      "  loss 0.0506768477673\n",
      "  err  0.0121456625683\n",
      "  (0:00:07)\n",
      "Epoch 302:"
     ]
    },
    {
     "name": "stderr",
     "output_type": "stream",
     "text": [
      "100%\n"
     ]
    },
    {
     "name": "stdout",
     "output_type": "stream",
     "text": [
      "\n",
      "  loss 0.0508807081719\n",
      "  err  0.0123804644809\n",
      "  (0:00:07)\n",
      "Epoch 303:"
     ]
    },
    {
     "name": "stderr",
     "output_type": "stream",
     "text": [
      "100%\n"
     ]
    },
    {
     "name": "stdout",
     "output_type": "stream",
     "text": [
      "\n",
      "  loss 0.0499071399255\n",
      "  err  0.0112278005464\n",
      "  (0:00:07)\n",
      "Epoch 304:"
     ]
    },
    {
     "name": "stderr",
     "output_type": "stream",
     "text": [
      "100%\n"
     ]
    },
    {
     "name": "stdout",
     "output_type": "stream",
     "text": [
      "\n",
      "  loss 0.0481445471002\n",
      "  err  0.0112918374317\n",
      "  (0:00:07)\n",
      "Epoch 305:"
     ]
    },
    {
     "name": "stderr",
     "output_type": "stream",
     "text": [
      "100%\n"
     ]
    },
    {
     "name": "stdout",
     "output_type": "stream",
     "text": [
      "\n",
      "  loss 0.0509297787797\n",
      "  err  0.0120389344262\n",
      "  (0:00:07)\n",
      "Epoch 306:"
     ]
    },
    {
     "name": "stderr",
     "output_type": "stream",
     "text": [
      "100%\n"
     ]
    },
    {
     "name": "stdout",
     "output_type": "stream",
     "text": [
      "\n",
      "  loss 0.0508494219479\n",
      "  err  0.0117827868852\n",
      "  (0:00:07)\n",
      "Epoch 307:"
     ]
    },
    {
     "name": "stderr",
     "output_type": "stream",
     "text": [
      "100%\n"
     ]
    },
    {
     "name": "stdout",
     "output_type": "stream",
     "text": [
      "\n",
      "  loss 0.0500220229863\n",
      "  err  0.0113985655738\n",
      "  (0:00:07)\n",
      "Epoch 308:"
     ]
    },
    {
     "name": "stderr",
     "output_type": "stream",
     "text": [
      "100%\n"
     ]
    },
    {
     "name": "stdout",
     "output_type": "stream",
     "text": [
      "\n",
      "  loss 0.050961653749\n",
      "  err  0.0120175887978\n",
      "  (0:00:07)\n",
      "Epoch 309:"
     ]
    },
    {
     "name": "stderr",
     "output_type": "stream",
     "text": [
      "100%\n"
     ]
    },
    {
     "name": "stdout",
     "output_type": "stream",
     "text": [
      "\n",
      "  loss 0.0501931567951\n",
      "  err  0.0124445013661\n",
      "  (0:00:07)\n",
      "Epoch 310:"
     ]
    },
    {
     "name": "stderr",
     "output_type": "stream",
     "text": [
      "100%\n"
     ]
    },
    {
     "name": "stdout",
     "output_type": "stream",
     "text": [
      "\n",
      "  loss 0.0512833137204\n",
      "  err  0.0116760587432\n",
      "  (0:00:07)\n",
      "Epoch 311:"
     ]
    },
    {
     "name": "stderr",
     "output_type": "stream",
     "text": [
      "100%\n"
     ]
    },
    {
     "name": "stdout",
     "output_type": "stream",
     "text": [
      "\n",
      "  loss 0.0516443413636\n",
      "  err  0.0123591188525\n",
      "  (0:00:07)\n",
      "Epoch 312:"
     ]
    },
    {
     "name": "stderr",
     "output_type": "stream",
     "text": [
      "100%\n"
     ]
    },
    {
     "name": "stdout",
     "output_type": "stream",
     "text": [
      "\n",
      "  loss 0.0523196896462\n",
      "  err  0.0120816256831\n",
      "  (0:00:07)\n",
      "Epoch 313:"
     ]
    },
    {
     "name": "stderr",
     "output_type": "stream",
     "text": [
      "100%\n"
     ]
    },
    {
     "name": "stdout",
     "output_type": "stream",
     "text": [
      "\n",
      "  loss 0.0504238176849\n",
      "  err  0.0119535519126\n",
      "  (0:00:07)\n",
      "Epoch 314:"
     ]
    },
    {
     "name": "stderr",
     "output_type": "stream",
     "text": [
      "100%\n"
     ]
    },
    {
     "name": "stdout",
     "output_type": "stream",
     "text": [
      "\n",
      "  loss 0.049805448993\n",
      "  err  0.0116974043716\n",
      "  (0:00:07)\n",
      "Epoch 315:"
     ]
    },
    {
     "name": "stderr",
     "output_type": "stream",
     "text": [
      "100%\n"
     ]
    },
    {
     "name": "stdout",
     "output_type": "stream",
     "text": [
      "\n",
      "  loss 0.0514531745003\n",
      "  err  0.0123804644809\n",
      "  (0:00:07)\n",
      "Epoch 316:"
     ]
    },
    {
     "name": "stderr",
     "output_type": "stream",
     "text": [
      "100%\n"
     ]
    },
    {
     "name": "stdout",
     "output_type": "stream",
     "text": [
      "\n",
      "  loss 0.0502288569003\n",
      "  err  0.0117400956284\n",
      "  (0:00:07)\n",
      "Epoch 317:"
     ]
    },
    {
     "name": "stderr",
     "output_type": "stream",
     "text": [
      "100%\n"
     ]
    },
    {
     "name": "stdout",
     "output_type": "stream",
     "text": [
      "\n",
      "  loss 0.0493348478645\n",
      "  err  0.0121029713115\n",
      "  (0:00:07)\n",
      "Epoch 318:"
     ]
    },
    {
     "name": "stderr",
     "output_type": "stream",
     "text": [
      "100%\n"
     ]
    },
    {
     "name": "stdout",
     "output_type": "stream",
     "text": [
      "\n",
      "  loss 0.0516280553729\n",
      "  err  0.0127006489071\n",
      "  (0:00:07)\n",
      "Epoch 319:"
     ]
    },
    {
     "name": "stderr",
     "output_type": "stream",
     "text": [
      "100%\n"
     ]
    },
    {
     "name": "stdout",
     "output_type": "stream",
     "text": [
      "\n",
      "  loss 0.0497656506715\n",
      "  err  0.0118468237705\n",
      "  (0:00:07)\n",
      "Epoch 320:"
     ]
    },
    {
     "name": "stderr",
     "output_type": "stream",
     "text": [
      "100%\n"
     ]
    },
    {
     "name": "stdout",
     "output_type": "stream",
     "text": [
      "\n",
      "  loss 0.0521773712816\n",
      "  err  0.0122737363388\n",
      "  (0:00:07)\n",
      "Epoch 321:"
     ]
    },
    {
     "name": "stderr",
     "output_type": "stream",
     "text": [
      "100%\n"
     ]
    },
    {
     "name": "stdout",
     "output_type": "stream",
     "text": [
      "\n",
      "  loss 0.0483953345769\n",
      "  err  0.0113772199454\n",
      "  (0:00:07)\n",
      "Epoch 322:"
     ]
    },
    {
     "name": "stderr",
     "output_type": "stream",
     "text": [
      "100%\n"
     ]
    },
    {
     "name": "stdout",
     "output_type": "stream",
     "text": [
      "\n",
      "  loss 0.0509135162056\n",
      "  err  0.0121029713115\n",
      "  (0:00:07)\n",
      "Epoch 323:"
     ]
    },
    {
     "name": "stderr",
     "output_type": "stream",
     "text": [
      "100%\n"
     ]
    },
    {
     "name": "stdout",
     "output_type": "stream",
     "text": [
      "\n",
      "  loss 0.0506226576844\n",
      "  err  0.0122950819672\n",
      "  (0:00:07)\n",
      "Epoch 324:"
     ]
    },
    {
     "name": "stderr",
     "output_type": "stream",
     "text": [
      "100%\n"
     ]
    },
    {
     "name": "stdout",
     "output_type": "stream",
     "text": [
      "\n",
      "  loss 0.051390163206\n",
      "  err  0.012231045082\n",
      "  (0:00:07)\n",
      "Epoch 325:"
     ]
    },
    {
     "name": "stderr",
     "output_type": "stream",
     "text": [
      "100%\n"
     ]
    },
    {
     "name": "stdout",
     "output_type": "stream",
     "text": [
      "\n",
      "  loss 0.0508727383084\n",
      "  err  0.0114412568306\n",
      "  (0:00:07)\n",
      "Epoch 326:"
     ]
    },
    {
     "name": "stderr",
     "output_type": "stream",
     "text": [
      "100%\n"
     ]
    },
    {
     "name": "stdout",
     "output_type": "stream",
     "text": [
      "\n",
      "  loss 0.0503910307498\n",
      "  err  0.011974897541\n",
      "  (0:00:07)\n",
      "Epoch 327:"
     ]
    },
    {
     "name": "stderr",
     "output_type": "stream",
     "text": [
      "100%\n"
     ]
    },
    {
     "name": "stdout",
     "output_type": "stream",
     "text": [
      "\n",
      "  loss 0.0489122118722\n",
      "  err  0.0111851092896\n",
      "  (0:00:07)\n",
      "Epoch 328:"
     ]
    },
    {
     "name": "stderr",
     "output_type": "stream",
     "text": [
      "100%\n"
     ]
    },
    {
     "name": "stdout",
     "output_type": "stream",
     "text": [
      "\n",
      "  loss 0.050651393124\n",
      "  err  0.0115479849727\n",
      "  (0:00:07)\n",
      "Epoch 329:"
     ]
    },
    {
     "name": "stderr",
     "output_type": "stream",
     "text": [
      "100%\n"
     ]
    },
    {
     "name": "stdout",
     "output_type": "stream",
     "text": [
      "\n",
      "  loss 0.0494429865544\n",
      "  err  0.0116333674863\n",
      "  (0:00:07)\n",
      "Epoch 330:"
     ]
    },
    {
     "name": "stderr",
     "output_type": "stream",
     "text": [
      "100%\n"
     ]
    },
    {
     "name": "stdout",
     "output_type": "stream",
     "text": [
      "\n",
      "  loss 0.0524348133725\n",
      "  err  0.0123591188525\n",
      "  (0:00:07)\n",
      "Epoch 331:"
     ]
    },
    {
     "name": "stderr",
     "output_type": "stream",
     "text": [
      "100%\n"
     ]
    },
    {
     "name": "stdout",
     "output_type": "stream",
     "text": [
      "\n",
      "  loss 0.0505537139653\n",
      "  err  0.0111637636612\n",
      "  (0:00:07)\n",
      "Epoch 332:"
     ]
    },
    {
     "name": "stderr",
     "output_type": "stream",
     "text": [
      "100%\n"
     ]
    },
    {
     "name": "stdout",
     "output_type": "stream",
     "text": [
      "\n",
      "  loss 0.0499254445064\n",
      "  err  0.0112918374317\n",
      "  (0:00:07)\n",
      "Epoch 333:"
     ]
    },
    {
     "name": "stderr",
     "output_type": "stream",
     "text": [
      "100%\n"
     ]
    },
    {
     "name": "stdout",
     "output_type": "stream",
     "text": [
      "\n",
      "  loss 0.0499208709314\n",
      "  err  0.0113345286885\n",
      "  (0:00:07)\n",
      "Epoch 334:"
     ]
    },
    {
     "name": "stderr",
     "output_type": "stream",
     "text": [
      "100%\n"
     ]
    },
    {
     "name": "stdout",
     "output_type": "stream",
     "text": [
      "\n",
      "  loss 0.0488756591088\n",
      "  err  0.0107155054645\n",
      "  (0:00:07)\n",
      "Epoch 335:"
     ]
    },
    {
     "name": "stderr",
     "output_type": "stream",
     "text": [
      "100%\n"
     ]
    },
    {
     "name": "stdout",
     "output_type": "stream",
     "text": [
      "\n",
      "  loss 0.0479683054095\n",
      "  err  0.0109716530055\n",
      "  (0:00:07)\n",
      "Epoch 336:"
     ]
    },
    {
     "name": "stderr",
     "output_type": "stream",
     "text": [
      "100%\n"
     ]
    },
    {
     "name": "stdout",
     "output_type": "stream",
     "text": [
      "\n",
      "  loss 0.050728998946\n",
      "  err  0.0115906762295\n",
      "  (0:00:07)\n",
      "Epoch 337:"
     ]
    },
    {
     "name": "stderr",
     "output_type": "stream",
     "text": [
      "100%\n"
     ]
    },
    {
     "name": "stdout",
     "output_type": "stream",
     "text": [
      "\n",
      "  loss 0.0510064999737\n",
      "  err  0.0119322062842\n",
      "  (0:00:07)\n",
      "Epoch 338:"
     ]
    },
    {
     "name": "stderr",
     "output_type": "stream",
     "text": [
      "100%\n"
     ]
    },
    {
     "name": "stdout",
     "output_type": "stream",
     "text": [
      "\n",
      "  loss 0.051085876675\n",
      "  err  0.0118041325137\n",
      "  (0:00:07)\n",
      "Epoch 339:"
     ]
    },
    {
     "name": "stderr",
     "output_type": "stream",
     "text": [
      "100%\n"
     ]
    },
    {
     "name": "stdout",
     "output_type": "stream",
     "text": [
      "\n",
      "  loss 0.050164786002\n",
      "  err  0.0121883538251\n",
      "  (0:00:07)\n",
      "Epoch 340:"
     ]
    },
    {
     "name": "stderr",
     "output_type": "stream",
     "text": [
      "100%\n"
     ]
    },
    {
     "name": "stdout",
     "output_type": "stream",
     "text": [
      "\n",
      "  loss 0.0504152302864\n",
      "  err  0.0120602800546\n",
      "  (0:00:07)\n",
      "Epoch 341:"
     ]
    },
    {
     "name": "stderr",
     "output_type": "stream",
     "text": [
      "100%\n"
     ]
    },
    {
     "name": "stdout",
     "output_type": "stream",
     "text": [
      "\n",
      "  loss 0.0502447843287\n",
      "  err  0.0116760587432\n",
      "  (0:00:07)\n",
      "Epoch 342:"
     ]
    },
    {
     "name": "stderr",
     "output_type": "stream",
     "text": [
      "100%\n"
     ]
    },
    {
     "name": "stdout",
     "output_type": "stream",
     "text": [
      "\n",
      "  loss 0.0497179747422\n",
      "  err  0.0120602800546\n",
      "  (0:00:07)\n",
      "Epoch 343:"
     ]
    },
    {
     "name": "stderr",
     "output_type": "stream",
     "text": [
      "100%\n"
     ]
    },
    {
     "name": "stdout",
     "output_type": "stream",
     "text": [
      "\n",
      "  loss 0.0498885302143\n",
      "  err  0.0116974043716\n",
      "  (0:00:07)\n",
      "Epoch 344:"
     ]
    },
    {
     "name": "stderr",
     "output_type": "stream",
     "text": [
      "100%\n"
     ]
    },
    {
     "name": "stdout",
     "output_type": "stream",
     "text": [
      "\n",
      "  loss 0.0501191260203\n",
      "  err  0.0120389344262\n",
      "  (0:00:07)\n",
      "Epoch 345:"
     ]
    },
    {
     "name": "stderr",
     "output_type": "stream",
     "text": [
      "100%\n"
     ]
    },
    {
     "name": "stdout",
     "output_type": "stream",
     "text": [
      "\n",
      "  loss 0.0511252564452\n",
      "  err  0.0117827868852\n",
      "  (0:00:07)\n",
      "Epoch 346:"
     ]
    },
    {
     "name": "stderr",
     "output_type": "stream",
     "text": [
      "100%\n"
     ]
    },
    {
     "name": "stdout",
     "output_type": "stream",
     "text": [
      "\n",
      "  loss 0.0493059469434\n",
      "  err  0.0115906762295\n",
      "  (0:00:07)\n",
      "Epoch 347:"
     ]
    },
    {
     "name": "stderr",
     "output_type": "stream",
     "text": [
      "100%\n"
     ]
    },
    {
     "name": "stdout",
     "output_type": "stream",
     "text": [
      "\n",
      "  loss 0.0501769312207\n",
      "  err  0.0120816256831\n",
      "  (0:00:07)\n",
      "Epoch 348:"
     ]
    },
    {
     "name": "stderr",
     "output_type": "stream",
     "text": [
      "100%\n"
     ]
    },
    {
     "name": "stdout",
     "output_type": "stream",
     "text": [
      "\n",
      "  loss 0.0491307397409\n",
      "  err  0.0113772199454\n",
      "  (0:00:07)\n",
      "Epoch 349:"
     ]
    },
    {
     "name": "stderr",
     "output_type": "stream",
     "text": [
      "100%\n"
     ]
    },
    {
     "name": "stdout",
     "output_type": "stream",
     "text": [
      "\n",
      "  loss 0.0518051077347\n",
      "  err  0.0122737363388\n",
      "  (0:00:07)\n",
      "Epoch 350:"
     ]
    },
    {
     "name": "stderr",
     "output_type": "stream",
     "text": [
      "100%\n"
     ]
    },
    {
     "name": "stdout",
     "output_type": "stream",
     "text": [
      "\n",
      "  loss 0.0503129398824\n",
      "  err  0.0119535519126\n",
      "  (0:00:07)\n",
      "Epoch 351:"
     ]
    },
    {
     "name": "stderr",
     "output_type": "stream",
     "text": [
      "100%\n"
     ]
    },
    {
     "name": "stdout",
     "output_type": "stream",
     "text": [
      "\n",
      "  loss 0.0516837010423\n",
      "  err  0.0119322062842\n",
      "  (0:00:07)\n",
      "Epoch 352:"
     ]
    },
    {
     "name": "stderr",
     "output_type": "stream",
     "text": [
      "100%\n"
     ]
    },
    {
     "name": "stdout",
     "output_type": "stream",
     "text": [
      "\n",
      "  loss 0.0512267150592\n",
      "  err  0.0119535519126\n",
      "  (0:00:07)\n",
      "Epoch 353:"
     ]
    },
    {
     "name": "stderr",
     "output_type": "stream",
     "text": [
      "100%\n"
     ]
    },
    {
     "name": "stdout",
     "output_type": "stream",
     "text": [
      "\n",
      "  loss 0.0506162182492\n",
      "  err  0.011974897541\n",
      "  (0:00:07)\n",
      "Epoch 354:"
     ]
    },
    {
     "name": "stderr",
     "output_type": "stream",
     "text": [
      "100%\n"
     ]
    },
    {
     "name": "stdout",
     "output_type": "stream",
     "text": [
      "\n",
      "  loss 0.0526611206587\n",
      "  err  0.0124018101093\n",
      "  (0:00:07)\n",
      "Epoch 355:"
     ]
    },
    {
     "name": "stderr",
     "output_type": "stream",
     "text": [
      "100%\n"
     ]
    },
    {
     "name": "stdout",
     "output_type": "stream",
     "text": [
      "\n",
      "  loss 0.0500836158667\n",
      "  err  0.010950307377\n",
      "  (0:00:07)\n",
      "Epoch 356:"
     ]
    },
    {
     "name": "stderr",
     "output_type": "stream",
     "text": [
      "100%\n"
     ]
    },
    {
     "name": "stdout",
     "output_type": "stream",
     "text": [
      "\n",
      "  loss 0.0506254300053\n",
      "  err  0.0115266393443\n",
      "  (0:00:07)\n",
      "Epoch 357:"
     ]
    },
    {
     "name": "stderr",
     "output_type": "stream",
     "text": [
      "100%\n"
     ]
    },
    {
     "name": "stdout",
     "output_type": "stream",
     "text": [
      "\n",
      "  loss 0.051307229983\n",
      "  err  0.0123804644809\n",
      "  (0:00:07)\n",
      "Epoch 358:"
     ]
    },
    {
     "name": "stderr",
     "output_type": "stream",
     "text": [
      "100%\n"
     ]
    },
    {
     "name": "stdout",
     "output_type": "stream",
     "text": [
      "\n",
      "  loss 0.0485731303766\n",
      "  err  0.0115906762295\n",
      "  (0:00:07)\n",
      "Epoch 359:"
     ]
    },
    {
     "name": "stderr",
     "output_type": "stream",
     "text": [
      "100%\n"
     ]
    },
    {
     "name": "stdout",
     "output_type": "stream",
     "text": [
      "\n",
      "  loss 0.0511928648157\n",
      "  err  0.0113772199454\n",
      "  (0:00:07)\n",
      "Epoch 360:"
     ]
    },
    {
     "name": "stderr",
     "output_type": "stream",
     "text": [
      "100%\n"
     ]
    },
    {
     "name": "stdout",
     "output_type": "stream",
     "text": [
      "\n",
      "  loss 0.0492339095227\n",
      "  err  0.0112918374317\n",
      "  (0:00:07)\n",
      "Epoch 361:"
     ]
    },
    {
     "name": "stderr",
     "output_type": "stream",
     "text": [
      "100%\n"
     ]
    },
    {
     "name": "stdout",
     "output_type": "stream",
     "text": [
      "\n",
      "  loss 0.047597489704\n",
      "  err  0.0108222336066\n",
      "  (0:00:07)\n",
      "Epoch 362:"
     ]
    },
    {
     "name": "stderr",
     "output_type": "stream",
     "text": [
      "100%\n"
     ]
    },
    {
     "name": "stdout",
     "output_type": "stream",
     "text": [
      "\n",
      "  loss 0.0510857033676\n",
      "  err  0.011974897541\n",
      "  (0:00:07)\n",
      "Epoch 363:"
     ]
    },
    {
     "name": "stderr",
     "output_type": "stream",
     "text": [
      "100%\n"
     ]
    },
    {
     "name": "stdout",
     "output_type": "stream",
     "text": [
      "\n",
      "  loss 0.0498131474695\n",
      "  err  0.0114412568306\n",
      "  (0:00:07)\n",
      "Epoch 364:"
     ]
    },
    {
     "name": "stderr",
     "output_type": "stream",
     "text": [
      "100%\n"
     ]
    },
    {
     "name": "stdout",
     "output_type": "stream",
     "text": [
      "\n",
      "  loss 0.0486089500365\n",
      "  err  0.011099726776\n",
      "  (0:00:07)\n",
      "Epoch 365:"
     ]
    },
    {
     "name": "stderr",
     "output_type": "stream",
     "text": [
      "100%\n"
     ]
    },
    {
     "name": "stdout",
     "output_type": "stream",
     "text": [
      "\n",
      "  loss 0.049438437085\n",
      "  err  0.0116120218579\n",
      "  (0:00:07)\n",
      "Epoch 366:"
     ]
    },
    {
     "name": "stderr",
     "output_type": "stream",
     "text": [
      "100%\n"
     ]
    },
    {
     "name": "stdout",
     "output_type": "stream",
     "text": [
      "\n",
      "  loss 0.0521541962685\n",
      "  err  0.0119535519126\n",
      "  (0:00:07)\n",
      "Epoch 367:"
     ]
    },
    {
     "name": "stderr",
     "output_type": "stream",
     "text": [
      "100%\n"
     ]
    },
    {
     "name": "stdout",
     "output_type": "stream",
     "text": [
      "\n",
      "  loss 0.0514613784521\n",
      "  err  0.0123164275956\n",
      "  (0:00:07)\n",
      "Epoch 368:"
     ]
    },
    {
     "name": "stderr",
     "output_type": "stream",
     "text": [
      "100%\n"
     ]
    },
    {
     "name": "stdout",
     "output_type": "stream",
     "text": [
      "\n",
      "  loss 0.0507776681296\n",
      "  err  0.0117827868852\n",
      "  (0:00:07)\n",
      "Epoch 369:"
     ]
    },
    {
     "name": "stderr",
     "output_type": "stream",
     "text": [
      "100%\n"
     ]
    },
    {
     "name": "stdout",
     "output_type": "stream",
     "text": [
      "\n",
      "  loss 0.050779068922\n",
      "  err  0.0124445013661\n",
      "  (0:00:07)\n",
      "Epoch 370:"
     ]
    },
    {
     "name": "stderr",
     "output_type": "stream",
     "text": [
      "100%\n"
     ]
    },
    {
     "name": "stdout",
     "output_type": "stream",
     "text": [
      "\n",
      "  loss 0.0500572536267\n",
      "  err  0.011462602459\n",
      "  (0:00:07)\n",
      "Epoch 371:"
     ]
    },
    {
     "name": "stderr",
     "output_type": "stream",
     "text": [
      "100%\n"
     ]
    },
    {
     "name": "stdout",
     "output_type": "stream",
     "text": [
      "\n",
      "  loss 0.0497119690087\n",
      "  err  0.0120816256831\n",
      "  (0:00:07)\n",
      "Epoch 372:"
     ]
    },
    {
     "name": "stderr",
     "output_type": "stream",
     "text": [
      "100%\n"
     ]
    },
    {
     "name": "stdout",
     "output_type": "stream",
     "text": [
      "\n",
      "  loss 0.0488072634977\n",
      "  err  0.0112491461749\n",
      "  (0:00:07)\n",
      "Epoch 373:"
     ]
    },
    {
     "name": "stderr",
     "output_type": "stream",
     "text": [
      "100%\n"
     ]
    },
    {
     "name": "stdout",
     "output_type": "stream",
     "text": [
      "\n",
      "  loss 0.0497637483739\n",
      "  err  0.0120816256831\n",
      "  (0:00:07)\n",
      "Epoch 374:"
     ]
    },
    {
     "name": "stderr",
     "output_type": "stream",
     "text": [
      "100%\n"
     ]
    },
    {
     "name": "stdout",
     "output_type": "stream",
     "text": [
      "\n",
      "  loss 0.0505072294112\n",
      "  err  0.0120602800546\n",
      "  (0:00:07)\n",
      "Epoch 375:"
     ]
    },
    {
     "name": "stderr",
     "output_type": "stream",
     "text": [
      "100%\n"
     ]
    },
    {
     "name": "stdout",
     "output_type": "stream",
     "text": [
      "\n",
      "  loss 0.0495946167751\n",
      "  err  0.0113985655738\n",
      "  (0:00:07)\n",
      "Epoch 376:"
     ]
    },
    {
     "name": "stderr",
     "output_type": "stream",
     "text": [
      "100%\n"
     ]
    },
    {
     "name": "stdout",
     "output_type": "stream",
     "text": [
      "\n",
      "  loss 0.050087231761\n",
      "  err  0.0117400956284\n",
      "  (0:00:07)\n",
      "Epoch 377:"
     ]
    },
    {
     "name": "stderr",
     "output_type": "stream",
     "text": [
      "100%\n"
     ]
    },
    {
     "name": "stdout",
     "output_type": "stream",
     "text": [
      "\n",
      "  loss 0.0490173842342\n",
      "  err  0.0112491461749\n",
      "  (0:00:07)\n",
      "Epoch 378:"
     ]
    },
    {
     "name": "stderr",
     "output_type": "stream",
     "text": [
      "100%\n"
     ]
    },
    {
     "name": "stdout",
     "output_type": "stream",
     "text": [
      "\n",
      "  loss 0.0490067131319\n",
      "  err  0.0113345286885\n",
      "  (0:00:07)\n",
      "Epoch 379:"
     ]
    },
    {
     "name": "stderr",
     "output_type": "stream",
     "text": [
      "100%\n"
     ]
    },
    {
     "name": "stdout",
     "output_type": "stream",
     "text": [
      "\n",
      "  loss 0.0511855473195\n",
      "  err  0.01171875\n",
      "  (0:00:07)\n",
      "Epoch 380:"
     ]
    },
    {
     "name": "stderr",
     "output_type": "stream",
     "text": [
      "100%\n"
     ]
    },
    {
     "name": "stdout",
     "output_type": "stream",
     "text": [
      "\n",
      "  loss 0.0486208262537\n",
      "  err  0.0114839480874\n",
      "  (0:00:07)\n",
      "Epoch 381:"
     ]
    },
    {
     "name": "stderr",
     "output_type": "stream",
     "text": [
      "100%\n"
     ]
    },
    {
     "name": "stdout",
     "output_type": "stream",
     "text": [
      "\n",
      "  loss 0.0487564433197\n",
      "  err  0.0104807035519\n",
      "  (0:00:07)\n",
      "Epoch 382:"
     ]
    },
    {
     "name": "stderr",
     "output_type": "stream",
     "text": [
      "100%\n"
     ]
    },
    {
     "name": "stdout",
     "output_type": "stream",
     "text": [
      "\n",
      "  loss 0.049960513631\n",
      "  err  0.0117827868852\n",
      "  (0:00:07)\n",
      "Epoch 383:"
     ]
    },
    {
     "name": "stderr",
     "output_type": "stream",
     "text": [
      "100%\n"
     ]
    },
    {
     "name": "stdout",
     "output_type": "stream",
     "text": [
      "\n",
      "  loss 0.0504022942019\n",
      "  err  0.0116547131148\n",
      "  (0:00:07)\n",
      "Epoch 384:"
     ]
    },
    {
     "name": "stderr",
     "output_type": "stream",
     "text": [
      "100%\n"
     ]
    },
    {
     "name": "stdout",
     "output_type": "stream",
     "text": [
      "\n",
      "  loss 0.0498614485968\n",
      "  err  0.0118468237705\n",
      "  (0:00:07)\n",
      "Epoch 385:"
     ]
    },
    {
     "name": "stderr",
     "output_type": "stream",
     "text": [
      "100%\n"
     ]
    },
    {
     "name": "stdout",
     "output_type": "stream",
     "text": [
      "\n",
      "  loss 0.0500653735305\n",
      "  err  0.0118681693989\n",
      "  (0:00:07)\n",
      "Epoch 386:"
     ]
    },
    {
     "name": "stderr",
     "output_type": "stream",
     "text": [
      "100%\n"
     ]
    },
    {
     "name": "stdout",
     "output_type": "stream",
     "text": [
      "\n",
      "  loss 0.049309084774\n",
      "  err  0.011462602459\n",
      "  (0:00:07)\n",
      "Epoch 387:"
     ]
    },
    {
     "name": "stderr",
     "output_type": "stream",
     "text": [
      "100%\n"
     ]
    },
    {
     "name": "stdout",
     "output_type": "stream",
     "text": [
      "\n",
      "  loss 0.0526350030798\n",
      "  err  0.012487192623\n",
      "  (0:00:07)\n",
      "Epoch 388:"
     ]
    },
    {
     "name": "stderr",
     "output_type": "stream",
     "text": [
      "100%\n"
     ]
    },
    {
     "name": "stdout",
     "output_type": "stream",
     "text": [
      "\n",
      "  loss 0.0501235535844\n",
      "  err  0.0122737363388\n",
      "  (0:00:07)\n",
      "Epoch 389:"
     ]
    },
    {
     "name": "stderr",
     "output_type": "stream",
     "text": [
      "100%\n"
     ]
    },
    {
     "name": "stdout",
     "output_type": "stream",
     "text": [
      "\n",
      "  loss 0.0484625058429\n",
      "  err  0.011206454918\n",
      "  (0:00:07)\n",
      "Epoch 390:"
     ]
    },
    {
     "name": "stderr",
     "output_type": "stream",
     "text": [
      "100%\n"
     ]
    },
    {
     "name": "stdout",
     "output_type": "stream",
     "text": [
      "\n",
      "  loss 0.0498601240494\n",
      "  err  0.0112491461749\n",
      "  (0:00:07)\n",
      "Epoch 391:"
     ]
    },
    {
     "name": "stderr",
     "output_type": "stream",
     "text": [
      "100%\n"
     ]
    },
    {
     "name": "stdout",
     "output_type": "stream",
     "text": [
      "\n",
      "  loss 0.0507518351581\n",
      "  err  0.0118895150273\n",
      "  (0:00:07)\n",
      "Epoch 392:"
     ]
    },
    {
     "name": "stderr",
     "output_type": "stream",
     "text": [
      "100%\n"
     ]
    },
    {
     "name": "stdout",
     "output_type": "stream",
     "text": [
      "\n",
      "  loss 0.0501922666848\n",
      "  err  0.0117614412568\n",
      "  (0:00:07)\n",
      "Epoch 393:"
     ]
    },
    {
     "name": "stderr",
     "output_type": "stream",
     "text": [
      "100%\n"
     ]
    },
    {
     "name": "stdout",
     "output_type": "stream",
     "text": [
      "\n",
      "  loss 0.0508158842885\n",
      "  err  0.0120389344262\n",
      "  (0:00:07)\n",
      "Epoch 394:"
     ]
    },
    {
     "name": "stderr",
     "output_type": "stream",
     "text": [
      "100%\n"
     ]
    },
    {
     "name": "stdout",
     "output_type": "stream",
     "text": [
      "\n",
      "  loss 0.0503427962877\n",
      "  err  0.0111424180328\n",
      "  (0:00:07)\n",
      "Epoch 395:"
     ]
    },
    {
     "name": "stderr",
     "output_type": "stream",
     "text": [
      "100%\n"
     ]
    },
    {
     "name": "stdout",
     "output_type": "stream",
     "text": [
      "\n",
      "  loss 0.0512372959314\n",
      "  err  0.0121243169399\n",
      "  (0:00:07)\n",
      "Epoch 396:"
     ]
    },
    {
     "name": "stderr",
     "output_type": "stream",
     "text": [
      "100%\n"
     ]
    },
    {
     "name": "stdout",
     "output_type": "stream",
     "text": [
      "\n",
      "  loss 0.0494296498669\n",
      "  err  0.0115266393443\n",
      "  (0:00:07)\n",
      "Epoch 397:"
     ]
    },
    {
     "name": "stderr",
     "output_type": "stream",
     "text": [
      "100%\n"
     ]
    },
    {
     "name": "stdout",
     "output_type": "stream",
     "text": [
      "\n",
      "  loss 0.0504103448608\n",
      "  err  0.0117614412568\n",
      "  (0:00:07)\n",
      "Epoch 398:"
     ]
    },
    {
     "name": "stderr",
     "output_type": "stream",
     "text": [
      "100%\n"
     ]
    },
    {
     "name": "stdout",
     "output_type": "stream",
     "text": [
      "\n",
      "  loss 0.0504657463145\n",
      "  err  0.0115906762295\n",
      "  (0:00:07)\n",
      "Epoch 399:"
     ]
    },
    {
     "name": "stderr",
     "output_type": "stream",
     "text": [
      "100%\n"
     ]
    },
    {
     "name": "stdout",
     "output_type": "stream",
     "text": [
      "\n",
      "  loss 0.0506969279918\n",
      "  err  0.0116333674863\n",
      "  (0:00:07)\n",
      "Epoch 400:"
     ]
    },
    {
     "name": "stderr",
     "output_type": "stream",
     "text": [
      "100%\n"
     ]
    },
    {
     "name": "stdout",
     "output_type": "stream",
     "text": [
      "\n",
      "  loss 0.0512759418588\n",
      "  err  0.0121670081967\n",
      "  (0:00:07)\n",
      "Epoch 401:"
     ]
    },
    {
     "name": "stderr",
     "output_type": "stream",
     "text": [
      "100%\n"
     ]
    },
    {
     "name": "stdout",
     "output_type": "stream",
     "text": [
      "\n",
      "  loss 0.0517012247068\n",
      "  err  0.0121883538251\n",
      "  (0:00:07)\n",
      "Epoch 402:"
     ]
    },
    {
     "name": "stderr",
     "output_type": "stream",
     "text": [
      "100%\n"
     ]
    },
    {
     "name": "stdout",
     "output_type": "stream",
     "text": [
      "\n",
      "  loss 0.0501304883332\n",
      "  err  0.0116760587432\n",
      "  (0:00:07)\n",
      "Epoch 403:"
     ]
    },
    {
     "name": "stderr",
     "output_type": "stream",
     "text": [
      "100%\n"
     ]
    },
    {
     "name": "stdout",
     "output_type": "stream",
     "text": [
      "\n",
      "  loss 0.0487099933022\n",
      "  err  0.011206454918\n",
      "  (0:00:07)\n",
      "Epoch 404:"
     ]
    },
    {
     "name": "stderr",
     "output_type": "stream",
     "text": [
      "100%\n"
     ]
    },
    {
     "name": "stdout",
     "output_type": "stream",
     "text": [
      "\n",
      "  loss 0.0482619690691\n",
      "  err  0.0112278005464\n",
      "  (0:00:07)\n",
      "Epoch 405:"
     ]
    },
    {
     "name": "stderr",
     "output_type": "stream",
     "text": [
      "100%\n"
     ]
    },
    {
     "name": "stdout",
     "output_type": "stream",
     "text": [
      "\n",
      "  loss 0.0495880175283\n",
      "  err  0.0113131830601\n",
      "  (0:00:07)\n",
      "Epoch 406:"
     ]
    },
    {
     "name": "stderr",
     "output_type": "stream",
     "text": [
      "100%\n"
     ]
    },
    {
     "name": "stdout",
     "output_type": "stream",
     "text": [
      "\n",
      "  loss 0.0497073170435\n",
      "  err  0.0110356898907\n",
      "  (0:00:07)\n",
      "Epoch 407:"
     ]
    },
    {
     "name": "stderr",
     "output_type": "stream",
     "text": [
      "100%\n"
     ]
    },
    {
     "name": "stdout",
     "output_type": "stream",
     "text": [
      "\n",
      "  loss 0.0520832473374\n",
      "  err  0.0117400956284\n",
      "  (0:00:07)\n",
      "Epoch 408:"
     ]
    },
    {
     "name": "stderr",
     "output_type": "stream",
     "text": [
      "100%\n"
     ]
    },
    {
     "name": "stdout",
     "output_type": "stream",
     "text": [
      "\n",
      "  loss 0.0484551596977\n",
      "  err  0.0112918374317\n",
      "  (0:00:07)\n",
      "Epoch 409:"
     ]
    },
    {
     "name": "stderr",
     "output_type": "stream",
     "text": [
      "100%\n"
     ]
    },
    {
     "name": "stdout",
     "output_type": "stream",
     "text": [
      "\n",
      "  loss 0.04798519862\n",
      "  err  0.0117827868852\n",
      "  (0:00:07)\n",
      "Epoch 410:"
     ]
    },
    {
     "name": "stderr",
     "output_type": "stream",
     "text": [
      "100%\n"
     ]
    },
    {
     "name": "stdout",
     "output_type": "stream",
     "text": [
      "\n",
      "  loss 0.0470664386594\n",
      "  err  0.0108862704918\n",
      "  (0:00:07)\n",
      "Epoch 411:"
     ]
    },
    {
     "name": "stderr",
     "output_type": "stream",
     "text": [
      "100%\n"
     ]
    },
    {
     "name": "stdout",
     "output_type": "stream",
     "text": [
      "\n",
      "  loss 0.0497579451719\n",
      "  err  0.0116333674863\n",
      "  (0:00:07)\n",
      "Epoch 412:"
     ]
    },
    {
     "name": "stderr",
     "output_type": "stream",
     "text": [
      "100%\n"
     ]
    },
    {
     "name": "stdout",
     "output_type": "stream",
     "text": [
      "\n",
      "  loss 0.0489679494621\n",
      "  err  0.01171875\n",
      "  (0:00:07)\n",
      "Epoch 413:"
     ]
    },
    {
     "name": "stderr",
     "output_type": "stream",
     "text": [
      "100%\n"
     ]
    },
    {
     "name": "stdout",
     "output_type": "stream",
     "text": [
      "\n",
      "  loss 0.050957498675\n",
      "  err  0.0117614412568\n",
      "  (0:00:07)\n",
      "Epoch 414:"
     ]
    },
    {
     "name": "stderr",
     "output_type": "stream",
     "text": [
      "100%\n"
     ]
    },
    {
     "name": "stdout",
     "output_type": "stream",
     "text": [
      "\n",
      "  loss 0.0501315662971\n",
      "  err  0.0114199112022\n",
      "  (0:00:07)\n",
      "Epoch 415:"
     ]
    },
    {
     "name": "stderr",
     "output_type": "stream",
     "text": [
      "100%\n"
     ]
    },
    {
     "name": "stdout",
     "output_type": "stream",
     "text": [
      "\n",
      "  loss 0.047615717106\n",
      "  err  0.0104166666667\n",
      "  (0:00:07)\n",
      "Epoch 416:"
     ]
    },
    {
     "name": "stderr",
     "output_type": "stream",
     "text": [
      "100%\n"
     ]
    },
    {
     "name": "stdout",
     "output_type": "stream",
     "text": [
      "\n",
      "  loss 0.0502720096052\n",
      "  err  0.0113345286885\n",
      "  (0:00:07)\n",
      "Epoch 417:"
     ]
    },
    {
     "name": "stderr",
     "output_type": "stream",
     "text": [
      "100%\n"
     ]
    },
    {
     "name": "stdout",
     "output_type": "stream",
     "text": [
      "\n",
      "  loss 0.0530107693334\n",
      "  err  0.0133196721311\n",
      "  (0:00:07)\n",
      "Epoch 418:"
     ]
    },
    {
     "name": "stderr",
     "output_type": "stream",
     "text": [
      "100%\n"
     ]
    },
    {
     "name": "stdout",
     "output_type": "stream",
     "text": [
      "\n",
      "  loss 0.0504115167337\n",
      "  err  0.0119962431694\n",
      "  (0:00:07)\n",
      "Epoch 419:"
     ]
    },
    {
     "name": "stderr",
     "output_type": "stream",
     "text": [
      "100%\n"
     ]
    },
    {
     "name": "stdout",
     "output_type": "stream",
     "text": [
      "\n",
      "  loss 0.0504200194855\n",
      "  err  0.0109076161202\n",
      "  (0:00:07)\n",
      "Epoch 420:"
     ]
    },
    {
     "name": "stderr",
     "output_type": "stream",
     "text": [
      "100%\n"
     ]
    },
    {
     "name": "stdout",
     "output_type": "stream",
     "text": [
      "\n",
      "  loss 0.050999305218\n",
      "  err  0.0116974043716\n",
      "  (0:00:07)\n",
      "Epoch 421:"
     ]
    },
    {
     "name": "stderr",
     "output_type": "stream",
     "text": [
      "100%\n"
     ]
    },
    {
     "name": "stdout",
     "output_type": "stream",
     "text": [
      "\n",
      "  loss 0.0517370765539\n",
      "  err  0.0125725751366\n",
      "  (0:00:07)\n",
      "Epoch 422:"
     ]
    },
    {
     "name": "stderr",
     "output_type": "stream",
     "text": [
      "100%\n"
     ]
    },
    {
     "name": "stdout",
     "output_type": "stream",
     "text": [
      "\n",
      "  loss 0.0500057769171\n",
      "  err  0.0117827868852\n",
      "  (0:00:07)\n",
      "Epoch 423:"
     ]
    },
    {
     "name": "stderr",
     "output_type": "stream",
     "text": [
      "100%\n"
     ]
    },
    {
     "name": "stdout",
     "output_type": "stream",
     "text": [
      "\n",
      "  loss 0.052366873418\n",
      "  err  0.0125512295082\n",
      "  (0:00:07)\n",
      "Epoch 424:"
     ]
    },
    {
     "name": "stderr",
     "output_type": "stream",
     "text": [
      "100%\n"
     ]
    },
    {
     "name": "stdout",
     "output_type": "stream",
     "text": [
      "\n",
      "  loss 0.0514989609714\n",
      "  err  0.0121243169399\n",
      "  (0:00:07)\n",
      "Epoch 425:"
     ]
    },
    {
     "name": "stderr",
     "output_type": "stream",
     "text": [
      "100%\n"
     ]
    },
    {
     "name": "stdout",
     "output_type": "stream",
     "text": [
      "\n",
      "  loss 0.0495031032905\n",
      "  err  0.0112918374317\n",
      "  (0:00:07)\n",
      "Epoch 426:"
     ]
    },
    {
     "name": "stderr",
     "output_type": "stream",
     "text": [
      "100%\n"
     ]
    },
    {
     "name": "stdout",
     "output_type": "stream",
     "text": [
      "\n",
      "  loss 0.0503172961667\n",
      "  err  0.0119322062842\n",
      "  (0:00:07)\n",
      "Epoch 427:"
     ]
    },
    {
     "name": "stderr",
     "output_type": "stream",
     "text": [
      "100%\n"
     ]
    },
    {
     "name": "stdout",
     "output_type": "stream",
     "text": [
      "\n",
      "  loss 0.0492703765364\n",
      "  err  0.0116760587432\n",
      "  (0:00:07)\n",
      "Epoch 428:"
     ]
    },
    {
     "name": "stderr",
     "output_type": "stream",
     "text": [
      "100%\n"
     ]
    },
    {
     "name": "stdout",
     "output_type": "stream",
     "text": [
      "\n",
      "  loss 0.0515410618092\n",
      "  err  0.0118895150273\n",
      "  (0:00:07)\n",
      "Epoch 429:"
     ]
    },
    {
     "name": "stderr",
     "output_type": "stream",
     "text": [
      "100%\n"
     ]
    },
    {
     "name": "stdout",
     "output_type": "stream",
     "text": [
      "\n",
      "  loss 0.0502365323717\n",
      "  err  0.0119322062842\n",
      "  (0:00:07)\n",
      "Epoch 430:"
     ]
    },
    {
     "name": "stderr",
     "output_type": "stream",
     "text": [
      "100%\n"
     ]
    },
    {
     "name": "stdout",
     "output_type": "stream",
     "text": [
      "\n",
      "  loss 0.0477823196412\n",
      "  err  0.011099726776\n",
      "  (0:00:07)\n",
      "Epoch 431:"
     ]
    },
    {
     "name": "stderr",
     "output_type": "stream",
     "text": [
      "100%\n"
     ]
    },
    {
     "name": "stdout",
     "output_type": "stream",
     "text": [
      "\n",
      "  loss 0.04975405222\n",
      "  err  0.0112918374317\n",
      "  (0:00:07)\n",
      "Epoch 432:"
     ]
    },
    {
     "name": "stderr",
     "output_type": "stream",
     "text": [
      "100%\n"
     ]
    },
    {
     "name": "stdout",
     "output_type": "stream",
     "text": [
      "\n",
      "  loss 0.0516214376962\n",
      "  err  0.0116760587432\n",
      "  (0:00:07)\n",
      "Epoch 433:"
     ]
    },
    {
     "name": "stderr",
     "output_type": "stream",
     "text": [
      "100%\n"
     ]
    },
    {
     "name": "stdout",
     "output_type": "stream",
     "text": [
      "\n",
      "  loss 0.0500778241867\n",
      "  err  0.0116547131148\n",
      "  (0:00:07)\n",
      "Epoch 434:"
     ]
    },
    {
     "name": "stderr",
     "output_type": "stream",
     "text": [
      "100%\n"
     ]
    },
    {
     "name": "stdout",
     "output_type": "stream",
     "text": [
      "\n",
      "  loss 0.0517748356396\n",
      "  err  0.012487192623\n",
      "  (0:00:07)\n",
      "Epoch 435:"
     ]
    },
    {
     "name": "stderr",
     "output_type": "stream",
     "text": [
      "100%\n"
     ]
    },
    {
     "name": "stdout",
     "output_type": "stream",
     "text": [
      "\n",
      "  loss 0.0512037000853\n",
      "  err  0.0118681693989\n",
      "  (0:00:07)\n",
      "Epoch 436:"
     ]
    },
    {
     "name": "stderr",
     "output_type": "stream",
     "text": [
      "100%\n"
     ]
    },
    {
     "name": "stdout",
     "output_type": "stream",
     "text": [
      "\n",
      "  loss 0.050197573581\n",
      "  err  0.0116333674863\n",
      "  (0:00:07)\n",
      "Epoch 437:"
     ]
    },
    {
     "name": "stderr",
     "output_type": "stream",
     "text": [
      "100%\n"
     ]
    },
    {
     "name": "stdout",
     "output_type": "stream",
     "text": [
      "\n",
      "  loss 0.0516560903523\n",
      "  err  0.0124445013661\n",
      "  (0:00:07)\n",
      "Epoch 438:"
     ]
    },
    {
     "name": "stderr",
     "output_type": "stream",
     "text": [
      "100%\n"
     ]
    },
    {
     "name": "stdout",
     "output_type": "stream",
     "text": [
      "\n",
      "  loss 0.0498092154008\n",
      "  err  0.0120175887978\n",
      "  (0:00:07)\n",
      "Epoch 439:"
     ]
    },
    {
     "name": "stderr",
     "output_type": "stream",
     "text": [
      "100%\n"
     ]
    },
    {
     "name": "stdout",
     "output_type": "stream",
     "text": [
      "\n",
      "  loss 0.0493977603209\n",
      "  err  0.0112491461749\n",
      "  (0:00:07)\n",
      "Epoch 440:"
     ]
    },
    {
     "name": "stderr",
     "output_type": "stream",
     "text": [
      "100%\n"
     ]
    },
    {
     "name": "stdout",
     "output_type": "stream",
     "text": [
      "\n",
      "  loss 0.050666761916\n",
      "  err  0.0109716530055\n",
      "  (0:00:07)\n",
      "Epoch 441:"
     ]
    },
    {
     "name": "stderr",
     "output_type": "stream",
     "text": [
      "100%\n"
     ]
    },
    {
     "name": "stdout",
     "output_type": "stream",
     "text": [
      "\n",
      "  loss 0.0488958144446\n",
      "  err  0.0112704918033\n",
      "  (0:00:07)\n",
      "Epoch 442:"
     ]
    },
    {
     "name": "stderr",
     "output_type": "stream",
     "text": [
      "100%\n"
     ]
    },
    {
     "name": "stdout",
     "output_type": "stream",
     "text": [
      "\n",
      "  loss 0.0479657469798\n",
      "  err  0.0116120218579\n",
      "  (0:00:07)\n",
      "Epoch 443:"
     ]
    },
    {
     "name": "stderr",
     "output_type": "stream",
     "text": [
      "100%\n"
     ]
    },
    {
     "name": "stdout",
     "output_type": "stream",
     "text": [
      "\n",
      "  loss 0.0492923089642\n",
      "  err  0.0112704918033\n",
      "  (0:00:07)\n",
      "Epoch 444:"
     ]
    },
    {
     "name": "stderr",
     "output_type": "stream",
     "text": [
      "100%\n"
     ]
    },
    {
     "name": "stdout",
     "output_type": "stream",
     "text": [
      "\n",
      "  loss 0.0496597786541\n",
      "  err  0.0118254781421\n",
      "  (0:00:07)\n",
      "Epoch 445:"
     ]
    },
    {
     "name": "stderr",
     "output_type": "stream",
     "text": [
      "100%\n"
     ]
    },
    {
     "name": "stdout",
     "output_type": "stream",
     "text": [
      "\n",
      "  loss 0.0487362739479\n",
      "  err  0.0116760587432\n",
      "  (0:00:07)\n",
      "Epoch 446:"
     ]
    },
    {
     "name": "stderr",
     "output_type": "stream",
     "text": [
      "100%\n"
     ]
    },
    {
     "name": "stdout",
     "output_type": "stream",
     "text": [
      "\n",
      "  loss 0.0495369232354\n",
      "  err  0.0119535519126\n",
      "  (0:00:07)\n",
      "Epoch 447:"
     ]
    },
    {
     "name": "stderr",
     "output_type": "stream",
     "text": [
      "100%\n"
     ]
    },
    {
     "name": "stdout",
     "output_type": "stream",
     "text": [
      "\n",
      "  loss 0.050885064563\n",
      "  err  0.011462602459\n",
      "  (0:00:07)\n",
      "Epoch 448:"
     ]
    },
    {
     "name": "stderr",
     "output_type": "stream",
     "text": [
      "100%\n"
     ]
    },
    {
     "name": "stdout",
     "output_type": "stream",
     "text": [
      "\n",
      "  loss 0.0512045377463\n",
      "  err  0.0110570355191\n",
      "  (0:00:07)\n",
      "Epoch 449:"
     ]
    },
    {
     "name": "stderr",
     "output_type": "stream",
     "text": [
      "100%\n"
     ]
    },
    {
     "name": "stdout",
     "output_type": "stream",
     "text": [
      "\n",
      "  loss 0.050808559399\n",
      "  err  0.0118681693989\n",
      "  (0:00:07)\n",
      "Epoch 450:"
     ]
    },
    {
     "name": "stderr",
     "output_type": "stream",
     "text": [
      "100%\n"
     ]
    },
    {
     "name": "stdout",
     "output_type": "stream",
     "text": [
      "\n",
      "  loss 0.0509543300713\n",
      "  err  0.0113558743169\n",
      "  (0:00:07)\n",
      "Epoch 451:"
     ]
    },
    {
     "name": "stderr",
     "output_type": "stream",
     "text": [
      "100%\n"
     ]
    },
    {
     "name": "stdout",
     "output_type": "stream",
     "text": [
      "\n",
      "  loss 0.0524090463983\n",
      "  err  0.012337773224\n",
      "  (0:00:07)\n",
      "Epoch 452:"
     ]
    },
    {
     "name": "stderr",
     "output_type": "stream",
     "text": [
      "100%\n"
     ]
    },
    {
     "name": "stdout",
     "output_type": "stream",
     "text": [
      "\n",
      "  loss 0.0488519621765\n",
      "  err  0.010587431694\n",
      "  (0:00:07)\n",
      "Epoch 453:"
     ]
    },
    {
     "name": "stderr",
     "output_type": "stream",
     "text": [
      "100%\n"
     ]
    },
    {
     "name": "stdout",
     "output_type": "stream",
     "text": [
      "\n",
      "  loss 0.0490034788878\n",
      "  err  0.011462602459\n",
      "  (0:00:07)\n",
      "Epoch 454:"
     ]
    },
    {
     "name": "stderr",
     "output_type": "stream",
     "text": [
      "100%\n"
     ]
    },
    {
     "name": "stdout",
     "output_type": "stream",
     "text": [
      "\n",
      "  loss 0.0506793434854\n",
      "  err  0.0113345286885\n",
      "  (0:00:07)\n",
      "Epoch 455:"
     ]
    },
    {
     "name": "stderr",
     "output_type": "stream",
     "text": [
      "100%\n"
     ]
    },
    {
     "name": "stdout",
     "output_type": "stream",
     "text": [
      "\n",
      "  loss 0.0501720156594\n",
      "  err  0.0124231557377\n",
      "  (0:00:07)\n",
      "Epoch 456:"
     ]
    },
    {
     "name": "stderr",
     "output_type": "stream",
     "text": [
      "100%\n"
     ]
    },
    {
     "name": "stdout",
     "output_type": "stream",
     "text": [
      "\n",
      "  loss 0.0495945964208\n",
      "  err  0.0118895150273\n",
      "  (0:00:07)\n",
      "Epoch 457:"
     ]
    },
    {
     "name": "stderr",
     "output_type": "stream",
     "text": [
      "100%\n"
     ]
    },
    {
     "name": "stdout",
     "output_type": "stream",
     "text": [
      "\n",
      "  loss 0.0512701127935\n",
      "  err  0.0120389344262\n",
      "  (0:00:07)\n",
      "Epoch 458:"
     ]
    },
    {
     "name": "stderr",
     "output_type": "stream",
     "text": [
      "100%\n"
     ]
    },
    {
     "name": "stdout",
     "output_type": "stream",
     "text": [
      "\n",
      "  loss 0.050681788744\n",
      "  err  0.0118041325137\n",
      "  (0:00:07)\n",
      "Epoch 459:"
     ]
    },
    {
     "name": "stderr",
     "output_type": "stream",
     "text": [
      "100%\n"
     ]
    },
    {
     "name": "stdout",
     "output_type": "stream",
     "text": [
      "\n",
      "  loss 0.0496685736128\n",
      "  err  0.011099726776\n",
      "  (0:00:07)\n",
      "Epoch 460:"
     ]
    },
    {
     "name": "stderr",
     "output_type": "stream",
     "text": [
      "100%\n"
     ]
    },
    {
     "name": "stdout",
     "output_type": "stream",
     "text": [
      "\n",
      "  loss 0.0509005833183\n",
      "  err  0.0116760587432\n",
      "  (0:00:07)\n",
      "Epoch 461:"
     ]
    },
    {
     "name": "stderr",
     "output_type": "stream",
     "text": [
      "100%\n"
     ]
    },
    {
     "name": "stdout",
     "output_type": "stream",
     "text": [
      "\n",
      "  loss 0.0501581368621\n",
      "  err  0.0118681693989\n",
      "  (0:00:07)\n",
      "Epoch 462:"
     ]
    },
    {
     "name": "stderr",
     "output_type": "stream",
     "text": [
      "100%\n"
     ]
    },
    {
     "name": "stdout",
     "output_type": "stream",
     "text": [
      "\n",
      "  loss 0.0490641129309\n",
      "  err  0.0116120218579\n",
      "  (0:00:07)\n",
      "Epoch 463:"
     ]
    },
    {
     "name": "stderr",
     "output_type": "stream",
     "text": [
      "100%\n"
     ]
    },
    {
     "name": "stdout",
     "output_type": "stream",
     "text": [
      "\n",
      "  loss 0.0503530140249\n",
      "  err  0.0122096994536\n",
      "  (0:00:07)\n",
      "Epoch 464:"
     ]
    },
    {
     "name": "stderr",
     "output_type": "stream",
     "text": [
      "100%\n"
     ]
    },
    {
     "name": "stdout",
     "output_type": "stream",
     "text": [
      "\n",
      "  loss 0.0498464214558\n",
      "  err  0.0117400956284\n",
      "  (0:00:07)\n",
      "Epoch 465:"
     ]
    },
    {
     "name": "stderr",
     "output_type": "stream",
     "text": [
      "100%\n"
     ]
    },
    {
     "name": "stdout",
     "output_type": "stream",
     "text": [
      "\n",
      "  loss 0.0496122079298\n",
      "  err  0.011462602459\n",
      "  (0:00:07)\n",
      "Epoch 466:"
     ]
    },
    {
     "name": "stderr",
     "output_type": "stream",
     "text": [
      "100%\n"
     ]
    },
    {
     "name": "stdout",
     "output_type": "stream",
     "text": [
      "\n",
      "  loss 0.0504250501924\n",
      "  err  0.0116547131148\n",
      "  (0:00:07)\n",
      "Epoch 467:"
     ]
    },
    {
     "name": "stderr",
     "output_type": "stream",
     "text": [
      "100%\n"
     ]
    },
    {
     "name": "stdout",
     "output_type": "stream",
     "text": [
      "\n",
      "  loss 0.0509126304357\n",
      "  err  0.0121883538251\n",
      "  (0:00:07)\n",
      "Epoch 468:"
     ]
    },
    {
     "name": "stderr",
     "output_type": "stream",
     "text": [
      "100%\n"
     ]
    },
    {
     "name": "stdout",
     "output_type": "stream",
     "text": [
      "\n",
      "  loss 0.049093916378\n",
      "  err  0.0113345286885\n",
      "  (0:00:07)\n",
      "Epoch 469:"
     ]
    },
    {
     "name": "stderr",
     "output_type": "stream",
     "text": [
      "100%\n"
     ]
    },
    {
     "name": "stdout",
     "output_type": "stream",
     "text": [
      "\n",
      "  loss 0.0508008613512\n",
      "  err  0.0118681693989\n",
      "  (0:00:07)\n",
      "Epoch 470:"
     ]
    },
    {
     "name": "stderr",
     "output_type": "stream",
     "text": [
      "100%\n"
     ]
    },
    {
     "name": "stdout",
     "output_type": "stream",
     "text": [
      "\n",
      "  loss 0.0515350075833\n",
      "  err  0.0120816256831\n",
      "  (0:00:07)\n",
      "Epoch 471:"
     ]
    },
    {
     "name": "stderr",
     "output_type": "stream",
     "text": [
      "100%\n"
     ]
    },
    {
     "name": "stdout",
     "output_type": "stream",
     "text": [
      "\n",
      "  loss 0.0498636857189\n",
      "  err  0.0115906762295\n",
      "  (0:00:07)\n",
      "Epoch 472:"
     ]
    },
    {
     "name": "stderr",
     "output_type": "stream",
     "text": [
      "100%\n"
     ]
    },
    {
     "name": "stdout",
     "output_type": "stream",
     "text": [
      "\n",
      "  loss 0.0504791550389\n",
      "  err  0.0113345286885\n",
      "  (0:00:07)\n",
      "Epoch 473:"
     ]
    },
    {
     "name": "stderr",
     "output_type": "stream",
     "text": [
      "100%\n"
     ]
    },
    {
     "name": "stdout",
     "output_type": "stream",
     "text": [
      "\n",
      "  loss 0.0474447103101\n",
      "  err  0.0114412568306\n",
      "  (0:00:07)\n",
      "Epoch 474:"
     ]
    },
    {
     "name": "stderr",
     "output_type": "stream",
     "text": [
      "100%\n"
     ]
    },
    {
     "name": "stdout",
     "output_type": "stream",
     "text": [
      "\n",
      "  loss 0.0500292390327\n",
      "  err  0.0112918374317\n",
      "  (0:00:07)\n",
      "Epoch 475:"
     ]
    },
    {
     "name": "stderr",
     "output_type": "stream",
     "text": [
      "100%\n"
     ]
    },
    {
     "name": "stdout",
     "output_type": "stream",
     "text": [
      "\n",
      "  loss 0.0492814745038\n",
      "  err  0.0113772199454\n",
      "  (0:00:07)\n",
      "Epoch 476:"
     ]
    },
    {
     "name": "stderr",
     "output_type": "stream",
     "text": [
      "100%\n"
     ]
    },
    {
     "name": "stdout",
     "output_type": "stream",
     "text": [
      "\n",
      "  loss 0.0500528491064\n",
      "  err  0.0120175887978\n",
      "  (0:00:07)\n",
      "Epoch 477:"
     ]
    },
    {
     "name": "stderr",
     "output_type": "stream",
     "text": [
      "100%\n"
     ]
    },
    {
     "name": "stdout",
     "output_type": "stream",
     "text": [
      "\n",
      "  loss 0.0483490383269\n",
      "  err  0.0111210724044\n",
      "  (0:00:07)\n",
      "Epoch 478:"
     ]
    },
    {
     "name": "stderr",
     "output_type": "stream",
     "text": [
      "100%\n"
     ]
    },
    {
     "name": "stdout",
     "output_type": "stream",
     "text": [
      "\n",
      "  loss 0.0494524344192\n",
      "  err  0.0115906762295\n",
      "  (0:00:07)\n",
      "Epoch 479:"
     ]
    },
    {
     "name": "stderr",
     "output_type": "stream",
     "text": [
      "100%\n"
     ]
    },
    {
     "name": "stdout",
     "output_type": "stream",
     "text": [
      "\n",
      "  loss 0.0510079650434\n",
      "  err  0.0118468237705\n",
      "  (0:00:07)\n",
      "Epoch 480:"
     ]
    },
    {
     "name": "stderr",
     "output_type": "stream",
     "text": [
      "100%\n"
     ]
    },
    {
     "name": "stdout",
     "output_type": "stream",
     "text": [
      "\n",
      "  loss 0.0506764951562\n",
      "  err  0.0115693306011\n",
      "  (0:00:07)\n",
      "Epoch 481:"
     ]
    },
    {
     "name": "stderr",
     "output_type": "stream",
     "text": [
      "100%\n"
     ]
    },
    {
     "name": "stdout",
     "output_type": "stream",
     "text": [
      "\n",
      "  loss 0.0523215603685\n",
      "  err  0.0122737363388\n",
      "  (0:00:07)\n",
      "Epoch 482:"
     ]
    },
    {
     "name": "stderr",
     "output_type": "stream",
     "text": [
      "100%\n"
     ]
    },
    {
     "name": "stdout",
     "output_type": "stream",
     "text": [
      "\n",
      "  loss 0.0496235628647\n",
      "  err  0.0115266393443\n",
      "  (0:00:07)\n",
      "Epoch 483:"
     ]
    },
    {
     "name": "stderr",
     "output_type": "stream",
     "text": [
      "100%\n"
     ]
    },
    {
     "name": "stdout",
     "output_type": "stream",
     "text": [
      "\n",
      "  loss 0.0502154208921\n",
      "  err  0.012337773224\n",
      "  (0:00:07)\n",
      "Epoch 484:"
     ]
    },
    {
     "name": "stderr",
     "output_type": "stream",
     "text": [
      "100%\n"
     ]
    },
    {
     "name": "stdout",
     "output_type": "stream",
     "text": [
      "\n",
      "  loss 0.0505185021632\n",
      "  err  0.0117827868852\n",
      "  (0:00:07)\n",
      "Epoch 485:"
     ]
    },
    {
     "name": "stderr",
     "output_type": "stream",
     "text": [
      "100%\n"
     ]
    },
    {
     "name": "stdout",
     "output_type": "stream",
     "text": [
      "\n",
      "  loss 0.0493171139858\n",
      "  err  0.0109716530055\n",
      "  (0:00:07)\n",
      "Epoch 486:"
     ]
    },
    {
     "name": "stderr",
     "output_type": "stream",
     "text": [
      "100%\n"
     ]
    },
    {
     "name": "stdout",
     "output_type": "stream",
     "text": [
      "\n",
      "  loss 0.0513237265112\n",
      "  err  0.0119962431694\n",
      "  (0:00:07)\n",
      "Epoch 487:"
     ]
    },
    {
     "name": "stderr",
     "output_type": "stream",
     "text": [
      "100%\n"
     ]
    },
    {
     "name": "stdout",
     "output_type": "stream",
     "text": [
      "\n",
      "  loss 0.048204808975\n",
      "  err  0.0112918374317\n",
      "  (0:00:07)\n",
      "Epoch 488:"
     ]
    },
    {
     "name": "stderr",
     "output_type": "stream",
     "text": [
      "100%\n"
     ]
    },
    {
     "name": "stdout",
     "output_type": "stream",
     "text": [
      "\n",
      "  loss 0.0495117197069\n",
      "  err  0.0119108606557\n",
      "  (0:00:07)\n",
      "Epoch 489:"
     ]
    },
    {
     "name": "stderr",
     "output_type": "stream",
     "text": [
      "100%\n"
     ]
    },
    {
     "name": "stdout",
     "output_type": "stream",
     "text": [
      "\n",
      "  loss 0.0506332521982\n",
      "  err  0.012487192623\n",
      "  (0:00:07)\n",
      "Epoch 490:"
     ]
    },
    {
     "name": "stderr",
     "output_type": "stream",
     "text": [
      "100%\n"
     ]
    },
    {
     "name": "stdout",
     "output_type": "stream",
     "text": [
      "\n",
      "  loss 0.0506829942451\n",
      "  err  0.0126152663934\n",
      "  (0:00:07)\n",
      "Epoch 491:"
     ]
    },
    {
     "name": "stderr",
     "output_type": "stream",
     "text": [
      "100%\n"
     ]
    },
    {
     "name": "stdout",
     "output_type": "stream",
     "text": [
      "\n",
      "  loss 0.0483039389237\n",
      "  err  0.0114199112022\n",
      "  (0:00:07)\n",
      "Epoch 492:"
     ]
    },
    {
     "name": "stderr",
     "output_type": "stream",
     "text": [
      "100%\n"
     ]
    },
    {
     "name": "stdout",
     "output_type": "stream",
     "text": [
      "\n",
      "  loss 0.0495354605882\n",
      "  err  0.0113131830601\n",
      "  (0:00:07)\n",
      "Epoch 493:"
     ]
    },
    {
     "name": "stderr",
     "output_type": "stream",
     "text": [
      "100%\n"
     ]
    },
    {
     "name": "stdout",
     "output_type": "stream",
     "text": [
      "\n",
      "  loss 0.0500667936791\n",
      "  err  0.0121243169399\n",
      "  (0:00:07)\n",
      "Epoch 494:"
     ]
    },
    {
     "name": "stderr",
     "output_type": "stream",
     "text": [
      "100%\n"
     ]
    },
    {
     "name": "stdout",
     "output_type": "stream",
     "text": [
      "\n",
      "  loss 0.0497409211194\n",
      "  err  0.0113131830601\n",
      "  (0:00:07)\n",
      "Epoch 495:"
     ]
    },
    {
     "name": "stderr",
     "output_type": "stream",
     "text": [
      "100%\n"
     ]
    },
    {
     "name": "stdout",
     "output_type": "stream",
     "text": [
      "\n",
      "  loss 0.0505902965126\n",
      "  err  0.0112704918033\n",
      "  (0:00:07)\n",
      "Epoch 496:"
     ]
    },
    {
     "name": "stderr",
     "output_type": "stream",
     "text": [
      "100%\n"
     ]
    },
    {
     "name": "stdout",
     "output_type": "stream",
     "text": [
      "\n",
      "  loss 0.0504925284443\n",
      "  err  0.0117400956284\n",
      "  (0:00:07)\n",
      "Epoch 497:"
     ]
    },
    {
     "name": "stderr",
     "output_type": "stream",
     "text": [
      "100%\n"
     ]
    },
    {
     "name": "stdout",
     "output_type": "stream",
     "text": [
      "\n",
      "  loss 0.0499645343421\n",
      "  err  0.011974897541\n",
      "  (0:00:07)\n",
      "Epoch 498:"
     ]
    },
    {
     "name": "stderr",
     "output_type": "stream",
     "text": [
      "100%\n"
     ]
    },
    {
     "name": "stdout",
     "output_type": "stream",
     "text": [
      "\n",
      "  loss 0.048930592688\n",
      "  err  0.011206454918\n",
      "  (0:00:07)\n",
      "Epoch 499:"
     ]
    },
    {
     "name": "stderr",
     "output_type": "stream",
     "text": [
      "100%\n"
     ]
    },
    {
     "name": "stdout",
     "output_type": "stream",
     "text": [
      "\n",
      "  loss 0.0496774319619\n",
      "  err  0.010843579235\n",
      "  (0:00:07)\n",
      "Epoch 500:"
     ]
    },
    {
     "name": "stderr",
     "output_type": "stream",
     "text": [
      "100%\n"
     ]
    },
    {
     "name": "stdout",
     "output_type": "stream",
     "text": [
      "\n",
      "  loss 0.0485952898359\n",
      "  err  0.010843579235\n",
      "  (0:00:07)\n",
      "Epoch 501:"
     ]
    },
    {
     "name": "stderr",
     "output_type": "stream",
     "text": [
      "100%\n"
     ]
    },
    {
     "name": "stdout",
     "output_type": "stream",
     "text": [
      "\n",
      "  loss 0.0480258661727\n",
      "  err  0.0114199112022\n",
      "  (0:00:07)\n",
      "Epoch 502:"
     ]
    },
    {
     "name": "stderr",
     "output_type": "stream",
     "text": [
      "100%\n"
     ]
    },
    {
     "name": "stdout",
     "output_type": "stream",
     "text": [
      "\n",
      "  loss 0.0488127943292\n",
      "  err  0.0113131830601\n",
      "  (0:00:07)\n",
      "Epoch 503:"
     ]
    },
    {
     "name": "stderr",
     "output_type": "stream",
     "text": [
      "100%\n"
     ]
    },
    {
     "name": "stdout",
     "output_type": "stream",
     "text": [
      "\n",
      "  loss 0.0486774558769\n",
      "  err  0.0114839480874\n",
      "  (0:00:07)\n",
      "Epoch 504:"
     ]
    },
    {
     "name": "stderr",
     "output_type": "stream",
     "text": [
      "100%\n"
     ]
    },
    {
     "name": "stdout",
     "output_type": "stream",
     "text": [
      "\n",
      "  loss 0.0491050281409\n",
      "  err  0.0114412568306\n",
      "  (0:00:07)\n",
      "Epoch 505:"
     ]
    },
    {
     "name": "stderr",
     "output_type": "stream",
     "text": [
      "100%\n"
     ]
    },
    {
     "name": "stdout",
     "output_type": "stream",
     "text": [
      "\n",
      "  loss 0.05055996344\n",
      "  err  0.012231045082\n",
      "  (0:00:07)\n",
      "Epoch 506:"
     ]
    },
    {
     "name": "stderr",
     "output_type": "stream",
     "text": [
      "100%\n"
     ]
    },
    {
     "name": "stdout",
     "output_type": "stream",
     "text": [
      "\n",
      "  loss 0.0530303752278\n",
      "  err  0.0125512295082\n",
      "  (0:00:07)\n",
      "Epoch 507:"
     ]
    },
    {
     "name": "stderr",
     "output_type": "stream",
     "text": [
      "100%\n"
     ]
    },
    {
     "name": "stdout",
     "output_type": "stream",
     "text": [
      "\n",
      "  loss 0.052891744101\n",
      "  err  0.0121243169399\n",
      "  (0:00:07)\n",
      "Epoch 508:"
     ]
    },
    {
     "name": "stderr",
     "output_type": "stream",
     "text": [
      "100%\n"
     ]
    },
    {
     "name": "stdout",
     "output_type": "stream",
     "text": [
      "\n",
      "  loss 0.0505175959615\n",
      "  err  0.011462602459\n",
      "  (0:00:07)\n",
      "Epoch 509:"
     ]
    },
    {
     "name": "stderr",
     "output_type": "stream",
     "text": [
      "100%\n"
     ]
    },
    {
     "name": "stdout",
     "output_type": "stream",
     "text": [
      "\n",
      "  loss 0.0494136192653\n",
      "  err  0.0118895150273\n",
      "  (0:00:07)\n",
      "Epoch 510:"
     ]
    },
    {
     "name": "stderr",
     "output_type": "stream",
     "text": [
      "100%\n"
     ]
    },
    {
     "name": "stdout",
     "output_type": "stream",
     "text": [
      "\n",
      "  loss 0.0522509685436\n",
      "  err  0.0117614412568\n",
      "  (0:00:07)\n",
      "Epoch 511:"
     ]
    },
    {
     "name": "stderr",
     "output_type": "stream",
     "text": [
      "100%\n"
     ]
    },
    {
     "name": "stdout",
     "output_type": "stream",
     "text": [
      "\n",
      "  loss 0.0509286801664\n",
      "  err  0.0124658469945\n",
      "  (0:00:07)\n",
      "Epoch 512:"
     ]
    },
    {
     "name": "stderr",
     "output_type": "stream",
     "text": [
      "100%\n"
     ]
    },
    {
     "name": "stdout",
     "output_type": "stream",
     "text": [
      "\n",
      "  loss 0.0506521595656\n",
      "  err  0.0120175887978\n",
      "  (0:00:07)\n",
      "Epoch 513:"
     ]
    },
    {
     "name": "stderr",
     "output_type": "stream",
     "text": [
      "100%\n"
     ]
    },
    {
     "name": "stdout",
     "output_type": "stream",
     "text": [
      "\n",
      "  loss 0.0498278064996\n",
      "  err  0.0116974043716\n",
      "  (0:00:07)\n",
      "Epoch 514:"
     ]
    },
    {
     "name": "stderr",
     "output_type": "stream",
     "text": [
      "100%\n"
     ]
    },
    {
     "name": "stdout",
     "output_type": "stream",
     "text": [
      "\n",
      "  loss 0.0486504111561\n",
      "  err  0.0115479849727\n",
      "  (0:00:07)\n",
      "Epoch 515:"
     ]
    },
    {
     "name": "stderr",
     "output_type": "stream",
     "text": [
      "100%\n"
     ]
    },
    {
     "name": "stdout",
     "output_type": "stream",
     "text": [
      "\n",
      "  loss 0.0511386389755\n",
      "  err  0.0121029713115\n",
      "  (0:00:07)\n",
      "Epoch 516:"
     ]
    },
    {
     "name": "stderr",
     "output_type": "stream",
     "text": [
      "100%\n"
     ]
    },
    {
     "name": "stdout",
     "output_type": "stream",
     "text": [
      "\n",
      "  loss 0.0511584906251\n",
      "  err  0.0115479849727\n",
      "  (0:00:07)\n",
      "Epoch 517:"
     ]
    },
    {
     "name": "stderr",
     "output_type": "stream",
     "text": [
      "100%\n"
     ]
    },
    {
     "name": "stdout",
     "output_type": "stream",
     "text": [
      "\n",
      "  loss 0.0495171647136\n",
      "  err  0.01171875\n",
      "  (0:00:07)\n",
      "Epoch 518:"
     ]
    },
    {
     "name": "stderr",
     "output_type": "stream",
     "text": [
      "100%\n"
     ]
    },
    {
     "name": "stdout",
     "output_type": "stream",
     "text": [
      "\n",
      "  loss 0.0514544843972\n",
      "  err  0.0122096994536\n",
      "  (0:00:07)\n",
      "Epoch 519:"
     ]
    },
    {
     "name": "stderr",
     "output_type": "stream",
     "text": [
      "100%\n"
     ]
    },
    {
     "name": "stdout",
     "output_type": "stream",
     "text": [
      "\n",
      "  loss 0.0497379028467\n",
      "  err  0.0112704918033\n",
      "  (0:00:07)\n",
      "Epoch 520:"
     ]
    },
    {
     "name": "stderr",
     "output_type": "stream",
     "text": [
      "100%\n"
     ]
    },
    {
     "name": "stdout",
     "output_type": "stream",
     "text": [
      "\n",
      "  loss 0.0526834636039\n",
      "  err  0.012487192623\n",
      "  (0:00:07)\n",
      "Epoch 521:"
     ]
    },
    {
     "name": "stderr",
     "output_type": "stream",
     "text": [
      "100%\n"
     ]
    },
    {
     "name": "stdout",
     "output_type": "stream",
     "text": [
      "\n",
      "  loss 0.051112405784\n",
      "  err  0.0124018101093\n",
      "  (0:00:07)\n",
      "Epoch 522:"
     ]
    },
    {
     "name": "stderr",
     "output_type": "stream",
     "text": [
      "100%\n"
     ]
    },
    {
     "name": "stdout",
     "output_type": "stream",
     "text": [
      "\n",
      "  loss 0.0496806453868\n",
      "  err  0.0109289617486\n",
      "  (0:00:07)\n",
      "Epoch 523:"
     ]
    },
    {
     "name": "stderr",
     "output_type": "stream",
     "text": [
      "100%\n"
     ]
    },
    {
     "name": "stdout",
     "output_type": "stream",
     "text": [
      "\n",
      "  loss 0.0485191454817\n",
      "  err  0.0111637636612\n",
      "  (0:00:07)\n",
      "Epoch 524:"
     ]
    },
    {
     "name": "stderr",
     "output_type": "stream",
     "text": [
      "100%\n"
     ]
    },
    {
     "name": "stdout",
     "output_type": "stream",
     "text": [
      "\n",
      "  loss 0.0489324341691\n",
      "  err  0.0110143442623\n",
      "  (0:00:07)\n",
      "Epoch 525:"
     ]
    },
    {
     "name": "stderr",
     "output_type": "stream",
     "text": [
      "100%\n"
     ]
    },
    {
     "name": "stdout",
     "output_type": "stream",
     "text": [
      "\n",
      "  loss 0.0521278063477\n",
      "  err  0.0128927595628\n",
      "  (0:00:07)\n",
      "Epoch 526:"
     ]
    },
    {
     "name": "stderr",
     "output_type": "stream",
     "text": [
      "100%\n"
     ]
    },
    {
     "name": "stdout",
     "output_type": "stream",
     "text": [
      "\n",
      "  loss 0.0491814250553\n",
      "  err  0.0113985655738\n",
      "  (0:00:07)\n",
      "Epoch 527:"
     ]
    },
    {
     "name": "stderr",
     "output_type": "stream",
     "text": [
      "100%\n"
     ]
    },
    {
     "name": "stdout",
     "output_type": "stream",
     "text": [
      "\n",
      "  loss 0.0497417541022\n",
      "  err  0.0122523907104\n",
      "  (0:00:07)\n",
      "Epoch 528:"
     ]
    },
    {
     "name": "stderr",
     "output_type": "stream",
     "text": [
      "100%\n"
     ]
    },
    {
     "name": "stdout",
     "output_type": "stream",
     "text": [
      "\n",
      "  loss 0.0508460697904\n",
      "  err  0.0120389344262\n",
      "  (0:00:07)\n",
      "Epoch 529:"
     ]
    },
    {
     "name": "stderr",
     "output_type": "stream",
     "text": [
      "100%\n"
     ]
    },
    {
     "name": "stdout",
     "output_type": "stream",
     "text": [
      "\n",
      "  loss 0.0512529746349\n",
      "  err  0.0119322062842\n",
      "  (0:00:07)\n",
      "Epoch 530:"
     ]
    },
    {
     "name": "stderr",
     "output_type": "stream",
     "text": [
      "100%\n"
     ]
    },
    {
     "name": "stdout",
     "output_type": "stream",
     "text": [
      "\n",
      "  loss 0.0486017193676\n",
      "  err  0.0115266393443\n",
      "  (0:00:07)\n",
      "Epoch 531:"
     ]
    },
    {
     "name": "stderr",
     "output_type": "stream",
     "text": [
      "100%\n"
     ]
    },
    {
     "name": "stdout",
     "output_type": "stream",
     "text": [
      "\n",
      "  loss 0.0495011471963\n",
      "  err  0.0117614412568\n",
      "  (0:00:07)\n",
      "Epoch 532:"
     ]
    },
    {
     "name": "stderr",
     "output_type": "stream",
     "text": [
      "100%\n"
     ]
    },
    {
     "name": "stdout",
     "output_type": "stream",
     "text": [
      "\n",
      "  loss 0.0490276832833\n",
      "  err  0.0118681693989\n",
      "  (0:00:07)\n",
      "Epoch 533:"
     ]
    },
    {
     "name": "stderr",
     "output_type": "stream",
     "text": [
      "100%\n"
     ]
    },
    {
     "name": "stdout",
     "output_type": "stream",
     "text": [
      "\n",
      "  loss 0.0491637419591\n",
      "  err  0.011206454918\n",
      "  (0:00:07)\n",
      "Epoch 534:"
     ]
    },
    {
     "name": "stderr",
     "output_type": "stream",
     "text": [
      "100%\n"
     ]
    },
    {
     "name": "stdout",
     "output_type": "stream",
     "text": [
      "\n",
      "  loss 0.0507331994977\n",
      "  err  0.0116974043716\n",
      "  (0:00:07)\n",
      "Epoch 535:"
     ]
    },
    {
     "name": "stderr",
     "output_type": "stream",
     "text": [
      "100%\n"
     ]
    },
    {
     "name": "stdout",
     "output_type": "stream",
     "text": [
      "\n",
      "  loss 0.048799170921\n",
      "  err  0.0111637636612\n",
      "  (0:00:07)\n",
      "Epoch 536:"
     ]
    },
    {
     "name": "stderr",
     "output_type": "stream",
     "text": [
      "100%\n"
     ]
    },
    {
     "name": "stdout",
     "output_type": "stream",
     "text": [
      "\n",
      "  loss 0.0509425331202\n",
      "  err  0.0122950819672\n",
      "  (0:00:07)\n",
      "Epoch 537:"
     ]
    },
    {
     "name": "stderr",
     "output_type": "stream",
     "text": [
      "100%\n"
     ]
    },
    {
     "name": "stdout",
     "output_type": "stream",
     "text": [
      "\n",
      "  loss 0.0526768281875\n",
      "  err  0.0120816256831\n",
      "  (0:00:07)\n",
      "Epoch 538:"
     ]
    },
    {
     "name": "stderr",
     "output_type": "stream",
     "text": [
      "100%\n"
     ]
    },
    {
     "name": "stdout",
     "output_type": "stream",
     "text": [
      "\n",
      "  loss 0.0497858111729\n",
      "  err  0.0118468237705\n",
      "  (0:00:07)\n",
      "Epoch 539:"
     ]
    },
    {
     "name": "stderr",
     "output_type": "stream",
     "text": [
      "100%\n"
     ]
    },
    {
     "name": "stdout",
     "output_type": "stream",
     "text": [
      "\n",
      "  loss 0.0494644982152\n",
      "  err  0.0120602800546\n",
      "  (0:00:07)\n",
      "Epoch 540:"
     ]
    },
    {
     "name": "stderr",
     "output_type": "stream",
     "text": [
      "100%\n"
     ]
    },
    {
     "name": "stdout",
     "output_type": "stream",
     "text": [
      "\n",
      "  loss 0.0515113341249\n",
      "  err  0.011974897541\n",
      "  (0:00:07)\n",
      "Epoch 541:"
     ]
    },
    {
     "name": "stderr",
     "output_type": "stream",
     "text": [
      "100%\n"
     ]
    },
    {
     "name": "stdout",
     "output_type": "stream",
     "text": [
      "\n",
      "  loss 0.0493378850989\n",
      "  err  0.0117827868852\n",
      "  (0:00:07)\n",
      "Epoch 542:"
     ]
    },
    {
     "name": "stderr",
     "output_type": "stream",
     "text": [
      "100%\n"
     ]
    },
    {
     "name": "stdout",
     "output_type": "stream",
     "text": [
      "\n",
      "  loss 0.0492579228247\n",
      "  err  0.0118041325137\n",
      "  (0:00:07)\n",
      "Epoch 543:"
     ]
    },
    {
     "name": "stderr",
     "output_type": "stream",
     "text": [
      "100%\n"
     ]
    },
    {
     "name": "stdout",
     "output_type": "stream",
     "text": [
      "\n",
      "  loss 0.0500463201248\n",
      "  err  0.0112278005464\n",
      "  (0:00:07)\n",
      "Epoch 544:"
     ]
    },
    {
     "name": "stderr",
     "output_type": "stream",
     "text": [
      "100%\n"
     ]
    },
    {
     "name": "stdout",
     "output_type": "stream",
     "text": [
      "\n",
      "  loss 0.0504576274266\n",
      "  err  0.0116333674863\n",
      "  (0:00:07)\n",
      "Epoch 545:"
     ]
    },
    {
     "name": "stderr",
     "output_type": "stream",
     "text": [
      "100%\n"
     ]
    },
    {
     "name": "stdout",
     "output_type": "stream",
     "text": [
      "\n",
      "  loss 0.0498696480957\n",
      "  err  0.0113131830601\n",
      "  (0:00:07)\n",
      "Epoch 546:"
     ]
    },
    {
     "name": "stderr",
     "output_type": "stream",
     "text": [
      "100%\n"
     ]
    },
    {
     "name": "stdout",
     "output_type": "stream",
     "text": [
      "\n",
      "  loss 0.0484162926307\n",
      "  err  0.0116333674863\n",
      "  (0:00:07)\n",
      "Epoch 547:"
     ]
    },
    {
     "name": "stderr",
     "output_type": "stream",
     "text": [
      "100%\n"
     ]
    },
    {
     "name": "stdout",
     "output_type": "stream",
     "text": [
      "\n",
      "  loss 0.0488542137003\n",
      "  err  0.0115906762295\n",
      "  (0:00:07)\n",
      "Epoch 548:"
     ]
    },
    {
     "name": "stderr",
     "output_type": "stream",
     "text": [
      "100%\n"
     ]
    },
    {
     "name": "stdout",
     "output_type": "stream",
     "text": [
      "\n",
      "  loss 0.0500817800582\n",
      "  err  0.0113345286885\n",
      "  (0:00:07)\n",
      "Epoch 549:"
     ]
    },
    {
     "name": "stderr",
     "output_type": "stream",
     "text": [
      "100%\n"
     ]
    },
    {
     "name": "stdout",
     "output_type": "stream",
     "text": [
      "\n",
      "  loss 0.0498693933618\n",
      "  err  0.0115906762295\n",
      "  (0:00:07)\n",
      "Epoch 550:"
     ]
    },
    {
     "name": "stderr",
     "output_type": "stream",
     "text": [
      "100%\n"
     ]
    },
    {
     "name": "stdout",
     "output_type": "stream",
     "text": [
      "\n",
      "  loss 0.0490234316711\n",
      "  err  0.0115479849727\n",
      "  (0:00:07)\n",
      "Epoch 551:"
     ]
    },
    {
     "name": "stderr",
     "output_type": "stream",
     "text": [
      "100%\n"
     ]
    },
    {
     "name": "stdout",
     "output_type": "stream",
     "text": [
      "\n",
      "  loss 0.0490403627898\n",
      "  err  0.0115479849727\n",
      "  (0:00:07)\n",
      "Epoch 552:"
     ]
    },
    {
     "name": "stderr",
     "output_type": "stream",
     "text": [
      "100%\n"
     ]
    },
    {
     "name": "stdout",
     "output_type": "stream",
     "text": [
      "\n",
      "  loss 0.0489942923416\n",
      "  err  0.0113772199454\n",
      "  (0:00:07)\n",
      "Epoch 553:"
     ]
    },
    {
     "name": "stderr",
     "output_type": "stream",
     "text": [
      "100%\n"
     ]
    },
    {
     "name": "stdout",
     "output_type": "stream",
     "text": [
      "\n",
      "  loss 0.0508350694757\n",
      "  err  0.0115906762295\n",
      "  (0:00:07)\n",
      "Epoch 554:"
     ]
    },
    {
     "name": "stderr",
     "output_type": "stream",
     "text": [
      "100%\n"
     ]
    },
    {
     "name": "stdout",
     "output_type": "stream",
     "text": [
      "\n",
      "  loss 0.0481245872613\n",
      "  err  0.0114412568306\n",
      "  (0:00:07)\n",
      "Epoch 555:"
     ]
    },
    {
     "name": "stderr",
     "output_type": "stream",
     "text": [
      "100%\n"
     ]
    },
    {
     "name": "stdout",
     "output_type": "stream",
     "text": [
      "\n",
      "  loss 0.051482576443\n",
      "  err  0.0120816256831\n",
      "  (0:00:07)\n",
      "Epoch 556:"
     ]
    },
    {
     "name": "stderr",
     "output_type": "stream",
     "text": [
      "100%\n"
     ]
    },
    {
     "name": "stdout",
     "output_type": "stream",
     "text": [
      "\n",
      "  loss 0.0502144057931\n",
      "  err  0.0118254781421\n",
      "  (0:00:07)\n",
      "Epoch 557:"
     ]
    },
    {
     "name": "stderr",
     "output_type": "stream",
     "text": [
      "100%\n"
     ]
    },
    {
     "name": "stdout",
     "output_type": "stream",
     "text": [
      "\n",
      "  loss 0.0505547662173\n",
      "  err  0.0115906762295\n",
      "  (0:00:07)\n",
      "Epoch 558:"
     ]
    },
    {
     "name": "stderr",
     "output_type": "stream",
     "text": [
      "100%\n"
     ]
    },
    {
     "name": "stdout",
     "output_type": "stream",
     "text": [
      "\n",
      "  loss 0.0512593156427\n",
      "  err  0.011974897541\n",
      "  (0:00:07)\n",
      "Epoch 559:"
     ]
    },
    {
     "name": "stderr",
     "output_type": "stream",
     "text": [
      "100%\n"
     ]
    },
    {
     "name": "stdout",
     "output_type": "stream",
     "text": [
      "\n",
      "  loss 0.0493645557244\n",
      "  err  0.0116120218579\n",
      "  (0:00:07)\n",
      "Epoch 560:"
     ]
    },
    {
     "name": "stderr",
     "output_type": "stream",
     "text": [
      "100%\n"
     ]
    },
    {
     "name": "stdout",
     "output_type": "stream",
     "text": [
      "\n",
      "  loss 0.0488224675881\n",
      "  err  0.0113558743169\n",
      "  (0:00:07)\n",
      "Epoch 561:"
     ]
    },
    {
     "name": "stderr",
     "output_type": "stream",
     "text": [
      "100%\n"
     ]
    },
    {
     "name": "stdout",
     "output_type": "stream",
     "text": [
      "\n",
      "  loss 0.0489594621827\n",
      "  err  0.0106301229508\n",
      "  (0:00:07)\n",
      "Epoch 562:"
     ]
    },
    {
     "name": "stderr",
     "output_type": "stream",
     "text": [
      "100%\n"
     ]
    },
    {
     "name": "stdout",
     "output_type": "stream",
     "text": [
      "\n",
      "  loss 0.0493275828264\n",
      "  err  0.0112704918033\n",
      "  (0:00:07)\n",
      "Epoch 563:"
     ]
    },
    {
     "name": "stderr",
     "output_type": "stream",
     "text": [
      "100%\n"
     ]
    },
    {
     "name": "stdout",
     "output_type": "stream",
     "text": [
      "\n",
      "  loss 0.0524742716104\n",
      "  err  0.0117400956284\n",
      "  (0:00:07)\n",
      "Epoch 564:"
     ]
    },
    {
     "name": "stderr",
     "output_type": "stream",
     "text": [
      "100%\n"
     ]
    },
    {
     "name": "stdout",
     "output_type": "stream",
     "text": [
      "\n",
      "  loss 0.0497446582421\n",
      "  err  0.0108862704918\n",
      "  (0:00:07)\n",
      "Epoch 565:"
     ]
    },
    {
     "name": "stderr",
     "output_type": "stream",
     "text": [
      "100%\n"
     ]
    },
    {
     "name": "stdout",
     "output_type": "stream",
     "text": [
      "\n",
      "  loss 0.0504000849152\n",
      "  err  0.0122950819672\n",
      "  (0:00:07)\n",
      "Epoch 566:"
     ]
    },
    {
     "name": "stderr",
     "output_type": "stream",
     "text": [
      "100%\n"
     ]
    },
    {
     "name": "stdout",
     "output_type": "stream",
     "text": [
      "\n",
      "  loss 0.0489448801203\n",
      "  err  0.0113345286885\n",
      "  (0:00:07)\n",
      "Epoch 567:"
     ]
    },
    {
     "name": "stderr",
     "output_type": "stream",
     "text": [
      "100%\n"
     ]
    },
    {
     "name": "stdout",
     "output_type": "stream",
     "text": [
      "\n",
      "  loss 0.0499624332414\n",
      "  err  0.01171875\n",
      "  (0:00:07)\n",
      "Epoch 568:"
     ]
    },
    {
     "name": "stderr",
     "output_type": "stream",
     "text": [
      "100%\n"
     ]
    },
    {
     "name": "stdout",
     "output_type": "stream",
     "text": [
      "\n",
      "  loss 0.0514960068525\n",
      "  err  0.0121456625683\n",
      "  (0:00:07)\n",
      "Epoch 569:"
     ]
    },
    {
     "name": "stderr",
     "output_type": "stream",
     "text": [
      "100%\n"
     ]
    },
    {
     "name": "stdout",
     "output_type": "stream",
     "text": [
      "\n",
      "  loss 0.0514319095871\n",
      "  err  0.012231045082\n",
      "  (0:00:07)\n",
      "Epoch 570:"
     ]
    },
    {
     "name": "stderr",
     "output_type": "stream",
     "text": [
      "100%\n"
     ]
    },
    {
     "name": "stdout",
     "output_type": "stream",
     "text": [
      "\n",
      "  loss 0.0520980874219\n",
      "  err  0.0125725751366\n",
      "  (0:00:07)\n",
      "Epoch 571:"
     ]
    },
    {
     "name": "stderr",
     "output_type": "stream",
     "text": [
      "100%\n"
     ]
    },
    {
     "name": "stdout",
     "output_type": "stream",
     "text": [
      "\n",
      "  loss 0.051654903825\n",
      "  err  0.0124658469945\n",
      "  (0:00:07)\n",
      "Epoch 572:"
     ]
    },
    {
     "name": "stderr",
     "output_type": "stream",
     "text": [
      "100%\n"
     ]
    },
    {
     "name": "stdout",
     "output_type": "stream",
     "text": [
      "\n",
      "  loss 0.0501975743991\n",
      "  err  0.0116760587432\n",
      "  (0:00:07)\n",
      "Epoch 573:"
     ]
    },
    {
     "name": "stderr",
     "output_type": "stream",
     "text": [
      "100%\n"
     ]
    },
    {
     "name": "stdout",
     "output_type": "stream",
     "text": [
      "\n",
      "  loss 0.0508982122079\n",
      "  err  0.0118468237705\n",
      "  (0:00:07)\n",
      "Epoch 574:"
     ]
    },
    {
     "name": "stderr",
     "output_type": "stream",
     "text": [
      "100%\n"
     ]
    },
    {
     "name": "stdout",
     "output_type": "stream",
     "text": [
      "\n",
      "  loss 0.0490594221752\n",
      "  err  0.0114412568306\n",
      "  (0:00:07)\n",
      "Epoch 575:"
     ]
    },
    {
     "name": "stderr",
     "output_type": "stream",
     "text": [
      "100%\n"
     ]
    },
    {
     "name": "stdout",
     "output_type": "stream",
     "text": [
      "\n",
      "  loss 0.0517845237895\n",
      "  err  0.0126579576503\n",
      "  (0:00:07)\n",
      "Epoch 576:"
     ]
    },
    {
     "name": "stderr",
     "output_type": "stream",
     "text": [
      "100%\n"
     ]
    },
    {
     "name": "stdout",
     "output_type": "stream",
     "text": [
      "\n",
      "  loss 0.0487323995194\n",
      "  err  0.0111424180328\n",
      "  (0:00:07)\n",
      "Epoch 577:"
     ]
    },
    {
     "name": "stderr",
     "output_type": "stream",
     "text": [
      "100%\n"
     ]
    },
    {
     "name": "stdout",
     "output_type": "stream",
     "text": [
      "\n",
      "  loss 0.0480324140193\n",
      "  err  0.0103526297814\n",
      "  (0:00:07)\n",
      "Epoch 578:"
     ]
    },
    {
     "name": "stderr",
     "output_type": "stream",
     "text": [
      "100%\n"
     ]
    },
    {
     "name": "stdout",
     "output_type": "stream",
     "text": [
      "\n",
      "  loss 0.0506722678461\n",
      "  err  0.011974897541\n",
      "  (0:00:07)\n",
      "Epoch 579:"
     ]
    },
    {
     "name": "stderr",
     "output_type": "stream",
     "text": [
      "100%\n"
     ]
    },
    {
     "name": "stdout",
     "output_type": "stream",
     "text": [
      "\n",
      "  loss 0.0497474704762\n",
      "  err  0.0118468237705\n",
      "  (0:00:07)\n",
      "Epoch 580:"
     ]
    },
    {
     "name": "stderr",
     "output_type": "stream",
     "text": [
      "100%\n"
     ]
    },
    {
     "name": "stdout",
     "output_type": "stream",
     "text": [
      "\n",
      "  loss 0.0488731874117\n",
      "  err  0.0114199112022\n",
      "  (0:00:07)\n",
      "Epoch 581:"
     ]
    },
    {
     "name": "stderr",
     "output_type": "stream",
     "text": [
      "100%\n"
     ]
    },
    {
     "name": "stdout",
     "output_type": "stream",
     "text": [
      "\n",
      "  loss 0.0522129736838\n",
      "  err  0.0123164275956\n",
      "  (0:00:07)\n",
      "Epoch 582:"
     ]
    },
    {
     "name": "stderr",
     "output_type": "stream",
     "text": [
      "100%\n"
     ]
    },
    {
     "name": "stdout",
     "output_type": "stream",
     "text": [
      "\n",
      "  loss 0.0506881782753\n",
      "  err  0.0115906762295\n",
      "  (0:00:07)\n",
      "Epoch 583:"
     ]
    },
    {
     "name": "stderr",
     "output_type": "stream",
     "text": [
      "100%\n"
     ]
    },
    {
     "name": "stdout",
     "output_type": "stream",
     "text": [
      "\n",
      "  loss 0.0489221462876\n",
      "  err  0.0112278005464\n",
      "  (0:00:07)\n",
      "Epoch 584:"
     ]
    },
    {
     "name": "stderr",
     "output_type": "stream",
     "text": [
      "100%\n"
     ]
    },
    {
     "name": "stdout",
     "output_type": "stream",
     "text": [
      "\n",
      "  loss 0.04908525041\n",
      "  err  0.0110783811475\n",
      "  (0:00:07)\n",
      "Epoch 585:"
     ]
    },
    {
     "name": "stderr",
     "output_type": "stream",
     "text": [
      "100%\n"
     ]
    },
    {
     "name": "stdout",
     "output_type": "stream",
     "text": [
      "\n",
      "  loss 0.0516544734815\n",
      "  err  0.012487192623\n",
      "  (0:00:07)\n",
      "Epoch 586:"
     ]
    },
    {
     "name": "stderr",
     "output_type": "stream",
     "text": [
      "100%\n"
     ]
    },
    {
     "name": "stdout",
     "output_type": "stream",
     "text": [
      "\n",
      "  loss 0.049545381222\n",
      "  err  0.0116547131148\n",
      "  (0:00:07)\n",
      "Epoch 587:"
     ]
    },
    {
     "name": "stderr",
     "output_type": "stream",
     "text": [
      "100%\n"
     ]
    },
    {
     "name": "stdout",
     "output_type": "stream",
     "text": [
      "\n",
      "  loss 0.050272196635\n",
      "  err  0.0116974043716\n",
      "  (0:00:07)\n",
      "Epoch 588:"
     ]
    },
    {
     "name": "stderr",
     "output_type": "stream",
     "text": [
      "100%\n"
     ]
    },
    {
     "name": "stdout",
     "output_type": "stream",
     "text": [
      "\n",
      "  loss 0.0494660405319\n",
      "  err  0.0113345286885\n",
      "  (0:00:07)\n",
      "Epoch 589:"
     ]
    },
    {
     "name": "stderr",
     "output_type": "stream",
     "text": [
      "100%\n"
     ]
    },
    {
     "name": "stdout",
     "output_type": "stream",
     "text": [
      "\n",
      "  loss 0.0484222261969\n",
      "  err  0.0115052937158\n",
      "  (0:00:07)\n",
      "Epoch 590:"
     ]
    },
    {
     "name": "stderr",
     "output_type": "stream",
     "text": [
      "100%\n"
     ]
    },
    {
     "name": "stdout",
     "output_type": "stream",
     "text": [
      "\n",
      "  loss 0.0495990016504\n",
      "  err  0.0116333674863\n",
      "  (0:00:07)\n",
      "Epoch 591:"
     ]
    },
    {
     "name": "stderr",
     "output_type": "stream",
     "text": [
      "100%\n"
     ]
    },
    {
     "name": "stdout",
     "output_type": "stream",
     "text": [
      "\n",
      "  loss 0.050832080679\n",
      "  err  0.0121029713115\n",
      "  (0:00:07)\n",
      "Epoch 592:"
     ]
    },
    {
     "name": "stderr",
     "output_type": "stream",
     "text": [
      "100%\n"
     ]
    },
    {
     "name": "stdout",
     "output_type": "stream",
     "text": [
      "\n",
      "  loss 0.0509058064291\n",
      "  err  0.0119108606557\n",
      "  (0:00:07)\n",
      "Epoch 593:"
     ]
    },
    {
     "name": "stderr",
     "output_type": "stream",
     "text": [
      "100%\n"
     ]
    },
    {
     "name": "stdout",
     "output_type": "stream",
     "text": [
      "\n",
      "  loss 0.0494550355987\n",
      "  err  0.0116333674863\n",
      "  (0:00:07)\n",
      "Epoch 594:"
     ]
    },
    {
     "name": "stderr",
     "output_type": "stream",
     "text": [
      "100%\n"
     ]
    },
    {
     "name": "stdout",
     "output_type": "stream",
     "text": [
      "\n",
      "  loss 0.0482766247645\n",
      "  err  0.0111210724044\n",
      "  (0:00:07)\n",
      "Epoch 595:"
     ]
    },
    {
     "name": "stderr",
     "output_type": "stream",
     "text": [
      "100%\n"
     ]
    },
    {
     "name": "stdout",
     "output_type": "stream",
     "text": [
      "\n",
      "  loss 0.0525472967541\n",
      "  err  0.0128073770492\n",
      "  (0:00:07)\n",
      "Epoch 596:"
     ]
    },
    {
     "name": "stderr",
     "output_type": "stream",
     "text": [
      "100%\n"
     ]
    },
    {
     "name": "stdout",
     "output_type": "stream",
     "text": [
      "\n",
      "  loss 0.0485393270205\n",
      "  err  0.0113772199454\n",
      "  (0:00:07)\n",
      "Epoch 597:"
     ]
    },
    {
     "name": "stderr",
     "output_type": "stream",
     "text": [
      "100%\n"
     ]
    },
    {
     "name": "stdout",
     "output_type": "stream",
     "text": [
      "\n",
      "  loss 0.0505575821121\n",
      "  err  0.011974897541\n",
      "  (0:00:07)\n",
      "Epoch 598:"
     ]
    },
    {
     "name": "stderr",
     "output_type": "stream",
     "text": [
      "100%\n"
     ]
    },
    {
     "name": "stdout",
     "output_type": "stream",
     "text": [
      "\n",
      "  loss 0.0519198403984\n",
      "  err  0.0121243169399\n",
      "  (0:00:07)\n",
      "Epoch 599:"
     ]
    },
    {
     "name": "stderr",
     "output_type": "stream",
     "text": [
      "100%\n"
     ]
    },
    {
     "name": "stdout",
     "output_type": "stream",
     "text": [
      "\n",
      "  loss 0.0497809115268\n",
      "  err  0.0115479849727\n",
      "  (0:00:07)\n",
      "Epoch 600:"
     ]
    },
    {
     "name": "stderr",
     "output_type": "stream",
     "text": [
      "100%\n"
     ]
    },
    {
     "name": "stdout",
     "output_type": "stream",
     "text": [
      "\n",
      "  loss 0.0534107082592\n",
      "  err  0.0125725751366\n",
      "  (0:00:07)\n",
      "Epoch 601:"
     ]
    },
    {
     "name": "stderr",
     "output_type": "stream",
     "text": [
      "100%\n"
     ]
    },
    {
     "name": "stdout",
     "output_type": "stream",
     "text": [
      "\n",
      "  loss 0.0509371384889\n",
      "  err  0.0119322062842\n",
      "  (0:00:07)\n",
      "Epoch 602:"
     ]
    },
    {
     "name": "stderr",
     "output_type": "stream",
     "text": [
      "100%\n"
     ]
    },
    {
     "name": "stdout",
     "output_type": "stream",
     "text": [
      "\n",
      "  loss 0.0524013240674\n",
      "  err  0.0125512295082\n",
      "  (0:00:07)\n",
      "Epoch 603:"
     ]
    },
    {
     "name": "stderr",
     "output_type": "stream",
     "text": [
      "100%\n"
     ]
    },
    {
     "name": "stdout",
     "output_type": "stream",
     "text": [
      "\n",
      "  loss 0.0511411581802\n",
      "  err  0.0121670081967\n",
      "  (0:00:07)\n",
      "Epoch 604:"
     ]
    },
    {
     "name": "stderr",
     "output_type": "stream",
     "text": [
      "100%\n"
     ]
    },
    {
     "name": "stdout",
     "output_type": "stream",
     "text": [
      "\n",
      "  loss 0.0496994043176\n",
      "  err  0.0113345286885\n",
      "  (0:00:07)\n",
      "Epoch 605:"
     ]
    },
    {
     "name": "stderr",
     "output_type": "stream",
     "text": [
      "100%\n"
     ]
    },
    {
     "name": "stdout",
     "output_type": "stream",
     "text": [
      "\n",
      "  loss 0.0510246200892\n",
      "  err  0.0119535519126\n",
      "  (0:00:07)\n",
      "Epoch 606:"
     ]
    },
    {
     "name": "stderr",
     "output_type": "stream",
     "text": [
      "100%\n"
     ]
    },
    {
     "name": "stdout",
     "output_type": "stream",
     "text": [
      "\n",
      "  loss 0.0505830776735\n",
      "  err  0.0113558743169\n",
      "  (0:00:07)\n",
      "Epoch 607:"
     ]
    },
    {
     "name": "stderr",
     "output_type": "stream",
     "text": [
      "100%\n"
     ]
    },
    {
     "name": "stdout",
     "output_type": "stream",
     "text": [
      "\n",
      "  loss 0.0513388772077\n",
      "  err  0.01171875\n",
      "  (0:00:07)\n",
      "Epoch 608:"
     ]
    },
    {
     "name": "stderr",
     "output_type": "stream",
     "text": [
      "100%\n"
     ]
    },
    {
     "name": "stdout",
     "output_type": "stream",
     "text": [
      "\n",
      "  loss 0.0505572161179\n",
      "  err  0.0118468237705\n",
      "  (0:00:07)\n",
      "Epoch 609:"
     ]
    },
    {
     "name": "stderr",
     "output_type": "stream",
     "text": [
      "100%\n"
     ]
    },
    {
     "name": "stdout",
     "output_type": "stream",
     "text": [
      "\n",
      "  loss 0.0500303413363\n",
      "  err  0.0117827868852\n",
      "  (0:00:07)\n",
      "Epoch 610:"
     ]
    },
    {
     "name": "stderr",
     "output_type": "stream",
     "text": [
      "100%\n"
     ]
    },
    {
     "name": "stdout",
     "output_type": "stream",
     "text": [
      "\n",
      "  loss 0.0519695952713\n",
      "  err  0.0127006489071\n",
      "  (0:00:07)\n",
      "Epoch 611:"
     ]
    },
    {
     "name": "stderr",
     "output_type": "stream",
     "text": [
      "100%\n"
     ]
    },
    {
     "name": "stdout",
     "output_type": "stream",
     "text": [
      "\n",
      "  loss 0.0509097522272\n",
      "  err  0.0118254781421\n",
      "  (0:00:07)\n",
      "Epoch 612:"
     ]
    },
    {
     "name": "stderr",
     "output_type": "stream",
     "text": [
      "100%\n"
     ]
    },
    {
     "name": "stdout",
     "output_type": "stream",
     "text": [
      "\n",
      "  loss 0.0476686004613\n",
      "  err  0.0109716530055\n",
      "  (0:00:07)\n",
      "Epoch 613:"
     ]
    },
    {
     "name": "stderr",
     "output_type": "stream",
     "text": [
      "100%\n"
     ]
    },
    {
     "name": "stdout",
     "output_type": "stream",
     "text": [
      "\n",
      "  loss 0.0493728377623\n",
      "  err  0.0116760587432\n",
      "  (0:00:07)\n",
      "Epoch 614:"
     ]
    },
    {
     "name": "stderr",
     "output_type": "stream",
     "text": [
      "100%\n"
     ]
    },
    {
     "name": "stdout",
     "output_type": "stream",
     "text": [
      "\n",
      "  loss 0.048385312497\n",
      "  err  0.0115052937158\n",
      "  (0:00:07)\n",
      "Epoch 615:"
     ]
    },
    {
     "name": "stderr",
     "output_type": "stream",
     "text": [
      "100%\n"
     ]
    },
    {
     "name": "stdout",
     "output_type": "stream",
     "text": [
      "\n",
      "  loss 0.051595519384\n",
      "  err  0.0122096994536\n",
      "  (0:00:07)\n",
      "Epoch 616:"
     ]
    },
    {
     "name": "stderr",
     "output_type": "stream",
     "text": [
      "100%\n"
     ]
    },
    {
     "name": "stdout",
     "output_type": "stream",
     "text": [
      "\n",
      "  loss 0.0500790580784\n",
      "  err  0.012487192623\n",
      "  (0:00:07)\n",
      "Epoch 617:"
     ]
    },
    {
     "name": "stderr",
     "output_type": "stream",
     "text": [
      "100%\n"
     ]
    },
    {
     "name": "stdout",
     "output_type": "stream",
     "text": [
      "\n",
      "  loss 0.0501288911277\n",
      "  err  0.0121456625683\n",
      "  (0:00:07)\n",
      "Epoch 618:"
     ]
    },
    {
     "name": "stderr",
     "output_type": "stream",
     "text": [
      "100%\n"
     ]
    },
    {
     "name": "stdout",
     "output_type": "stream",
     "text": [
      "\n",
      "  loss 0.0485964923273\n",
      "  err  0.0111637636612\n",
      "  (0:00:07)\n",
      "Epoch 619:"
     ]
    },
    {
     "name": "stderr",
     "output_type": "stream",
     "text": [
      "100%\n"
     ]
    },
    {
     "name": "stdout",
     "output_type": "stream",
     "text": [
      "\n",
      "  loss 0.0492568608791\n",
      "  err  0.0113131830601\n",
      "  (0:00:07)\n",
      "Epoch 620:"
     ]
    },
    {
     "name": "stderr",
     "output_type": "stream",
     "text": [
      "100%\n"
     ]
    },
    {
     "name": "stdout",
     "output_type": "stream",
     "text": [
      "\n",
      "  loss 0.0498558964944\n",
      "  err  0.0112278005464\n",
      "  (0:00:07)\n",
      "Epoch 621:"
     ]
    },
    {
     "name": "stderr",
     "output_type": "stream",
     "text": [
      "100%\n"
     ]
    },
    {
     "name": "stdout",
     "output_type": "stream",
     "text": [
      "\n",
      "  loss 0.0490498096552\n",
      "  err  0.0110570355191\n",
      "  (0:00:07)\n",
      "Epoch 622:"
     ]
    },
    {
     "name": "stderr",
     "output_type": "stream",
     "text": [
      "100%\n"
     ]
    },
    {
     "name": "stdout",
     "output_type": "stream",
     "text": [
      "\n",
      "  loss 0.0508856944711\n",
      "  err  0.0120602800546\n",
      "  (0:00:07)\n",
      "Epoch 623:"
     ]
    },
    {
     "name": "stderr",
     "output_type": "stream",
     "text": [
      "100%\n"
     ]
    },
    {
     "name": "stdout",
     "output_type": "stream",
     "text": [
      "\n",
      "  loss 0.0522979684543\n",
      "  err  0.0116120218579\n",
      "  (0:00:07)\n",
      "Epoch 624:"
     ]
    },
    {
     "name": "stderr",
     "output_type": "stream",
     "text": [
      "100%\n"
     ]
    },
    {
     "name": "stdout",
     "output_type": "stream",
     "text": [
      "\n",
      "  loss 0.0532817443657\n",
      "  err  0.0130421789617\n",
      "  (0:00:07)\n",
      "Epoch 625:"
     ]
    },
    {
     "name": "stderr",
     "output_type": "stream",
     "text": [
      "100%\n"
     ]
    },
    {
     "name": "stdout",
     "output_type": "stream",
     "text": [
      "\n",
      "  loss 0.0522336068587\n",
      "  err  0.0119535519126\n",
      "  (0:00:07)\n",
      "Epoch 626:"
     ]
    },
    {
     "name": "stderr",
     "output_type": "stream",
     "text": [
      "100%\n"
     ]
    },
    {
     "name": "stdout",
     "output_type": "stream",
     "text": [
      "\n",
      "  loss 0.0515883239527\n",
      "  err  0.0120175887978\n",
      "  (0:00:07)\n",
      "Epoch 627:"
     ]
    },
    {
     "name": "stderr",
     "output_type": "stream",
     "text": [
      "100%\n"
     ]
    },
    {
     "name": "stdout",
     "output_type": "stream",
     "text": [
      "\n",
      "  loss 0.0494901981177\n",
      "  err  0.0121029713115\n",
      "  (0:00:07)\n",
      "Epoch 628:"
     ]
    },
    {
     "name": "stderr",
     "output_type": "stream",
     "text": [
      "100%\n"
     ]
    },
    {
     "name": "stdout",
     "output_type": "stream",
     "text": [
      "\n",
      "  loss 0.0521485246985\n",
      "  err  0.0125512295082\n",
      "  (0:00:07)\n",
      "Epoch 629:"
     ]
    },
    {
     "name": "stderr",
     "output_type": "stream",
     "text": [
      "100%\n"
     ]
    },
    {
     "name": "stdout",
     "output_type": "stream",
     "text": [
      "\n",
      "  loss 0.0512299289357\n",
      "  err  0.0116333674863\n",
      "  (0:00:07)\n",
      "Epoch 630:"
     ]
    },
    {
     "name": "stderr",
     "output_type": "stream",
     "text": [
      "100%\n"
     ]
    },
    {
     "name": "stdout",
     "output_type": "stream",
     "text": [
      "\n",
      "  loss 0.0506708166967\n",
      "  err  0.0120175887978\n",
      "  (0:00:07)\n",
      "Epoch 631:"
     ]
    },
    {
     "name": "stderr",
     "output_type": "stream",
     "text": [
      "100%\n"
     ]
    },
    {
     "name": "stdout",
     "output_type": "stream",
     "text": [
      "\n",
      "  loss 0.0513034970919\n",
      "  err  0.0115906762295\n",
      "  (0:00:07)\n",
      "Epoch 632:"
     ]
    },
    {
     "name": "stderr",
     "output_type": "stream",
     "text": [
      "100%\n"
     ]
    },
    {
     "name": "stdout",
     "output_type": "stream",
     "text": [
      "\n",
      "  loss 0.0504935263743\n",
      "  err  0.0119322062842\n",
      "  (0:00:07)\n",
      "Epoch 633:"
     ]
    },
    {
     "name": "stderr",
     "output_type": "stream",
     "text": [
      "100%\n"
     ]
    },
    {
     "name": "stdout",
     "output_type": "stream",
     "text": [
      "\n",
      "  loss 0.049465872542\n",
      "  err  0.0111637636612\n",
      "  (0:00:07)\n",
      "Epoch 634:"
     ]
    },
    {
     "name": "stderr",
     "output_type": "stream",
     "text": [
      "100%\n"
     ]
    },
    {
     "name": "stdout",
     "output_type": "stream",
     "text": [
      "\n",
      "  loss 0.0496725490383\n",
      "  err  0.0118895150273\n",
      "  (0:00:07)\n",
      "Epoch 635:"
     ]
    },
    {
     "name": "stderr",
     "output_type": "stream",
     "text": [
      "100%\n"
     ]
    },
    {
     "name": "stdout",
     "output_type": "stream",
     "text": [
      "\n",
      "  loss 0.0500824092436\n",
      "  err  0.0117400956284\n",
      "  (0:00:07)\n",
      "Epoch 636:"
     ]
    },
    {
     "name": "stderr",
     "output_type": "stream",
     "text": [
      "100%\n"
     ]
    },
    {
     "name": "stdout",
     "output_type": "stream",
     "text": [
      "\n",
      "  loss 0.0496909950867\n",
      "  err  0.011462602459\n",
      "  (0:00:07)\n",
      "Epoch 637:"
     ]
    },
    {
     "name": "stderr",
     "output_type": "stream",
     "text": [
      "100%\n"
     ]
    },
    {
     "name": "stdout",
     "output_type": "stream",
     "text": [
      "\n",
      "  loss 0.0486297786943\n",
      "  err  0.0115052937158\n",
      "  (0:00:07)\n",
      "Epoch 638:"
     ]
    },
    {
     "name": "stderr",
     "output_type": "stream",
     "text": [
      "100%\n"
     ]
    },
    {
     "name": "stdout",
     "output_type": "stream",
     "text": [
      "\n",
      "  loss 0.0498161165736\n",
      "  err  0.0113558743169\n",
      "  (0:00:07)\n",
      "Epoch 639:"
     ]
    },
    {
     "name": "stderr",
     "output_type": "stream",
     "text": [
      "100%\n"
     ]
    },
    {
     "name": "stdout",
     "output_type": "stream",
     "text": [
      "\n",
      "  loss 0.0521146288145\n",
      "  err  0.0124658469945\n",
      "  (0:00:07)\n",
      "Epoch 640:"
     ]
    },
    {
     "name": "stderr",
     "output_type": "stream",
     "text": [
      "100%\n"
     ]
    },
    {
     "name": "stdout",
     "output_type": "stream",
     "text": [
      "\n",
      "  loss 0.049090654497\n",
      "  err  0.0108008879781\n",
      "  (0:00:07)\n",
      "Epoch 641:"
     ]
    },
    {
     "name": "stderr",
     "output_type": "stream",
     "text": [
      "100%\n"
     ]
    },
    {
     "name": "stdout",
     "output_type": "stream",
     "text": [
      "\n",
      "  loss 0.0496594112486\n",
      "  err  0.0118895150273\n",
      "  (0:00:07)\n",
      "Epoch 642:"
     ]
    },
    {
     "name": "stderr",
     "output_type": "stream",
     "text": [
      "100%\n"
     ]
    },
    {
     "name": "stdout",
     "output_type": "stream",
     "text": [
      "\n",
      "  loss 0.0496459415646\n",
      "  err  0.0120816256831\n",
      "  (0:00:07)\n",
      "Epoch 643:"
     ]
    },
    {
     "name": "stderr",
     "output_type": "stream",
     "text": [
      "100%\n"
     ]
    },
    {
     "name": "stdout",
     "output_type": "stream",
     "text": [
      "\n",
      "  loss 0.0492744025891\n",
      "  err  0.0113345286885\n",
      "  (0:00:07)\n",
      "Epoch 644:"
     ]
    },
    {
     "name": "stderr",
     "output_type": "stream",
     "text": [
      "100%\n"
     ]
    },
    {
     "name": "stdout",
     "output_type": "stream",
     "text": [
      "\n",
      "  loss 0.0503596462197\n",
      "  err  0.0119322062842\n",
      "  (0:00:07)\n",
      "Epoch 645:"
     ]
    },
    {
     "name": "stderr",
     "output_type": "stream",
     "text": [
      "100%\n"
     ]
    },
    {
     "name": "stdout",
     "output_type": "stream",
     "text": [
      "\n",
      "  loss 0.0515378265033\n",
      "  err  0.013106215847\n",
      "  (0:00:07)\n",
      "Epoch 646:"
     ]
    },
    {
     "name": "stderr",
     "output_type": "stream",
     "text": [
      "100%\n"
     ]
    },
    {
     "name": "stdout",
     "output_type": "stream",
     "text": [
      "\n",
      "  loss 0.0516632638485\n",
      "  err  0.0120389344262\n",
      "  (0:00:07)\n",
      "Epoch 647:"
     ]
    },
    {
     "name": "stderr",
     "output_type": "stream",
     "text": [
      "100%\n"
     ]
    },
    {
     "name": "stdout",
     "output_type": "stream",
     "text": [
      "\n",
      "  loss 0.0507366384775\n",
      "  err  0.0114839480874\n",
      "  (0:00:07)\n",
      "Epoch 648:"
     ]
    },
    {
     "name": "stderr",
     "output_type": "stream",
     "text": [
      "100%\n"
     ]
    },
    {
     "name": "stdout",
     "output_type": "stream",
     "text": [
      "\n",
      "  loss 0.0509215150973\n",
      "  err  0.0122096994536\n",
      "  (0:00:07)\n",
      "Epoch 649:"
     ]
    },
    {
     "name": "stderr",
     "output_type": "stream",
     "text": [
      "100%\n"
     ]
    },
    {
     "name": "stdout",
     "output_type": "stream",
     "text": [
      "\n",
      "  loss 0.0507965800212\n",
      "  err  0.0119962431694\n",
      "  (0:00:08)\n",
      "Epoch 650:"
     ]
    },
    {
     "name": "stderr",
     "output_type": "stream",
     "text": [
      "100%\n"
     ]
    },
    {
     "name": "stdout",
     "output_type": "stream",
     "text": [
      "\n",
      "  loss 0.0489765348879\n",
      "  err  0.0113558743169\n",
      "  (0:00:08)\n",
      "Epoch 651:"
     ]
    },
    {
     "name": "stderr",
     "output_type": "stream",
     "text": [
      "100%\n"
     ]
    },
    {
     "name": "stdout",
     "output_type": "stream",
     "text": [
      "\n",
      "  loss 0.0517149995376\n",
      "  err  0.0126366120219\n",
      "  (0:00:08)\n",
      "Epoch 652:"
     ]
    },
    {
     "name": "stderr",
     "output_type": "stream",
     "text": [
      "100%\n"
     ]
    },
    {
     "name": "stdout",
     "output_type": "stream",
     "text": [
      "\n",
      "  loss 0.0476750508867\n",
      "  err  0.0106941598361\n",
      "  (0:00:08)\n",
      "Epoch 653:"
     ]
    },
    {
     "name": "stderr",
     "output_type": "stream",
     "text": [
      "100%\n"
     ]
    },
    {
     "name": "stdout",
     "output_type": "stream",
     "text": [
      "\n",
      "  loss 0.0505961095558\n",
      "  err  0.0120389344262\n",
      "  (0:00:08)\n",
      "Epoch 654:"
     ]
    },
    {
     "name": "stderr",
     "output_type": "stream",
     "text": [
      "100%\n"
     ]
    },
    {
     "name": "stdout",
     "output_type": "stream",
     "text": [
      "\n",
      "  loss 0.0502864234035\n",
      "  err  0.0116974043716\n",
      "  (0:00:08)\n",
      "Epoch 655:"
     ]
    },
    {
     "name": "stderr",
     "output_type": "stream",
     "text": [
      "100%\n"
     ]
    },
    {
     "name": "stdout",
     "output_type": "stream",
     "text": [
      "\n",
      "  loss 0.0499947249006\n",
      "  err  0.0113131830601\n",
      "  (0:00:08)\n",
      "Epoch 656:"
     ]
    },
    {
     "name": "stderr",
     "output_type": "stream",
     "text": [
      "100%\n"
     ]
    },
    {
     "name": "stdout",
     "output_type": "stream",
     "text": [
      "\n",
      "  loss 0.0490841477953\n",
      "  err  0.0112918374317\n",
      "  (0:00:08)\n",
      "Epoch 657:"
     ]
    },
    {
     "name": "stderr",
     "output_type": "stream",
     "text": [
      "100%\n"
     ]
    },
    {
     "name": "stdout",
     "output_type": "stream",
     "text": [
      "\n",
      "  loss 0.049938226106\n",
      "  err  0.0115052937158\n",
      "  (0:00:08)\n",
      "Epoch 658:"
     ]
    },
    {
     "name": "stderr",
     "output_type": "stream",
     "text": [
      "100%\n"
     ]
    },
    {
     "name": "stdout",
     "output_type": "stream",
     "text": [
      "\n",
      "  loss 0.0465028554779\n",
      "  err  0.0107581967213\n",
      "  (0:00:08)\n",
      "Epoch 659:"
     ]
    },
    {
     "name": "stderr",
     "output_type": "stream",
     "text": [
      "100%\n"
     ]
    },
    {
     "name": "stdout",
     "output_type": "stream",
     "text": [
      "\n",
      "  loss 0.0502019398948\n",
      "  err  0.0112278005464\n",
      "  (0:00:08)\n",
      "Epoch 660:"
     ]
    },
    {
     "name": "stderr",
     "output_type": "stream",
     "text": [
      "100%\n"
     ]
    },
    {
     "name": "stdout",
     "output_type": "stream",
     "text": [
      "\n",
      "  loss 0.0507503025274\n",
      "  err  0.0115906762295\n",
      "  (0:00:08)\n",
      "Epoch 661:"
     ]
    },
    {
     "name": "stderr",
     "output_type": "stream",
     "text": [
      "100%\n"
     ]
    },
    {
     "name": "stdout",
     "output_type": "stream",
     "text": [
      "\n",
      "  loss 0.0513190257724\n",
      "  err  0.0123591188525\n",
      "  (0:00:08)\n",
      "Epoch 662:"
     ]
    },
    {
     "name": "stderr",
     "output_type": "stream",
     "text": [
      "100%\n"
     ]
    },
    {
     "name": "stdout",
     "output_type": "stream",
     "text": [
      "\n",
      "  loss 0.0487885927664\n",
      "  err  0.0111637636612\n",
      "  (0:00:08)\n",
      "Epoch 663:"
     ]
    },
    {
     "name": "stderr",
     "output_type": "stream",
     "text": [
      "100%\n"
     ]
    },
    {
     "name": "stdout",
     "output_type": "stream",
     "text": [
      "\n",
      "  loss 0.0513905346727\n",
      "  err  0.0121670081967\n",
      "  (0:00:09)\n",
      "Epoch 664:"
     ]
    },
    {
     "name": "stderr",
     "output_type": "stream",
     "text": [
      "100%\n"
     ]
    },
    {
     "name": "stdout",
     "output_type": "stream",
     "text": [
      "\n",
      "  loss 0.0486509857707\n",
      "  err  0.0113772199454\n",
      "  (0:00:09)\n",
      "Epoch 665:"
     ]
    },
    {
     "name": "stderr",
     "output_type": "stream",
     "text": [
      "100%\n"
     ]
    },
    {
     "name": "stdout",
     "output_type": "stream",
     "text": [
      "\n",
      "  loss 0.0500016853327\n",
      "  err  0.0117614412568\n",
      "  (0:00:09)\n",
      "Epoch 666:"
     ]
    },
    {
     "name": "stderr",
     "output_type": "stream",
     "text": [
      "100%\n"
     ]
    },
    {
     "name": "stdout",
     "output_type": "stream",
     "text": [
      "\n",
      "  loss 0.0492992741705\n",
      "  err  0.0117827868852\n",
      "  (0:00:09)\n",
      "Epoch 667:"
     ]
    },
    {
     "name": "stderr",
     "output_type": "stream",
     "text": [
      "100%\n"
     ]
    },
    {
     "name": "stdout",
     "output_type": "stream",
     "text": [
      "\n",
      "  loss 0.0525121252425\n",
      "  err  0.0123804644809\n",
      "  (0:00:09)\n",
      "Epoch 668:"
     ]
    },
    {
     "name": "stderr",
     "output_type": "stream",
     "text": [
      "100%\n"
     ]
    },
    {
     "name": "stdout",
     "output_type": "stream",
     "text": [
      "\n",
      "  loss 0.0493247968309\n",
      "  err  0.0116120218579\n",
      "  (0:00:09)\n",
      "Epoch 669:"
     ]
    },
    {
     "name": "stderr",
     "output_type": "stream",
     "text": [
      "100%\n"
     ]
    },
    {
     "name": "stdout",
     "output_type": "stream",
     "text": [
      "\n",
      "  loss 0.0510224788889\n",
      "  err  0.0120602800546\n",
      "  (0:00:09)\n",
      "Epoch 670:"
     ]
    },
    {
     "name": "stderr",
     "output_type": "stream",
     "text": [
      "100%\n"
     ]
    },
    {
     "name": "stdout",
     "output_type": "stream",
     "text": [
      "\n",
      "  loss 0.0528118516671\n",
      "  err  0.0120175887978\n",
      "  (0:00:09)\n",
      "Epoch 671:"
     ]
    },
    {
     "name": "stderr",
     "output_type": "stream",
     "text": [
      "100%\n"
     ]
    },
    {
     "name": "stdout",
     "output_type": "stream",
     "text": [
      "\n",
      "  loss 0.0504957784764\n",
      "  err  0.0118895150273\n",
      "  (0:00:09)\n",
      "Epoch 672:"
     ]
    },
    {
     "name": "stderr",
     "output_type": "stream",
     "text": [
      "100%\n"
     ]
    },
    {
     "name": "stdout",
     "output_type": "stream",
     "text": [
      "\n",
      "  loss 0.0493391565737\n",
      "  err  0.0115266393443\n",
      "  (0:00:09)\n",
      "Epoch 673:"
     ]
    },
    {
     "name": "stderr",
     "output_type": "stream",
     "text": [
      "100%\n"
     ]
    },
    {
     "name": "stdout",
     "output_type": "stream",
     "text": [
      "\n",
      "  loss 0.0512829998666\n",
      "  err  0.0118468237705\n",
      "  (0:00:09)\n",
      "Epoch 674:"
     ]
    },
    {
     "name": "stderr",
     "output_type": "stream",
     "text": [
      "100%\n"
     ]
    },
    {
     "name": "stdout",
     "output_type": "stream",
     "text": [
      "\n",
      "  loss 0.0501135381771\n",
      "  err  0.0117614412568\n",
      "  (0:00:10)\n",
      "Epoch 675:"
     ]
    },
    {
     "name": "stderr",
     "output_type": "stream",
     "text": [
      "100%\n"
     ]
    },
    {
     "name": "stdout",
     "output_type": "stream",
     "text": [
      "\n",
      "  loss 0.0492136629344\n",
      "  err  0.0115693306011\n",
      "  (0:00:10)\n",
      "Epoch 676:"
     ]
    },
    {
     "name": "stderr",
     "output_type": "stream",
     "text": [
      "100%\n"
     ]
    },
    {
     "name": "stdout",
     "output_type": "stream",
     "text": [
      "\n",
      "  loss 0.0485449126156\n",
      "  err  0.0109076161202\n",
      "  (0:00:10)\n",
      "Epoch 677:"
     ]
    },
    {
     "name": "stderr",
     "output_type": "stream",
     "text": [
      "100%\n"
     ]
    },
    {
     "name": "stdout",
     "output_type": "stream",
     "text": [
      "\n",
      "  loss 0.0502702731778\n",
      "  err  0.0116333674863\n",
      "  (0:00:10)\n",
      "Epoch 678:"
     ]
    },
    {
     "name": "stderr",
     "output_type": "stream",
     "text": [
      "100%\n"
     ]
    },
    {
     "name": "stdout",
     "output_type": "stream",
     "text": [
      "\n",
      "  loss 0.0502685698581\n",
      "  err  0.0115906762295\n",
      "  (0:00:10)\n",
      "Epoch 679:"
     ]
    },
    {
     "name": "stderr",
     "output_type": "stream",
     "text": [
      "100%\n"
     ]
    },
    {
     "name": "stdout",
     "output_type": "stream",
     "text": [
      "\n",
      "  loss 0.0495147602423\n",
      "  err  0.0121243169399\n",
      "  (0:00:10)\n",
      "Epoch 680:"
     ]
    },
    {
     "name": "stderr",
     "output_type": "stream",
     "text": [
      "100%\n"
     ]
    },
    {
     "name": "stdout",
     "output_type": "stream",
     "text": [
      "\n",
      "  loss 0.0505789234837\n",
      "  err  0.0120816256831\n",
      "  (0:00:10)\n",
      "Epoch 681:"
     ]
    },
    {
     "name": "stderr",
     "output_type": "stream",
     "text": [
      "100%\n"
     ]
    },
    {
     "name": "stdout",
     "output_type": "stream",
     "text": [
      "\n",
      "  loss 0.0503835738611\n",
      "  err  0.0118681693989\n",
      "  (0:00:10)\n",
      "Epoch 682:"
     ]
    },
    {
     "name": "stderr",
     "output_type": "stream",
     "text": [
      "100%\n"
     ]
    },
    {
     "name": "stdout",
     "output_type": "stream",
     "text": [
      "\n",
      "  loss 0.0505135277212\n",
      "  err  0.0116333674863\n",
      "  (0:00:10)\n",
      "Epoch 683:"
     ]
    },
    {
     "name": "stderr",
     "output_type": "stream",
     "text": [
      "100%\n"
     ]
    },
    {
     "name": "stdout",
     "output_type": "stream",
     "text": [
      "\n",
      "  loss 0.0494064111848\n",
      "  err  0.0110143442623\n",
      "  (0:00:11)\n",
      "Epoch 684:"
     ]
    },
    {
     "name": "stderr",
     "output_type": "stream",
     "text": [
      "100%\n"
     ]
    },
    {
     "name": "stdout",
     "output_type": "stream",
     "text": [
      "\n",
      "  loss 0.0523768982696\n",
      "  err  0.0121029713115\n",
      "  (0:00:11)\n",
      "Epoch 685:"
     ]
    },
    {
     "name": "stderr",
     "output_type": "stream",
     "text": [
      "100%\n"
     ]
    },
    {
     "name": "stdout",
     "output_type": "stream",
     "text": [
      "\n",
      "  loss 0.0481479461903\n",
      "  err  0.0112491461749\n",
      "  (0:00:11)\n",
      "Epoch 686:"
     ]
    },
    {
     "name": "stderr",
     "output_type": "stream",
     "text": [
      "100%\n"
     ]
    },
    {
     "name": "stdout",
     "output_type": "stream",
     "text": [
      "\n",
      "  loss 0.0496807244875\n",
      "  err  0.011462602459\n",
      "  (0:00:11)\n",
      "Epoch 687:"
     ]
    },
    {
     "name": "stderr",
     "output_type": "stream",
     "text": [
      "100%\n"
     ]
    },
    {
     "name": "stdout",
     "output_type": "stream",
     "text": [
      "\n",
      "  loss 0.0488677610258\n",
      "  err  0.0108649248634\n",
      "  (0:00:11)\n",
      "Epoch 688:"
     ]
    },
    {
     "name": "stderr",
     "output_type": "stream",
     "text": [
      "100%\n"
     ]
    },
    {
     "name": "stdout",
     "output_type": "stream",
     "text": [
      "\n",
      "  loss 0.0503486328188\n",
      "  err  0.0115693306011\n",
      "  (0:00:11)\n",
      "Epoch 689:"
     ]
    },
    {
     "name": "stderr",
     "output_type": "stream",
     "text": [
      "100%\n"
     ]
    },
    {
     "name": "stdout",
     "output_type": "stream",
     "text": [
      "\n",
      "  loss 0.050189324292\n",
      "  err  0.0113772199454\n",
      "  (0:00:11)\n",
      "Epoch 690:"
     ]
    },
    {
     "name": "stderr",
     "output_type": "stream",
     "text": [
      "100%\n"
     ]
    },
    {
     "name": "stdout",
     "output_type": "stream",
     "text": [
      "\n",
      "  loss 0.0499997654277\n",
      "  err  0.0116760587432\n",
      "  (0:00:11)\n",
      "Epoch 691:"
     ]
    },
    {
     "name": "stderr",
     "output_type": "stream",
     "text": [
      "100%\n"
     ]
    },
    {
     "name": "stdout",
     "output_type": "stream",
     "text": [
      "\n",
      "  loss 0.0495655755601\n",
      "  err  0.0117827868852\n",
      "  (0:00:11)\n",
      "Epoch 692:"
     ]
    },
    {
     "name": "stderr",
     "output_type": "stream",
     "text": [
      "100%\n"
     ]
    },
    {
     "name": "stdout",
     "output_type": "stream",
     "text": [
      "\n",
      "  loss 0.0482603266366\n",
      "  err  0.0111637636612\n",
      "  (0:00:11)\n",
      "Epoch 693:"
     ]
    },
    {
     "name": "stderr",
     "output_type": "stream",
     "text": [
      "100%\n"
     ]
    },
    {
     "name": "stdout",
     "output_type": "stream",
     "text": [
      "\n",
      "  loss 0.0514813014204\n",
      "  err  0.0118254781421\n",
      "  (0:00:11)\n",
      "Epoch 694:"
     ]
    },
    {
     "name": "stderr",
     "output_type": "stream",
     "text": [
      "100%\n"
     ]
    },
    {
     "name": "stdout",
     "output_type": "stream",
     "text": [
      "\n",
      "  loss 0.0500286214163\n",
      "  err  0.0114199112022\n",
      "  (0:00:11)\n",
      "Epoch 695:"
     ]
    },
    {
     "name": "stderr",
     "output_type": "stream",
     "text": [
      "100%\n"
     ]
    },
    {
     "name": "stdout",
     "output_type": "stream",
     "text": [
      "\n",
      "  loss 0.0509122768996\n",
      "  err  0.0121883538251\n",
      "  (0:00:11)\n",
      "Epoch 696:"
     ]
    },
    {
     "name": "stderr",
     "output_type": "stream",
     "text": [
      "100%\n"
     ]
    },
    {
     "name": "stdout",
     "output_type": "stream",
     "text": [
      "\n",
      "  loss 0.0505350526165\n",
      "  err  0.011974897541\n",
      "  (0:00:11)\n",
      "Epoch 697:"
     ]
    },
    {
     "name": "stderr",
     "output_type": "stream",
     "text": [
      "100%\n"
     ]
    },
    {
     "name": "stdout",
     "output_type": "stream",
     "text": [
      "\n",
      "  loss 0.0494034524436\n",
      "  err  0.0115052937158\n",
      "  (0:00:11)\n",
      "Epoch 698:"
     ]
    },
    {
     "name": "stderr",
     "output_type": "stream",
     "text": [
      "100%\n"
     ]
    },
    {
     "name": "stdout",
     "output_type": "stream",
     "text": [
      "\n",
      "  loss 0.0495845049154\n",
      "  err  0.0118254781421\n",
      "  (0:00:11)\n",
      "Epoch 699:"
     ]
    },
    {
     "name": "stderr",
     "output_type": "stream",
     "text": [
      "100%\n"
     ]
    },
    {
     "name": "stdout",
     "output_type": "stream",
     "text": [
      "\n",
      "  loss 0.0515384797994\n",
      "  err  0.0123591188525\n",
      "  (0:00:11)\n",
      "Epoch 700:"
     ]
    },
    {
     "name": "stderr",
     "output_type": "stream",
     "text": [
      "100%\n"
     ]
    },
    {
     "name": "stdout",
     "output_type": "stream",
     "text": [
      "\n",
      "  loss 0.0509073899759\n",
      "  err  0.0122950819672\n",
      "  (0:00:11)\n",
      "Epoch 701:"
     ]
    },
    {
     "name": "stderr",
     "output_type": "stream",
     "text": [
      "100%\n"
     ]
    },
    {
     "name": "stdout",
     "output_type": "stream",
     "text": [
      "\n",
      "  loss 0.0500637556081\n",
      "  err  0.0113772199454\n",
      "  (0:00:11)\n",
      "Epoch 702:"
     ]
    },
    {
     "name": "stderr",
     "output_type": "stream",
     "text": [
      "100%\n"
     ]
    },
    {
     "name": "stdout",
     "output_type": "stream",
     "text": [
      "\n",
      "  loss 0.0519052749332\n",
      "  err  0.0126152663934\n",
      "  (0:00:11)\n",
      "Epoch 703:"
     ]
    },
    {
     "name": "stderr",
     "output_type": "stream",
     "text": [
      "100%\n"
     ]
    },
    {
     "name": "stdout",
     "output_type": "stream",
     "text": [
      "\n",
      "  loss 0.0502056034773\n",
      "  err  0.0116120218579\n",
      "  (0:00:11)\n",
      "Epoch 704:"
     ]
    },
    {
     "name": "stderr",
     "output_type": "stream",
     "text": [
      "100%\n"
     ]
    },
    {
     "name": "stdout",
     "output_type": "stream",
     "text": [
      "\n",
      "  loss 0.05061755868\n",
      "  err  0.0114839480874\n",
      "  (0:00:11)\n",
      "Epoch 705:"
     ]
    },
    {
     "name": "stderr",
     "output_type": "stream",
     "text": [
      "100%\n"
     ]
    },
    {
     "name": "stdout",
     "output_type": "stream",
     "text": [
      "\n",
      "  loss 0.0513489583165\n",
      "  err  0.0123591188525\n",
      "  (0:00:11)\n",
      "Epoch 706:"
     ]
    },
    {
     "name": "stderr",
     "output_type": "stream",
     "text": [
      "100%\n"
     ]
    },
    {
     "name": "stdout",
     "output_type": "stream",
     "text": [
      "\n",
      "  loss 0.0478177824436\n",
      "  err  0.0111637636612\n",
      "  (0:00:12)\n",
      "Epoch 707:"
     ]
    },
    {
     "name": "stderr",
     "output_type": "stream",
     "text": [
      "100%\n"
     ]
    },
    {
     "name": "stdout",
     "output_type": "stream",
     "text": [
      "\n",
      "  loss 0.0507488015885\n",
      "  err  0.0119535519126\n",
      "  (0:00:12)\n",
      "Epoch 708:"
     ]
    },
    {
     "name": "stderr",
     "output_type": "stream",
     "text": [
      "100%\n"
     ]
    },
    {
     "name": "stdout",
     "output_type": "stream",
     "text": [
      "\n",
      "  loss 0.0500263936221\n",
      "  err  0.0119962431694\n",
      "  (0:00:12)\n",
      "Epoch 709:"
     ]
    },
    {
     "name": "stderr",
     "output_type": "stream",
     "text": [
      "100%\n"
     ]
    },
    {
     "name": "stdout",
     "output_type": "stream",
     "text": [
      "\n",
      "  loss 0.0492875696391\n",
      "  err  0.0119108606557\n",
      "  (0:00:12)\n",
      "Epoch 710:"
     ]
    },
    {
     "name": "stderr",
     "output_type": "stream",
     "text": [
      "100%\n"
     ]
    },
    {
     "name": "stdout",
     "output_type": "stream",
     "text": [
      "\n",
      "  loss 0.0496841880106\n",
      "  err  0.0113772199454\n",
      "  (0:00:12)\n",
      "Epoch 711:"
     ]
    },
    {
     "name": "stderr",
     "output_type": "stream",
     "text": [
      "100%\n"
     ]
    },
    {
     "name": "stdout",
     "output_type": "stream",
     "text": [
      "\n",
      "  loss 0.0496682745705\n",
      "  err  0.0111637636612\n",
      "  (0:00:12)\n",
      "Epoch 712:"
     ]
    },
    {
     "name": "stderr",
     "output_type": "stream",
     "text": [
      "100%\n"
     ]
    },
    {
     "name": "stdout",
     "output_type": "stream",
     "text": [
      "\n",
      "  loss 0.0503036967896\n",
      "  err  0.011462602459\n",
      "  (0:00:12)\n",
      "Epoch 713:"
     ]
    },
    {
     "name": "stderr",
     "output_type": "stream",
     "text": [
      "100%\n"
     ]
    },
    {
     "name": "stdout",
     "output_type": "stream",
     "text": [
      "\n",
      "  loss 0.0501081825315\n",
      "  err  0.0119962431694\n",
      "  (0:00:12)\n",
      "Epoch 714:"
     ]
    },
    {
     "name": "stderr",
     "output_type": "stream",
     "text": [
      "100%\n"
     ]
    },
    {
     "name": "stdout",
     "output_type": "stream",
     "text": [
      "\n",
      "  loss 0.0483309057658\n",
      "  err  0.0111851092896\n",
      "  (0:00:12)\n",
      "Epoch 715:"
     ]
    },
    {
     "name": "stderr",
     "output_type": "stream",
     "text": [
      "100%\n"
     ]
    },
    {
     "name": "stdout",
     "output_type": "stream",
     "text": [
      "\n",
      "  loss 0.0497137271962\n",
      "  err  0.0113345286885\n",
      "  (0:00:12)\n",
      "Epoch 716:"
     ]
    },
    {
     "name": "stderr",
     "output_type": "stream",
     "text": [
      "100%\n"
     ]
    },
    {
     "name": "stdout",
     "output_type": "stream",
     "text": [
      "\n",
      "  loss 0.0483101033046\n",
      "  err  0.0112491461749\n",
      "  (0:00:12)\n",
      "Epoch 717:"
     ]
    },
    {
     "name": "stderr",
     "output_type": "stream",
     "text": [
      "100%\n"
     ]
    },
    {
     "name": "stdout",
     "output_type": "stream",
     "text": [
      "\n",
      "  loss 0.0492212572033\n",
      "  err  0.0109716530055\n",
      "  (0:00:12)\n",
      "Epoch 718:"
     ]
    },
    {
     "name": "stderr",
     "output_type": "stream",
     "text": [
      "100%\n"
     ]
    },
    {
     "name": "stdout",
     "output_type": "stream",
     "text": [
      "\n",
      "  loss 0.0510782047361\n",
      "  err  0.0119535519126\n",
      "  (0:00:12)\n",
      "Epoch 719:"
     ]
    },
    {
     "name": "stderr",
     "output_type": "stream",
     "text": [
      "100%\n"
     ]
    },
    {
     "name": "stdout",
     "output_type": "stream",
     "text": [
      "\n",
      "  loss 0.0507845541989\n",
      "  err  0.0115693306011\n",
      "  (0:00:12)\n",
      "Epoch 720:"
     ]
    },
    {
     "name": "stderr",
     "output_type": "stream",
     "text": [
      "100%\n"
     ]
    },
    {
     "name": "stdout",
     "output_type": "stream",
     "text": [
      "\n",
      "  loss 0.0519552215606\n",
      "  err  0.0123164275956\n",
      "  (0:00:12)\n",
      "Epoch 721:"
     ]
    },
    {
     "name": "stderr",
     "output_type": "stream",
     "text": [
      "100%\n"
     ]
    },
    {
     "name": "stdout",
     "output_type": "stream",
     "text": [
      "\n",
      "  loss 0.0498332024051\n",
      "  err  0.0115906762295\n",
      "  (0:00:12)\n",
      "Epoch 722:"
     ]
    },
    {
     "name": "stderr",
     "output_type": "stream",
     "text": [
      "100%\n"
     ]
    },
    {
     "name": "stdout",
     "output_type": "stream",
     "text": [
      "\n",
      "  loss 0.0514724525252\n",
      "  err  0.0119535519126\n",
      "  (0:00:12)\n",
      "Epoch 723:"
     ]
    },
    {
     "name": "stderr",
     "output_type": "stream",
     "text": [
      "100%\n"
     ]
    },
    {
     "name": "stdout",
     "output_type": "stream",
     "text": [
      "\n",
      "  loss 0.0506799651693\n",
      "  err  0.0111637636612\n",
      "  (0:00:12)\n",
      "Epoch 724:"
     ]
    },
    {
     "name": "stderr",
     "output_type": "stream",
     "text": [
      "100%\n"
     ]
    },
    {
     "name": "stdout",
     "output_type": "stream",
     "text": [
      "\n",
      "  loss 0.0516177981792\n",
      "  err  0.012593920765\n",
      "  (0:00:12)\n",
      "Epoch 725:"
     ]
    },
    {
     "name": "stderr",
     "output_type": "stream",
     "text": [
      "100%\n"
     ]
    },
    {
     "name": "stdout",
     "output_type": "stream",
     "text": [
      "\n",
      "  loss 0.0511634300152\n",
      "  err  0.0121243169399\n",
      "  (0:00:12)\n",
      "Epoch 726:"
     ]
    },
    {
     "name": "stderr",
     "output_type": "stream",
     "text": [
      "100%\n"
     ]
    },
    {
     "name": "stdout",
     "output_type": "stream",
     "text": [
      "\n",
      "  loss 0.0515765273788\n",
      "  err  0.0123164275956\n",
      "  (0:00:12)\n",
      "Epoch 727:"
     ]
    },
    {
     "name": "stderr",
     "output_type": "stream",
     "text": [
      "100%\n"
     ]
    },
    {
     "name": "stdout",
     "output_type": "stream",
     "text": [
      "\n",
      "  loss 0.049406080695\n",
      "  err  0.0112278005464\n",
      "  (0:00:12)\n",
      "Epoch 728:"
     ]
    },
    {
     "name": "stderr",
     "output_type": "stream",
     "text": [
      "100%\n"
     ]
    },
    {
     "name": "stdout",
     "output_type": "stream",
     "text": [
      "\n",
      "  loss 0.0518597290429\n",
      "  err  0.0125725751366\n",
      "  (0:00:12)\n",
      "Epoch 729:"
     ]
    },
    {
     "name": "stderr",
     "output_type": "stream",
     "text": [
      "100%\n"
     ]
    },
    {
     "name": "stdout",
     "output_type": "stream",
     "text": [
      "\n",
      "  loss 0.0486239953834\n",
      "  err  0.0110143442623\n",
      "  (0:00:12)\n",
      "Epoch 730:"
     ]
    },
    {
     "name": "stderr",
     "output_type": "stream",
     "text": [
      "100%\n"
     ]
    },
    {
     "name": "stdout",
     "output_type": "stream",
     "text": [
      "\n",
      "  loss 0.0509860216159\n",
      "  err  0.0123164275956\n",
      "  (0:00:12)\n",
      "Epoch 731:"
     ]
    },
    {
     "name": "stderr",
     "output_type": "stream",
     "text": [
      "100%\n"
     ]
    },
    {
     "name": "stdout",
     "output_type": "stream",
     "text": [
      "\n",
      "  loss 0.0508695249013\n",
      "  err  0.0123591188525\n",
      "  (0:00:12)\n",
      "Epoch 732:"
     ]
    },
    {
     "name": "stderr",
     "output_type": "stream",
     "text": [
      "100%\n"
     ]
    },
    {
     "name": "stdout",
     "output_type": "stream",
     "text": [
      "\n",
      "  loss 0.0494847734404\n",
      "  err  0.0110783811475\n",
      "  (0:00:12)\n",
      "Epoch 733:"
     ]
    },
    {
     "name": "stderr",
     "output_type": "stream",
     "text": [
      "100%\n"
     ]
    },
    {
     "name": "stdout",
     "output_type": "stream",
     "text": [
      "\n",
      "  loss 0.0502947142947\n",
      "  err  0.0115479849727\n",
      "  (0:00:12)\n",
      "Epoch 734:"
     ]
    },
    {
     "name": "stderr",
     "output_type": "stream",
     "text": [
      "100%\n"
     ]
    },
    {
     "name": "stdout",
     "output_type": "stream",
     "text": [
      "\n",
      "  loss 0.0515002316421\n",
      "  err  0.0125298838798\n",
      "  (0:00:12)\n",
      "Epoch 735:"
     ]
    },
    {
     "name": "stderr",
     "output_type": "stream",
     "text": [
      "100%\n"
     ]
    },
    {
     "name": "stdout",
     "output_type": "stream",
     "text": [
      "\n",
      "  loss 0.0496758904818\n",
      "  err  0.0118895150273\n",
      "  (0:00:12)\n",
      "Epoch 736:"
     ]
    },
    {
     "name": "stderr",
     "output_type": "stream",
     "text": [
      "100%\n"
     ]
    },
    {
     "name": "stdout",
     "output_type": "stream",
     "text": [
      "\n",
      "  loss 0.0526358996183\n",
      "  err  0.0122950819672\n",
      "  (0:00:12)\n",
      "Epoch 737:"
     ]
    },
    {
     "name": "stderr",
     "output_type": "stream",
     "text": [
      "100%\n"
     ]
    },
    {
     "name": "stdout",
     "output_type": "stream",
     "text": [
      "\n",
      "  loss 0.049629877698\n",
      "  err  0.0116760587432\n",
      "  (0:00:12)\n",
      "Epoch 738:"
     ]
    },
    {
     "name": "stderr",
     "output_type": "stream",
     "text": [
      "100%\n"
     ]
    },
    {
     "name": "stdout",
     "output_type": "stream",
     "text": [
      "\n",
      "  loss 0.0507310102178\n",
      "  err  0.0115479849727\n",
      "  (0:00:12)\n",
      "Epoch 739:"
     ]
    },
    {
     "name": "stderr",
     "output_type": "stream",
     "text": [
      "100%\n"
     ]
    },
    {
     "name": "stdout",
     "output_type": "stream",
     "text": [
      "\n",
      "  loss 0.0511513752278\n",
      "  err  0.0125725751366\n",
      "  (0:00:12)\n",
      "Epoch 740:"
     ]
    },
    {
     "name": "stderr",
     "output_type": "stream",
     "text": [
      "100%\n"
     ]
    },
    {
     "name": "stdout",
     "output_type": "stream",
     "text": [
      "\n",
      "  loss 0.0504448505372\n",
      "  err  0.0121670081967\n",
      "  (0:00:12)\n",
      "Epoch 741:"
     ]
    },
    {
     "name": "stderr",
     "output_type": "stream",
     "text": [
      "100%\n"
     ]
    },
    {
     "name": "stdout",
     "output_type": "stream",
     "text": [
      "\n",
      "  loss 0.0485758004631\n",
      "  err  0.0111851092896\n",
      "  (0:00:12)\n",
      "Epoch 742:"
     ]
    },
    {
     "name": "stderr",
     "output_type": "stream",
     "text": [
      "100%\n"
     ]
    },
    {
     "name": "stdout",
     "output_type": "stream",
     "text": [
      "\n",
      "  loss 0.0503104487701\n",
      "  err  0.012487192623\n",
      "  (0:00:12)\n",
      "Epoch 743:"
     ]
    },
    {
     "name": "stderr",
     "output_type": "stream",
     "text": [
      "100%\n"
     ]
    },
    {
     "name": "stdout",
     "output_type": "stream",
     "text": [
      "\n",
      "  loss 0.049191763505\n",
      "  err  0.011206454918\n",
      "  (0:00:12)\n",
      "Epoch 744:"
     ]
    },
    {
     "name": "stderr",
     "output_type": "stream",
     "text": [
      "100%\n"
     ]
    },
    {
     "name": "stdout",
     "output_type": "stream",
     "text": [
      "\n",
      "  loss 0.0507904036222\n",
      "  err  0.0118468237705\n",
      "  (0:00:12)\n",
      "Epoch 745:"
     ]
    },
    {
     "name": "stderr",
     "output_type": "stream",
     "text": [
      "100%\n"
     ]
    },
    {
     "name": "stdout",
     "output_type": "stream",
     "text": [
      "\n",
      "  loss 0.0492462052078\n",
      "  err  0.0112704918033\n",
      "  (0:00:12)\n",
      "Epoch 746:"
     ]
    },
    {
     "name": "stderr",
     "output_type": "stream",
     "text": [
      "100%\n"
     ]
    },
    {
     "name": "stdout",
     "output_type": "stream",
     "text": [
      "\n",
      "  loss 0.0497594571779\n",
      "  err  0.0112278005464\n",
      "  (0:00:12)\n",
      "Epoch 747:"
     ]
    },
    {
     "name": "stderr",
     "output_type": "stream",
     "text": [
      "100%\n"
     ]
    },
    {
     "name": "stdout",
     "output_type": "stream",
     "text": [
      "\n",
      "  loss 0.0486606443587\n",
      "  err  0.0116760587432\n",
      "  (0:00:12)\n",
      "Epoch 748:"
     ]
    },
    {
     "name": "stderr",
     "output_type": "stream",
     "text": [
      "100%\n"
     ]
    },
    {
     "name": "stdout",
     "output_type": "stream",
     "text": [
      "\n",
      "  loss 0.0517921192785\n",
      "  err  0.0129567964481\n",
      "  (0:00:12)\n",
      "Epoch 749:"
     ]
    },
    {
     "name": "stderr",
     "output_type": "stream",
     "text": [
      "100%\n"
     ]
    },
    {
     "name": "stdout",
     "output_type": "stream",
     "text": [
      "\n",
      "  loss 0.0497257524944\n",
      "  err  0.0119322062842\n",
      "  (0:00:12)\n",
      "Epoch 750:"
     ]
    },
    {
     "name": "stderr",
     "output_type": "stream",
     "text": [
      "100%\n"
     ]
    },
    {
     "name": "stdout",
     "output_type": "stream",
     "text": [
      "\n",
      "  loss 0.0491255763759\n",
      "  err  0.0110143442623\n",
      "  (0:00:12)\n",
      "Epoch 751:"
     ]
    },
    {
     "name": "stderr",
     "output_type": "stream",
     "text": [
      "100%\n"
     ]
    },
    {
     "name": "stdout",
     "output_type": "stream",
     "text": [
      "\n",
      "  loss 0.0520221476972\n",
      "  err  0.0118895150273\n",
      "  (0:00:12)\n",
      "Epoch 752:"
     ]
    },
    {
     "name": "stderr",
     "output_type": "stream",
     "text": [
      "100%\n"
     ]
    },
    {
     "name": "stdout",
     "output_type": "stream",
     "text": [
      "\n",
      "  loss 0.05055292417\n",
      "  err  0.0117614412568\n",
      "  (0:00:12)\n",
      "Epoch 753:"
     ]
    },
    {
     "name": "stderr",
     "output_type": "stream",
     "text": [
      "100%\n"
     ]
    },
    {
     "name": "stdout",
     "output_type": "stream",
     "text": [
      "\n",
      "  loss 0.0486802094491\n",
      "  err  0.0110783811475\n",
      "  (0:00:12)\n",
      "Epoch 754:"
     ]
    },
    {
     "name": "stderr",
     "output_type": "stream",
     "text": [
      "100%\n"
     ]
    },
    {
     "name": "stdout",
     "output_type": "stream",
     "text": [
      "\n",
      "  loss 0.0485195475045\n",
      "  err  0.0109289617486\n",
      "  (0:00:12)\n",
      "Epoch 755:"
     ]
    },
    {
     "name": "stderr",
     "output_type": "stream",
     "text": [
      "100%\n"
     ]
    },
    {
     "name": "stdout",
     "output_type": "stream",
     "text": [
      "\n",
      "  loss 0.0492029296084\n",
      "  err  0.0113345286885\n",
      "  (0:00:12)\n",
      "Epoch 756:"
     ]
    },
    {
     "name": "stderr",
     "output_type": "stream",
     "text": [
      "100%\n"
     ]
    },
    {
     "name": "stdout",
     "output_type": "stream",
     "text": [
      "\n",
      "  loss 0.0496815428452\n",
      "  err  0.0116333674863\n",
      "  (0:00:12)\n",
      "Epoch 757:"
     ]
    },
    {
     "name": "stderr",
     "output_type": "stream",
     "text": [
      "100%\n"
     ]
    },
    {
     "name": "stdout",
     "output_type": "stream",
     "text": [
      "\n",
      "  loss 0.0493317350581\n",
      "  err  0.0115693306011\n",
      "  (0:00:12)\n",
      "Epoch 758:"
     ]
    },
    {
     "name": "stderr",
     "output_type": "stream",
     "text": [
      "100%\n"
     ]
    },
    {
     "name": "stdout",
     "output_type": "stream",
     "text": [
      "\n",
      "  loss 0.0522228305869\n",
      "  err  0.0118681693989\n",
      "  (0:00:12)\n",
      "Epoch 759:"
     ]
    },
    {
     "name": "stderr",
     "output_type": "stream",
     "text": [
      "100%\n"
     ]
    },
    {
     "name": "stdout",
     "output_type": "stream",
     "text": [
      "\n",
      "  loss 0.049665660703\n",
      "  err  0.0114412568306\n",
      "  (0:00:12)\n",
      "Epoch 760:"
     ]
    },
    {
     "name": "stderr",
     "output_type": "stream",
     "text": [
      "100%\n"
     ]
    },
    {
     "name": "stdout",
     "output_type": "stream",
     "text": [
      "\n",
      "  loss 0.0504269773367\n",
      "  err  0.0118041325137\n",
      "  (0:00:12)\n",
      "Epoch 761:"
     ]
    },
    {
     "name": "stderr",
     "output_type": "stream",
     "text": [
      "100%\n"
     ]
    },
    {
     "name": "stdout",
     "output_type": "stream",
     "text": [
      "\n",
      "  loss 0.0499248313495\n",
      "  err  0.0119322062842\n",
      "  (0:00:12)\n",
      "Epoch 762:"
     ]
    },
    {
     "name": "stderr",
     "output_type": "stream",
     "text": [
      "100%\n"
     ]
    },
    {
     "name": "stdout",
     "output_type": "stream",
     "text": [
      "\n",
      "  loss 0.0491016525457\n",
      "  err  0.0112704918033\n",
      "  (0:00:12)\n",
      "Epoch 763:"
     ]
    },
    {
     "name": "stderr",
     "output_type": "stream",
     "text": [
      "100%\n"
     ]
    },
    {
     "name": "stdout",
     "output_type": "stream",
     "text": [
      "\n",
      "  loss 0.048877800192\n",
      "  err  0.0113345286885\n",
      "  (0:00:12)\n",
      "Epoch 764:"
     ]
    },
    {
     "name": "stderr",
     "output_type": "stream",
     "text": [
      "100%\n"
     ]
    },
    {
     "name": "stdout",
     "output_type": "stream",
     "text": [
      "\n",
      "  loss 0.0487663296854\n",
      "  err  0.0117827868852\n",
      "  (0:00:12)\n",
      "Epoch 765:"
     ]
    },
    {
     "name": "stderr",
     "output_type": "stream",
     "text": [
      "100%\n"
     ]
    },
    {
     "name": "stdout",
     "output_type": "stream",
     "text": [
      "\n",
      "  loss 0.0487446565171\n",
      "  err  0.0112491461749\n",
      "  (0:00:12)\n",
      "Epoch 766:"
     ]
    },
    {
     "name": "stderr",
     "output_type": "stream",
     "text": [
      "100%\n"
     ]
    },
    {
     "name": "stdout",
     "output_type": "stream",
     "text": [
      "\n",
      "  loss 0.0502527322292\n",
      "  err  0.0118468237705\n",
      "  (0:00:12)\n",
      "Epoch 767:"
     ]
    },
    {
     "name": "stderr",
     "output_type": "stream",
     "text": [
      "100%\n"
     ]
    },
    {
     "name": "stdout",
     "output_type": "stream",
     "text": [
      "\n",
      "  loss 0.0509214801332\n",
      "  err  0.0118468237705\n",
      "  (0:00:12)\n",
      "Epoch 768:"
     ]
    },
    {
     "name": "stderr",
     "output_type": "stream",
     "text": [
      "100%\n"
     ]
    },
    {
     "name": "stdout",
     "output_type": "stream",
     "text": [
      "\n",
      "  loss 0.0505621534419\n",
      "  err  0.0115479849727\n",
      "  (0:00:12)\n",
      "Epoch 769:"
     ]
    },
    {
     "name": "stderr",
     "output_type": "stream",
     "text": [
      "100%\n"
     ]
    },
    {
     "name": "stdout",
     "output_type": "stream",
     "text": [
      "\n",
      "  loss 0.0496587947773\n",
      "  err  0.0120602800546\n",
      "  (0:00:12)\n",
      "Epoch 770:"
     ]
    },
    {
     "name": "stderr",
     "output_type": "stream",
     "text": [
      "100%\n"
     ]
    },
    {
     "name": "stdout",
     "output_type": "stream",
     "text": [
      "\n",
      "  loss 0.0514970282462\n",
      "  err  0.0122950819672\n",
      "  (0:00:12)\n",
      "Epoch 771:"
     ]
    },
    {
     "name": "stderr",
     "output_type": "stream",
     "text": [
      "100%\n"
     ]
    },
    {
     "name": "stdout",
     "output_type": "stream",
     "text": [
      "\n",
      "  loss 0.0487626440259\n",
      "  err  0.0108008879781\n",
      "  (0:00:12)\n",
      "Epoch 772:"
     ]
    },
    {
     "name": "stderr",
     "output_type": "stream",
     "text": [
      "100%\n"
     ]
    },
    {
     "name": "stdout",
     "output_type": "stream",
     "text": [
      "\n",
      "  loss 0.0517847655892\n",
      "  err  0.0118254781421\n",
      "  (0:00:12)\n",
      "Epoch 773:"
     ]
    },
    {
     "name": "stderr",
     "output_type": "stream",
     "text": [
      "100%\n"
     ]
    },
    {
     "name": "stdout",
     "output_type": "stream",
     "text": [
      "\n",
      "  loss 0.0492733478313\n",
      "  err  0.0111851092896\n",
      "  (0:00:12)\n",
      "Epoch 774:"
     ]
    },
    {
     "name": "stderr",
     "output_type": "stream",
     "text": [
      "100%\n"
     ]
    },
    {
     "name": "stdout",
     "output_type": "stream",
     "text": [
      "\n",
      "  loss 0.0505736138719\n",
      "  err  0.0120389344262\n",
      "  (0:00:12)\n",
      "Epoch 775:"
     ]
    },
    {
     "name": "stderr",
     "output_type": "stream",
     "text": [
      "100%\n"
     ]
    },
    {
     "name": "stdout",
     "output_type": "stream",
     "text": [
      "\n",
      "  loss 0.0502263119691\n",
      "  err  0.0121883538251\n",
      "  (0:00:12)\n",
      "Epoch 776:"
     ]
    },
    {
     "name": "stderr",
     "output_type": "stream",
     "text": [
      "100%\n"
     ]
    },
    {
     "name": "stdout",
     "output_type": "stream",
     "text": [
      "\n",
      "  loss 0.0503167000146\n",
      "  err  0.0115693306011\n",
      "  (0:00:12)\n",
      "Epoch 777:"
     ]
    },
    {
     "name": "stderr",
     "output_type": "stream",
     "text": [
      "100%\n"
     ]
    },
    {
     "name": "stdout",
     "output_type": "stream",
     "text": [
      "\n",
      "  loss 0.0504568956813\n",
      "  err  0.0121670081967\n",
      "  (0:00:12)\n",
      "Epoch 778:"
     ]
    },
    {
     "name": "stderr",
     "output_type": "stream",
     "text": [
      "100%\n"
     ]
    },
    {
     "name": "stdout",
     "output_type": "stream",
     "text": [
      "\n",
      "  loss 0.0513021366828\n",
      "  err  0.0120602800546\n",
      "  (0:00:12)\n",
      "Epoch 779:"
     ]
    },
    {
     "name": "stderr",
     "output_type": "stream",
     "text": [
      "100%\n"
     ]
    },
    {
     "name": "stdout",
     "output_type": "stream",
     "text": [
      "\n",
      "  loss 0.0471308205443\n",
      "  err  0.0106728142077\n",
      "  (0:00:12)\n",
      "Epoch 780:"
     ]
    },
    {
     "name": "stderr",
     "output_type": "stream",
     "text": [
      "100%\n"
     ]
    },
    {
     "name": "stdout",
     "output_type": "stream",
     "text": [
      "\n",
      "  loss 0.0532776464268\n",
      "  err  0.0127860314208\n",
      "  (0:00:12)\n",
      "Epoch 781:"
     ]
    },
    {
     "name": "stderr",
     "output_type": "stream",
     "text": [
      "100%\n"
     ]
    },
    {
     "name": "stdout",
     "output_type": "stream",
     "text": [
      "\n",
      "  loss 0.0489919872603\n",
      "  err  0.0115479849727\n",
      "  (0:00:12)\n",
      "Epoch 782:"
     ]
    },
    {
     "name": "stderr",
     "output_type": "stream",
     "text": [
      "100%\n"
     ]
    },
    {
     "name": "stdout",
     "output_type": "stream",
     "text": [
      "\n",
      "  loss 0.0495732420498\n",
      "  err  0.0108222336066\n",
      "  (0:00:12)\n",
      "Epoch 783:"
     ]
    },
    {
     "name": "stderr",
     "output_type": "stream",
     "text": [
      "100%\n"
     ]
    },
    {
     "name": "stdout",
     "output_type": "stream",
     "text": [
      "\n",
      "  loss 0.0475728117328\n",
      "  err  0.0108222336066\n",
      "  (0:00:12)\n",
      "Epoch 784:"
     ]
    },
    {
     "name": "stderr",
     "output_type": "stream",
     "text": [
      "100%\n"
     ]
    },
    {
     "name": "stdout",
     "output_type": "stream",
     "text": [
      "\n",
      "  loss 0.0485415138416\n",
      "  err  0.0116760587432\n",
      "  (0:00:12)\n",
      "Epoch 785:"
     ]
    },
    {
     "name": "stderr",
     "output_type": "stream",
     "text": [
      "100%\n"
     ]
    },
    {
     "name": "stdout",
     "output_type": "stream",
     "text": [
      "\n",
      "  loss 0.0504405921887\n",
      "  err  0.0116974043716\n",
      "  (0:00:12)\n",
      "Epoch 786:"
     ]
    },
    {
     "name": "stderr",
     "output_type": "stream",
     "text": [
      "100%\n"
     ]
    },
    {
     "name": "stdout",
     "output_type": "stream",
     "text": [
      "\n",
      "  loss 0.0493150216634\n",
      "  err  0.0113772199454\n",
      "  (0:00:12)\n",
      "Epoch 787:"
     ]
    },
    {
     "name": "stderr",
     "output_type": "stream",
     "text": [
      "100%\n"
     ]
    },
    {
     "name": "stdout",
     "output_type": "stream",
     "text": [
      "\n",
      "  loss 0.0521425744213\n",
      "  err  0.0129141051913\n",
      "  (0:00:12)\n",
      "Epoch 788:"
     ]
    },
    {
     "name": "stderr",
     "output_type": "stream",
     "text": [
      "100%\n"
     ]
    },
    {
     "name": "stdout",
     "output_type": "stream",
     "text": [
      "\n",
      "  loss 0.0499034862777\n",
      "  err  0.011974897541\n",
      "  (0:00:12)\n",
      "Epoch 789:"
     ]
    },
    {
     "name": "stderr",
     "output_type": "stream",
     "text": [
      "100%\n"
     ]
    },
    {
     "name": "stdout",
     "output_type": "stream",
     "text": [
      "\n",
      "  loss 0.0506525020805\n",
      "  err  0.0123591188525\n",
      "  (0:00:12)\n",
      "Epoch 790:"
     ]
    },
    {
     "name": "stderr",
     "output_type": "stream",
     "text": [
      "100%\n"
     ]
    },
    {
     "name": "stdout",
     "output_type": "stream",
     "text": [
      "\n",
      "  loss 0.0503721266458\n",
      "  err  0.0120389344262\n",
      "  (0:00:12)\n",
      "Epoch 791:"
     ]
    },
    {
     "name": "stderr",
     "output_type": "stream",
     "text": [
      "100%\n"
     ]
    },
    {
     "name": "stdout",
     "output_type": "stream",
     "text": [
      "\n",
      "  loss 0.0495341655778\n",
      "  err  0.0115052937158\n",
      "  (0:00:12)\n",
      "Epoch 792:"
     ]
    },
    {
     "name": "stderr",
     "output_type": "stream",
     "text": [
      "100%\n"
     ]
    },
    {
     "name": "stdout",
     "output_type": "stream",
     "text": [
      "\n",
      "  loss 0.0504048328524\n",
      "  err  0.0118468237705\n",
      "  (0:00:12)\n",
      "Epoch 793:"
     ]
    },
    {
     "name": "stderr",
     "output_type": "stream",
     "text": [
      "100%\n"
     ]
    },
    {
     "name": "stdout",
     "output_type": "stream",
     "text": [
      "\n",
      "  loss 0.0496526895348\n",
      "  err  0.010950307377\n",
      "  (0:00:12)\n",
      "Epoch 794:"
     ]
    },
    {
     "name": "stderr",
     "output_type": "stream",
     "text": [
      "100%\n"
     ]
    },
    {
     "name": "stdout",
     "output_type": "stream",
     "text": [
      "\n",
      "  loss 0.0511541717808\n",
      "  err  0.0122523907104\n",
      "  (0:00:12)\n",
      "Epoch 795:"
     ]
    },
    {
     "name": "stderr",
     "output_type": "stream",
     "text": [
      "100%\n"
     ]
    },
    {
     "name": "stdout",
     "output_type": "stream",
     "text": [
      "\n",
      "  loss 0.0508440480506\n",
      "  err  0.0120389344262\n",
      "  (0:00:12)\n",
      "Epoch 796:"
     ]
    },
    {
     "name": "stderr",
     "output_type": "stream",
     "text": [
      "100%\n"
     ]
    },
    {
     "name": "stdout",
     "output_type": "stream",
     "text": [
      "\n",
      "  loss 0.0495411016981\n",
      "  err  0.0113558743169\n",
      "  (0:00:12)\n",
      "Epoch 797:"
     ]
    },
    {
     "name": "stderr",
     "output_type": "stream",
     "text": [
      "100%\n"
     ]
    },
    {
     "name": "stdout",
     "output_type": "stream",
     "text": [
      "\n",
      "  loss 0.0489243634345\n",
      "  err  0.0112704918033\n",
      "  (0:00:12)\n",
      "Epoch 798:"
     ]
    },
    {
     "name": "stderr",
     "output_type": "stream",
     "text": [
      "100%\n"
     ]
    },
    {
     "name": "stdout",
     "output_type": "stream",
     "text": [
      "\n",
      "  loss 0.0508952564763\n",
      "  err  0.0115906762295\n",
      "  (0:00:12)\n",
      "Epoch 799:"
     ]
    },
    {
     "name": "stderr",
     "output_type": "stream",
     "text": [
      "100%\n"
     ]
    },
    {
     "name": "stdout",
     "output_type": "stream",
     "text": [
      "\n",
      "  loss 0.0501921483216\n",
      "  err  0.0116760587432\n",
      "  (0:00:12)\n",
      "Epoch 800:"
     ]
    },
    {
     "name": "stderr",
     "output_type": "stream",
     "text": [
      "100%\n"
     ]
    },
    {
     "name": "stdout",
     "output_type": "stream",
     "text": [
      "\n",
      "  loss 0.0520041190123\n",
      "  err  0.0127006489071\n",
      "  (0:00:12)\n",
      "Epoch 801:"
     ]
    },
    {
     "name": "stderr",
     "output_type": "stream",
     "text": [
      "100%\n"
     ]
    },
    {
     "name": "stdout",
     "output_type": "stream",
     "text": [
      "\n",
      "  loss 0.0496922919534\n",
      "  err  0.011974897541\n",
      "  (0:00:12)\n",
      "Epoch 802:"
     ]
    },
    {
     "name": "stderr",
     "output_type": "stream",
     "text": [
      "100%\n"
     ]
    },
    {
     "name": "stdout",
     "output_type": "stream",
     "text": [
      "\n",
      "  loss 0.0512084310857\n",
      "  err  0.0121456625683\n",
      "  (0:00:12)\n",
      "Epoch 803:"
     ]
    },
    {
     "name": "stderr",
     "output_type": "stream",
     "text": [
      "100%\n"
     ]
    },
    {
     "name": "stdout",
     "output_type": "stream",
     "text": [
      "\n",
      "  loss 0.0505210807333\n",
      "  err  0.0120389344262\n",
      "  (0:00:12)\n",
      "Epoch 804:"
     ]
    },
    {
     "name": "stderr",
     "output_type": "stream",
     "text": [
      "100%\n"
     ]
    },
    {
     "name": "stdout",
     "output_type": "stream",
     "text": [
      "\n",
      "  loss 0.0505267252294\n",
      "  err  0.0119322062842\n",
      "  (0:00:12)\n",
      "Epoch 805:"
     ]
    },
    {
     "name": "stderr",
     "output_type": "stream",
     "text": [
      "100%\n"
     ]
    },
    {
     "name": "stdout",
     "output_type": "stream",
     "text": [
      "\n",
      "  loss 0.050404978007\n",
      "  err  0.0115693306011\n",
      "  (0:00:12)\n",
      "Epoch 806:"
     ]
    },
    {
     "name": "stderr",
     "output_type": "stream",
     "text": [
      "100%\n"
     ]
    },
    {
     "name": "stdout",
     "output_type": "stream",
     "text": [
      "\n",
      "  loss 0.0510058671343\n",
      "  err  0.0119322062842\n",
      "  (0:00:12)\n",
      "Epoch 807:"
     ]
    },
    {
     "name": "stderr",
     "output_type": "stream",
     "text": [
      "100%\n"
     ]
    },
    {
     "name": "stdout",
     "output_type": "stream",
     "text": [
      "\n",
      "  loss 0.052394630736\n",
      "  err  0.0117400956284\n",
      "  (0:00:12)\n",
      "Epoch 808:"
     ]
    },
    {
     "name": "stderr",
     "output_type": "stream",
     "text": [
      "100%\n"
     ]
    },
    {
     "name": "stdout",
     "output_type": "stream",
     "text": [
      "\n",
      "  loss 0.0514188094963\n",
      "  err  0.01171875\n",
      "  (0:00:12)\n",
      "Epoch 809:"
     ]
    },
    {
     "name": "stderr",
     "output_type": "stream",
     "text": [
      "100%\n"
     ]
    },
    {
     "name": "stdout",
     "output_type": "stream",
     "text": [
      "\n",
      "  loss 0.0507988231403\n",
      "  err  0.011974897541\n",
      "  (0:00:12)\n",
      "Epoch 810:"
     ]
    },
    {
     "name": "stderr",
     "output_type": "stream",
     "text": [
      "100%\n"
     ]
    },
    {
     "name": "stdout",
     "output_type": "stream",
     "text": [
      "\n",
      "  loss 0.0486905402523\n",
      "  err  0.0115052937158\n",
      "  (0:00:12)\n",
      "Epoch 811:"
     ]
    },
    {
     "name": "stderr",
     "output_type": "stream",
     "text": [
      "100%\n"
     ]
    },
    {
     "name": "stdout",
     "output_type": "stream",
     "text": [
      "\n",
      "  loss 0.0514803659075\n",
      "  err  0.0123804644809\n",
      "  (0:00:12)\n",
      "Epoch 812:"
     ]
    },
    {
     "name": "stderr",
     "output_type": "stream",
     "text": [
      "100%\n"
     ]
    },
    {
     "name": "stdout",
     "output_type": "stream",
     "text": [
      "\n",
      "  loss 0.0493847168403\n",
      "  err  0.0118895150273\n",
      "  (0:00:12)\n",
      "Epoch 813:"
     ]
    },
    {
     "name": "stderr",
     "output_type": "stream",
     "text": [
      "100%\n"
     ]
    },
    {
     "name": "stdout",
     "output_type": "stream",
     "text": [
      "\n",
      "  loss 0.0485055574402\n",
      "  err  0.0112918374317\n",
      "  (0:00:12)\n",
      "Epoch 814:"
     ]
    },
    {
     "name": "stderr",
     "output_type": "stream",
     "text": [
      "100%\n"
     ]
    },
    {
     "name": "stdout",
     "output_type": "stream",
     "text": [
      "\n",
      "  loss 0.0506335625481\n",
      "  err  0.0119108606557\n",
      "  (0:00:12)\n",
      "Epoch 815:"
     ]
    },
    {
     "name": "stderr",
     "output_type": "stream",
     "text": [
      "100%\n"
     ]
    },
    {
     "name": "stdout",
     "output_type": "stream",
     "text": [
      "\n",
      "  loss 0.050800062118\n",
      "  err  0.0119322062842\n",
      "  (0:00:12)\n",
      "Epoch 816:"
     ]
    },
    {
     "name": "stderr",
     "output_type": "stream",
     "text": [
      "100%\n"
     ]
    },
    {
     "name": "stdout",
     "output_type": "stream",
     "text": [
      "\n",
      "  loss 0.0488600122152\n",
      "  err  0.0112918374317\n",
      "  (0:00:12)\n",
      "Epoch 817:"
     ]
    },
    {
     "name": "stderr",
     "output_type": "stream",
     "text": [
      "100%\n"
     ]
    },
    {
     "name": "stdout",
     "output_type": "stream",
     "text": [
      "\n",
      "  loss 0.0506314623731\n",
      "  err  0.0119108606557\n",
      "  (0:00:12)\n",
      "Epoch 818:"
     ]
    },
    {
     "name": "stderr",
     "output_type": "stream",
     "text": [
      "100%\n"
     ]
    },
    {
     "name": "stdout",
     "output_type": "stream",
     "text": [
      "\n",
      "  loss 0.0516778285516\n",
      "  err  0.0115479849727\n",
      "  (0:00:12)\n",
      "Epoch 819:"
     ]
    },
    {
     "name": "stderr",
     "output_type": "stream",
     "text": [
      "100%\n"
     ]
    },
    {
     "name": "stdout",
     "output_type": "stream",
     "text": [
      "\n",
      "  loss 0.0487951206761\n",
      "  err  0.0111637636612\n",
      "  (0:00:12)\n",
      "Epoch 820:"
     ]
    },
    {
     "name": "stderr",
     "output_type": "stream",
     "text": [
      "100%\n"
     ]
    },
    {
     "name": "stdout",
     "output_type": "stream",
     "text": [
      "\n",
      "  loss 0.0494213312969\n",
      "  err  0.0113772199454\n",
      "  (0:00:12)\n",
      "Epoch 821:"
     ]
    },
    {
     "name": "stderr",
     "output_type": "stream",
     "text": [
      "100%\n"
     ]
    },
    {
     "name": "stdout",
     "output_type": "stream",
     "text": [
      "\n",
      "  loss 0.0515666218586\n",
      "  err  0.012487192623\n",
      "  (0:00:12)\n",
      "Epoch 822:"
     ]
    },
    {
     "name": "stderr",
     "output_type": "stream",
     "text": [
      "100%\n"
     ]
    },
    {
     "name": "stdout",
     "output_type": "stream",
     "text": [
      "\n",
      "  loss 0.0482091772576\n",
      "  err  0.0113131830601\n",
      "  (0:00:12)\n",
      "Epoch 823:"
     ]
    },
    {
     "name": "stderr",
     "output_type": "stream",
     "text": [
      "100%\n"
     ]
    },
    {
     "name": "stdout",
     "output_type": "stream",
     "text": [
      "\n",
      "  loss 0.0497920159562\n",
      "  err  0.0117400956284\n",
      "  (0:00:12)\n",
      "Epoch 824:"
     ]
    },
    {
     "name": "stderr",
     "output_type": "stream",
     "text": [
      "100%\n"
     ]
    },
    {
     "name": "stdout",
     "output_type": "stream",
     "text": [
      "\n",
      "  loss 0.0482130055456\n",
      "  err  0.0108862704918\n",
      "  (0:00:12)\n",
      "Epoch 825:"
     ]
    },
    {
     "name": "stderr",
     "output_type": "stream",
     "text": [
      "100%\n"
     ]
    },
    {
     "name": "stdout",
     "output_type": "stream",
     "text": [
      "\n",
      "  loss 0.0509786604168\n",
      "  err  0.0119108606557\n",
      "  (0:00:12)\n",
      "Epoch 826:"
     ]
    },
    {
     "name": "stderr",
     "output_type": "stream",
     "text": [
      "100%\n"
     ]
    },
    {
     "name": "stdout",
     "output_type": "stream",
     "text": [
      "\n",
      "  loss 0.0505859719442\n",
      "  err  0.0115906762295\n",
      "  (0:00:12)\n",
      "Epoch 827:"
     ]
    },
    {
     "name": "stderr",
     "output_type": "stream",
     "text": [
      "100%\n"
     ]
    },
    {
     "name": "stdout",
     "output_type": "stream",
     "text": [
      "\n",
      "  loss 0.0507456185932\n",
      "  err  0.0116760587432\n",
      "  (0:00:12)\n",
      "Epoch 828:"
     ]
    },
    {
     "name": "stderr",
     "output_type": "stream",
     "text": [
      "100%\n"
     ]
    },
    {
     "name": "stdout",
     "output_type": "stream",
     "text": [
      "\n",
      "  loss 0.0495457933323\n",
      "  err  0.0116547131148\n",
      "  (0:00:12)\n",
      "Epoch 829:"
     ]
    },
    {
     "name": "stderr",
     "output_type": "stream",
     "text": [
      "100%\n"
     ]
    },
    {
     "name": "stdout",
     "output_type": "stream",
     "text": [
      "\n",
      "  loss 0.0491290222077\n",
      "  err  0.0111851092896\n",
      "  (0:00:12)\n",
      "Epoch 830:"
     ]
    },
    {
     "name": "stderr",
     "output_type": "stream",
     "text": [
      "100%\n"
     ]
    },
    {
     "name": "stdout",
     "output_type": "stream",
     "text": [
      "\n",
      "  loss 0.0498125351065\n",
      "  err  0.0116333674863\n",
      "  (0:00:12)\n",
      "Epoch 831:"
     ]
    },
    {
     "name": "stderr",
     "output_type": "stream",
     "text": [
      "100%\n"
     ]
    },
    {
     "name": "stdout",
     "output_type": "stream",
     "text": [
      "\n",
      "  loss 0.0519524026049\n",
      "  err  0.0117400956284\n",
      "  (0:00:13)\n",
      "Epoch 832:"
     ]
    },
    {
     "name": "stderr",
     "output_type": "stream",
     "text": [
      "100%\n"
     ]
    },
    {
     "name": "stdout",
     "output_type": "stream",
     "text": [
      "\n",
      "  loss 0.0510293716607\n",
      "  err  0.0124445013661\n",
      "  (0:00:12)\n",
      "Epoch 833:"
     ]
    },
    {
     "name": "stderr",
     "output_type": "stream",
     "text": [
      "100%\n"
     ]
    },
    {
     "name": "stdout",
     "output_type": "stream",
     "text": [
      "\n",
      "  loss 0.0499267532437\n",
      "  err  0.0117400956284\n",
      "  (0:00:12)\n",
      "Epoch 834:"
     ]
    },
    {
     "name": "stderr",
     "output_type": "stream",
     "text": [
      "100%\n"
     ]
    },
    {
     "name": "stdout",
     "output_type": "stream",
     "text": [
      "\n",
      "  loss 0.0505288892751\n",
      "  err  0.0121670081967\n",
      "  (0:00:13)\n",
      "Epoch 835:"
     ]
    },
    {
     "name": "stderr",
     "output_type": "stream",
     "text": [
      "100%\n"
     ]
    },
    {
     "name": "stdout",
     "output_type": "stream",
     "text": [
      "\n",
      "  loss 0.0482803951603\n",
      "  err  0.0112491461749\n",
      "  (0:00:12)\n",
      "Epoch 836:"
     ]
    },
    {
     "name": "stderr",
     "output_type": "stream",
     "text": [
      "100%\n"
     ]
    },
    {
     "name": "stdout",
     "output_type": "stream",
     "text": [
      "\n",
      "  loss 0.0505963224851\n",
      "  err  0.0115266393443\n",
      "  (0:00:13)\n",
      "Epoch 837:"
     ]
    },
    {
     "name": "stderr",
     "output_type": "stream",
     "text": [
      "100%\n"
     ]
    },
    {
     "name": "stdout",
     "output_type": "stream",
     "text": [
      "\n",
      "  loss 0.0502980490319\n",
      "  err  0.0116760587432\n",
      "  (0:00:12)\n",
      "Epoch 838:"
     ]
    },
    {
     "name": "stderr",
     "output_type": "stream",
     "text": [
      "100%\n"
     ]
    },
    {
     "name": "stdout",
     "output_type": "stream",
     "text": [
      "\n",
      "  loss 0.0492441997879\n",
      "  err  0.0112491461749\n",
      "  (0:00:12)\n",
      "Epoch 839:"
     ]
    },
    {
     "name": "stderr",
     "output_type": "stream",
     "text": [
      "100%\n"
     ]
    },
    {
     "name": "stdout",
     "output_type": "stream",
     "text": [
      "\n",
      "  loss 0.0509210809037\n",
      "  err  0.0123164275956\n",
      "  (0:00:12)\n",
      "Epoch 840:"
     ]
    },
    {
     "name": "stderr",
     "output_type": "stream",
     "text": [
      "100%\n"
     ]
    },
    {
     "name": "stdout",
     "output_type": "stream",
     "text": [
      "\n",
      "  loss 0.0515115752847\n",
      "  err  0.0120389344262\n",
      "  (0:00:12)\n",
      "Epoch 841:"
     ]
    },
    {
     "name": "stderr",
     "output_type": "stream",
     "text": [
      "100%\n"
     ]
    },
    {
     "name": "stdout",
     "output_type": "stream",
     "text": [
      "\n",
      "  loss 0.0503400050694\n",
      "  err  0.0116120218579\n",
      "  (0:00:12)\n",
      "Epoch 842:"
     ]
    },
    {
     "name": "stderr",
     "output_type": "stream",
     "text": [
      "100%\n"
     ]
    },
    {
     "name": "stdout",
     "output_type": "stream",
     "text": [
      "\n",
      "  loss 0.0506105905817\n",
      "  err  0.0121456625683\n",
      "  (0:00:13)\n",
      "Epoch 843:"
     ]
    },
    {
     "name": "stderr",
     "output_type": "stream",
     "text": [
      "100%\n"
     ]
    },
    {
     "name": "stdout",
     "output_type": "stream",
     "text": [
      "\n",
      "  loss 0.0485212640872\n",
      "  err  0.0114839480874\n",
      "  (0:00:12)\n",
      "Epoch 844:"
     ]
    },
    {
     "name": "stderr",
     "output_type": "stream",
     "text": [
      "100%\n"
     ]
    },
    {
     "name": "stdout",
     "output_type": "stream",
     "text": [
      "\n",
      "  loss 0.0494375340157\n",
      "  err  0.0115052937158\n",
      "  (0:00:13)\n",
      "Epoch 845:"
     ]
    },
    {
     "name": "stderr",
     "output_type": "stream",
     "text": [
      "100%\n"
     ]
    },
    {
     "name": "stdout",
     "output_type": "stream",
     "text": [
      "\n",
      "  loss 0.0488792511958\n",
      "  err  0.0113345286885\n",
      "  (0:00:15)\n",
      "Epoch 846:"
     ]
    },
    {
     "name": "stderr",
     "output_type": "stream",
     "text": [
      "100%\n"
     ]
    },
    {
     "name": "stdout",
     "output_type": "stream",
     "text": [
      "\n",
      "  loss 0.0494413882554\n",
      "  err  0.0112278005464\n",
      "  (0:00:14)\n",
      "Epoch 847:"
     ]
    },
    {
     "name": "stderr",
     "output_type": "stream",
     "text": [
      "100%\n"
     ]
    },
    {
     "name": "stdout",
     "output_type": "stream",
     "text": [
      "\n",
      "  loss 0.0494729988945\n",
      "  err  0.0111637636612\n",
      "  (0:00:16)\n",
      "Epoch 848:"
     ]
    },
    {
     "name": "stderr",
     "output_type": "stream",
     "text": [
      "100%\n"
     ]
    },
    {
     "name": "stdout",
     "output_type": "stream",
     "text": [
      "\n",
      "  loss 0.0501600764317\n",
      "  err  0.0111210724044\n",
      "  (0:00:17)\n",
      "Epoch 849:"
     ]
    },
    {
     "name": "stderr",
     "output_type": "stream",
     "text": [
      "100%\n"
     ]
    },
    {
     "name": "stdout",
     "output_type": "stream",
     "text": [
      "\n",
      "  loss 0.0510177038384\n",
      "  err  0.0120389344262\n",
      "  (0:00:16)\n",
      "Epoch 850:"
     ]
    },
    {
     "name": "stderr",
     "output_type": "stream",
     "text": [
      "100%\n"
     ]
    },
    {
     "name": "stdout",
     "output_type": "stream",
     "text": [
      "\n",
      "  loss 0.0502636713686\n",
      "  err  0.0116120218579\n",
      "  (0:00:20)\n",
      "Epoch 851:"
     ]
    },
    {
     "name": "stderr",
     "output_type": "stream",
     "text": [
      "100%\n"
     ]
    },
    {
     "name": "stdout",
     "output_type": "stream",
     "text": [
      "\n",
      "  loss 0.0505307607564\n",
      "  err  0.0117827868852\n",
      "  (0:00:13)\n",
      "Epoch 852:"
     ]
    },
    {
     "name": "stderr",
     "output_type": "stream",
     "text": [
      "100%\n"
     ]
    },
    {
     "name": "stdout",
     "output_type": "stream",
     "text": [
      "\n",
      "  loss 0.0516889313728\n",
      "  err  0.0115479849727\n",
      "  (0:00:17)\n",
      "Epoch 853:"
     ]
    },
    {
     "name": "stderr",
     "output_type": "stream",
     "text": [
      "100%\n"
     ]
    },
    {
     "name": "stdout",
     "output_type": "stream",
     "text": [
      "\n",
      "  loss 0.051324323863\n",
      "  err  0.0120175887978\n",
      "  (0:00:16)\n",
      "Epoch 854:"
     ]
    },
    {
     "name": "stderr",
     "output_type": "stream",
     "text": [
      "100%\n"
     ]
    },
    {
     "name": "stdout",
     "output_type": "stream",
     "text": [
      "\n",
      "  loss 0.0478319472371\n",
      "  err  0.0111210724044\n",
      "  (0:00:13)\n",
      "Epoch 855:"
     ]
    },
    {
     "name": "stderr",
     "output_type": "stream",
     "text": [
      "100%\n"
     ]
    },
    {
     "name": "stdout",
     "output_type": "stream",
     "text": [
      "\n",
      "  loss 0.0492836627817\n",
      "  err  0.0121456625683\n",
      "  (0:00:14)\n",
      "Epoch 856:"
     ]
    },
    {
     "name": "stderr",
     "output_type": "stream",
     "text": [
      "100%\n"
     ]
    },
    {
     "name": "stdout",
     "output_type": "stream",
     "text": [
      "\n",
      "  loss 0.0501986712032\n",
      "  err  0.0116974043716\n",
      "  (0:00:14)\n",
      "Epoch 857:"
     ]
    },
    {
     "name": "stderr",
     "output_type": "stream",
     "text": [
      "100%\n"
     ]
    },
    {
     "name": "stdout",
     "output_type": "stream",
     "text": [
      "\n",
      "  loss 0.0483142072513\n",
      "  err  0.0113345286885\n",
      "  (0:00:14)\n",
      "Epoch 858:"
     ]
    },
    {
     "name": "stderr",
     "output_type": "stream",
     "text": [
      "100%\n"
     ]
    },
    {
     "name": "stdout",
     "output_type": "stream",
     "text": [
      "\n",
      "  loss 0.0490968543845\n",
      "  err  0.0106941598361\n",
      "  (0:00:17)\n",
      "Epoch 859:"
     ]
    },
    {
     "name": "stderr",
     "output_type": "stream",
     "text": [
      "100%\n"
     ]
    },
    {
     "name": "stdout",
     "output_type": "stream",
     "text": [
      "\n",
      "  loss 0.0499297565122\n",
      "  err  0.0114412568306\n",
      "  (0:00:13)\n",
      "Epoch 860:"
     ]
    },
    {
     "name": "stderr",
     "output_type": "stream",
     "text": [
      "100%\n"
     ]
    },
    {
     "name": "stdout",
     "output_type": "stream",
     "text": [
      "\n",
      "  loss 0.0520293975008\n",
      "  err  0.0116120218579\n",
      "  (0:00:14)\n",
      "Epoch 861:"
     ]
    },
    {
     "name": "stderr",
     "output_type": "stream",
     "text": [
      "100%\n"
     ]
    },
    {
     "name": "stdout",
     "output_type": "stream",
     "text": [
      "\n",
      "  loss 0.0529431084112\n",
      "  err  0.0124231557377\n",
      "  (0:00:17)\n",
      "Epoch 862:"
     ]
    },
    {
     "name": "stderr",
     "output_type": "stream",
     "text": [
      "100%\n"
     ]
    },
    {
     "name": "stdout",
     "output_type": "stream",
     "text": [
      "\n",
      "  loss 0.0514529555822\n",
      "  err  0.0124658469945\n",
      "  (0:00:15)\n",
      "Epoch 863:"
     ]
    },
    {
     "name": "stderr",
     "output_type": "stream",
     "text": [
      "100%\n"
     ]
    },
    {
     "name": "stdout",
     "output_type": "stream",
     "text": [
      "\n",
      "  loss 0.051480131379\n",
      "  err  0.012337773224\n",
      "  (0:00:13)\n",
      "Epoch 864:"
     ]
    },
    {
     "name": "stderr",
     "output_type": "stream",
     "text": [
      "100%\n"
     ]
    },
    {
     "name": "stdout",
     "output_type": "stream",
     "text": [
      "\n",
      "  loss 0.0476537931143\n",
      "  err  0.0110783811475\n",
      "  (0:00:14)\n",
      "Epoch 865:"
     ]
    },
    {
     "name": "stderr",
     "output_type": "stream",
     "text": [
      "100%\n"
     ]
    },
    {
     "name": "stdout",
     "output_type": "stream",
     "text": [
      "\n",
      "  loss 0.0498446072216\n",
      "  err  0.0121243169399\n",
      "  (0:00:13)\n",
      "Epoch 866:"
     ]
    },
    {
     "name": "stderr",
     "output_type": "stream",
     "text": [
      "100%\n"
     ]
    },
    {
     "name": "stdout",
     "output_type": "stream",
     "text": [
      "\n",
      "  loss 0.0505259117904\n",
      "  err  0.0118895150273\n",
      "  (0:00:12)\n",
      "Epoch 867:"
     ]
    },
    {
     "name": "stderr",
     "output_type": "stream",
     "text": [
      "100%\n"
     ]
    },
    {
     "name": "stdout",
     "output_type": "stream",
     "text": [
      "\n",
      "  loss 0.0508793889598\n",
      "  err  0.0115693306011\n",
      "  (0:00:12)\n",
      "Epoch 868:"
     ]
    },
    {
     "name": "stderr",
     "output_type": "stream",
     "text": [
      "100%\n"
     ]
    },
    {
     "name": "stdout",
     "output_type": "stream",
     "text": [
      "\n",
      "  loss 0.0492008585684\n",
      "  err  0.0111637636612\n",
      "  (0:00:12)\n",
      "Epoch 869:"
     ]
    },
    {
     "name": "stderr",
     "output_type": "stream",
     "text": [
      "100%\n"
     ]
    },
    {
     "name": "stdout",
     "output_type": "stream",
     "text": [
      "\n",
      "  loss 0.0515154115614\n",
      "  err  0.0127646857923\n",
      "  (0:00:15)\n",
      "Epoch 870:"
     ]
    },
    {
     "name": "stderr",
     "output_type": "stream",
     "text": [
      "100%\n"
     ]
    },
    {
     "name": "stdout",
     "output_type": "stream",
     "text": [
      "\n",
      "  loss 0.0503609229879\n",
      "  err  0.01171875\n",
      "  (0:00:13)\n",
      "Epoch 871:"
     ]
    },
    {
     "name": "stderr",
     "output_type": "stream",
     "text": [
      "100%\n"
     ]
    },
    {
     "name": "stdout",
     "output_type": "stream",
     "text": [
      "\n",
      "  loss 0.0502718924557\n",
      "  err  0.0118468237705\n",
      "  (0:00:13)\n",
      "Epoch 872:"
     ]
    },
    {
     "name": "stderr",
     "output_type": "stream",
     "text": [
      "100%\n"
     ]
    },
    {
     "name": "stdout",
     "output_type": "stream",
     "text": [
      "\n",
      "  loss 0.0492853311118\n",
      "  err  0.0109929986339\n",
      "  (0:00:13)\n",
      "Epoch 873:"
     ]
    },
    {
     "name": "stderr",
     "output_type": "stream",
     "text": [
      "100%\n"
     ]
    },
    {
     "name": "stdout",
     "output_type": "stream",
     "text": [
      "\n",
      "  loss 0.0491151630362\n",
      "  err  0.0113558743169\n",
      "  (0:00:13)\n",
      "Epoch 874:"
     ]
    },
    {
     "name": "stderr",
     "output_type": "stream",
     "text": [
      "100%\n"
     ]
    },
    {
     "name": "stdout",
     "output_type": "stream",
     "text": [
      "\n",
      "  loss 0.0500493553445\n",
      "  err  0.0116974043716\n",
      "  (0:00:12)\n",
      "Epoch 875:"
     ]
    },
    {
     "name": "stderr",
     "output_type": "stream",
     "text": [
      "100%\n"
     ]
    },
    {
     "name": "stdout",
     "output_type": "stream",
     "text": [
      "\n",
      "  loss 0.0492996277906\n",
      "  err  0.0113985655738\n",
      "  (0:00:13)\n",
      "Epoch 876:"
     ]
    },
    {
     "name": "stderr",
     "output_type": "stream",
     "text": [
      "100%\n"
     ]
    },
    {
     "name": "stdout",
     "output_type": "stream",
     "text": [
      "\n",
      "  loss 0.0510550060391\n",
      "  err  0.0125512295082\n",
      "  (0:00:12)\n",
      "Epoch 877:"
     ]
    },
    {
     "name": "stderr",
     "output_type": "stream",
     "text": [
      "100%\n"
     ]
    },
    {
     "name": "stdout",
     "output_type": "stream",
     "text": [
      "\n",
      "  loss 0.0485666253015\n",
      "  err  0.0108862704918\n",
      "  (0:00:14)\n",
      "Epoch 878:"
     ]
    },
    {
     "name": "stderr",
     "output_type": "stream",
     "text": [
      "100%\n"
     ]
    },
    {
     "name": "stdout",
     "output_type": "stream",
     "text": [
      "\n",
      "  loss 0.0492573699525\n",
      "  err  0.0119108606557\n",
      "  (0:00:14)\n",
      "Epoch 879:"
     ]
    },
    {
     "name": "stderr",
     "output_type": "stream",
     "text": [
      "100%\n"
     ]
    },
    {
     "name": "stdout",
     "output_type": "stream",
     "text": [
      "\n",
      "  loss 0.0483583739839\n",
      "  err  0.0112491461749\n",
      "  (0:00:13)\n",
      "Epoch 880:"
     ]
    },
    {
     "name": "stderr",
     "output_type": "stream",
     "text": [
      "100%\n"
     ]
    },
    {
     "name": "stdout",
     "output_type": "stream",
     "text": [
      "\n",
      "  loss 0.0504837539391\n",
      "  err  0.0117614412568\n",
      "  (0:00:13)\n",
      "Epoch 881:"
     ]
    },
    {
     "name": "stderr",
     "output_type": "stream",
     "text": [
      "100%\n"
     ]
    },
    {
     "name": "stdout",
     "output_type": "stream",
     "text": [
      "\n",
      "  loss 0.0501850802659\n",
      "  err  0.011206454918\n",
      "  (0:00:13)\n",
      "Epoch 882:"
     ]
    },
    {
     "name": "stderr",
     "output_type": "stream",
     "text": [
      "100%\n"
     ]
    },
    {
     "name": "stdout",
     "output_type": "stream",
     "text": [
      "\n",
      "  loss 0.0494818198304\n",
      "  err  0.0114412568306\n",
      "  (0:00:13)\n",
      "Epoch 883:"
     ]
    },
    {
     "name": "stderr",
     "output_type": "stream",
     "text": [
      "100%\n"
     ]
    },
    {
     "name": "stdout",
     "output_type": "stream",
     "text": [
      "\n",
      "  loss 0.0504887308009\n",
      "  err  0.0118254781421\n",
      "  (0:00:13)\n",
      "Epoch 884:"
     ]
    },
    {
     "name": "stderr",
     "output_type": "stream",
     "text": [
      "100%\n"
     ]
    },
    {
     "name": "stdout",
     "output_type": "stream",
     "text": [
      "\n",
      "  loss 0.0485909333913\n",
      "  err  0.0113985655738\n",
      "  (0:00:13)\n",
      "Epoch 885:"
     ]
    },
    {
     "name": "stderr",
     "output_type": "stream",
     "text": [
      "100%\n"
     ]
    },
    {
     "name": "stdout",
     "output_type": "stream",
     "text": [
      "\n",
      "  loss 0.0506452381639\n",
      "  err  0.0118681693989\n",
      "  (0:00:13)\n",
      "Epoch 886:"
     ]
    },
    {
     "name": "stderr",
     "output_type": "stream",
     "text": [
      "100%\n"
     ]
    },
    {
     "name": "stdout",
     "output_type": "stream",
     "text": [
      "\n",
      "  loss 0.0484453620627\n",
      "  err  0.0107155054645\n",
      "  (0:00:13)\n",
      "Epoch 887:"
     ]
    },
    {
     "name": "stderr",
     "output_type": "stream",
     "text": [
      "100%\n"
     ]
    },
    {
     "name": "stdout",
     "output_type": "stream",
     "text": [
      "\n",
      "  loss 0.0513706522723\n",
      "  err  0.0123804644809\n",
      "  (0:00:13)\n",
      "Epoch 888:"
     ]
    },
    {
     "name": "stderr",
     "output_type": "stream",
     "text": [
      "100%\n"
     ]
    },
    {
     "name": "stdout",
     "output_type": "stream",
     "text": [
      "\n",
      "  loss 0.0494423320955\n",
      "  err  0.0109929986339\n",
      "  (0:00:15)\n",
      "Epoch 889:"
     ]
    },
    {
     "name": "stderr",
     "output_type": "stream",
     "text": [
      "100%\n"
     ]
    },
    {
     "name": "stdout",
     "output_type": "stream",
     "text": [
      "\n",
      "  loss 0.0495837164274\n",
      "  err  0.0121456625683\n",
      "  (0:00:13)\n",
      "Epoch 890:"
     ]
    },
    {
     "name": "stderr",
     "output_type": "stream",
     "text": [
      "100%\n"
     ]
    },
    {
     "name": "stdout",
     "output_type": "stream",
     "text": [
      "\n",
      "  loss 0.048358806643\n",
      "  err  0.01171875\n",
      "  (0:00:15)\n",
      "Epoch 891:"
     ]
    },
    {
     "name": "stderr",
     "output_type": "stream",
     "text": [
      "100%\n"
     ]
    },
    {
     "name": "stdout",
     "output_type": "stream",
     "text": [
      "\n",
      "  loss 0.052361285599\n",
      "  err  0.0119962431694\n",
      "  (0:00:14)\n",
      "Epoch 892:"
     ]
    },
    {
     "name": "stderr",
     "output_type": "stream",
     "text": [
      "100%\n"
     ]
    },
    {
     "name": "stdout",
     "output_type": "stream",
     "text": [
      "\n",
      "  loss 0.0498165418947\n",
      "  err  0.0122096994536\n",
      "  (0:00:14)\n",
      "Epoch 893:"
     ]
    },
    {
     "name": "stderr",
     "output_type": "stream",
     "text": [
      "100%\n"
     ]
    },
    {
     "name": "stdout",
     "output_type": "stream",
     "text": [
      "\n",
      "  loss 0.0481928075101\n",
      "  err  0.0108862704918\n",
      "  (0:00:15)\n",
      "Epoch 894:"
     ]
    },
    {
     "name": "stderr",
     "output_type": "stream",
     "text": [
      "100%\n"
     ]
    },
    {
     "name": "stdout",
     "output_type": "stream",
     "text": [
      "\n",
      "  loss 0.0502005812287\n",
      "  err  0.0126793032787\n",
      "  (0:00:13)\n",
      "Epoch 895:"
     ]
    },
    {
     "name": "stderr",
     "output_type": "stream",
     "text": [
      "100%\n"
     ]
    },
    {
     "name": "stdout",
     "output_type": "stream",
     "text": [
      "\n",
      "  loss 0.049636474752\n",
      "  err  0.0114199112022\n",
      "  (0:00:13)\n",
      "Epoch 896:"
     ]
    },
    {
     "name": "stderr",
     "output_type": "stream",
     "text": [
      "100%\n"
     ]
    },
    {
     "name": "stdout",
     "output_type": "stream",
     "text": [
      "\n",
      "  loss 0.0489024829859\n",
      "  err  0.011099726776\n",
      "  (0:00:14)\n",
      "Epoch 897:"
     ]
    },
    {
     "name": "stderr",
     "output_type": "stream",
     "text": [
      "100%\n"
     ]
    },
    {
     "name": "stdout",
     "output_type": "stream",
     "text": [
      "\n",
      "  loss 0.0504595856354\n",
      "  err  0.0118895150273\n",
      "  (0:00:13)\n",
      "Epoch 898:"
     ]
    },
    {
     "name": "stderr",
     "output_type": "stream",
     "text": [
      "100%\n"
     ]
    },
    {
     "name": "stdout",
     "output_type": "stream",
     "text": [
      "\n",
      "  loss 0.0498579670802\n",
      "  err  0.011462602459\n",
      "  (0:00:14)\n",
      "Epoch 899:"
     ]
    },
    {
     "name": "stderr",
     "output_type": "stream",
     "text": [
      "100%\n"
     ]
    },
    {
     "name": "stdout",
     "output_type": "stream",
     "text": [
      "\n",
      "  loss 0.0505253778073\n",
      "  err  0.0121243169399\n",
      "  (0:00:15)\n",
      "Epoch 900:"
     ]
    },
    {
     "name": "stderr",
     "output_type": "stream",
     "text": [
      "100%\n"
     ]
    },
    {
     "name": "stdout",
     "output_type": "stream",
     "text": [
      "\n",
      "  loss 0.0497077308109\n",
      "  err  0.0118041325137\n",
      "  (0:00:16)\n",
      "Epoch 901:"
     ]
    },
    {
     "name": "stderr",
     "output_type": "stream",
     "text": [
      "100%\n"
     ]
    },
    {
     "name": "stdout",
     "output_type": "stream",
     "text": [
      "\n",
      "  loss 0.0514039432031\n",
      "  err  0.0119962431694\n",
      "  (0:00:14)\n",
      "Epoch 902:"
     ]
    },
    {
     "name": "stderr",
     "output_type": "stream",
     "text": [
      "100%\n"
     ]
    },
    {
     "name": "stdout",
     "output_type": "stream",
     "text": [
      "\n",
      "  loss 0.0484767814855\n",
      "  err  0.0111424180328\n",
      "  (0:00:14)\n",
      "Epoch 903:"
     ]
    },
    {
     "name": "stderr",
     "output_type": "stream",
     "text": [
      "100%\n"
     ]
    },
    {
     "name": "stdout",
     "output_type": "stream",
     "text": [
      "\n",
      "  loss 0.0516901564405\n",
      "  err  0.0118468237705\n",
      "  (0:00:13)\n",
      "Epoch 904:"
     ]
    },
    {
     "name": "stderr",
     "output_type": "stream",
     "text": [
      "100%\n"
     ]
    },
    {
     "name": "stdout",
     "output_type": "stream",
     "text": [
      "\n",
      "  loss 0.0506403418474\n",
      "  err  0.0117614412568\n",
      "  (0:00:13)\n",
      "Epoch 905:"
     ]
    },
    {
     "name": "stderr",
     "output_type": "stream",
     "text": [
      "100%\n"
     ]
    },
    {
     "name": "stdout",
     "output_type": "stream",
     "text": [
      "\n",
      "  loss 0.0504239488424\n",
      "  err  0.0126366120219\n",
      "  (0:00:13)\n",
      "Epoch 906:"
     ]
    },
    {
     "name": "stderr",
     "output_type": "stream",
     "text": [
      "100%\n"
     ]
    },
    {
     "name": "stdout",
     "output_type": "stream",
     "text": [
      "\n",
      "  loss 0.050584013521\n",
      "  err  0.0124231557377\n",
      "  (0:00:13)\n",
      "Epoch 907:"
     ]
    },
    {
     "name": "stderr",
     "output_type": "stream",
     "text": [
      "100%\n"
     ]
    },
    {
     "name": "stdout",
     "output_type": "stream",
     "text": [
      "\n",
      "  loss 0.0484400827074\n",
      "  err  0.0113131830601\n",
      "  (0:00:13)\n",
      "Epoch 908:"
     ]
    },
    {
     "name": "stderr",
     "output_type": "stream",
     "text": [
      "100%\n"
     ]
    },
    {
     "name": "stdout",
     "output_type": "stream",
     "text": [
      "\n",
      "  loss 0.0503055081153\n",
      "  err  0.0116760587432\n",
      "  (0:00:13)\n",
      "Epoch 909:"
     ]
    },
    {
     "name": "stderr",
     "output_type": "stream",
     "text": [
      "100%\n"
     ]
    },
    {
     "name": "stdout",
     "output_type": "stream",
     "text": [
      "\n",
      "  loss 0.0512138071147\n",
      "  err  0.0120175887978\n",
      "  (0:00:13)\n",
      "Epoch 910:"
     ]
    },
    {
     "name": "stderr",
     "output_type": "stream",
     "text": [
      "100%\n"
     ]
    },
    {
     "name": "stdout",
     "output_type": "stream",
     "text": [
      "\n",
      "  loss 0.0496534894944\n",
      "  err  0.0115479849727\n",
      "  (0:00:13)\n",
      "Epoch 911:"
     ]
    },
    {
     "name": "stderr",
     "output_type": "stream",
     "text": [
      "100%\n"
     ]
    },
    {
     "name": "stdout",
     "output_type": "stream",
     "text": [
      "\n",
      "  loss 0.0477355024548\n",
      "  err  0.0110356898907\n",
      "  (0:00:13)\n",
      "Epoch 912:"
     ]
    },
    {
     "name": "stderr",
     "output_type": "stream",
     "text": [
      "100%\n"
     ]
    },
    {
     "name": "stdout",
     "output_type": "stream",
     "text": [
      "\n",
      "  loss 0.0486710193819\n",
      "  err  0.0110570355191\n",
      "  (0:00:13)\n",
      "Epoch 913:"
     ]
    },
    {
     "name": "stderr",
     "output_type": "stream",
     "text": [
      "100%\n"
     ]
    },
    {
     "name": "stdout",
     "output_type": "stream",
     "text": [
      "\n",
      "  loss 0.0515903902986\n",
      "  err  0.011974897541\n",
      "  (0:00:13)\n",
      "Epoch 914:"
     ]
    },
    {
     "name": "stderr",
     "output_type": "stream",
     "text": [
      "100%\n"
     ]
    },
    {
     "name": "stdout",
     "output_type": "stream",
     "text": [
      "\n",
      "  loss 0.0496888397213\n",
      "  err  0.0115479849727\n",
      "  (0:00:13)\n",
      "Epoch 915:"
     ]
    },
    {
     "name": "stderr",
     "output_type": "stream",
     "text": [
      "100%\n"
     ]
    },
    {
     "name": "stdout",
     "output_type": "stream",
     "text": [
      "\n",
      "  loss 0.0499282773162\n",
      "  err  0.0118895150273\n",
      "  (0:00:13)\n",
      "Epoch 916:"
     ]
    },
    {
     "name": "stderr",
     "output_type": "stream",
     "text": [
      "100%\n"
     ]
    },
    {
     "name": "stdout",
     "output_type": "stream",
     "text": [
      "\n",
      "  loss 0.0486779912188\n",
      "  err  0.0110570355191\n",
      "  (0:00:13)\n",
      "Epoch 917:"
     ]
    },
    {
     "name": "stderr",
     "output_type": "stream",
     "text": [
      "100%\n"
     ]
    },
    {
     "name": "stdout",
     "output_type": "stream",
     "text": [
      "\n",
      "  loss 0.0495648134355\n",
      "  err  0.0115693306011\n",
      "  (0:00:13)\n",
      "Epoch 918:"
     ]
    },
    {
     "name": "stderr",
     "output_type": "stream",
     "text": [
      "100%\n"
     ]
    },
    {
     "name": "stdout",
     "output_type": "stream",
     "text": [
      "\n",
      "  loss 0.0506117086752\n",
      "  err  0.0120175887978\n",
      "  (0:00:13)\n",
      "Epoch 919:"
     ]
    },
    {
     "name": "stderr",
     "output_type": "stream",
     "text": [
      "100%\n"
     ]
    },
    {
     "name": "stdout",
     "output_type": "stream",
     "text": [
      "\n",
      "  loss 0.0517506393785\n",
      "  err  0.0116974043716\n",
      "  (0:00:13)\n",
      "Epoch 920:"
     ]
    },
    {
     "name": "stderr",
     "output_type": "stream",
     "text": [
      "100%\n"
     ]
    },
    {
     "name": "stdout",
     "output_type": "stream",
     "text": [
      "\n",
      "  loss 0.0503296177717\n",
      "  err  0.011974897541\n",
      "  (0:00:13)\n",
      "Epoch 921:"
     ]
    },
    {
     "name": "stderr",
     "output_type": "stream",
     "text": [
      "100%\n"
     ]
    },
    {
     "name": "stdout",
     "output_type": "stream",
     "text": [
      "\n",
      "  loss 0.0506727954467\n",
      "  err  0.0116760587432\n",
      "  (0:00:13)\n",
      "Epoch 922:"
     ]
    },
    {
     "name": "stderr",
     "output_type": "stream",
     "text": [
      "100%\n"
     ]
    },
    {
     "name": "stdout",
     "output_type": "stream",
     "text": [
      "\n",
      "  loss 0.0500783477916\n",
      "  err  0.0118681693989\n",
      "  (0:00:13)\n",
      "Epoch 923:"
     ]
    },
    {
     "name": "stderr",
     "output_type": "stream",
     "text": [
      "100%\n"
     ]
    },
    {
     "name": "stdout",
     "output_type": "stream",
     "text": [
      "\n",
      "  loss 0.0482787937766\n",
      "  err  0.0106728142077\n",
      "  (0:00:13)\n",
      "Epoch 924:"
     ]
    },
    {
     "name": "stderr",
     "output_type": "stream",
     "text": [
      "100%\n"
     ]
    },
    {
     "name": "stdout",
     "output_type": "stream",
     "text": [
      "\n",
      "  loss 0.0513233678076\n",
      "  err  0.0118468237705\n",
      "  (0:00:13)\n",
      "Epoch 925:"
     ]
    },
    {
     "name": "stderr",
     "output_type": "stream",
     "text": [
      "100%\n"
     ]
    },
    {
     "name": "stdout",
     "output_type": "stream",
     "text": [
      "\n",
      "  loss 0.0508710110021\n",
      "  err  0.0119322062842\n",
      "  (0:00:14)\n",
      "Epoch 926:"
     ]
    },
    {
     "name": "stderr",
     "output_type": "stream",
     "text": [
      "100%\n"
     ]
    },
    {
     "name": "stdout",
     "output_type": "stream",
     "text": [
      "\n",
      "  loss 0.0501912750954\n",
      "  err  0.0118681693989\n",
      "  (0:00:15)\n",
      "Epoch 927:"
     ]
    },
    {
     "name": "stderr",
     "output_type": "stream",
     "text": [
      "100%\n"
     ]
    },
    {
     "name": "stdout",
     "output_type": "stream",
     "text": [
      "\n",
      "  loss 0.0499990018463\n",
      "  err  0.011462602459\n",
      "  (0:00:14)\n",
      "Epoch 928:"
     ]
    },
    {
     "name": "stderr",
     "output_type": "stream",
     "text": [
      "100%\n"
     ]
    },
    {
     "name": "stdout",
     "output_type": "stream",
     "text": [
      "\n",
      "  loss 0.0496796824113\n",
      "  err  0.0112918374317\n",
      "  (0:00:14)\n",
      "Epoch 929:"
     ]
    },
    {
     "name": "stderr",
     "output_type": "stream",
     "text": [
      "100%\n"
     ]
    },
    {
     "name": "stdout",
     "output_type": "stream",
     "text": [
      "\n",
      "  loss 0.0515048508596\n",
      "  err  0.0122737363388\n",
      "  (0:00:13)\n",
      "Epoch 930:"
     ]
    },
    {
     "name": "stderr",
     "output_type": "stream",
     "text": [
      "100%\n"
     ]
    },
    {
     "name": "stdout",
     "output_type": "stream",
     "text": [
      "\n",
      "  loss 0.0489638029194\n",
      "  err  0.011099726776\n",
      "  (0:00:18)\n",
      "Epoch 931:"
     ]
    },
    {
     "name": "stderr",
     "output_type": "stream",
     "text": [
      "100%\n"
     ]
    },
    {
     "name": "stdout",
     "output_type": "stream",
     "text": [
      "\n",
      "  loss 0.0506544871017\n",
      "  err  0.0116974043716\n",
      "  (0:00:21)\n",
      "Epoch 932:"
     ]
    },
    {
     "name": "stderr",
     "output_type": "stream",
     "text": [
      "100%\n"
     ]
    },
    {
     "name": "stdout",
     "output_type": "stream",
     "text": [
      "\n",
      "  loss 0.0501916362571\n",
      "  err  0.0117400956284\n",
      "  (0:00:16)\n",
      "Epoch 933:"
     ]
    },
    {
     "name": "stderr",
     "output_type": "stream",
     "text": [
      "100%\n"
     ]
    },
    {
     "name": "stdout",
     "output_type": "stream",
     "text": [
      "\n",
      "  loss 0.0520406895778\n",
      "  err  0.012231045082\n",
      "  (0:00:16)\n",
      "Epoch 934:"
     ]
    },
    {
     "name": "stderr",
     "output_type": "stream",
     "text": [
      "100%\n"
     ]
    },
    {
     "name": "stdout",
     "output_type": "stream",
     "text": [
      "\n",
      "  loss 0.0492596411391\n",
      "  err  0.0113772199454\n",
      "  (0:00:13)\n",
      "Epoch 935:"
     ]
    },
    {
     "name": "stderr",
     "output_type": "stream",
     "text": [
      "100%\n"
     ]
    },
    {
     "name": "stdout",
     "output_type": "stream",
     "text": [
      "\n",
      "  loss 0.0487378819717\n",
      "  err  0.0106301229508\n",
      "  (0:00:13)\n",
      "Epoch 936:"
     ]
    },
    {
     "name": "stderr",
     "output_type": "stream",
     "text": [
      "100%\n"
     ]
    },
    {
     "name": "stdout",
     "output_type": "stream",
     "text": [
      "\n",
      "  loss 0.0520326556025\n",
      "  err  0.0123591188525\n",
      "  (0:00:14)\n",
      "Epoch 937:"
     ]
    },
    {
     "name": "stderr",
     "output_type": "stream",
     "text": [
      "100%\n"
     ]
    },
    {
     "name": "stdout",
     "output_type": "stream",
     "text": [
      "\n",
      "  loss 0.0509003814452\n",
      "  err  0.0118041325137\n",
      "  (0:00:13)\n",
      "Epoch 938:"
     ]
    },
    {
     "name": "stderr",
     "output_type": "stream",
     "text": [
      "100%\n"
     ]
    },
    {
     "name": "stdout",
     "output_type": "stream",
     "text": [
      "\n",
      "  loss 0.0528931171364\n",
      "  err  0.0122523907104\n",
      "  (0:00:13)\n",
      "Epoch 939:"
     ]
    },
    {
     "name": "stderr",
     "output_type": "stream",
     "text": [
      "100%\n"
     ]
    },
    {
     "name": "stdout",
     "output_type": "stream",
     "text": [
      "\n",
      "  loss 0.0529561976494\n",
      "  err  0.0120175887978\n",
      "  (0:00:13)\n",
      "Epoch 940:"
     ]
    },
    {
     "name": "stderr",
     "output_type": "stream",
     "text": [
      "100%\n"
     ]
    },
    {
     "name": "stdout",
     "output_type": "stream",
     "text": [
      "\n",
      "  loss 0.0488930415512\n",
      "  err  0.0116547131148\n",
      "  (0:00:13)\n",
      "Epoch 941:"
     ]
    },
    {
     "name": "stderr",
     "output_type": "stream",
     "text": [
      "100%\n"
     ]
    },
    {
     "name": "stdout",
     "output_type": "stream",
     "text": [
      "\n",
      "  loss 0.0506149959105\n",
      "  err  0.0115479849727\n",
      "  (0:00:14)\n",
      "Epoch 942:"
     ]
    },
    {
     "name": "stderr",
     "output_type": "stream",
     "text": [
      "100%\n"
     ]
    },
    {
     "name": "stdout",
     "output_type": "stream",
     "text": [
      "\n",
      "  loss 0.0479803629197\n",
      "  err  0.0110356898907\n",
      "  (0:00:14)\n",
      "Epoch 943:"
     ]
    },
    {
     "name": "stderr",
     "output_type": "stream",
     "text": [
      "100%\n"
     ]
    },
    {
     "name": "stdout",
     "output_type": "stream",
     "text": [
      "\n",
      "  loss 0.0501608879667\n",
      "  err  0.01171875\n",
      "  (0:00:13)\n",
      "Epoch 944:"
     ]
    },
    {
     "name": "stderr",
     "output_type": "stream",
     "text": [
      "100%\n"
     ]
    },
    {
     "name": "stdout",
     "output_type": "stream",
     "text": [
      "\n",
      "  loss 0.0479011872034\n",
      "  err  0.0111210724044\n",
      "  (0:00:15)\n",
      "Epoch 945:"
     ]
    },
    {
     "name": "stderr",
     "output_type": "stream",
     "text": [
      "100%\n"
     ]
    },
    {
     "name": "stdout",
     "output_type": "stream",
     "text": [
      "\n",
      "  loss 0.0526663968244\n",
      "  err  0.0122950819672\n",
      "  (0:00:10)\n",
      "Epoch 946:"
     ]
    },
    {
     "name": "stderr",
     "output_type": "stream",
     "text": [
      "100%\n"
     ]
    },
    {
     "name": "stdout",
     "output_type": "stream",
     "text": [
      "\n",
      "  loss 0.0498982068988\n",
      "  err  0.0116333674863\n",
      "  (0:00:10)\n",
      "Epoch 947:"
     ]
    },
    {
     "name": "stderr",
     "output_type": "stream",
     "text": [
      "100%\n"
     ]
    },
    {
     "name": "stdout",
     "output_type": "stream",
     "text": [
      "\n",
      "  loss 0.0504646545004\n",
      "  err  0.0121883538251\n",
      "  (0:00:10)\n",
      "Epoch 948:"
     ]
    },
    {
     "name": "stderr",
     "output_type": "stream",
     "text": [
      "100%\n"
     ]
    },
    {
     "name": "stdout",
     "output_type": "stream",
     "text": [
      "\n",
      "  loss 0.0492840541846\n",
      "  err  0.0113345286885\n",
      "  (0:00:10)\n",
      "Epoch 949:"
     ]
    },
    {
     "name": "stderr",
     "output_type": "stream",
     "text": [
      "100%\n"
     ]
    },
    {
     "name": "stdout",
     "output_type": "stream",
     "text": [
      "\n",
      "  loss 0.0514308953597\n",
      "  err  0.0116333674863\n",
      "  (0:00:10)\n",
      "Epoch 950:"
     ]
    },
    {
     "name": "stderr",
     "output_type": "stream",
     "text": [
      "100%\n"
     ]
    },
    {
     "name": "stdout",
     "output_type": "stream",
     "text": [
      "\n",
      "  loss 0.0509538842127\n",
      "  err  0.0118254781421\n",
      "  (0:00:10)\n",
      "Epoch 951:"
     ]
    },
    {
     "name": "stderr",
     "output_type": "stream",
     "text": [
      "100%\n"
     ]
    },
    {
     "name": "stdout",
     "output_type": "stream",
     "text": [
      "\n",
      "  loss 0.0510072157568\n",
      "  err  0.01171875\n",
      "  (0:00:09)\n",
      "Epoch 952:"
     ]
    },
    {
     "name": "stderr",
     "output_type": "stream",
     "text": [
      "100%\n"
     ]
    },
    {
     "name": "stdout",
     "output_type": "stream",
     "text": [
      "\n",
      "  loss 0.0507144566817\n",
      "  err  0.0116120218579\n",
      "  (0:00:10)\n",
      "Epoch 953:"
     ]
    },
    {
     "name": "stderr",
     "output_type": "stream",
     "text": [
      "100%\n"
     ]
    },
    {
     "name": "stdout",
     "output_type": "stream",
     "text": [
      "\n",
      "  loss 0.0501742083388\n",
      "  err  0.0115266393443\n",
      "  (0:00:11)\n",
      "Epoch 954:"
     ]
    },
    {
     "name": "stderr",
     "output_type": "stream",
     "text": [
      "100%\n"
     ]
    },
    {
     "name": "stdout",
     "output_type": "stream",
     "text": [
      "\n",
      "  loss 0.049322216082\n",
      "  err  0.0115693306011\n",
      "  (0:00:13)\n",
      "Epoch 955:"
     ]
    },
    {
     "name": "stderr",
     "output_type": "stream",
     "text": [
      "100%\n"
     ]
    },
    {
     "name": "stdout",
     "output_type": "stream",
     "text": [
      "\n",
      "  loss 0.0512824971502\n",
      "  err  0.0128287226776\n",
      "  (0:00:11)\n",
      "Epoch 956:"
     ]
    },
    {
     "name": "stderr",
     "output_type": "stream",
     "text": [
      "100%\n"
     ]
    },
    {
     "name": "stdout",
     "output_type": "stream",
     "text": [
      "\n",
      "  loss 0.0506181859531\n",
      "  err  0.0117614412568\n",
      "  (0:00:11)\n",
      "Epoch 957:"
     ]
    },
    {
     "name": "stderr",
     "output_type": "stream",
     "text": [
      "100%\n"
     ]
    },
    {
     "name": "stdout",
     "output_type": "stream",
     "text": [
      "\n",
      "  loss 0.0467624228519\n",
      "  err  0.0106941598361\n",
      "  (0:00:11)\n",
      "Epoch 958:"
     ]
    },
    {
     "name": "stderr",
     "output_type": "stream",
     "text": [
      "100%\n"
     ]
    },
    {
     "name": "stdout",
     "output_type": "stream",
     "text": [
      "\n",
      "  loss 0.0512477770547\n",
      "  err  0.0121670081967\n",
      "  (0:00:10)\n",
      "Epoch 959:"
     ]
    },
    {
     "name": "stderr",
     "output_type": "stream",
     "text": [
      "100%\n"
     ]
    },
    {
     "name": "stdout",
     "output_type": "stream",
     "text": [
      "\n",
      "  loss 0.0510073282439\n",
      "  err  0.0116333674863\n",
      "  (0:00:10)\n",
      "Epoch 960:"
     ]
    },
    {
     "name": "stderr",
     "output_type": "stream",
     "text": [
      "100%\n"
     ]
    },
    {
     "name": "stdout",
     "output_type": "stream",
     "text": [
      "\n",
      "  loss 0.0489928407882\n",
      "  err  0.0113131830601\n",
      "  (0:00:10)\n",
      "Epoch 961:"
     ]
    },
    {
     "name": "stderr",
     "output_type": "stream",
     "text": [
      "100%\n"
     ]
    },
    {
     "name": "stdout",
     "output_type": "stream",
     "text": [
      "\n",
      "  loss 0.0496104461239\n",
      "  err  0.0117827868852\n",
      "  (0:00:10)\n",
      "Epoch 962:"
     ]
    },
    {
     "name": "stderr",
     "output_type": "stream",
     "text": [
      "100%\n"
     ]
    },
    {
     "name": "stdout",
     "output_type": "stream",
     "text": [
      "\n",
      "  loss 0.0494608834654\n",
      "  err  0.011462602459\n",
      "  (0:00:11)\n",
      "Epoch 963:"
     ]
    },
    {
     "name": "stderr",
     "output_type": "stream",
     "text": [
      "100%\n"
     ]
    },
    {
     "name": "stdout",
     "output_type": "stream",
     "text": [
      "\n",
      "  loss 0.0504253576153\n",
      "  err  0.0119322062842\n",
      "  (0:00:10)\n",
      "Epoch 964:"
     ]
    },
    {
     "name": "stderr",
     "output_type": "stream",
     "text": [
      "100%\n"
     ]
    },
    {
     "name": "stdout",
     "output_type": "stream",
     "text": [
      "\n",
      "  loss 0.0507117074239\n",
      "  err  0.0118681693989\n",
      "  (0:00:11)\n",
      "Epoch 965:"
     ]
    },
    {
     "name": "stderr",
     "output_type": "stream",
     "text": [
      "100%\n"
     ]
    },
    {
     "name": "stdout",
     "output_type": "stream",
     "text": [
      "\n",
      "  loss 0.0507958654188\n",
      "  err  0.0117400956284\n",
      "  (0:00:11)\n",
      "Epoch 966:"
     ]
    },
    {
     "name": "stderr",
     "output_type": "stream",
     "text": [
      "100%\n"
     ]
    },
    {
     "name": "stdout",
     "output_type": "stream",
     "text": [
      "\n",
      "  loss 0.0498854559846\n",
      "  err  0.0122096994536\n",
      "  (0:00:12)\n",
      "Epoch 967:"
     ]
    },
    {
     "name": "stderr",
     "output_type": "stream",
     "text": [
      "100%\n"
     ]
    },
    {
     "name": "stdout",
     "output_type": "stream",
     "text": [
      "\n",
      "  loss 0.0515350369257\n",
      "  err  0.0121456625683\n",
      "  (0:00:12)\n",
      "Epoch 968:"
     ]
    },
    {
     "name": "stderr",
     "output_type": "stream",
     "text": [
      "100%\n"
     ]
    },
    {
     "name": "stdout",
     "output_type": "stream",
     "text": [
      "\n",
      "  loss 0.0522950488121\n",
      "  err  0.012593920765\n",
      "  (0:00:10)\n",
      "Epoch 969:"
     ]
    },
    {
     "name": "stderr",
     "output_type": "stream",
     "text": [
      "100%\n"
     ]
    },
    {
     "name": "stdout",
     "output_type": "stream",
     "text": [
      "\n",
      "  loss 0.0494621396745\n",
      "  err  0.0116974043716\n",
      "  (0:00:10)\n",
      "Epoch 970:"
     ]
    },
    {
     "name": "stderr",
     "output_type": "stream",
     "text": [
      "100%\n"
     ]
    },
    {
     "name": "stdout",
     "output_type": "stream",
     "text": [
      "\n",
      "  loss 0.0499013227759\n",
      "  err  0.0110356898907\n",
      "  (0:00:11)\n",
      "Epoch 971:"
     ]
    },
    {
     "name": "stderr",
     "output_type": "stream",
     "text": [
      "100%\n"
     ]
    },
    {
     "name": "stdout",
     "output_type": "stream",
     "text": [
      "\n",
      "  loss 0.0488682120626\n",
      "  err  0.0115479849727\n",
      "  (0:00:10)\n",
      "Epoch 972:"
     ]
    },
    {
     "name": "stderr",
     "output_type": "stream",
     "text": [
      "100%\n"
     ]
    },
    {
     "name": "stdout",
     "output_type": "stream",
     "text": [
      "\n",
      "  loss 0.0499610131081\n",
      "  err  0.0115052937158\n",
      "  (0:00:10)\n",
      "Epoch 973:"
     ]
    },
    {
     "name": "stderr",
     "output_type": "stream",
     "text": [
      "100%\n"
     ]
    },
    {
     "name": "stdout",
     "output_type": "stream",
     "text": [
      "\n",
      "  loss 0.0494877424993\n",
      "  err  0.0110356898907\n",
      "  (0:00:10)\n",
      "Epoch 974:"
     ]
    },
    {
     "name": "stderr",
     "output_type": "stream",
     "text": [
      "100%\n"
     ]
    },
    {
     "name": "stdout",
     "output_type": "stream",
     "text": [
      "\n",
      "  loss 0.0506632345356\n",
      "  err  0.0119322062842\n",
      "  (0:00:10)\n",
      "Epoch 975:"
     ]
    },
    {
     "name": "stderr",
     "output_type": "stream",
     "text": [
      "100%\n"
     ]
    },
    {
     "name": "stdout",
     "output_type": "stream",
     "text": [
      "\n",
      "  loss 0.0509180836609\n",
      "  err  0.011974897541\n",
      "  (0:00:11)\n",
      "Epoch 976:"
     ]
    },
    {
     "name": "stderr",
     "output_type": "stream",
     "text": [
      "100%\n"
     ]
    },
    {
     "name": "stdout",
     "output_type": "stream",
     "text": [
      "\n",
      "  loss 0.0505795557093\n",
      "  err  0.0123164275956\n",
      "  (0:00:11)\n",
      "Epoch 977:"
     ]
    },
    {
     "name": "stderr",
     "output_type": "stream",
     "text": [
      "100%\n"
     ]
    },
    {
     "name": "stdout",
     "output_type": "stream",
     "text": [
      "\n",
      "  loss 0.0484453404075\n",
      "  err  0.0114412568306\n",
      "  (0:00:10)\n",
      "Epoch 978:"
     ]
    },
    {
     "name": "stderr",
     "output_type": "stream",
     "text": [
      "100%\n"
     ]
    },
    {
     "name": "stdout",
     "output_type": "stream",
     "text": [
      "\n",
      "  loss 0.0501502828178\n",
      "  err  0.0113345286885\n",
      "  (0:00:10)\n",
      "Epoch 979:"
     ]
    },
    {
     "name": "stderr",
     "output_type": "stream",
     "text": [
      "100%\n"
     ]
    },
    {
     "name": "stdout",
     "output_type": "stream",
     "text": [
      "\n",
      "  loss 0.0507966169987\n",
      "  err  0.0124231557377\n",
      "  (0:00:10)\n",
      "Epoch 980:"
     ]
    },
    {
     "name": "stderr",
     "output_type": "stream",
     "text": [
      "100%\n"
     ]
    },
    {
     "name": "stdout",
     "output_type": "stream",
     "text": [
      "\n",
      "  loss 0.0491274274412\n",
      "  err  0.0115906762295\n",
      "  (0:00:10)\n",
      "Epoch 981:"
     ]
    },
    {
     "name": "stderr",
     "output_type": "stream",
     "text": [
      "100%\n"
     ]
    },
    {
     "name": "stdout",
     "output_type": "stream",
     "text": [
      "\n",
      "  loss 0.0513469761319\n",
      "  err  0.012337773224\n",
      "  (0:00:10)\n",
      "Epoch 982:"
     ]
    },
    {
     "name": "stderr",
     "output_type": "stream",
     "text": [
      "100%\n"
     ]
    },
    {
     "name": "stdout",
     "output_type": "stream",
     "text": [
      "\n",
      "  loss 0.0494074126797\n",
      "  err  0.0117614412568\n",
      "  (0:00:10)\n",
      "Epoch 983:"
     ]
    },
    {
     "name": "stderr",
     "output_type": "stream",
     "text": [
      "100%\n"
     ]
    },
    {
     "name": "stdout",
     "output_type": "stream",
     "text": [
      "\n",
      "  loss 0.050446823976\n",
      "  err  0.0112491461749\n",
      "  (0:00:10)\n",
      "Epoch 984:"
     ]
    },
    {
     "name": "stderr",
     "output_type": "stream",
     "text": [
      "100%\n"
     ]
    },
    {
     "name": "stdout",
     "output_type": "stream",
     "text": [
      "\n",
      "  loss 0.0514749907189\n",
      "  err  0.012337773224\n",
      "  (0:00:10)\n",
      "Epoch 985:"
     ]
    },
    {
     "name": "stderr",
     "output_type": "stream",
     "text": [
      "100%\n"
     ]
    },
    {
     "name": "stdout",
     "output_type": "stream",
     "text": [
      "\n",
      "  loss 0.0526031377373\n",
      "  err  0.0132342896175\n",
      "  (0:00:10)\n",
      "Epoch 986:"
     ]
    },
    {
     "name": "stderr",
     "output_type": "stream",
     "text": [
      "100%\n"
     ]
    },
    {
     "name": "stdout",
     "output_type": "stream",
     "text": [
      "\n",
      "  loss 0.0501711624038\n",
      "  err  0.0116333674863\n",
      "  (0:00:10)\n",
      "Epoch 987:"
     ]
    },
    {
     "name": "stderr",
     "output_type": "stream",
     "text": [
      "100%\n"
     ]
    },
    {
     "name": "stdout",
     "output_type": "stream",
     "text": [
      "\n",
      "  loss 0.0509625573762\n",
      "  err  0.0114199112022\n",
      "  (0:00:10)\n",
      "Epoch 988:"
     ]
    },
    {
     "name": "stderr",
     "output_type": "stream",
     "text": [
      "100%\n"
     ]
    },
    {
     "name": "stdout",
     "output_type": "stream",
     "text": [
      "\n",
      "  loss 0.0504815208502\n",
      "  err  0.012231045082\n",
      "  (0:00:10)\n",
      "Epoch 989:"
     ]
    },
    {
     "name": "stderr",
     "output_type": "stream",
     "text": [
      "100%\n"
     ]
    },
    {
     "name": "stdout",
     "output_type": "stream",
     "text": [
      "\n",
      "  loss 0.0519790488456\n",
      "  err  0.012231045082\n",
      "  (0:00:10)\n",
      "Epoch 990:"
     ]
    },
    {
     "name": "stderr",
     "output_type": "stream",
     "text": [
      "100%\n"
     ]
    },
    {
     "name": "stdout",
     "output_type": "stream",
     "text": [
      "\n",
      "  loss 0.046804674125\n",
      "  err  0.0104380122951\n",
      "  (0:00:11)\n",
      "Epoch 991:"
     ]
    },
    {
     "name": "stderr",
     "output_type": "stream",
     "text": [
      "100%\n"
     ]
    },
    {
     "name": "stdout",
     "output_type": "stream",
     "text": [
      "\n",
      "  loss 0.0476325072381\n",
      "  err  0.0106941598361\n",
      "  (0:00:11)\n",
      "Epoch 992:"
     ]
    },
    {
     "name": "stderr",
     "output_type": "stream",
     "text": [
      "100%\n"
     ]
    },
    {
     "name": "stdout",
     "output_type": "stream",
     "text": [
      "\n",
      "  loss 0.0478471450214\n",
      "  err  0.0113558743169\n",
      "  (0:00:10)\n",
      "Epoch 993:"
     ]
    },
    {
     "name": "stderr",
     "output_type": "stream",
     "text": [
      "100%\n"
     ]
    },
    {
     "name": "stdout",
     "output_type": "stream",
     "text": [
      "\n",
      "  loss 0.0505198857727\n",
      "  err  0.0121243169399\n",
      "  (0:00:10)\n",
      "Epoch 994:"
     ]
    },
    {
     "name": "stderr",
     "output_type": "stream",
     "text": [
      "100%\n"
     ]
    },
    {
     "name": "stdout",
     "output_type": "stream",
     "text": [
      "\n",
      "  loss 0.0500504379466\n",
      "  err  0.010950307377\n",
      "  (0:00:11)\n",
      "Epoch 995:"
     ]
    },
    {
     "name": "stderr",
     "output_type": "stream",
     "text": [
      "100%\n"
     ]
    },
    {
     "name": "stdout",
     "output_type": "stream",
     "text": [
      "\n",
      "  loss 0.0508021946979\n",
      "  err  0.0117827868852\n",
      "  (0:00:10)\n",
      "Epoch 996:"
     ]
    },
    {
     "name": "stderr",
     "output_type": "stream",
     "text": [
      "100%\n"
     ]
    },
    {
     "name": "stdout",
     "output_type": "stream",
     "text": [
      "\n",
      "  loss 0.0501218303826\n",
      "  err  0.0118041325137\n",
      "  (0:00:10)\n",
      "Epoch 997:"
     ]
    },
    {
     "name": "stderr",
     "output_type": "stream",
     "text": [
      "100%\n"
     ]
    },
    {
     "name": "stdout",
     "output_type": "stream",
     "text": [
      "\n",
      "  loss 0.0519130192175\n",
      "  err  0.0117827868852\n",
      "  (0:00:10)\n",
      "Epoch 998:"
     ]
    },
    {
     "name": "stderr",
     "output_type": "stream",
     "text": [
      "100%\n"
     ]
    },
    {
     "name": "stdout",
     "output_type": "stream",
     "text": [
      "\n",
      "  loss 0.0503042559248\n",
      "  err  0.0118468237705\n",
      "  (0:00:10)\n",
      "Epoch 999:"
     ]
    },
    {
     "name": "stderr",
     "output_type": "stream",
     "text": [
      "100%\n"
     ]
    },
    {
     "name": "stdout",
     "output_type": "stream",
     "text": [
      "\n",
      "  loss 0.0506622662114\n",
      "  err  0.0120175887978\n",
      "  (0:00:10)\n",
      "Epoch 1000:\n",
      "  loss 0.0506539636977\n",
      "  err  0.0117827868852\n",
      "  (0:00:10)\n",
      "accuracy score : 0.97354978355\n",
      "classification report : \n",
      "             precision    recall  f1-score   support\n",
      "\n",
      "          0       0.98      0.98      0.98      2278\n",
      "          1       0.98      0.99      0.98      2574\n",
      "          2       0.97      0.97      0.97      2334\n",
      "          3       0.97      0.96      0.97      2387\n",
      "          4       0.97      0.97      0.97      2290\n",
      "          5       0.97      0.97      0.97      2036\n",
      "          6       0.98      0.99      0.98      2266\n",
      "          7       0.98      0.96      0.97      2403\n",
      "          8       0.97      0.96      0.97      2232\n",
      "          9       0.96      0.97      0.96      2300\n",
      "\n",
      "avg / total       0.97      0.97      0.97     23100\n",
      "\n",
      "confusion matrix : \n",
      "[[2241    1    5    2    1    6    8    5    6    3]\n",
      " [   0 2539   11    8    2    0    5    6    3    0]\n",
      " [  11    7 2265    8    7    3    8   14    6    5]\n",
      " [   3    1   25 2303    0   23    1    8   14    9]\n",
      " [   3    7    5    0 2232    1   10    3    4   25]\n",
      " [   6    3    3   15    3 1980   13    0    6    7]\n",
      " [   3    1    0    0    6   11 2242    0    3    0]\n",
      " [   8    6   18    3   12    4    2 2315    5   30]\n",
      " [   8   14    6   15    7   12    9    3 2152    6]\n",
      " [   9    3    1   11   24    7    1   14   10 2220]]\n"
     ]
    }
   ],
   "source": [
    "# train the Deep Belief Network with 784 input units (the flattened,\n",
    "# 28x28 grayscale image), 300 hidden units, 10 output units (one for\n",
    "# each possible output classification, which are the digits 1-10)\n",
    "dbn = DBN(\n",
    "    [trainX.shape[1], 300, 10],\n",
    "    learn_rates = 0.01,\n",
    "    learn_rate_decays = 0.9,\n",
    "    epochs = 1000,\n",
    "    verbose = 1)\n",
    "dbn.fit(trainX, trainY)\n",
    "\n",
    "# compute the predictions for the test data and show a classification report\n",
    "preds = dbn.predict(testX)\n",
    "print \"accuracy score : %s\" %(accuracy_score(testY, preds))\n",
    "print \"classification report : \"\n",
    "print classification_report(testY, preds)\n",
    "print \"confusion matrix : \"\n",
    "print confusion_matrix(testY, preds)"
   ]
  },
  {
   "cell_type": "markdown",
   "metadata": {},
   "source": [
    "dbn = DBN(\n",
    "    [trainX.shape[1], 300, 10],\n",
    "    learn_rates = 0.3,\n",
    "    learn_rate_decays = 0.9,\n",
    "    epochs = 10,\n",
    "    verbose = 1)\n",
    "accuracy score : 0.977142857143\n",
    "\n",
    "dbn = DBN(\n",
    "    [trainX.shape[1], 300, 10],\n",
    "    learn_rates = 0.3,\n",
    "    learn_rate_decays = 0.9,\n",
    "    epochs = 20,\n",
    "    verbose = 1)\n",
    "accuracy score : 0.980779220779\n",
    "\n",
    "dbn = DBN(\n",
    "    [trainX.shape[1], 300, 10],\n",
    "    learn_rates = 0.3,\n",
    "    learn_rate_decays = 0.9,\n",
    "    epochs = 30,\n",
    "    verbose = 1)\n",
    "accuracy score : 0.981082251082\n",
    "\n",
    "dbn = DBN(\n",
    "    [trainX.shape[1], 300, 10],\n",
    "    learn_rates = 0.4,\n",
    "    learn_rate_decays = 0.9,\n",
    "    epochs = 20,\n",
    "    verbose = 1)\n",
    "accuracy score : 0.979047619048\n",
    "\n",
    "dbn = DBN(\n",
    "    [trainX.shape[1], 300, 10],\n",
    "    learn_rates = 0.2,\n",
    "    learn_rate_decays = 0.9,\n",
    "    epochs = 20,\n",
    "    verbose = 1)\n",
    "accuracy score : 0.981038961039\n",
    "\n",
    "dbn = DBN(\n",
    "    [trainX.shape[1], 300, 10],\n",
    "    learn_rates = 0.5,\n",
    "    learn_rate_decays = 0.9,\n",
    "    epochs = 20,\n",
    "    verbose = 1)\n",
    "accuracy score : 0.971601731602\n",
    "\n",
    "dbn = DBN(\n",
    "    [trainX.shape[1], 400, 10],\n",
    "    learn_rates = 0.3,\n",
    "    learn_rate_decays = 0.9,\n",
    "    epochs = 20,\n",
    "    verbose = 1)\n",
    "accuracy score : 0.981948051948\n",
    "\n",
    "dbn = DBN(\n",
    "    [trainX.shape[1], 500, 10],\n",
    "    learn_rates = 0.3,\n",
    "    learn_rate_decays = 0.9,\n",
    "    epochs = 20,\n",
    "    verbose = 1)\n",
    "accuracy score : 0.981255411255\n",
    "\n",
    "dbn = DBN(\n",
    "    [trainX.shape[1], 300, 10],\n",
    "    learn_rates = 0.001,\n",
    "    learn_rate_decays = 0.9,\n",
    "    epochs = 20,\n",
    "    verbose = 1)\n",
    "accuracy score : 0.923722943723\n",
    "\n",
    "\n",
    "dbn = DBN(\n",
    "    [trainX.shape[1], 300, 10],\n",
    "    learn_rates = 0.01,\n",
    "    learn_rate_decays = 0.9,\n",
    "    epochs = 100,\n",
    "    verbose = 1)\n",
    "accuracy score : 0.973246753247\n",
    "\n",
    "dbn = DBN(\n",
    "    [trainX.shape[1], 300, 10],\n",
    "    learn_rates = 0.01,\n",
    "    learn_rate_decays = 0.9,\n",
    "    epochs = 1000,\n",
    "    verbose = 1)\n",
    "accuracy score : 0.97354978355"
   ]
  }
 ],
 "metadata": {
  "kernelspec": {
   "display_name": "Python 2",
   "language": "python",
   "name": "python2"
  },
  "language_info": {
   "codemirror_mode": {
    "name": "ipython",
    "version": 2
   },
   "file_extension": ".py",
   "mimetype": "text/x-python",
   "name": "python",
   "nbconvert_exporter": "python",
   "pygments_lexer": "ipython2",
   "version": "2.7.9"
  }
 },
 "nbformat": 4,
 "nbformat_minor": 0
}
